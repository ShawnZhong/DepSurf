{
 "cells": [
  {
   "cell_type": "code",
   "execution_count": 1,
   "metadata": {},
   "outputs": [],
   "source": [
    "%reload_ext autoreload\n",
    "%autoreload 2"
   ]
  },
  {
   "cell_type": "code",
   "execution_count": 2,
   "metadata": {},
   "outputs": [
    {
     "data": {
      "text/plain": [
       "dict_keys(['bashreadline', 'bindsnoop', 'biolatency', 'biopattern', 'biosnoop', 'biostacks', 'biotop', 'bitesize', 'cachestat', 'capable', 'cpudist', 'cpufreq', 'drsnoop', 'execsnoop', 'exitsnoop', 'filelife', 'filetop', 'fsdist', 'fsslower', 'funclatency', 'futexctn', 'gethostlatency', 'hardirqs', 'javagc', 'klockstat', 'ksnoop', 'llcstat', 'mdflush', 'memleak', 'mountsnoop', 'numamove', 'offcputime', 'oomkill', 'opensnoop', 'profile', 'readahead', 'runqlat', 'runqlen', 'runqslower', 'sigsnoop', 'slabratetop', 'softirqs', 'solisten', 'statsnoop', 'syncsnoop', 'syscount', 'tcpconnect', 'tcpconnlat', 'tcplife', 'tcppktlat', 'tcprtt', 'tcpstates', 'tcpsynbl', 'tcptop', 'tcptracer', 'vfsstat', 'wakeuptime'])"
      ]
     },
     "execution_count": 2,
     "metadata": {},
     "output_type": "execute_result"
    }
   ],
   "source": [
    "from depsurf import OUTPUT_PATH, Dep, DepReport\n",
    "from typing import Dict\n",
    "import pickle\n",
    "\n",
    "\n",
    "with open(OUTPUT_PATH / \"bcc.pkl\", \"rb\") as f:\n",
    "    data: Dict[str, Dict[Dep, DepReport]] = pickle.load(f)\n",
    "\n",
    "data.keys()"
   ]
  },
  {
   "cell_type": "code",
   "execution_count": 3,
   "metadata": {},
   "outputs": [],
   "source": [
    "data[\"Summary\"] = {\n",
    "    dep: report for deps in data.values() for dep, report in deps.items()\n",
    "}"
   ]
  },
  {
   "cell_type": "code",
   "execution_count": 62,
   "metadata": {},
   "outputs": [],
   "source": [
    "from depsurf import IssueEnum, DepKind, TAB_PATH\n",
    "from collections import defaultdict\n",
    "import pandas as pd\n",
    "\n",
    "results = {}\n",
    "\n",
    "\n",
    "for prog_name, deps in data.items():\n",
    "    if prog_name in (\n",
    "        \"bashreadline\",\n",
    "        \"ksnoop\",\n",
    "        \"javagc\",\n",
    "        \"gethostlatency\",\n",
    "        \"funclatency\",\n",
    "    ):\n",
    "        continue\n",
    "\n",
    "    result = defaultdict(int)\n",
    "    for dep, report in deps.items():\n",
    "        kind = dep.kind\n",
    "        result[(kind, \"Count\")] += 1\n",
    "\n",
    "        num_absent = sum(\n",
    "            1 for e in report.status.values() if IssueEnum.ABSENT in e.enums\n",
    "        )\n",
    "        result[(kind, IssueEnum.ABSENT)] += min(num_absent, 1)\n",
    "\n",
    "        num_delta = sum(1 for e in report.delta.values() if e.changes)\n",
    "        result[(kind, IssueEnum.CHANGE)] += min(num_delta, 1)\n",
    "\n",
    "        if kind == DepKind.FUNC:\n",
    "            for issue in [\n",
    "                IssueEnum.PARTIAL_INLINE,\n",
    "                IssueEnum.FULL_INLINE,\n",
    "                IssueEnum.RENAME,\n",
    "                IssueEnum.DUPLICATE,\n",
    "            ]:\n",
    "                num_issue = sum(1 for e in report.status.values() if issue in e.enums)\n",
    "                result[(kind, issue)] += min(num_issue, 1)\n",
    "\n",
    "    results[prog_name] = result\n",
    "\n",
    "df = pd.DataFrame(results).T.fillna(0).astype(int)\n",
    "\n",
    "column_order = [\n",
    "    DepKind.FUNC,\n",
    "    DepKind.STRUCT,\n",
    "    DepKind.FIELD,\n",
    "    DepKind.TRACEPOINT,\n",
    "    DepKind.SYSCALL,\n",
    "]\n",
    "df = df.reindex(sorted(df.columns, key=lambda x: column_order.index(x[0])), axis=1)\n",
    "\n",
    "\n",
    "def rename_cols(col):\n",
    "    kind, issue = col\n",
    "    if kind == DepKind.TRACEPOINT:\n",
    "        kind = \"Tracept\"\n",
    "    if kind == DepKind.SYSCALL:\n",
    "        kind = \"Syscall\"\n",
    "    return (kind, issue)\n",
    "\n",
    "\n",
    "df.columns = df.columns.map(rename_cols)\n",
    "df = df.sort_values(by=df.columns.tolist(), ascending=False)\n",
    "df_non_summary = df.loc[df.index != \"Summary\"]\n",
    "df = pd.concat([df_non_summary, df.loc[[\"Summary\"]]])\n",
    "df.loc[\"No. Tools\"] = df_non_summary.map(lambda x: min(x, 1)).sum(axis=0)\n",
    "# df.loc[\"Pct. Tools\"] = (df.loc[\"No. Tools\"] / len(df_non_summary) * 100).astype(int)\n",
    "\n",
    "\n",
    "df_latex = df.copy()\n",
    "df_latex = df_latex.replace(0, r\"\\color{lightgray}{-}\")\n",
    "df_latex.columns = df_latex.columns.map(lambda x: (x[0], f\"\\\\head{{{x[1]}}}\"))\n",
    "with open(TAB_PATH / \"bcc.tex\", \"w\") as f:\n",
    "    latex = df_latex.to_latex(\n",
    "        multicolumn_format=\"c|\",\n",
    "        column_format=\"l|rrrrrrr|rrr|rrr|rrr|rrr\",\n",
    "    )\n",
    "    latex = latex.replace(r\"{c|}{Syscall}\", r\"{c}{Syscall}\")\n",
    "    latex = latex.replace(r\"Summary\", r\"\\midrule No. Deps\")\n",
    "    f.write(latex)"
   ]
  }
 ],
 "metadata": {
  "kernelspec": {
   "display_name": "base",
   "language": "python",
   "name": "python3"
  },
  "language_info": {
   "codemirror_mode": {
    "name": "ipython",
    "version": 3
   },
   "file_extension": ".py",
   "mimetype": "text/x-python",
   "name": "python",
   "nbconvert_exporter": "python",
   "pygments_lexer": "ipython3",
   "version": "3.11.7"
  }
 },
 "nbformat": 4,
 "nbformat_minor": 2
}
