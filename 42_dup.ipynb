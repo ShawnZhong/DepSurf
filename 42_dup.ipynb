{
 "cells": [
  {
   "cell_type": "markdown",
   "metadata": {},
   "source": [
    "# Function Duplication\n",
    "\n",
    "This notebook generates the table for function duplication."
   ]
  },
  {
   "cell_type": "code",
   "execution_count": 1,
   "metadata": {},
   "outputs": [],
   "source": [
    "%reload_ext autoreload\n",
    "%autoreload 2"
   ]
  },
  {
   "cell_type": "code",
   "execution_count": 5,
   "metadata": {},
   "outputs": [],
   "source": [
    "from depsurf import (\n",
    "    Version,\n",
    "    VersionGroup,\n",
    "    FuncGroup,\n",
    "    FuncGroups,\n",
    "    CollisionType,\n",
    "    VERSION_DEFAULT,\n",
    ")\n",
    "from utils import OUTPUT_PATH\n",
    "from typing import Dict, TextIO\n",
    "\n",
    "\n",
    "def print_group(group: FuncGroup, file: TextIO):\n",
    "    header = f\"{group.name}\"\n",
    "    if group.num_funcs > 1:\n",
    "        header += f\" ({group.num_funcs})\"\n",
    "    print(header, file=file)\n",
    "    for func in group.funcs:\n",
    "        line = f\"  {func.file}\"\n",
    "        line += f\" at {func.loc}\"\n",
    "        line += \" (global)\" if func.external else \" (static)\"\n",
    "        line += \" (inline)\" if func.inline_actual else \" (not inline)\"\n",
    "        print(line, file=file)\n",
    "\n",
    "\n",
    "def count_dup(v: Version):\n",
    "    results: Dict[CollisionType, Dict[str, FuncGroup]] = {c: {} for c in CollisionType}\n",
    "\n",
    "    func_groups = FuncGroups.from_dump(v.func_groups_path)\n",
    "    for group in func_groups.iter_groups():\n",
    "        results[group.collision_type][group.name] = group\n",
    "\n",
    "    output_path = OUTPUT_PATH / \"dup\" / v.name\n",
    "    output_path.mkdir(parents=True, exist_ok=True)\n",
    "    for c in [\n",
    "        CollisionType.INCLUDE_DUP,\n",
    "        CollisionType.STATIC_STATIC,\n",
    "        CollisionType.STATIC_GLOBAL,\n",
    "    ]:\n",
    "        path = output_path / f\"{c.name.lower()}.txt\"\n",
    "        with open(path, \"w\") as f:\n",
    "            for group in sorted(\n",
    "                results[c].values(), key=lambda x: x.num_funcs, reverse=True\n",
    "            ):\n",
    "                print_group(group, file=f)\n",
    "        print(f\"Saved {len(results[c]):5} groups to {path}\", flush=True)\n",
    "\n",
    "    return {k: len(v) for k, v in results.items()}\n",
    "\n",
    "\n",
    "# count_dup(VERSION_DEFAULT)"
   ]
  },
  {
   "cell_type": "code",
   "execution_count": 6,
   "metadata": {},
   "outputs": [
    {
     "name": "stderr",
     "output_type": "stream",
     "text": [
      "[       groups.py:47 ] INFO: Loading funcs from /Users/szhong/Code/DepSurf/data/dataset/func_groups/4.4.0-21-generic-amd64.jsonl\n"
     ]
    },
    {
     "name": "stdout",
     "output_type": "stream",
     "text": [
      "Saved  4042 groups to /Users/szhong/Code/DepSurf/data/output/dup/4.4.0-21-generic-amd64/include_dup.txt\n",
      "Saved   404 groups to /Users/szhong/Code/DepSurf/data/output/dup/4.4.0-21-generic-amd64/static_static.txt\n",
      "Saved    10 groups to /Users/szhong/Code/DepSurf/data/output/dup/4.4.0-21-generic-amd64/static_global.txt\n"
     ]
    },
    {
     "name": "stderr",
     "output_type": "stream",
     "text": [
      "[       groups.py:47 ] INFO: Loading funcs from /Users/szhong/Code/DepSurf/data/dataset/func_groups/4.15.0-20-generic-amd64.jsonl\n"
     ]
    },
    {
     "name": "stdout",
     "output_type": "stream",
     "text": [
      "Saved  4809 groups to /Users/szhong/Code/DepSurf/data/output/dup/4.15.0-20-generic-amd64/include_dup.txt\n",
      "Saved   398 groups to /Users/szhong/Code/DepSurf/data/output/dup/4.15.0-20-generic-amd64/static_static.txt\n",
      "Saved    26 groups to /Users/szhong/Code/DepSurf/data/output/dup/4.15.0-20-generic-amd64/static_global.txt\n"
     ]
    },
    {
     "name": "stderr",
     "output_type": "stream",
     "text": [
      "[       groups.py:47 ] INFO: Loading funcs from /Users/szhong/Code/DepSurf/data/dataset/func_groups/5.4.0-26-generic-amd64.jsonl\n"
     ]
    },
    {
     "name": "stdout",
     "output_type": "stream",
     "text": [
      "Saved  5461 groups to /Users/szhong/Code/DepSurf/data/output/dup/5.4.0-26-generic-amd64/include_dup.txt\n",
      "Saved   411 groups to /Users/szhong/Code/DepSurf/data/output/dup/5.4.0-26-generic-amd64/static_static.txt\n",
      "Saved    27 groups to /Users/szhong/Code/DepSurf/data/output/dup/5.4.0-26-generic-amd64/static_global.txt\n"
     ]
    },
    {
     "name": "stderr",
     "output_type": "stream",
     "text": [
      "[       groups.py:47 ] INFO: Loading funcs from /Users/szhong/Code/DepSurf/data/dataset/func_groups/5.15.0-25-generic-amd64.jsonl\n"
     ]
    },
    {
     "name": "stdout",
     "output_type": "stream",
     "text": [
      "Saved  6162 groups to /Users/szhong/Code/DepSurf/data/output/dup/5.15.0-25-generic-amd64/include_dup.txt\n",
      "Saved   444 groups to /Users/szhong/Code/DepSurf/data/output/dup/5.15.0-25-generic-amd64/static_static.txt\n",
      "Saved    26 groups to /Users/szhong/Code/DepSurf/data/output/dup/5.15.0-25-generic-amd64/static_global.txt\n"
     ]
    },
    {
     "name": "stderr",
     "output_type": "stream",
     "text": [
      "[       groups.py:47 ] INFO: Loading funcs from /Users/szhong/Code/DepSurf/data/dataset/func_groups/6.8.0-31-generic-amd64.jsonl\n"
     ]
    },
    {
     "name": "stdout",
     "output_type": "stream",
     "text": [
      "Saved  7418 groups to /Users/szhong/Code/DepSurf/data/output/dup/6.8.0-31-generic-amd64/include_dup.txt\n",
      "Saved   498 groups to /Users/szhong/Code/DepSurf/data/output/dup/6.8.0-31-generic-amd64/static_static.txt\n",
      "Saved    29 groups to /Users/szhong/Code/DepSurf/data/output/dup/6.8.0-31-generic-amd64/static_global.txt\n"
     ]
    }
   ],
   "source": [
    "data = {}\n",
    "\n",
    "for v in VersionGroup.LTS:\n",
    "    data[v] = count_dup(v)"
   ]
  },
  {
   "cell_type": "code",
   "execution_count": 4,
   "metadata": {},
   "outputs": [
    {
     "name": "stderr",
     "output_type": "stream",
     "text": [
      "[  utils_latex.py:118] INFO: Saved dup to /Users/szhong/Code/DepSurf/paper/tabs/dup.tex\n"
     ]
    },
    {
     "data": {
      "text/html": [
       "<div>\n",
       "<style scoped>\n",
       "    .dataframe tbody tr th:only-of-type {\n",
       "        vertical-align: middle;\n",
       "    }\n",
       "\n",
       "    .dataframe tbody tr th {\n",
       "        vertical-align: top;\n",
       "    }\n",
       "\n",
       "    .dataframe thead tr th {\n",
       "        text-align: left;\n",
       "    }\n",
       "</style>\n",
       "<table border=\"1\" class=\"dataframe\">\n",
       "  <thead>\n",
       "    <tr>\n",
       "      <th></th>\n",
       "      <th colspan=\"5\" halign=\"left\">Linux Kernel Version</th>\n",
       "    </tr>\n",
       "    <tr>\n",
       "      <th></th>\n",
       "      <th>\\multicolumn{1}{c}{4.4}</th>\n",
       "      <th>\\multicolumn{1}{c}{4.15}</th>\n",
       "      <th>\\multicolumn{1}{c}{5.4}</th>\n",
       "      <th>\\multicolumn{1}{c}{5.15}</th>\n",
       "      <th>\\multicolumn{1}{c}{6.8}</th>\n",
       "    </tr>\n",
       "  </thead>\n",
       "  <tbody>\n",
       "    <tr>\n",
       "      <th>Unique Global</th>\n",
       "      <td>17.2k</td>\n",
       "      <td>20.1k</td>\n",
       "      <td>22.7k</td>\n",
       "      <td>26.6k</td>\n",
       "      <td>31.5k</td>\n",
       "    </tr>\n",
       "    <tr>\n",
       "      <th>Unique Static</th>\n",
       "      <td>35.7k</td>\n",
       "      <td>41.7k</td>\n",
       "      <td>48.2k</td>\n",
       "      <td>53.3k</td>\n",
       "      <td>60.2k</td>\n",
       "    </tr>\n",
       "    <tr>\n",
       "      <th>Static Duplication</th>\n",
       "      <td>4.0k</td>\n",
       "      <td>4.8k</td>\n",
       "      <td>5.5k</td>\n",
       "      <td>6.2k</td>\n",
       "      <td>7.4k</td>\n",
       "    </tr>\n",
       "    <tr>\n",
       "      <th>Static-Static Collision</th>\n",
       "      <td>404</td>\n",
       "      <td>398</td>\n",
       "      <td>411</td>\n",
       "      <td>444</td>\n",
       "      <td>498</td>\n",
       "    </tr>\n",
       "    <tr>\n",
       "      <th>Static-Global Collision</th>\n",
       "      <td>10</td>\n",
       "      <td>26</td>\n",
       "      <td>27</td>\n",
       "      <td>26</td>\n",
       "      <td>29</td>\n",
       "    </tr>\n",
       "  </tbody>\n",
       "</table>\n",
       "</div>"
      ],
      "text/plain": [
       "                           Linux Kernel Version                                                                                                  \n",
       "                        \\multicolumn{1}{c}{4.4} \\multicolumn{1}{c}{4.15} \\multicolumn{1}{c}{5.4} \\multicolumn{1}{c}{5.15} \\multicolumn{1}{c}{6.8}\n",
       "Unique Global                             17.2k                    20.1k                   22.7k                    26.6k                   31.5k\n",
       "Unique Static                             35.7k                    41.7k                   48.2k                    53.3k                   60.2k\n",
       "Static Duplication                         4.0k                     4.8k                    5.5k                     6.2k                    7.4k\n",
       "Static-Static Collision                     404                      398                     411                      444                     498\n",
       "Static-Global Collision                      10                       26                      27                       26                      29"
      ]
     },
     "execution_count": 4,
     "metadata": {},
     "output_type": "execute_result"
    }
   ],
   "source": [
    "from utils import save_latex, center_cell\n",
    "import pandas as pd\n",
    "\n",
    "\n",
    "table = {}\n",
    "for version, dup_counts in data.items():\n",
    "    col = {}\n",
    "    col_max = max(dup_counts.values())\n",
    "    for dup_type, count in dup_counts.items():\n",
    "        text = f\"{count / 1000:.1f}k\" if count > 1000 else count\n",
    "        col[dup_type] = text\n",
    "\n",
    "    col_name = center_cell(version.short_version)\n",
    "    table[(\"Linux Kernel Version\", col_name)] = col\n",
    "\n",
    "df = pd.DataFrame(table)\n",
    "latex = df.to_latex(multicolumn_format=\"c\", column_format=\"l|rrrrr\")\n",
    "save_latex(latex, \"dup\")\n",
    "df"
   ]
  }
 ],
 "metadata": {
  "kernelspec": {
   "display_name": ".venv",
   "language": "python",
   "name": "python3"
  },
  "language_info": {
   "codemirror_mode": {
    "name": "ipython",
    "version": 3
   },
   "file_extension": ".py",
   "mimetype": "text/x-python",
   "name": "python",
   "nbconvert_exporter": "python",
   "pygments_lexer": "ipython3",
   "version": "3.13.0"
  }
 },
 "nbformat": 4,
 "nbformat_minor": 2
}
