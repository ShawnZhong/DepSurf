{
 "cells": [
  {
   "cell_type": "code",
   "execution_count": 1,
   "metadata": {},
   "outputs": [],
   "source": [
    "%reload_ext autoreload\n",
    "%autoreload 2"
   ]
  },
  {
   "cell_type": "code",
   "execution_count": 2,
   "metadata": {},
   "outputs": [
    {
     "name": "stderr",
     "output_type": "stream",
     "text": [
      "[          btf.py:21 ] INFO: Loading BTF from /Users/szhong/Downloads/bpf-study/data/btf_norm/4.4.0-21-generic-amd64.pkl\n",
      "[          btf.py:21 ] INFO: Loading BTF from /Users/szhong/Downloads/bpf-study/data/btf_norm/4.8.0-22-generic-amd64.pkl\n",
      "[          btf.py:21 ] INFO: Loading BTF from /Users/szhong/Downloads/bpf-study/data/btf_norm/4.10.0-19-generic-amd64.pkl\n",
      "[          btf.py:21 ] INFO: Loading BTF from /Users/szhong/Downloads/bpf-study/data/btf_norm/4.13.0-16-generic-amd64.pkl\n",
      "[          btf.py:21 ] INFO: Loading BTF from /Users/szhong/Downloads/bpf-study/data/btf_norm/4.15.0-20-generic-amd64.pkl\n",
      "[          btf.py:21 ] INFO: Loading BTF from /Users/szhong/Downloads/bpf-study/data/btf_norm/4.18.0-10-generic-amd64.pkl\n",
      "[          btf.py:21 ] INFO: Loading BTF from /Users/szhong/Downloads/bpf-study/data/btf_norm/5.0.0-13-generic-amd64.pkl\n",
      "[          btf.py:21 ] INFO: Loading BTF from /Users/szhong/Downloads/bpf-study/data/btf_norm/5.3.0-18-generic-amd64.pkl\n",
      "[          btf.py:21 ] INFO: Loading BTF from /Users/szhong/Downloads/bpf-study/data/btf_norm/5.4.0-26-generic-amd64.pkl\n",
      "[          btf.py:21 ] INFO: Loading BTF from /Users/szhong/Downloads/bpf-study/data/btf_norm/5.8.0-25-generic-amd64.pkl\n",
      "[          btf.py:21 ] INFO: Loading BTF from /Users/szhong/Downloads/bpf-study/data/btf_norm/5.11.0-16-generic-amd64.pkl\n",
      "[          btf.py:21 ] INFO: Loading BTF from /Users/szhong/Downloads/bpf-study/data/btf_norm/5.13.0-19-generic-amd64.pkl\n",
      "[          btf.py:21 ] INFO: Loading BTF from /Users/szhong/Downloads/bpf-study/data/btf_norm/5.15.0-25-generic-amd64.pkl\n",
      "[          btf.py:21 ] INFO: Loading BTF from /Users/szhong/Downloads/bpf-study/data/btf_norm/5.19.0-21-generic-amd64.pkl\n",
      "[          btf.py:21 ] INFO: Loading BTF from /Users/szhong/Downloads/bpf-study/data/btf_norm/6.2.0-20-generic-amd64.pkl\n",
      "[          btf.py:21 ] INFO: Loading BTF from /Users/szhong/Downloads/bpf-study/data/btf_norm/6.5.0-9-generic-amd64.pkl\n",
      "[          btf.py:21 ] INFO: Loading BTF from /Users/szhong/Downloads/bpf-study/data/btf_norm/6.8.0-22-generic-amd64.pkl\n",
      "[       report.py:38 ] INFO: Report saved to /dev/null\n"
     ]
    }
   ],
   "source": [
    "from depsurf import DepKind, Versions, gen_report\n",
    "\n",
    "deps = sorted(set(DepKind.LSM(f) for v in Versions.REGULAR for f in v.img.lsm_hooks))\n",
    "\n",
    "result = gen_report(deps, Versions.REGULAR, path=\"/dev/null\")"
   ]
  },
  {
   "cell_type": "code",
   "execution_count": 3,
   "metadata": {},
   "outputs": [
    {
     "name": "stderr",
     "output_type": "stream",
     "text": [
      "[        utils.py:160] INFO: NumExpr defaulting to 8 threads.\n",
      "[           pd.py:24 ] INFO: Saved dataframe to /Users/szhong/Downloads/bpf-study/output/lsm.txt\n",
      "[           pd.py:33 ] INFO: Saved dataframe to /Users/szhong/Downloads/bpf-study/output/lsm.pkl\n"
     ]
    }
   ],
   "source": [
    "from depsurf.output import save_df\n",
    "import pandas as pd\n",
    "\n",
    "df = pd.DataFrame(result).T\n",
    "save_df(df, \"lsm\", return_df=False)"
   ]
  },
  {
   "cell_type": "code",
   "execution_count": null,
   "metadata": {},
   "outputs": [],
   "source": [
    "from depsurf.output import load_df\n",
    "\n",
    "df = load_df(\"lsm\")\n",
    "df"
   ]
  }
 ],
 "metadata": {
  "kernelspec": {
   "display_name": "base",
   "language": "python",
   "name": "python3"
  },
  "language_info": {
   "codemirror_mode": {
    "name": "ipython",
    "version": 3
   },
   "file_extension": ".py",
   "mimetype": "text/x-python",
   "name": "python",
   "nbconvert_exporter": "python",
   "pygments_lexer": "ipython3",
   "version": "3.11.7"
  }
 },
 "nbformat": 4,
 "nbformat_minor": 2
}
