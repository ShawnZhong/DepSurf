{
 "cells": [
  {
   "cell_type": "code",
   "execution_count": 2,
   "metadata": {},
   "outputs": [],
   "source": [
    "%reload_ext autoreload\n",
    "%autoreload 2"
   ]
  },
  {
   "cell_type": "code",
   "execution_count": 3,
   "metadata": {},
   "outputs": [],
   "source": [
    "from depsurf import BuildVersion, FunctionGroups\n",
    "import pickle\n",
    "\n",
    "\n",
    "v = BuildVersion.filter()[-1]\n",
    "\n",
    "with open(v.dwarf_path, \"rb\") as f:\n",
    "    data = pickle.load(f)\n",
    "\n",
    "\n",
    "func_groups = FunctionGroups(data)"
   ]
  },
  {
   "cell_type": "code",
   "execution_count": 24,
   "metadata": {},
   "outputs": [
    {
     "name": "stdout",
     "output_type": "stream",
     "text": [
      "Processing 4.4.0-21-generic-amd64\n",
      "Processing 4.8.0-22-generic-amd64\n",
      "Processing 4.10.0-19-generic-amd64\n",
      "Processing 4.13.0-16-generic-amd64\n",
      "Processing 4.15.0-20-generic-amd64\n",
      "Processing 4.18.0-10-generic-amd64\n",
      "Processing 5.0.0-13-generic-amd64\n",
      "Processing 5.3.0-18-generic-amd64\n",
      "Processing 5.4.0-26-generic-amd64\n",
      "Processing 5.8.0-25-generic-amd64\n",
      "Processing 5.11.0-16-generic-amd64\n",
      "Processing 5.13.0-19-generic-amd64\n",
      "Processing 5.15.0-25-generic-amd64\n",
      "Processing 5.19.0-21-generic-amd64\n",
      "Processing 6.2.0-20-generic-amd64\n",
      "Processing 6.5.0-9-generic-amd64\n",
      "Processing 6.8.0-22-generic-amd64\n"
     ]
    }
   ],
   "source": [
    "from depsurf import OUTPUT_PATH, FunctionGroups\n",
    "\n",
    "results = {}\n",
    "\n",
    "for v in BuildVersion.filter():\n",
    "    print(f\"Processing {v.name}\")\n",
    "    all_groups = FunctionGroups.from_dump(v.dwarf_path)\n",
    "\n",
    "    dup_groups = all_groups.filter(lambda name, loc_dict: len(loc_dict) > 1)\n",
    "    dup_groups.dump_txt(OUTPUT_PATH / \"dup\" / v.name / \"dup.txt\")\n",
    "\n",
    "    dup_header = {}\n",
    "    dup_static = {}\n",
    "    dup_mixed = {}\n",
    "\n",
    "    for name, loc_dict in dup_groups.data.items():\n",
    "        decl_locs = set(decl_loc for decl_loc, _ in loc_dict.keys())\n",
    "\n",
    "        # Those are the functions that are declared in single header\n",
    "        # but defined in multiple files\n",
    "        if len(decl_locs) == 1:\n",
    "            dup_header[name] = loc_dict\n",
    "            continue\n",
    "\n",
    "        if None in decl_locs:\n",
    "            # Global functions have name collision with static functions\n",
    "            dup_mixed[name] = loc_dict\n",
    "        else:\n",
    "            # Static functions have name collision with other static functions\n",
    "            dup_static[name] = loc_dict\n",
    "\n",
    "    dup_header = FunctionGroups(dup_header)\n",
    "    dup_header.dump_txt(OUTPUT_PATH / \"dup\" / v.name / \"dup_header.txt\")\n",
    "    dup_static = FunctionGroups(dup_static)\n",
    "    dup_static.dump_txt(OUTPUT_PATH / \"dup\" / v.name / \"dup_static.txt\")\n",
    "    dup_mixed = FunctionGroups(dup_mixed)\n",
    "    dup_mixed.dump_txt(OUTPUT_PATH / \"dup\" / v.name / \"dup_mixed.txt\")\n",
    "\n",
    "    num_no_dup = (\n",
    "        all_groups.num_funcs\n",
    "        - dup_header.num_funcs\n",
    "        - dup_static.num_funcs\n",
    "        - dup_mixed.num_funcs\n",
    "    )\n",
    "\n",
    "    results[v] = {\n",
    "        \"no_dup\": num_no_dup,\n",
    "        \"dup_header\": dup_header.num_funcs,\n",
    "        \"dup_static\": dup_static.num_funcs,\n",
    "        \"dup_mixed\": dup_mixed.num_funcs,\n",
    "    }"
   ]
  },
  {
   "cell_type": "code",
   "execution_count": null,
   "metadata": {},
   "outputs": [],
   "source": [
    "import pandas as pd\n",
    "\n",
    "df = pd.DataFrame(results).T\n",
    "\n",
    "# plot the number of functions with name collision\n",
    "import matplotlib.pyplot as plt\n",
    "\n",
    "# df.plot(kind=\"bar\", stacked=True)\n",
    "\n",
    "# df"
   ]
  }
 ],
 "metadata": {
  "kernelspec": {
   "display_name": "Python 3",
   "language": "python",
   "name": "python3"
  },
  "language_info": {
   "codemirror_mode": {
    "name": "ipython",
    "version": 3
   },
   "file_extension": ".py",
   "mimetype": "text/x-python",
   "name": "python",
   "nbconvert_exporter": "python",
   "pygments_lexer": "ipython3",
   "version": "3.11.4"
  }
 },
 "nbformat": 4,
 "nbformat_minor": 2
}
