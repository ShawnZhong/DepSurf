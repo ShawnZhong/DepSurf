{
 "cells": [
  {
   "cell_type": "markdown",
   "metadata": {},
   "source": [
    "# Install Dependencies"
   ]
  },
  {
   "cell_type": "markdown",
   "metadata": {},
   "source": [
    "This notebook is used to install the dependencies for DepSurf."
   ]
  },
  {
   "cell_type": "code",
   "execution_count": 1,
   "metadata": {},
   "outputs": [
    {
     "name": "stdout",
     "output_type": "stream",
     "text": [
      "Hit:1 http://ports.ubuntu.com/ubuntu-ports jammy InRelease\n",
      "Hit:2 http://ports.ubuntu.com/ubuntu-ports jammy-updates InRelease\n",
      "Hit:3 http://ports.ubuntu.com/ubuntu-ports jammy-security InRelease\n",
      "Reading package lists... Done\n",
      "Building dependency tree... Done\n",
      "Reading state information... Done\n",
      "7 packages can be upgraded. Run 'apt list --upgradable' to see them.\n",
      "Reading package lists... Done\n",
      "Building dependency tree... Done\n",
      "Reading state information... Done\n",
      "Note, selecting 'binutils-dev' instead of 'libbfd-dev'\n",
      "build-essential is already the newest version (12.9ubuntu3).\n",
      "libelf-dev is already the newest version (0.186-1build1).\n",
      "make is already the newest version (4.3-4.1build1).\n",
      "patch is already the newest version (2.7.6-7build2).\n",
      "pkg-config is already the newest version (0.29.2-1ubuntu3).\n",
      "clang is already the newest version (1:14.0-55~exp2).\n",
      "llvm is already the newest version (1:14.0-55~exp2).\n",
      "binutils-dev is already the newest version (2.38-4ubuntu2.6).\n",
      "libcap-dev is already the newest version (1:2.44-1ubuntu0.22.04.1).\n",
      "pahole is already the newest version (1.25-0ubuntu1~22.04.2).\n",
      "0 upgraded, 0 newly installed, 0 to remove and 7 not upgraded.\n"
     ]
    }
   ],
   "source": [
    "!sudo apt update\n",
    "!sudo apt install make patch libelf-dev libbfd-dev libcap-dev clang llvm pkg-config pahole build-essential -y"
   ]
  },
  {
   "cell_type": "markdown",
   "metadata": {},
   "source": [
    "The following commands are used to patch, build, and install bpftool."
   ]
  },
  {
   "cell_type": "code",
   "execution_count": 2,
   "metadata": {},
   "outputs": [],
   "source": [
    "from depsurf import BPFTOOL_SRC_PATH, BPFTOOL_PATCH_PATH, BPFTOOL_BIN_PATH"
   ]
  },
  {
   "cell_type": "code",
   "execution_count": 3,
   "metadata": {},
   "outputs": [
    {
     "name": "stdout",
     "output_type": "stream",
     "text": [
      "patching file gen.c\n"
     ]
    }
   ],
   "source": [
    "!patch --forward --directory={BPFTOOL_SRC_PATH} < {BPFTOOL_PATCH_PATH}"
   ]
  },
  {
   "cell_type": "code",
   "execution_count": 4,
   "metadata": {},
   "outputs": [
    {
     "name": "stdout",
     "output_type": "stream",
     "text": [
      "make: Entering directory '/Users/szhong/Code/DepSurf/depsurf/btf/bpftool/src'\n",
      "...                        libbfd: [ \u001b[32mon\u001b[m  ]\n",
      "...               clang-bpf-co-re: [ \u001b[32mon\u001b[m  ]\n",
      "...                          llvm: [ \u001b[32mon\u001b[m  ]\n",
      "...                        libcap: [ \u001b[32mon\u001b[m  ]\n",
      "  CC       gen.o\n",
      "  CC       /Users/szhong/Code/DepSurf/depsurf/btf/bpftool/src/bootstrap/gen.o\n",
      "  LINK     /Users/szhong/Code/DepSurf/depsurf/btf/bpftool/src/bootstrap/bpftool\n",
      "  GEN      vmlinux.h\n",
      "  CLANG    pid_iter.bpf.o\n",
      "  GEN      pid_iter.skel.h\n",
      "  CC       pids.o\n",
      "  CLANG    profiler.bpf.o\n",
      "  GEN      profiler.skel.h\n",
      "  CC       prog.o\n",
      "  LINK     bpftool\n",
      "make: Leaving directory '/Users/szhong/Code/DepSurf/depsurf/btf/bpftool/src'\n"
     ]
    }
   ],
   "source": [
    "!make -C {BPFTOOL_SRC_PATH} bpftool"
   ]
  },
  {
   "cell_type": "code",
   "execution_count": 5,
   "metadata": {},
   "outputs": [
    {
     "name": "stdout",
     "output_type": "stream",
     "text": [
      "HEAD is now at c428db1 sync: Pull latest bpftool changes from kernel\n"
     ]
    }
   ],
   "source": [
    "!git -C {BPFTOOL_SRC_PATH} reset --hard"
   ]
  },
  {
   "cell_type": "code",
   "execution_count": 6,
   "metadata": {},
   "outputs": [
    {
     "name": "stdout",
     "output_type": "stream",
     "text": [
      "bpftool v7.5.0\n",
      "using libbpf v1.5\n",
      "features: llvm, skeletons\n"
     ]
    }
   ],
   "source": [
    "!{BPFTOOL_BIN_PATH} --version"
   ]
  }
 ],
 "metadata": {
  "kernelspec": {
   "display_name": "Python 3 (ipykernel)",
   "language": "python",
   "name": "python3"
  },
  "language_info": {
   "codemirror_mode": {
    "name": "ipython",
    "version": 3
   },
   "file_extension": ".py",
   "mimetype": "text/x-python",
   "name": "python",
   "nbconvert_exporter": "python",
   "pygments_lexer": "ipython3",
   "version": "3.13.2"
  }
 },
 "nbformat": 4,
 "nbformat_minor": 4
}
