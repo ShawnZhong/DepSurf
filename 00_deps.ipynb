{
 "cells": [
  {
   "cell_type": "markdown",
   "metadata": {},
   "source": [
    "# Install Dependencies"
   ]
  },
  {
   "cell_type": "markdown",
   "metadata": {},
   "source": [
    "This notebook is used to install the dependencies for DepSurf."
   ]
  },
  {
   "cell_type": "code",
   "execution_count": 19,
   "metadata": {},
   "outputs": [
    {
     "name": "stdout",
     "output_type": "stream",
     "text": [
      "Reading package lists... Done\n",
      "Building dependency tree... Done\n",
      "Reading state information... Done\n",
      "Note, selecting 'binutils-dev' instead of 'libbfd-dev'\n",
      "make is already the newest version (4.3-4.1build1).\n",
      "patch is already the newest version (2.7.6-7build2).\n",
      "pkg-config is already the newest version (0.29.2-1ubuntu3).\n",
      "clang is already the newest version (1:14.0-55~exp2).\n",
      "llvm is already the newest version (1:14.0-55~exp2).\n",
      "binutils-dev is already the newest version (2.38-4ubuntu2.6).\n",
      "libcap-dev is already the newest version (1:2.44-1ubuntu0.22.04.1).\n",
      "The following packages were automatically installed and are no longer required:\n",
      "  hwdata linux-tools-5.15.0-131 linux-tools-5.15.0-131-generic\n",
      "  linux-tools-common\n",
      "Use 'sudo apt autoremove' to remove them.\n",
      "0 upgraded, 0 newly installed, 0 to remove and 114 not upgraded.\n"
     ]
    }
   ],
   "source": [
    "!sudo apt install make patch libbfd-dev libcap-dev clang llvm pkg-config -y"
   ]
  },
  {
   "cell_type": "code",
   "execution_count": 1,
   "metadata": {},
   "outputs": [],
   "source": [
    "from depsurf.utils import BPFTOOL_SRC_PATH, BPFTOOL_PATCH_PATH, BPFTOOL_BIN_PATH"
   ]
  },
  {
   "cell_type": "code",
   "execution_count": 5,
   "metadata": {},
   "outputs": [
    {
     "name": "stdout",
     "output_type": "stream",
     "text": [
      "patching file gen.c\n"
     ]
    }
   ],
   "source": [
    "!patch --forward --directory={BPFTOOL_SRC_PATH} < {BPFTOOL_PATCH_PATH}"
   ]
  },
  {
   "cell_type": "code",
   "execution_count": 21,
   "metadata": {},
   "outputs": [
    {
     "name": "stdout",
     "output_type": "stream",
     "text": [
      "make: Entering directory '/users/szhong/DepSurf/third_party/bpftool/src'\n",
      "...                        libbfd: [ \u001b[32mon\u001b[m  ]\n",
      "...               clang-bpf-co-re: [ \u001b[32mon\u001b[m  ]\n",
      "...                          llvm: [ \u001b[32mon\u001b[m  ]\n",
      "...                        libcap: [ \u001b[32mon\u001b[m  ]\n",
      "make: 'bpftool' is up to date.\n",
      "make: Leaving directory '/users/szhong/DepSurf/third_party/bpftool/src'\n"
     ]
    }
   ],
   "source": [
    "!make -C {BPFTOOL_SRC_PATH} bpftool"
   ]
  },
  {
   "cell_type": "code",
   "execution_count": 22,
   "metadata": {},
   "outputs": [
    {
     "name": "stdout",
     "output_type": "stream",
     "text": [
      "HEAD is now at c428db1 sync: Pull latest bpftool changes from kernel\n"
     ]
    }
   ],
   "source": [
    "!git -C {BPFTOOL_SRC_PATH} reset --hard"
   ]
  },
  {
   "cell_type": "code",
   "execution_count": 3,
   "metadata": {},
   "outputs": [
    {
     "name": "stdout",
     "output_type": "stream",
     "text": [
      "bpftool v7.5.0\n",
      "using libbpf v1.5\n",
      "features: llvm, skeletons\n"
     ]
    }
   ],
   "source": [
    "!{BPFTOOL_BIN_PATH} --version"
   ]
  }
 ],
 "metadata": {
  "kernelspec": {
   "display_name": "Python 3 (ipykernel)",
   "language": "python",
   "name": "python3"
  },
  "language_info": {
   "codemirror_mode": {
    "name": "ipython",
    "version": 3
   },
   "file_extension": ".py",
   "mimetype": "text/x-python",
   "name": "python",
   "nbconvert_exporter": "python",
   "pygments_lexer": "ipython3",
   "version": "3.13.1"
  }
 },
 "nbformat": 4,
 "nbformat_minor": 4
}
