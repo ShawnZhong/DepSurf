{
 "cells": [
  {
   "cell_type": "code",
   "execution_count": 1,
   "metadata": {},
   "outputs": [
    {
     "name": "stdout",
     "output_type": "stream",
     "text": [
      "make: Entering directory '/Users/szhong/Downloads/bpf-study/csrc/bcc/libbpf-tools'\n",
      "make: Nothing to be done for 'all'.\n",
      "make: Leaving directory '/Users/szhong/Downloads/bpf-study/csrc/bcc/libbpf-tools'\n"
     ]
    }
   ],
   "source": [
    "!make -C csrc/bcc/libbpf-tools"
   ]
  },
  {
   "cell_type": "code",
   "execution_count": 2,
   "metadata": {},
   "outputs": [
    {
     "name": "stdout",
     "output_type": "stream",
     "text": [
      "make: Entering directory '/Users/szhong/Downloads/bpf-study/csrc/bpftool/src'\n",
      "...                        libbfd: [ \u001b[31mOFF\u001b[m ]\n",
      "...               clang-bpf-co-re: [ \u001b[32mon\u001b[m  ]\n",
      "...                          llvm: [ \u001b[32mon\u001b[m  ]\n",
      "...                        libcap: [ \u001b[31mOFF\u001b[m ]\n",
      "make: 'bpftool' is up to date.\n",
      "make: Leaving directory '/Users/szhong/Downloads/bpf-study/csrc/bpftool/src'\n"
     ]
    }
   ],
   "source": [
    "!make -C csrc/bpftool/src bpftool"
   ]
  },
  {
   "cell_type": "code",
   "execution_count": 3,
   "metadata": {},
   "outputs": [],
   "source": [
    "%reload_ext autoreload\n",
    "%autoreload 2"
   ]
  },
  {
   "cell_type": "code",
   "execution_count": 4,
   "metadata": {},
   "outputs": [
    {
     "name": "stderr",
     "output_type": "stream",
     "text": [
      "[       groups.py:68 ] INFO: Loading funcs from /Users/szhong/Downloads/bpf-study/data/dwarf_funcs/4.4.0-21-generic-amd64.jsonl\n"
     ]
    },
    {
     "name": "stdout",
     "output_type": "stream",
     "text": [
      "Report for bashreadline saved to /Users/szhong/Downloads/bpf-study/output/bcc/bashreadline.log\n"
     ]
    },
    {
     "name": "stderr",
     "output_type": "stream",
     "text": [
      "[       symtab.py:70 ] INFO: Loading symtab from /Users/szhong/Downloads/bpf-study/data/symtab/4.4.0-21-generic-amd64.jsonl\n",
      "[       groups.py:68 ] INFO: Loading funcs from /Users/szhong/Downloads/bpf-study/data/dwarf_funcs/4.8.0-22-generic-amd64.jsonl\n",
      "[       symtab.py:70 ] INFO: Loading symtab from /Users/szhong/Downloads/bpf-study/data/symtab/4.8.0-22-generic-amd64.jsonl\n",
      "[       groups.py:68 ] INFO: Loading funcs from /Users/szhong/Downloads/bpf-study/data/dwarf_funcs/4.10.0-19-generic-amd64.jsonl\n",
      "[       symtab.py:70 ] INFO: Loading symtab from /Users/szhong/Downloads/bpf-study/data/symtab/4.10.0-19-generic-amd64.jsonl\n",
      "[       groups.py:68 ] INFO: Loading funcs from /Users/szhong/Downloads/bpf-study/data/dwarf_funcs/4.13.0-16-generic-amd64.jsonl\n",
      "[       symtab.py:70 ] INFO: Loading symtab from /Users/szhong/Downloads/bpf-study/data/symtab/4.13.0-16-generic-amd64.jsonl\n",
      "[       groups.py:68 ] INFO: Loading funcs from /Users/szhong/Downloads/bpf-study/data/dwarf_funcs/4.15.0-20-generic-amd64.jsonl\n",
      "[       symtab.py:70 ] INFO: Loading symtab from /Users/szhong/Downloads/bpf-study/data/symtab/4.15.0-20-generic-amd64.jsonl\n",
      "[       groups.py:68 ] INFO: Loading funcs from /Users/szhong/Downloads/bpf-study/data/dwarf_funcs/4.18.0-10-generic-amd64.jsonl\n",
      "[       symtab.py:70 ] INFO: Loading symtab from /Users/szhong/Downloads/bpf-study/data/symtab/4.18.0-10-generic-amd64.jsonl\n",
      "[       groups.py:68 ] INFO: Loading funcs from /Users/szhong/Downloads/bpf-study/data/dwarf_funcs/5.0.0-13-generic-amd64.jsonl\n",
      "[       symtab.py:70 ] INFO: Loading symtab from /Users/szhong/Downloads/bpf-study/data/symtab/5.0.0-13-generic-amd64.jsonl\n",
      "[       groups.py:68 ] INFO: Loading funcs from /Users/szhong/Downloads/bpf-study/data/dwarf_funcs/5.3.0-18-generic-amd64.jsonl\n",
      "[       symtab.py:70 ] INFO: Loading symtab from /Users/szhong/Downloads/bpf-study/data/symtab/5.3.0-18-generic-amd64.jsonl\n",
      "[       groups.py:68 ] INFO: Loading funcs from /Users/szhong/Downloads/bpf-study/data/dwarf_funcs/5.4.0-26-generic-amd64.jsonl\n",
      "[       symtab.py:70 ] INFO: Loading symtab from /Users/szhong/Downloads/bpf-study/data/symtab/5.4.0-26-generic-amd64.jsonl\n",
      "[       groups.py:68 ] INFO: Loading funcs from /Users/szhong/Downloads/bpf-study/data/dwarf_funcs/5.8.0-25-generic-amd64.jsonl\n",
      "[       symtab.py:70 ] INFO: Loading symtab from /Users/szhong/Downloads/bpf-study/data/symtab/5.8.0-25-generic-amd64.jsonl\n",
      "[       groups.py:68 ] INFO: Loading funcs from /Users/szhong/Downloads/bpf-study/data/dwarf_funcs/5.11.0-16-generic-amd64.jsonl\n",
      "[       symtab.py:70 ] INFO: Loading symtab from /Users/szhong/Downloads/bpf-study/data/symtab/5.11.0-16-generic-amd64.jsonl\n",
      "[       groups.py:68 ] INFO: Loading funcs from /Users/szhong/Downloads/bpf-study/data/dwarf_funcs/5.13.0-19-generic-amd64.jsonl\n",
      "[       symtab.py:70 ] INFO: Loading symtab from /Users/szhong/Downloads/bpf-study/data/symtab/5.13.0-19-generic-amd64.jsonl\n",
      "[       groups.py:68 ] INFO: Loading funcs from /Users/szhong/Downloads/bpf-study/data/dwarf_funcs/5.15.0-25-generic-amd64.jsonl\n",
      "[       symtab.py:70 ] INFO: Loading symtab from /Users/szhong/Downloads/bpf-study/data/symtab/5.15.0-25-generic-amd64.jsonl\n",
      "[       groups.py:68 ] INFO: Loading funcs from /Users/szhong/Downloads/bpf-study/data/dwarf_funcs/5.19.0-21-generic-amd64.jsonl\n",
      "[       symtab.py:70 ] INFO: Loading symtab from /Users/szhong/Downloads/bpf-study/data/symtab/5.19.0-21-generic-amd64.jsonl\n",
      "[       groups.py:68 ] INFO: Loading funcs from /Users/szhong/Downloads/bpf-study/data/dwarf_funcs/6.2.0-20-generic-amd64.jsonl\n",
      "[       symtab.py:70 ] INFO: Loading symtab from /Users/szhong/Downloads/bpf-study/data/symtab/6.2.0-20-generic-amd64.jsonl\n",
      "[       groups.py:68 ] INFO: Loading funcs from /Users/szhong/Downloads/bpf-study/data/dwarf_funcs/6.5.0-9-generic-amd64.jsonl\n",
      "[       symtab.py:70 ] INFO: Loading symtab from /Users/szhong/Downloads/bpf-study/data/symtab/6.5.0-9-generic-amd64.jsonl\n",
      "[       groups.py:68 ] INFO: Loading funcs from /Users/szhong/Downloads/bpf-study/data/dwarf_funcs/6.8.0-31-generic-amd64.jsonl\n",
      "[       symtab.py:70 ] INFO: Loading symtab from /Users/szhong/Downloads/bpf-study/data/symtab/6.8.0-31-generic-amd64.jsonl\n",
      "[       groups.py:68 ] INFO: Loading funcs from /Users/szhong/Downloads/bpf-study/data/dwarf_funcs/5.4.0-26-generic-arm64.jsonl\n",
      "[       symtab.py:70 ] INFO: Loading symtab from /Users/szhong/Downloads/bpf-study/data/symtab/5.4.0-26-generic-arm64.jsonl\n",
      "[       groups.py:68 ] INFO: Loading funcs from /Users/szhong/Downloads/bpf-study/data/dwarf_funcs/5.4.0-26-generic-armhf.jsonl\n",
      "[       symtab.py:70 ] INFO: Loading symtab from /Users/szhong/Downloads/bpf-study/data/symtab/5.4.0-26-generic-armhf.jsonl\n",
      "[       groups.py:68 ] INFO: Loading funcs from /Users/szhong/Downloads/bpf-study/data/dwarf_funcs/5.4.0-26-generic-ppc64el.jsonl\n",
      "[       symtab.py:70 ] INFO: Loading symtab from /Users/szhong/Downloads/bpf-study/data/symtab/5.4.0-26-generic-ppc64el.jsonl\n",
      "[       groups.py:68 ] INFO: Loading funcs from /Users/szhong/Downloads/bpf-study/data/dwarf_funcs/5.4.0-26-generic-s390x.jsonl\n",
      "[       symtab.py:70 ] INFO: Loading symtab from /Users/szhong/Downloads/bpf-study/data/symtab/5.4.0-26-generic-s390x.jsonl\n",
      "[          btf.py:21 ] INFO: Loading BTF from /Users/szhong/Downloads/bpf-study/data/btf_norm/4.4.0-21-generic-amd64.pkl\n",
      "[          btf.py:21 ] INFO: Loading BTF from /Users/szhong/Downloads/bpf-study/data/btf_norm/4.8.0-22-generic-amd64.pkl\n",
      "[          btf.py:21 ] INFO: Loading BTF from /Users/szhong/Downloads/bpf-study/data/btf_norm/4.10.0-19-generic-amd64.pkl\n",
      "[          btf.py:21 ] INFO: Loading BTF from /Users/szhong/Downloads/bpf-study/data/btf_norm/4.13.0-16-generic-amd64.pkl\n",
      "[          btf.py:21 ] INFO: Loading BTF from /Users/szhong/Downloads/bpf-study/data/btf_norm/4.15.0-20-generic-amd64.pkl\n",
      "[          btf.py:21 ] INFO: Loading BTF from /Users/szhong/Downloads/bpf-study/data/btf_norm/4.18.0-10-generic-amd64.pkl\n",
      "[          btf.py:21 ] INFO: Loading BTF from /Users/szhong/Downloads/bpf-study/data/btf_norm/5.0.0-13-generic-amd64.pkl\n",
      "[          btf.py:21 ] INFO: Loading BTF from /Users/szhong/Downloads/bpf-study/data/btf_norm/5.3.0-18-generic-amd64.pkl\n",
      "[          btf.py:21 ] INFO: Loading BTF from /Users/szhong/Downloads/bpf-study/data/btf_norm/5.4.0-26-generic-amd64.pkl\n",
      "[          btf.py:21 ] INFO: Loading BTF from /Users/szhong/Downloads/bpf-study/data/btf_norm/5.8.0-25-generic-amd64.pkl\n",
      "[          btf.py:21 ] INFO: Loading BTF from /Users/szhong/Downloads/bpf-study/data/btf_norm/5.11.0-16-generic-amd64.pkl\n",
      "[          btf.py:21 ] INFO: Loading BTF from /Users/szhong/Downloads/bpf-study/data/btf_norm/5.13.0-19-generic-amd64.pkl\n",
      "[          btf.py:21 ] INFO: Loading BTF from /Users/szhong/Downloads/bpf-study/data/btf_norm/5.15.0-25-generic-amd64.pkl\n",
      "[          btf.py:21 ] INFO: Loading BTF from /Users/szhong/Downloads/bpf-study/data/btf_norm/5.19.0-21-generic-amd64.pkl\n",
      "[          btf.py:21 ] INFO: Loading BTF from /Users/szhong/Downloads/bpf-study/data/btf_norm/6.2.0-20-generic-amd64.pkl\n",
      "[          btf.py:21 ] INFO: Loading BTF from /Users/szhong/Downloads/bpf-study/data/btf_norm/6.5.0-9-generic-amd64.pkl\n",
      "[          btf.py:21 ] INFO: Loading BTF from /Users/szhong/Downloads/bpf-study/data/btf_norm/6.8.0-31-generic-amd64.pkl\n",
      "[          btf.py:21 ] INFO: Loading BTF from /Users/szhong/Downloads/bpf-study/data/btf_norm/5.4.0-26-generic-arm64.pkl\n",
      "[          btf.py:21 ] INFO: Loading BTF from /Users/szhong/Downloads/bpf-study/data/btf_norm/5.4.0-26-generic-armhf.pkl\n",
      "[          btf.py:21 ] INFO: Loading BTF from /Users/szhong/Downloads/bpf-study/data/btf_norm/5.4.0-26-generic-ppc64el.pkl\n",
      "[          btf.py:21 ] INFO: Loading BTF from /Users/szhong/Downloads/bpf-study/data/btf_norm/5.4.0-26-generic-s390x.pkl\n"
     ]
    },
    {
     "name": "stdout",
     "output_type": "stream",
     "text": [
      "Report for bindsnoop saved to /Users/szhong/Downloads/bpf-study/output/bcc/bindsnoop.log\n",
      "Report for biolatency saved to /Users/szhong/Downloads/bpf-study/output/bcc/biolatency.log\n",
      "Report for biopattern saved to /Users/szhong/Downloads/bpf-study/output/bcc/biopattern.log\n",
      "Report for biosnoop saved to /Users/szhong/Downloads/bpf-study/output/bcc/biosnoop.log\n",
      "Report for biostacks saved to /Users/szhong/Downloads/bpf-study/output/bcc/biostacks.log\n",
      "Report for biotop saved to /Users/szhong/Downloads/bpf-study/output/bcc/biotop.log\n",
      "Report for bitesize saved to /Users/szhong/Downloads/bpf-study/output/bcc/bitesize.log\n",
      "Report for cachestat saved to /Users/szhong/Downloads/bpf-study/output/bcc/cachestat.log\n",
      "Report for capable saved to /Users/szhong/Downloads/bpf-study/output/bcc/capable.log\n",
      "Report for cpudist saved to /Users/szhong/Downloads/bpf-study/output/bcc/cpudist.log\n",
      "Report for cpufreq saved to /Users/szhong/Downloads/bpf-study/output/bcc/cpufreq.log\n",
      "Report for drsnoop saved to /Users/szhong/Downloads/bpf-study/output/bcc/drsnoop.log\n"
     ]
    },
    {
     "name": "stderr",
     "output_type": "stream",
     "text": [
      "[     syscalls.py:54 ] WARNING: Unknown syscall at 513: ffffffff81a011c8 -> ffffffff8102ddd0\n",
      "[     syscalls.py:54 ] WARNING: Unknown syscall at 513: ffffffff81a01208 -> ffffffff8102dc30\n",
      "[     syscalls.py:54 ] WARNING: Unknown syscall at 513: ffffffff81a011e8 -> ffffffff8102beb0\n",
      "[     syscalls.py:54 ] WARNING: Unknown syscall at 513: ffffffff81e011a8 -> ffffffff8102cbd0\n",
      "[     syscalls.py:54 ] WARNING: Unknown syscall at 513: ffffffff81e011c8 -> ffffffff8102de00\n",
      "[     syscalls.py:54 ] WARNING: Unknown syscall at 513: ffffffff820011c8 -> ffffffff8102f040\n",
      "[     syscalls.py:54 ] WARNING: Unknown syscall at 513: ffffffff82001288 -> ffffffff81030e10\n",
      "[     syscalls.py:27 ] WARNING: sys_call_table size is 0. Using hardcoded size\n",
      "[     syscalls.py:27 ] WARNING: sys_call_table size is 0. Using hardcoded size\n"
     ]
    },
    {
     "name": "stdout",
     "output_type": "stream",
     "text": [
      "Report for execsnoop saved to /Users/szhong/Downloads/bpf-study/output/bcc/execsnoop.log\n",
      "Report for exitsnoop saved to /Users/szhong/Downloads/bpf-study/output/bcc/exitsnoop.log\n",
      "Report for filelife saved to /Users/szhong/Downloads/bpf-study/output/bcc/filelife.log\n",
      "Report for filetop saved to /Users/szhong/Downloads/bpf-study/output/bcc/filetop.log\n",
      "Report for fsdist saved to /Users/szhong/Downloads/bpf-study/output/bcc/fsdist.log\n",
      "Report for fsslower saved to /Users/szhong/Downloads/bpf-study/output/bcc/fsslower.log\n",
      "Report for funclatency saved to /Users/szhong/Downloads/bpf-study/output/bcc/funclatency.log\n",
      "Report for futexctn saved to /Users/szhong/Downloads/bpf-study/output/bcc/futexctn.log\n",
      "Report for gethostlatency saved to /Users/szhong/Downloads/bpf-study/output/bcc/gethostlatency.log\n",
      "Report for hardirqs saved to /Users/szhong/Downloads/bpf-study/output/bcc/hardirqs.log\n",
      "Report for javagc saved to /Users/szhong/Downloads/bpf-study/output/bcc/javagc.log\n",
      "Report for klockstat saved to /Users/szhong/Downloads/bpf-study/output/bcc/klockstat.log\n",
      "Report for ksnoop saved to /Users/szhong/Downloads/bpf-study/output/bcc/ksnoop.log\n",
      "Report for llcstat saved to /Users/szhong/Downloads/bpf-study/output/bcc/llcstat.log\n",
      "Report for mdflush saved to /Users/szhong/Downloads/bpf-study/output/bcc/mdflush.log\n",
      "Report for memleak saved to /Users/szhong/Downloads/bpf-study/output/bcc/memleak.log\n",
      "Report for mountsnoop saved to /Users/szhong/Downloads/bpf-study/output/bcc/mountsnoop.log\n",
      "Report for numamove saved to /Users/szhong/Downloads/bpf-study/output/bcc/numamove.log\n",
      "Report for offcputime saved to /Users/szhong/Downloads/bpf-study/output/bcc/offcputime.log\n",
      "Report for oomkill saved to /Users/szhong/Downloads/bpf-study/output/bcc/oomkill.log\n",
      "Report for opensnoop saved to /Users/szhong/Downloads/bpf-study/output/bcc/opensnoop.log\n",
      "Report for profile saved to /Users/szhong/Downloads/bpf-study/output/bcc/profile.log\n",
      "Report for readahead saved to /Users/szhong/Downloads/bpf-study/output/bcc/readahead.log\n",
      "Report for runqlat saved to /Users/szhong/Downloads/bpf-study/output/bcc/runqlat.log\n",
      "Report for runqlen saved to /Users/szhong/Downloads/bpf-study/output/bcc/runqlen.log\n",
      "Report for runqslower saved to /Users/szhong/Downloads/bpf-study/output/bcc/runqslower.log\n",
      "Report for sigsnoop saved to /Users/szhong/Downloads/bpf-study/output/bcc/sigsnoop.log\n",
      "Report for slabratetop saved to /Users/szhong/Downloads/bpf-study/output/bcc/slabratetop.log\n",
      "Report for softirqs saved to /Users/szhong/Downloads/bpf-study/output/bcc/softirqs.log\n",
      "Report for solisten saved to /Users/szhong/Downloads/bpf-study/output/bcc/solisten.log\n",
      "Report for statsnoop saved to /Users/szhong/Downloads/bpf-study/output/bcc/statsnoop.log\n",
      "Report for syncsnoop saved to /Users/szhong/Downloads/bpf-study/output/bcc/syncsnoop.log\n",
      "Report for syscount saved to /Users/szhong/Downloads/bpf-study/output/bcc/syscount.log\n",
      "Report for tcpconnect saved to /Users/szhong/Downloads/bpf-study/output/bcc/tcpconnect.log\n",
      "Report for tcpconnlat saved to /Users/szhong/Downloads/bpf-study/output/bcc/tcpconnlat.log\n",
      "Report for tcplife saved to /Users/szhong/Downloads/bpf-study/output/bcc/tcplife.log\n",
      "Report for tcppktlat saved to /Users/szhong/Downloads/bpf-study/output/bcc/tcppktlat.log\n",
      "Report for tcprtt saved to /Users/szhong/Downloads/bpf-study/output/bcc/tcprtt.log\n",
      "Report for tcpstates saved to /Users/szhong/Downloads/bpf-study/output/bcc/tcpstates.log\n",
      "Report for tcpsynbl saved to /Users/szhong/Downloads/bpf-study/output/bcc/tcpsynbl.log\n",
      "Report for tcptop saved to /Users/szhong/Downloads/bpf-study/output/bcc/tcptop.log\n",
      "Report for tcptracer saved to /Users/szhong/Downloads/bpf-study/output/bcc/tcptracer.log\n",
      "Report for vfsstat saved to /Users/szhong/Downloads/bpf-study/output/bcc/vfsstat.log\n",
      "Report for wakeuptime saved to /Users/szhong/Downloads/bpf-study/output/bcc/wakeuptime.log\n"
     ]
    }
   ],
   "source": [
    "import pickle\n",
    "\n",
    "from depsurf import BPFObject, VersionGroup, gen_report\n",
    "from utils import BCC_OBJ_PATH, OUTPUT_PATH\n",
    "\n",
    "results = {}\n",
    "for path in sorted(BCC_OBJ_PATH.glob(\"*.bpf.o\")):\n",
    "    bpf = BPFObject(path)\n",
    "    result_path = OUTPUT_PATH / \"bcc\" / f\"{bpf.name}.log\"\n",
    "    with open(result_path, \"w\") as f:\n",
    "        results[bpf.name] = gen_report(\n",
    "            bpf.deps, [VersionGroup.REGULAR, VersionGroup.ARCH], f\n",
    "        )\n",
    "    print(f\"Report for {bpf.name} saved to {result_path}\")\n",
    "\n",
    "\n",
    "with open(OUTPUT_PATH / \"bcc.pkl\", \"wb\") as f:\n",
    "    pickle.dump(results, f)"
   ]
  }
 ],
 "metadata": {
  "kernelspec": {
   "display_name": "Python 3",
   "language": "python",
   "name": "python3"
  },
  "language_info": {
   "codemirror_mode": {
    "name": "ipython",
    "version": 3
   },
   "file_extension": ".py",
   "mimetype": "text/x-python",
   "name": "python",
   "nbconvert_exporter": "python",
   "pygments_lexer": "ipython3",
   "version": "3.11.7"
  }
 },
 "nbformat": 4,
 "nbformat_minor": 2
}
