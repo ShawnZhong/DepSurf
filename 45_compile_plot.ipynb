{
 "cells": [
  {
   "cell_type": "code",
   "execution_count": 1,
   "metadata": {},
   "outputs": [],
   "source": [
    "%reload_ext autoreload\n",
    "%autoreload 2"
   ]
  },
  {
   "cell_type": "code",
   "execution_count": 2,
   "metadata": {},
   "outputs": [
    {
     "name": "stderr",
     "output_type": "stream",
     "text": [
      "[       pd.py:50 ] INFO: Loaded df from /Users/szhong/Downloads/bpf-study/output/inline.pkl\n",
      "[      mpl.py:76 ] INFO: Saved figure to /Users/szhong/Downloads/bpf-study/paper/figs/inline.pdf\n",
      "[       pd.py:50 ] INFO: Loaded df from /Users/szhong/Downloads/bpf-study/output/dup.pkl\n",
      "[      mpl.py:76 ] INFO: Saved figure to /Users/szhong/Downloads/bpf-study/paper/figs/dup.pdf\n"
     ]
    }
   ],
   "source": [
    "import matplotlib.pyplot as plt\n",
    "import numpy as np\n",
    "import pandas as pd\n",
    "\n",
    "from depsurf import CollisionType, InlineType, Versions\n",
    "from depsurf.output import (\n",
    "    get_legend_handles_labels,\n",
    "    label_multiline_text,\n",
    "    load_df,\n",
    "    plot_yticks,\n",
    "    save_fig,\n",
    ")\n",
    "\n",
    "\n",
    "def plot_subfig(ax: plt.Axes, df: pd.DataFrame, group: Versions, ylim, lines_fn):\n",
    "    xs = np.arange(len(df))\n",
    "    bottom = np.zeros(len(df))\n",
    "    for col in df.columns:\n",
    "        ax.bar(xs, df[col], bottom=bottom, label=col, color=col.color)\n",
    "        bottom += df[col]\n",
    "\n",
    "    ax.tick_params(axis=\"both\", labelsize=9)\n",
    "    ax.set_xticks(xs, [group.str_fn(v) for v in df.index], rotation=0)\n",
    "    ax.set_xlabel(group.caption)\n",
    "    ax.set_xlim(-0.5, len(df) - 0.5)\n",
    "    ax.set_ylim(0, ylim)\n",
    "\n",
    "    if lines_fn is None:\n",
    "        return\n",
    "\n",
    "    with plt.rc_context({\"font.family\": \"monospace\"}):\n",
    "        for i, (index, row) in enumerate(df.iterrows()):\n",
    "            lines, colors = zip(*lines_fn(row))\n",
    "            label_multiline_text(ax, i, ylim, lines, colors=colors, fontsize=9)\n",
    "\n",
    "groups = [Versions.REGULAR, Versions.ARCH, Versions.FLAVOR]\n",
    "def plot_fig(df: pd.DataFrame, ylabel, lines_fn=None, ylim_mult=1.1):\n",
    "    fig, axs = plt.subplots(\n",
    "        1,\n",
    "        3,\n",
    "        figsize=(12, 2.25),\n",
    "        sharey=True,\n",
    "        width_ratios=Versions.num_versions(groups),\n",
    "        gridspec_kw={\"wspace\": 0.05, \"hspace\": 0.075},\n",
    "    )\n",
    "\n",
    "    ylim = df.sum(axis=1).max() * ylim_mult\n",
    "    for ax, group in zip(axs, groups):\n",
    "        plot_subfig(ax, df.loc[group], group, ylim=ylim, lines_fn=lines_fn)\n",
    "\n",
    "    plot_yticks(axs[0])\n",
    "    axs[0].set_ylabel(ylabel)\n",
    "\n",
    "    handles, labels = get_legend_handles_labels(fig)\n",
    "    fig.legend(handles, labels, loc=\"upper center\", ncol=5, bbox_to_anchor=(0.5, 1.02))\n",
    "    return fig\n",
    "\n",
    "\n",
    "fig = plot_fig(\n",
    "    load_df(\"inline\"),\n",
    "    lines_fn=lambda row: [(f\"{row[InlineType.PARTIAL]/1000:.1f}k\", \"darkred\")],\n",
    "    ylabel=\"Number of Functions\",\n",
    "    ylim_mult=1.1,\n",
    ")\n",
    "save_fig(fig, \"inline\")\n",
    "\n",
    "\n",
    "fig = plot_fig(\n",
    "    load_df(\"dup\")[[CollisionType.INCLUDE, CollisionType.STATIC, CollisionType.MIXED]],\n",
    "    lines_fn=lambda row: [\n",
    "        (f\"{row[CollisionType.MIXED]}\", \"darkgreen\"),\n",
    "        (f\"{row[CollisionType.STATIC]}\", \"darkred\"),\n",
    "    ],\n",
    "    ylabel=\"Number of Cases\",\n",
    "    ylim_mult=1.2,\n",
    ")\n",
    "save_fig(fig, \"dup\")"
   ]
  }
 ],
 "metadata": {
  "kernelspec": {
   "display_name": "base",
   "language": "python",
   "name": "python3"
  },
  "language_info": {
   "codemirror_mode": {
    "name": "ipython",
    "version": 3
   },
   "file_extension": ".py",
   "mimetype": "text/x-python",
   "name": "python",
   "nbconvert_exporter": "python",
   "pygments_lexer": "ipython3",
   "version": "3.11.7"
  }
 },
 "nbformat": 4,
 "nbformat_minor": 2
}
