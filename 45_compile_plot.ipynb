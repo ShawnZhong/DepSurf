{
 "cells": [
  {
   "cell_type": "code",
   "execution_count": 1,
   "metadata": {},
   "outputs": [],
   "source": [
    "%reload_ext autoreload\n",
    "%autoreload 2"
   ]
  },
  {
   "cell_type": "code",
   "execution_count": 2,
   "metadata": {},
   "outputs": [],
   "source": [
    "import matplotlib.pyplot as plt\n",
    "import numpy as np\n",
    "import pandas as pd\n",
    "\n",
    "from depsurf import Versions\n",
    "from depsurf.output import (\n",
    "    get_legend_handles_labels,\n",
    "    label_multiline_text,\n",
    "    plot_yticks,\n",
    "    save_fig,\n",
    "    load_df,\n",
    "    plot_bar,\n",
    ")\n",
    "\n",
    "captions = {\n",
    "    Versions.REGULAR: \"Linux Kernel Version\",\n",
    "    Versions.ARCH: \"Arch for Linux 5.4\",\n",
    "    Versions.FLAVOR: \"Flavor for Linux 5.4\",\n",
    "}\n",
    "\n",
    "\n",
    "groups = captions.keys()\n",
    "\n",
    "\n",
    "def plot_fig(df_all: pd.DataFrame, ylabel, columns=None, lines_fn=None, ylim_mult=1.1):\n",
    "    df_all = df_all.drop(\n",
    "        index=(\n",
    "            Versions.FLAVOR,\n",
    "            next(v for v in Versions.FLAVOR if v.flavor == \"oracle\"),\n",
    "        )\n",
    "    )\n",
    "\n",
    "    fig, axs = plt.subplots(\n",
    "        1,\n",
    "        3,\n",
    "        figsize=(12, 2.25),\n",
    "        sharey=True,\n",
    "        width_ratios=[len(df_all.loc[group]) for group in groups],\n",
    "        gridspec_kw={\"wspace\": 0.05, \"hspace\": 0.075},\n",
    "    )\n",
    "    axs: list[plt.Axes]\n",
    "\n",
    "    columns = columns if columns is not None else df_all.columns\n",
    "    ylim = df_all[columns].sum(axis=1).max() * ylim_mult\n",
    "    for ax, group in zip(axs, groups):\n",
    "\n",
    "        df = df_all.loc[group]\n",
    "        plot_bar(ax, df, columns)\n",
    "\n",
    "        xs = np.arange(len(df))\n",
    "        ax.tick_params(axis=\"both\", labelsize=9)\n",
    "        ax.set_xticks(xs, [group.version_to_str(v) for v in df.index], rotation=0)\n",
    "        ax.set_xlabel(captions[group])\n",
    "        ax.set_xlim(-0.5, len(df) - 0.5)\n",
    "\n",
    "        ax.set_ylim(0, ylim)\n",
    "\n",
    "        if lines_fn is None:\n",
    "            continue\n",
    "\n",
    "        with plt.rc_context({\"font.family\": \"monospace\"}):\n",
    "            for i, (index, row) in enumerate(df.iterrows()):\n",
    "                lines, colors = zip(*lines_fn(row))\n",
    "                label_multiline_text(ax, i, ylim, lines, colors=colors, fontsize=9)\n",
    "\n",
    "    plot_yticks(axs[0])\n",
    "    axs[0].set_ylabel(ylabel)\n",
    "\n",
    "    handles, labels = get_legend_handles_labels(fig)\n",
    "    fig.legend(handles, labels, loc=\"upper center\", ncol=5, bbox_to_anchor=(0.5, 1.02))\n",
    "    return fig"
   ]
  },
  {
   "cell_type": "code",
   "execution_count": 3,
   "metadata": {},
   "outputs": [
    {
     "name": "stderr",
     "output_type": "stream",
     "text": [
      "[           pd.py:53 ] INFO: Loaded df from /Users/szhong/Downloads/bpf-study/output/rename.pkl\n"
     ]
    },
    {
     "name": "stderr",
     "output_type": "stream",
     "text": [
      "[          mpl.py:79 ] INFO: Saved figure to /Users/szhong/Downloads/bpf-study/paper/figs/rename.pdf\n"
     ]
    }
   ],
   "source": [
    "from depsurf import RenameType\n",
    "\n",
    "\n",
    "def gcc_short_ver(s):\n",
    "    return s[: s.rfind(\".\")]\n",
    "\n",
    "\n",
    "df_all = load_df(\"rename\")\n",
    "fig = plot_fig(\n",
    "    df_all,\n",
    "    columns=list(RenameType),\n",
    "    ylabel=\"Number of Funcions Renamed\",\n",
    "    lines_fn=lambda row: [\n",
    "        (gcc_short_ver(row[\"GCC\"]), \"black\"),\n",
    "        (f'{row[\"Renamed\"] / row[\"Total\"]:.0%}', \"black\"),\n",
    "    ],\n",
    "    ylim_mult=1.2,\n",
    ")\n",
    "save_fig(fig, \"rename\", close=True)"
   ]
  },
  {
   "cell_type": "code",
   "execution_count": 4,
   "metadata": {},
   "outputs": [
    {
     "name": "stderr",
     "output_type": "stream",
     "text": [
      "[           pd.py:53 ] INFO: Loaded df from /Users/szhong/Downloads/bpf-study/output/inline.pkl\n",
      "[          mpl.py:79 ] INFO: Saved figure to /Users/szhong/Downloads/bpf-study/paper/figs/inline.pdf\n"
     ]
    }
   ],
   "source": [
    "from depsurf import InlineType\n",
    "\n",
    "fig = plot_fig(\n",
    "    load_df(\"inline\"),\n",
    "    lines_fn=lambda row: [(f\"{row[InlineType.PARTIAL]/1000:.1f}k\", \"darkred\")],\n",
    "    ylabel=\"Number of Functions\",\n",
    "    ylim_mult=1.1,\n",
    ")\n",
    "save_fig(fig, \"inline\", close=True)"
   ]
  },
  {
   "cell_type": "code",
   "execution_count": 5,
   "metadata": {},
   "outputs": [
    {
     "name": "stderr",
     "output_type": "stream",
     "text": [
      "[           pd.py:53 ] INFO: Loaded df from /Users/szhong/Downloads/bpf-study/output/dup.pkl\n",
      "[          mpl.py:79 ] INFO: Saved figure to /Users/szhong/Downloads/bpf-study/paper/figs/dup.pdf\n"
     ]
    }
   ],
   "source": [
    "from depsurf import CollisionType\n",
    "\n",
    "fig = plot_fig(\n",
    "    load_df(\"dup\"),\n",
    "    columns=[\n",
    "        CollisionType.INCLUDE_DUP,\n",
    "        CollisionType.STATIC_STATIC,\n",
    "        CollisionType.STATIC_GLOBAL,\n",
    "    ],\n",
    "    lines_fn=lambda row: [\n",
    "        (f\"{row[CollisionType.STATIC_GLOBAL]}\", \"darkgreen\"),\n",
    "        (f\"{row[CollisionType.STATIC_STATIC]}\", \"darkred\"),\n",
    "    ],\n",
    "    ylabel=\"Number of Cases\",\n",
    "    ylim_mult=1.2,\n",
    ")\n",
    "save_fig(fig, \"dup\", close=True)"
   ]
  }
 ],
 "metadata": {
  "kernelspec": {
   "display_name": "base",
   "language": "python",
   "name": "python3"
  },
  "language_info": {
   "codemirror_mode": {
    "name": "ipython",
    "version": 3
   },
   "file_extension": ".py",
   "mimetype": "text/x-python",
   "name": "python",
   "nbconvert_exporter": "python",
   "pygments_lexer": "ipython3",
   "version": "3.11.7"
  }
 },
 "nbformat": 4,
 "nbformat_minor": 2
}
