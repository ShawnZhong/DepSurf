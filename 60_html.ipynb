{
 "cells": [
  {
   "cell_type": "code",
   "execution_count": 1,
   "metadata": {},
   "outputs": [],
   "source": [
    "%reload_ext autoreload\n",
    "%autoreload 2"
   ]
  },
  {
   "cell_type": "code",
   "execution_count": 1,
   "metadata": {},
   "outputs": [
    {
     "name": "stderr",
     "output_type": "stream",
     "text": [
      "[       groups.py:68 ] INFO: Loading funcs from /Users/szhong/Code/DepSurf/data/func_groups/4.4.0-21-generic-amd64.jsonl\n",
      "[       groups.py:68 ] INFO: Loading funcs from /Users/szhong/Code/DepSurf/data/func_groups/4.8.0-22-generic-amd64.jsonl\n",
      "[       groups.py:68 ] INFO: Loading funcs from /Users/szhong/Code/DepSurf/data/func_groups/4.10.0-19-generic-amd64.jsonl\n",
      "[       groups.py:68 ] INFO: Loading funcs from /Users/szhong/Code/DepSurf/data/func_groups/4.13.0-16-generic-amd64.jsonl\n",
      "[       groups.py:68 ] INFO: Loading funcs from /Users/szhong/Code/DepSurf/data/func_groups/4.15.0-20-generic-amd64.jsonl\n",
      "[       groups.py:68 ] INFO: Loading funcs from /Users/szhong/Code/DepSurf/data/func_groups/4.18.0-10-generic-amd64.jsonl\n",
      "[       groups.py:68 ] INFO: Loading funcs from /Users/szhong/Code/DepSurf/data/func_groups/5.0.0-13-generic-amd64.jsonl\n",
      "[       groups.py:68 ] INFO: Loading funcs from /Users/szhong/Code/DepSurf/data/func_groups/5.3.0-18-generic-amd64.jsonl\n",
      "[       groups.py:68 ] INFO: Loading funcs from /Users/szhong/Code/DepSurf/data/func_groups/5.4.0-26-generic-amd64.jsonl\n",
      "[       groups.py:68 ] INFO: Loading funcs from /Users/szhong/Code/DepSurf/data/func_groups/5.8.0-25-generic-amd64.jsonl\n",
      "[       groups.py:68 ] INFO: Loading funcs from /Users/szhong/Code/DepSurf/data/func_groups/5.11.0-16-generic-amd64.jsonl\n",
      "[       groups.py:68 ] INFO: Loading funcs from /Users/szhong/Code/DepSurf/data/func_groups/5.13.0-19-generic-amd64.jsonl\n",
      "[       groups.py:68 ] INFO: Loading funcs from /Users/szhong/Code/DepSurf/data/func_groups/5.15.0-25-generic-amd64.jsonl\n",
      "[       groups.py:68 ] INFO: Loading funcs from /Users/szhong/Code/DepSurf/data/func_groups/5.19.0-21-generic-amd64.jsonl\n",
      "[       groups.py:68 ] INFO: Loading funcs from /Users/szhong/Code/DepSurf/data/func_groups/6.2.0-20-generic-amd64.jsonl\n",
      "[       groups.py:68 ] INFO: Loading funcs from /Users/szhong/Code/DepSurf/data/func_groups/6.5.0-9-generic-amd64.jsonl\n",
      "[       groups.py:68 ] INFO: Loading funcs from /Users/szhong/Code/DepSurf/data/func_groups/6.8.0-31-generic-amd64.jsonl\n",
      "[       report.py:76 ] INFO: Report saved to /dev/null\n"
     ]
    }
   ],
   "source": [
    "from depsurf import DepKind, VersionGroup, gen_report\n",
    "from pathlib import Path\n",
    "\n",
    "deps = sorted(set(DepKind.FUNC(f.name) for v in VersionGroup.REGULAR for f in v.img.func_groups.iter_funcs()))\n",
    "\n",
    "data = gen_report(deps, VersionGroup.REGULAR, Path(\"/dev/null\"))"
   ]
  },
  {
   "cell_type": "code",
   "execution_count": 2,
   "metadata": {},
   "outputs": [],
   "source": [
    "import pickle\n",
    "\n",
    "from depsurf import DATA_PATH\n",
    "HTML_PATH = DATA_PATH / \"html\"\n",
    "HTML_PATH.mkdir(exist_ok=True)\n",
    "\n",
    "\n",
    "with open(DATA_PATH / \"data.pkl\", \"rb\") as f:\n",
    "    data = pickle.load(f)"
   ]
  },
  {
   "cell_type": "code",
   "execution_count": 25,
   "metadata": {},
   "outputs": [],
   "source": [
    "from utils import *\n",
    "from depsurf import IssueEnum, VersionGroup\n",
    "\n",
    "from collections import defaultdict\n",
    "\n",
    "partitioned_results = defaultdict(dict)\n",
    "\n",
    "for dep, report in data.items():\n",
    "    result = {}\n",
    "    for (group, version), issues in report.items():\n",
    "        v = version.short_version\n",
    "        if IssueEnum.FULL_INLINE in issues:\n",
    "            result[v] = \"F\"\n",
    "        elif IssueEnum.PARTIAL_INLINE in issues:\n",
    "            result[v] = \"P\"\n",
    "        elif IssueEnum.ABSENT in issues:\n",
    "            result[v] = \"-\"\n",
    "        else:\n",
    "            result[v] = \"\"\n",
    "    \n",
    "    key = dep.name.replace(\"_\", \"\").lower()\n",
    "    partitioned_results[key[:1]][(key, dep.name)] = result\n",
    "\n",
    "\n",
    "partitioned_results = {k: sorted(v.items()) for k, v in partitioned_results.items()}"
   ]
  },
  {
   "cell_type": "code",
   "execution_count": 35,
   "metadata": {},
   "outputs": [],
   "source": [
    "for char, results in partitioned_results.items():\n",
    "    with open(HTML_PATH / f\"func-{char}.html\", \"w\") as f:\n",
    "        f.write(\"<html>\\n\")\n",
    "        f.write(\"<head>\\n\")\n",
    "        f.write(f\"<title>Kernel Function Inline Status - {char}</title>\\n\")\n",
    "        f.write('<link rel=\"stylesheet\" href=\"style.css\">\\n')\n",
    "        f.write(\"</head>\\n\")\n",
    "\n",
    "        f.write(\"<body>\\n\")\n",
    "        f.write(\"<table>\\n\")\n",
    "        f.write(\"<thead>\\n\")\n",
    "        \n",
    "        f.write(\"<tr>\\n\")  \n",
    "        f.write(f'<td><span class=\"f\">&nbsp;F&nbsp;</span>: Fully Inlined. <span class=\"p\">&nbsp;P&nbsp;</span>: Partially Inlined. <span class=\"m\">&nbsp;-&nbsp;</span>: Absent</td>\\n')          \n",
    "        for version in VersionGroup.REGULAR:\n",
    "            f.write(f\"<th>{version.short_version}</th>\")\n",
    "        f.write(\"</tr>\\n\")\n",
    "        f.write(\"</thead>\\n\")\n",
    "\n",
    "        f.write(\"<tbody>\\n\")\n",
    "        for (_, dep), result in results:\n",
    "            f.write(f'<tr><th id=\"{dep}\"><pre>{dep}</pre></th>')\n",
    "            for v in result.values():\n",
    "                class_name = {\n",
    "                    \"F\": \"f\",\n",
    "                    \"P\": \"p\",\n",
    "                    \"-\": \"m\",\n",
    "                }.get(v)\n",
    "                if class_name is not None:\n",
    "                    f.write(f'<td class=\"{class_name}\">{v}</td>')\n",
    "                else:\n",
    "                    f.write(f'<td>{v}</td>')\n",
    "            f.write(\"</tr>\\n\")\n",
    "        f.write(\"</tbody>\\n\")\n",
    "\n",
    "        f.write(\"</table>\\n\")\n",
    "        f.write(\"</body>\\n\")\n",
    "        f.write(\"</html>\\n\")"
   ]
  }
 ],
 "metadata": {
  "kernelspec": {
   "display_name": "base",
   "language": "python",
   "name": "python3"
  },
  "language_info": {
   "codemirror_mode": {
    "name": "ipython",
    "version": 3
   },
   "file_extension": ".py",
   "mimetype": "text/x-python",
   "name": "python",
   "nbconvert_exporter": "python",
   "pygments_lexer": "ipython3",
   "version": "3.12.3"
  }
 },
 "nbformat": 4,
 "nbformat_minor": 2
}
