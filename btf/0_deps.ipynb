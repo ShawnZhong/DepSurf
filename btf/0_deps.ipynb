{
 "cells": [
  {
   "cell_type": "code",
   "execution_count": 1,
   "metadata": {},
   "outputs": [
    {
     "name": "stdout",
     "output_type": "stream",
     "text": [
      "Reading package lists... Done\n",
      "Building dependency tree... Done\n",
      "Reading state information... Done\n",
      "linux-tools-generic is already the newest version (6.2.0.39.39).\n",
      "0 upgraded, 0 newly installed, 0 to remove and 2 not upgraded.\n"
     ]
    }
   ],
   "source": [
    "# for bpftool\n",
    "\n",
    "!sudo apt install linux-tools-generic -y"
   ]
  },
  {
   "cell_type": "code",
   "execution_count": 2,
   "metadata": {},
   "outputs": [
    {
     "name": "stdout",
     "output_type": "stream",
     "text": [
      "Defaulting to user installation because normal site-packages is not writeable\n",
      "Collecting git+https://github.com/marin-m/vmlinux-to-elf\n",
      "  Cloning https://github.com/marin-m/vmlinux-to-elf to /tmp/pip-req-build-u_o1t52f\n",
      "  Running command git clone --filter=blob:none --quiet https://github.com/marin-m/vmlinux-to-elf /tmp/pip-req-build-u_o1t52f\n",
      "  Resolved https://github.com/marin-m/vmlinux-to-elf to commit fa5c9305ae1c4bbcd2debabb810e7613def690a7\n",
      "  Preparing metadata (setup.py) ... \u001b[?25ldone\n",
      "\u001b[?25hCollecting python-lzo@ git+https://github.com/clubby789/python-lzo@b4e39df\n",
      "  Cloning https://github.com/clubby789/python-lzo (to revision b4e39df) to /tmp/pip-install-j6mkw3go/python-lzo_46cfb960895442beab4b3643dfd1a561\n",
      "  Running command git clone --filter=blob:none --quiet https://github.com/clubby789/python-lzo /tmp/pip-install-j6mkw3go/python-lzo_46cfb960895442beab4b3643dfd1a561\n",
      "\u001b[33m  WARNING: Did not find branch or tag 'b4e39df', assuming revision or ref.\u001b[0m\u001b[33m\n",
      "\u001b[0m  Running command git checkout -q b4e39df\n",
      "  Resolved https://github.com/clubby789/python-lzo to commit b4e39df\n",
      "  Preparing metadata (setup.py) ... \u001b[?25ldone\n",
      "\u001b[?25hRequirement already satisfied: lz4 in /home/szhong/.local/lib/python3.11/site-packages (from vmlinux-to-elf==1.0) (4.3.3)\n",
      "Requirement already satisfied: zstandard in /home/szhong/.local/lib/python3.11/site-packages (from vmlinux-to-elf==1.0) (0.22.0)\n"
     ]
    }
   ],
   "source": [
    "# for decoding vmlinux from vmlinuz\n",
    "\n",
    "!pip install --upgrade git+https://github.com/marin-m/vmlinux-to-elf --break-system-packages"
   ]
  },
  {
   "cell_type": "code",
   "execution_count": 4,
   "metadata": {},
   "outputs": [
    {
     "name": "stdout",
     "output_type": "stream",
     "text": [
      "Defaulting to user installation because normal site-packages is not writeable\n",
      "Requirement already satisfied: pyelftools in /home/szhong/.local/lib/python3.11/site-packages (0.30)\n"
     ]
    }
   ],
   "source": [
    "# for analyzing bpf object files\n",
    "\n",
    "!pip install pyelftools --break-system-packages"
   ]
  }
 ],
 "metadata": {
  "kernelspec": {
   "display_name": "Python 3",
   "language": "python",
   "name": "python3"
  },
  "language_info": {
   "codemirror_mode": {
    "name": "ipython",
    "version": 3
   },
   "file_extension": ".py",
   "mimetype": "text/x-python",
   "name": "python",
   "nbconvert_exporter": "python",
   "pygments_lexer": "ipython3",
   "version": "3.11.4"
  }
 },
 "nbformat": 4,
 "nbformat_minor": 2
}
