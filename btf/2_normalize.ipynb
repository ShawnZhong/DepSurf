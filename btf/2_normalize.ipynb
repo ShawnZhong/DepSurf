{
 "cells": [
  {
   "cell_type": "code",
   "execution_count": 2,
   "metadata": {},
   "outputs": [],
   "source": [
    "%reload_ext autoreload\n",
    "%autoreload 2"
   ]
  },
  {
   "cell_type": "code",
   "execution_count": 1,
   "metadata": {},
   "outputs": [
    {
     "name": "stdout",
     "output_type": "stream",
     "text": [
      "data/20.04-arm64/5.8.0-63-generic.h already exists\n",
      "data/20.04-arm64/5.8.0-63-generic.txt already exists\n",
      "data/20.04-arm64/5.8.0-63-generic.json already exists\n",
      "Running command: \"\u001b[92m/usr/lib/linux-tools/6.2.0-39-generic/bpftool btf dump file data/22.04-x86/6.5.0-21-generic.btf format c > data/22.04-x86/6.5.0-21-generic.h\u001b[0m\"\n",
      "Running command: \"\u001b[92m/usr/lib/linux-tools/6.2.0-39-generic/bpftool btf dump file data/22.04-x86/6.5.0-21-generic.btf format raw > data/22.04-x86/6.5.0-21-generic.txt\u001b[0m\"\n",
      "Running command: \"\u001b[92m/usr/lib/linux-tools/6.2.0-39-generic/bpftool btf dump file data/22.04-x86/6.5.0-21-generic.btf --json > data/22.04-x86/6.5.0-21-generic.json\u001b[0m\"\n",
      "Running command: \"\u001b[92m/usr/lib/linux-tools/6.2.0-39-generic/bpftool btf dump file data/22.04-x86/6.2.0-39-generic.btf format c > data/22.04-x86/6.2.0-39-generic.h\u001b[0m\"\n",
      "Running command: \"\u001b[92m/usr/lib/linux-tools/6.2.0-39-generic/bpftool btf dump file data/22.04-x86/6.2.0-39-generic.btf format raw > data/22.04-x86/6.2.0-39-generic.txt\u001b[0m\"\n",
      "Running command: \"\u001b[92m/usr/lib/linux-tools/6.2.0-39-generic/bpftool btf dump file data/22.04-x86/6.2.0-39-generic.btf --json > data/22.04-x86/6.2.0-39-generic.json\u001b[0m\"\n",
      "Running command: \"\u001b[92m/usr/lib/linux-tools/6.2.0-39-generic/bpftool btf dump file data/22.04-x86/5.19.0-50-generic.btf format c > data/22.04-x86/5.19.0-50-generic.h\u001b[0m\"\n",
      "Running command: \"\u001b[92m/usr/lib/linux-tools/6.2.0-39-generic/bpftool btf dump file data/22.04-x86/5.19.0-50-generic.btf format raw > data/22.04-x86/5.19.0-50-generic.txt\u001b[0m\"\n",
      "Running command: \"\u001b[92m/usr/lib/linux-tools/6.2.0-39-generic/bpftool btf dump file data/22.04-x86/5.19.0-50-generic.btf --json > data/22.04-x86/5.19.0-50-generic.json\u001b[0m\"\n",
      "Running command: \"\u001b[92m/usr/lib/linux-tools/6.2.0-39-generic/bpftool btf dump file data/22.04-x86/5.15.0-97-generic.btf format c > data/22.04-x86/5.15.0-97-generic.h\u001b[0m\"\n",
      "Running command: \"\u001b[92m/usr/lib/linux-tools/6.2.0-39-generic/bpftool btf dump file data/22.04-x86/5.15.0-97-generic.btf format raw > data/22.04-x86/5.15.0-97-generic.txt\u001b[0m\"\n",
      "Running command: \"\u001b[92m/usr/lib/linux-tools/6.2.0-39-generic/bpftool btf dump file data/22.04-x86/5.15.0-97-generic.btf --json > data/22.04-x86/5.15.0-97-generic.json\u001b[0m\"\n",
      "data/18.04-x86/5.4.0-91-generic.h already exists\n",
      "data/18.04-x86/5.4.0-91-generic.txt already exists\n",
      "data/18.04-x86/5.4.0-91-generic.json already exists\n",
      "data/18.04-x86/5.0.0-65-generic.h already exists\n",
      "data/18.04-x86/5.0.0-65-generic.txt already exists\n",
      "data/18.04-x86/5.0.0-65-generic.json already exists\n",
      "data/18.04-x86/5.3.0-76-generic.h already exists\n",
      "data/18.04-x86/5.3.0-76-generic.txt already exists\n",
      "data/18.04-x86/5.3.0-76-generic.json already exists\n",
      "data/18.04-x86/4.15.0-213-generic.h already exists\n",
      "data/18.04-x86/4.15.0-213-generic.txt already exists\n",
      "data/18.04-x86/4.15.0-213-generic.json already exists\n",
      "data/18.04-x86/4.18.0-25-generic.h already exists\n",
      "data/18.04-x86/4.18.0-25-generic.txt already exists\n",
      "data/18.04-x86/4.18.0-25-generic.json already exists\n",
      "data/20.04-x86/5.13.0-52-generic.h already exists\n",
      "data/20.04-x86/5.13.0-52-generic.txt already exists\n",
      "data/20.04-x86/5.13.0-52-generic.json already exists\n",
      "data/20.04-x86/5.11.0-46-generic.h already exists\n",
      "data/20.04-x86/5.11.0-46-generic.txt already exists\n",
      "data/20.04-x86/5.11.0-46-generic.json already exists\n",
      "data/20.04-x86/5.4.0-170-generic.h already exists\n",
      "data/20.04-x86/5.4.0-170-generic.txt already exists\n",
      "data/20.04-x86/5.4.0-170-generic.json already exists\n",
      "data/20.04-x86/5.8.0-63-generic.h already exists\n",
      "data/20.04-x86/5.8.0-63-generic.txt already exists\n",
      "data/20.04-x86/5.8.0-63-generic.json already exists\n",
      "data/20.04-x86/5.15.0-92-generic.h already exists\n",
      "data/20.04-x86/5.15.0-92-generic.txt already exists\n",
      "data/20.04-x86/5.15.0-92-generic.json already exists\n",
      "data/16.04-x86/4.8.0-58-generic.h already exists\n",
      "data/16.04-x86/4.8.0-58-generic.txt already exists\n",
      "data/16.04-x86/4.8.0-58-generic.json already exists\n",
      "data/16.04-x86/4.15.0-142-generic.h already exists\n",
      "data/16.04-x86/4.15.0-142-generic.txt already exists\n",
      "data/16.04-x86/4.15.0-142-generic.json already exists\n",
      "data/16.04-x86/4.4.0-210-generic.h already exists\n",
      "data/16.04-x86/4.4.0-210-generic.txt already exists\n",
      "data/16.04-x86/4.4.0-210-generic.json already exists\n",
      "data/16.04-x86/4.13.0-45-generic.h already exists\n",
      "data/16.04-x86/4.13.0-45-generic.txt already exists\n",
      "data/16.04-x86/4.13.0-45-generic.json already exists\n",
      "data/16.04-x86/4.10.0-42-generic.h already exists\n",
      "data/16.04-x86/4.10.0-42-generic.txt already exists\n",
      "data/16.04-x86/4.10.0-42-generic.json already exists\n"
     ]
    }
   ],
   "source": [
    "from pathlib import Path\n",
    "\n",
    "from utils import dump_btf\n",
    "\n",
    "for file in Path(\"data\").glob(\"**/*.btf\"):\n",
    "    dump_btf(file, overwrite=False)"
   ]
  },
  {
   "cell_type": "code",
   "execution_count": 2,
   "metadata": {},
   "outputs": [
    {
     "name": "stdout",
     "output_type": "stream",
     "text": [
      "data/20.04-arm64/5.8.0-63-generic.jsonl already exists\n",
      "data/20.04-arm64/5.8.0-63-generic.pkl already exists\n",
      "Writing data/22.04-x86/5.15.0-97-generic.jsonl\n",
      "Writing data/22.04-x86/5.15.0-97-generic.pkl\n",
      "Writing data/22.04-x86/5.19.0-50-generic.jsonl\n",
      "Writing data/22.04-x86/5.19.0-50-generic.pkl\n",
      "Writing data/22.04-x86/6.2.0-39-generic.jsonl\n",
      "Writing data/22.04-x86/6.2.0-39-generic.pkl\n",
      "Writing data/22.04-x86/6.5.0-21-generic.jsonl\n",
      "Writing data/22.04-x86/6.5.0-21-generic.pkl\n",
      "data/18.04-x86/5.0.0-65-generic.jsonl already exists\n",
      "data/18.04-x86/5.0.0-65-generic.pkl already exists\n",
      "data/18.04-x86/5.4.0-91-generic.jsonl already exists\n",
      "data/18.04-x86/5.4.0-91-generic.pkl already exists\n",
      "data/18.04-x86/5.3.0-76-generic.jsonl already exists\n",
      "data/18.04-x86/5.3.0-76-generic.pkl already exists\n",
      "data/18.04-x86/4.15.0-213-generic.jsonl already exists\n",
      "data/18.04-x86/4.15.0-213-generic.pkl already exists\n",
      "data/18.04-x86/4.18.0-25-generic.jsonl already exists\n",
      "data/18.04-x86/4.18.0-25-generic.pkl already exists\n",
      "data/20.04-x86/5.13.0-52-generic.jsonl already exists\n",
      "data/20.04-x86/5.13.0-52-generic.pkl already exists\n",
      "data/20.04-x86/5.11.0-46-generic.jsonl already exists\n",
      "data/20.04-x86/5.11.0-46-generic.pkl already exists\n",
      "data/20.04-x86/5.4.0-170-generic.jsonl already exists\n",
      "data/20.04-x86/5.4.0-170-generic.pkl already exists\n",
      "data/20.04-x86/5.8.0-63-generic.jsonl already exists\n",
      "data/20.04-x86/5.8.0-63-generic.pkl already exists\n",
      "data/20.04-x86/5.15.0-92-generic.jsonl already exists\n",
      "data/20.04-x86/5.15.0-92-generic.pkl already exists\n",
      "data/16.04-x86/4.15.0-142-generic.jsonl already exists\n",
      "data/16.04-x86/4.15.0-142-generic.pkl already exists\n",
      "data/16.04-x86/4.4.0-210-generic.jsonl already exists\n",
      "data/16.04-x86/4.4.0-210-generic.pkl already exists\n",
      "data/16.04-x86/4.8.0-58-generic.jsonl already exists\n",
      "data/16.04-x86/4.8.0-58-generic.pkl already exists\n",
      "data/16.04-x86/4.13.0-45-generic.jsonl already exists\n",
      "data/16.04-x86/4.13.0-45-generic.pkl already exists\n",
      "data/16.04-x86/4.10.0-42-generic.jsonl already exists\n",
      "data/16.04-x86/4.10.0-42-generic.pkl already exists\n"
     ]
    }
   ],
   "source": [
    "from pathlib import Path\n",
    "\n",
    "from utils import normalize_btf\n",
    "\n",
    "for json_path in Path(\"data\").glob(\"**/*.json\"):\n",
    "    normalize_btf(json_path, overwrite=False)"
   ]
  }
 ],
 "metadata": {
  "kernelspec": {
   "display_name": "Python 3",
   "language": "python",
   "name": "python3"
  },
  "language_info": {
   "codemirror_mode": {
    "name": "ipython",
    "version": 3
   },
   "file_extension": ".py",
   "mimetype": "text/x-python",
   "name": "python",
   "nbconvert_exporter": "python",
   "pygments_lexer": "ipython3",
   "version": "3.11.4"
  }
 },
 "nbformat": 4,
 "nbformat_minor": 2
}
