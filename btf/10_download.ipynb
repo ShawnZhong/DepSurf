{
 "cells": [
  {
   "cell_type": "code",
   "execution_count": 1,
   "metadata": {},
   "outputs": [],
   "source": [
    "%reload_ext autoreload\n",
    "%autoreload 2"
   ]
  },
  {
   "cell_type": "code",
   "execution_count": 9,
   "metadata": {},
   "outputs": [
    {
     "name": "stdout",
     "output_type": "stream",
     "text": [
      "/Users/szhong/Downloads/bpf-study/btf/data/deb/4.4.0-21-generic-amd64.deb already exists\n",
      "/Users/szhong/Downloads/bpf-study/btf/data/deb/4.8.0-22-generic-amd64.deb already exists\n",
      "/Users/szhong/Downloads/bpf-study/btf/data/deb/4.10.0-19-generic-amd64.deb already exists\n",
      "/Users/szhong/Downloads/bpf-study/btf/data/deb/4.13.0-16-generic-amd64.deb already exists\n",
      "/Users/szhong/Downloads/bpf-study/btf/data/deb/4.15.0-20-generic-amd64.deb already exists\n",
      "/Users/szhong/Downloads/bpf-study/btf/data/deb/4.18.0-10-generic-amd64.deb already exists\n",
      "/Users/szhong/Downloads/bpf-study/btf/data/deb/5.0.0-13-generic-amd64.deb already exists\n",
      "/Users/szhong/Downloads/bpf-study/btf/data/deb/5.3.0-18-generic-amd64.deb already exists\n",
      "/Users/szhong/Downloads/bpf-study/btf/data/deb/5.4.0-26-generic-amd64.deb already exists\n",
      "/Users/szhong/Downloads/bpf-study/btf/data/deb/5.8.0-25-generic-amd64.deb already exists\n",
      "/Users/szhong/Downloads/bpf-study/btf/data/deb/5.11.0-16-generic-amd64.deb already exists\n",
      "/Users/szhong/Downloads/bpf-study/btf/data/deb/5.13.0-19-generic-amd64.deb already exists\n",
      "/Users/szhong/Downloads/bpf-study/btf/data/deb/5.15.0-25-generic-amd64.deb already exists\n",
      "/Users/szhong/Downloads/bpf-study/btf/data/deb/5.19.0-21-generic-amd64.deb already exists\n",
      "/Users/szhong/Downloads/bpf-study/btf/data/deb/6.2.0-20-generic-amd64.deb already exists\n",
      "/Users/szhong/Downloads/bpf-study/btf/data/deb/6.5.0-9-generic-amd64.deb already exists\n",
      "/Users/szhong/Downloads/bpf-study/btf/data/deb/6.8.0-22-generic-amd64.deb already exists\n",
      "/Users/szhong/Downloads/bpf-study/btf/data/deb/5.4.0-26-generic-s390x.deb already exists\n",
      "/Users/szhong/Downloads/bpf-study/btf/data/deb/5.4.0-26-generic-ppc64el.deb already exists\n",
      "/Users/szhong/Downloads/bpf-study/btf/data/deb/5.4.0-26-generic-arm64.deb already exists\n",
      "/Users/szhong/Downloads/bpf-study/btf/data/deb/5.4.0-26-generic-armhf.deb already exists\n",
      "/Users/szhong/Downloads/bpf-study/btf/data/deb/5.4.0-51-generic-amd64.deb already exists\n",
      "/Users/szhong/Downloads/bpf-study/btf/data/deb/5.4.0-75-generic-amd64.deb already exists\n",
      "/Users/szhong/Downloads/bpf-study/btf/data/deb/5.4.0-100-generic-amd64.deb already exists\n",
      "/Users/szhong/Downloads/bpf-study/btf/data/deb/5.4.0-125-generic-amd64.deb already exists\n",
      "/Users/szhong/Downloads/bpf-study/btf/data/deb/5.4.0-175-generic-amd64.deb already exists\n"
     ]
    }
   ],
   "source": [
    "from depsurf import system, BuildVersion\n",
    "\n",
    "urls = [\n",
    "    # https://launchpad.net/ubuntu/+source/linux/<version>\n",
    "    # 16.04 - 17.10\n",
    "    \"https://launchpad.net/ubuntu/+archive/primary/+files/linux-image-4.4.0-21-generic-dbgsym_4.4.0-21.37_amd64.ddeb\",  # 16.04\n",
    "    \"https://launchpad.net/ubuntu/+archive/primary/+files/linux-image-4.8.0-22-generic-dbgsym_4.8.0-22.24_amd64.ddeb\",  # 16.10\n",
    "    \"https://launchpad.net/ubuntu/+archive/primary/+files/linux-image-4.10.0-19-generic-dbgsym_4.10.0-19.21_amd64.ddeb\",  # 17.04\n",
    "    \"https://launchpad.net/ubuntu/+archive/primary/+files/linux-image-4.13.0-16-generic-dbgsym_4.13.0-16.19_amd64.ddeb\",  # 17.10\n",
    "    # 18.04 - 19.10\n",
    "    \"https://launchpad.net/ubuntu/+archive/primary/+files/linux-image-unsigned-4.15.0-20-generic-dbgsym_4.15.0-20.21_amd64.ddeb\",  # 18.04\n",
    "    \"https://launchpad.net/ubuntu/+archive/primary/+files/linux-image-unsigned-4.18.0-10-generic-dbgsym_4.18.0-10.11_amd64.ddeb\",  # 18.10\n",
    "    \"https://launchpad.net/ubuntu/+archive/primary/+files/linux-image-unsigned-5.0.0-13-generic-dbgsym_5.0.0-13.14_amd64.ddeb\",  # 19.04\n",
    "    \"https://launchpad.net/ubuntu/+archive/primary/+files/linux-image-unsigned-5.3.0-18-generic-dbgsym_5.3.0-18.19_amd64.ddeb\",  # 19.10\n",
    "    # 20.04 - 21.10\n",
    "    \"https://launchpad.net/ubuntu/+archive/primary/+files/linux-image-unsigned-5.4.0-26-generic-dbgsym_5.4.0-26.30_amd64.ddeb\",  # 20.04\n",
    "    \"https://launchpad.net/ubuntu/+archive/primary/+files/linux-image-unsigned-5.8.0-25-generic-dbgsym_5.8.0-25.26_amd64.ddeb\",  # 20.10\n",
    "    \"https://launchpad.net/ubuntu/+archive/primary/+files/linux-image-unsigned-5.11.0-16-generic-dbgsym_5.11.0-16.17_amd64.ddeb\",  # 21.04\n",
    "    \"https://launchpad.net/ubuntu/+archive/primary/+files/linux-image-unsigned-5.13.0-19-generic-dbgsym_5.13.0-19.19_amd64.ddeb\",  # 21.10\n",
    "    # 22.04 - 23.10\n",
    "    \"https://launchpad.net/ubuntu/+archive/primary/+files/linux-image-unsigned-5.15.0-25-generic-dbgsym_5.15.0-25.25_amd64.ddeb\",  # 22.04\n",
    "    \"https://launchpad.net/ubuntu/+archive/primary/+files/linux-image-unsigned-5.19.0-21-generic-dbgsym_5.19.0-21.21_amd64.ddeb\",  # 22.10\n",
    "    \"https://launchpad.net/ubuntu/+archive/primary/+files/linux-image-unsigned-6.2.0-20-generic-dbgsym_6.2.0-20.20_amd64.ddeb\",  # 23.04\n",
    "    \"https://launchpad.net/ubuntu/+archive/primary/+files/linux-image-unsigned-6.5.0-9-generic-dbgsym_6.5.0-9.9_amd64.ddeb\",  # 23.10\n",
    "    # 24.04\n",
    "    \"https://launchpad.net/ubuntu/+archive/primary/+files/linux-image-unsigned-6.8.0-22-generic-dbgsym_6.8.0-22.22_amd64.ddeb\", # 24.04\n",
    "    # other architectures for 20.04\n",
    "    \"https://launchpad.net/ubuntu/+archive/primary/+files/linux-image-unsigned-5.4.0-26-generic-dbgsym_5.4.0-26.30_s390x.ddeb\",\n",
    "    \"https://launchpad.net/ubuntu/+archive/primary/+files/linux-image-unsigned-5.4.0-26-generic-dbgsym_5.4.0-26.30_ppc64el.ddeb\",\n",
    "    \"https://launchpad.net/ubuntu/+archive/primary/+files/linux-image-unsigned-5.4.0-26-generic-dbgsym_5.4.0-26.30_arm64.ddeb\",\n",
    "    \"https://launchpad.net/ubuntu/+archive/primary/+files/linux-image-5.4.0-26-generic-dbgsym_5.4.0-26.30_armhf.ddeb\",\n",
    "    # revisions for 20.04\n",
    "    \"https://launchpad.net/ubuntu/+archive/primary/+files/linux-image-unsigned-5.4.0-51-generic-dbgsym_5.4.0-51.56_amd64.ddeb\",\n",
    "    \"https://launchpad.net/ubuntu/+archive/primary/+files/linux-image-unsigned-5.4.0-75-generic-dbgsym_5.4.0-75.84_amd64.ddeb\",\n",
    "    \"https://launchpad.net/ubuntu/+archive/primary/+files/linux-image-unsigned-5.4.0-100-generic-dbgsym_5.4.0-100.113_amd64.ddeb\",\n",
    "    \"https://launchpad.net/ubuntu/+archive/primary/+files/linux-image-unsigned-5.4.0-125-generic-dbgsym_5.4.0-125.141_amd64.ddeb\",\n",
    "    \"https://launchpad.net/ubuntu/+archive/primary/+files/linux-image-unsigned-5.4.0-175-generic-dbgsym_5.4.0-175.195_amd64.ddeb\",\n",
    "]\n",
    "\n",
    "for url in urls:\n",
    "    version = BuildVersion.from_path(url)\n",
    "    path = version.deb_path\n",
    "\n",
    "    if path.exists():\n",
    "        print(f\"{path} already exists\")\n",
    "    else:\n",
    "        system(f\"wget {url} -O {path}\")"
   ]
  },
  {
   "cell_type": "code",
   "execution_count": null,
   "metadata": {},
   "outputs": [],
   "source": [
    "!pip install launchpadlib --break-system-packages"
   ]
  },
  {
   "cell_type": "code",
   "execution_count": 2,
   "metadata": {},
   "outputs": [],
   "source": [
    "# https://api.launchpad.net/1.0/\n",
    "\n",
    "from launchpadlib.launchpad import Launchpad\n",
    "\n",
    "lp = Launchpad.login_anonymously(\"ubuntu-build-list\", \"production\")\n",
    "ubuntu = lp.distributions[\"ubuntu\"]\n",
    "archive = ubuntu.getArchive(name=\"primary\")"
   ]
  },
  {
   "cell_type": "code",
   "execution_count": 3,
   "metadata": {},
   "outputs": [
    {
     "data": {
      "text/plain": [
       "dict_keys(['24.04', '23.10', '23.04', '22.10', '22.04', '21.10', '21.04', '20.10', '20.04', '19.10', '19.04', '18.10', '18.04', '17.10', '17.04', '16.10', '16.04', '15.10', '15.04', '14.10', '14.04', '13.10', '13.04', '12.10', '12.04', '11.10', '11.04', '10.10', '10.04', '9.10', '9.04', '8.10', '8.04', '7.10', '7.04', '6.10', '6.06', '5.10', '5.04', '4.10'])"
      ]
     },
     "execution_count": 3,
     "metadata": {},
     "output_type": "execute_result"
    }
   ],
   "source": [
    "series = {e.version: e for e in ubuntu.series}\n",
    "\n",
    "series.keys()"
   ]
  },
  {
   "cell_type": "code",
   "execution_count": 7,
   "metadata": {},
   "outputs": [
    {
     "name": "stdout",
     "output_type": "stream",
     "text": [
      "20.04 https://launchpad.net/ubuntu/+archive/primary/+files/linux-image-unsigned-5.4.0-26-generic-dbgsym_5.4.0-26.30_amd64.ddeb\n"
     ]
    }
   ],
   "source": [
    "def parse_version(version):\n",
    "    return tuple(map(int, version.replace(\"-\", \".\").replace(\"+\", \".\").split(\".\")))\n",
    "\n",
    "\n",
    "def is_linux_dbgsym(url):\n",
    "    return (\n",
    "        \"/linux-image\" in url\n",
    "        and url.endswith(\"_amd64.ddeb\")\n",
    "        and \"generic\" in url\n",
    "        and \"dbgsym\" in url\n",
    "    )\n",
    "\n",
    "\n",
    "def get_ddeb(distro_series):\n",
    "    published_sources = archive.getPublishedSources(\n",
    "        exact_match=True,\n",
    "        source_name=\"linux\",  # linux-hwe, linux-aws, linux-azure, etc\n",
    "        distro_series=distro_series,\n",
    "        pocket=\"Release\",\n",
    "        order_by_date=True,\n",
    "    )\n",
    "\n",
    "    versions = [parse_version(s.source_package_version) for s in published_sources]\n",
    "    assert max(versions) == versions[0], versions\n",
    "\n",
    "    source = published_sources[0]\n",
    "\n",
    "    urls = [url for url in source.binaryFileUrls() if is_linux_dbgsym(url)]\n",
    "    print(distro_series.version, \" \".join(urls))\n",
    "\n",
    "\n",
    "\n",
    "\n",
    "for s in [\n",
    "    # \"24.04\",\n",
    "    # \"23.10\",\n",
    "    # \"23.04\",\n",
    "    # \"22.10\",\n",
    "    # \"22.04\",\n",
    "    # \"21.10\",\n",
    "    # \"21.04\",\n",
    "    # \"20.10\",\n",
    "    \"20.04\",\n",
    "    # \"19.10\",\n",
    "    # \"19.04\",\n",
    "    # \"18.10\",\n",
    "    # \"18.04\",\n",
    "    # \"17.10\",\n",
    "    # \"17.04\",\n",
    "    # \"16.10\",\n",
    "    # \"16.04\",\n",
    "]:\n",
    "    get_ddeb(series[s])"
   ]
  }
 ],
 "metadata": {
  "kernelspec": {
   "display_name": "Python 3",
   "language": "python",
   "name": "python3"
  },
  "language_info": {
   "codemirror_mode": {
    "name": "ipython",
    "version": 3
   },
   "file_extension": ".py",
   "mimetype": "text/x-python",
   "name": "python",
   "nbconvert_exporter": "python",
   "pygments_lexer": "ipython3",
   "version": "3.11.4"
  }
 },
 "nbformat": 4,
 "nbformat_minor": 2
}
