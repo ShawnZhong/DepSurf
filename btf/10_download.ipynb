{
 "cells": [
  {
   "cell_type": "code",
   "execution_count": 15,
   "metadata": {},
   "outputs": [],
   "source": [
    "%reload_ext autoreload\n",
    "%autoreload 2"
   ]
  },
  {
   "cell_type": "markdown",
   "metadata": {},
   "source": [
    "http://ddebs.ubuntu.com/pool/main/l/linux-aws-6.5/linux-image-unsigned-6.5.0-1010-aws-dbgsym_6.5.0-1010.10~22.04.1_arm64.ddeb\n",
    "\n",
    "https://www.ubuntuupdates.org/package_metas/list?name=linux-image-unsigned-6.5\n",
    "\n",
    "https://launchpad.net/~canonical-kernel-team/+archive/ubuntu/ppa/+packages?field.name_filter=linux-hwe-6.5&field.status_filter=&field.series_filter=\n",
    "\n",
    "https://answers.launchpad.net/ubuntu/+source/linux/6.5.0-9.9\n",
    "\n",
    "https://launchpad.net/ubuntu/+source/linux-aws\n",
    "\n",
    "https://launchpad.net/ubuntu/+source/linux-aws/+publishinghistory\n",
    "\n",
    "\n",
    "https://launchpad.net/ubuntu/+source/linux-hwe\n",
    "\n",
    "https://launchpad.net/ubuntu/+source/linux-hwe-6.2\n",
    "\n",
    "\n",
    "https://launchpad.net/ubuntu/+source/linux-hwe-6.5"
   ]
  },
  {
   "cell_type": "code",
   "execution_count": 9,
   "metadata": {},
   "outputs": [],
   "source": [
    "# TODO: download from http://ddebs.ubuntu.com/pool/main/l/linux-hwe-6.5/ instead"
   ]
  },
  {
   "cell_type": "code",
   "execution_count": null,
   "metadata": {},
   "outputs": [],
   "source": [
    "from depsurf import download\n",
    "\n"
   ]
  }
 ],
 "metadata": {
  "kernelspec": {
   "display_name": "Python 3",
   "language": "python",
   "name": "python3"
  },
  "language_info": {
   "codemirror_mode": {
    "name": "ipython",
    "version": 3
   },
   "file_extension": ".py",
   "mimetype": "text/x-python",
   "name": "python",
   "nbconvert_exporter": "python",
   "pygments_lexer": "ipython3",
   "version": "3.11.4"
  }
 },
 "nbformat": 4,
 "nbformat_minor": 2
}
