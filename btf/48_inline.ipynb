{
 "cells": [
  {
   "cell_type": "code",
   "execution_count": 1,
   "metadata": {},
   "outputs": [],
   "source": [
    "from depsurf import DBGSYM_PATH\n",
    "\n",
    "import pickle\n",
    "\n",
    "with open(DBGSYM_PATH / \"subroutine_info.pkl\", \"rb\") as f:\n",
    "    subroutine_info = pickle.load(f)"
   ]
  },
  {
   "cell_type": "code",
   "execution_count": 2,
   "metadata": {},
   "outputs": [
    {
     "data": {
      "text/plain": [
       "79338"
      ]
     },
     "execution_count": 2,
     "metadata": {},
     "output_type": "execute_result"
    }
   ],
   "source": [
    "flattened_info = [entry for v in subroutine_info.values() for entry in v.values()]\n",
    "\n",
    "len(flattened_info)"
   ]
  },
  {
   "cell_type": "code",
   "execution_count": 3,
   "metadata": {},
   "outputs": [
    {
     "data": {
      "text/plain": [
       "0.02088613125928515"
      ]
     },
     "execution_count": 3,
     "metadata": {},
     "output_type": "execute_result"
    }
   ],
   "source": [
    "sum([len(d) for d in subroutine_info.values() if len(d) > 1]) / len(\n",
    "    [v for v in flattened_info if not v.external]\n",
    ")"
   ]
  },
  {
   "cell_type": "code",
   "execution_count": 4,
   "metadata": {},
   "outputs": [
    {
     "data": {
      "text/plain": [
       "0.2788449418941743"
      ]
     },
     "execution_count": 4,
     "metadata": {},
     "output_type": "execute_result"
    }
   ],
   "source": [
    "len([v for v in flattened_info if v.external]) / len(flattened_info)"
   ]
  },
  {
   "cell_type": "code",
   "execution_count": 5,
   "metadata": {},
   "outputs": [
    {
     "name": "stdout",
     "output_type": "stream",
     "text": [
      "79338\n"
     ]
    },
    {
     "data": {
      "text/html": [
       "<div>\n",
       "<style scoped>\n",
       "    .dataframe tbody tr th:only-of-type {\n",
       "        vertical-align: middle;\n",
       "    }\n",
       "\n",
       "    .dataframe tbody tr th {\n",
       "        vertical-align: top;\n",
       "    }\n",
       "\n",
       "    .dataframe thead th {\n",
       "        text-align: right;\n",
       "    }\n",
       "</style>\n",
       "<table border=\"1\" class=\"dataframe\">\n",
       "  <thead>\n",
       "    <tr style=\"text-align: right;\">\n",
       "      <th></th>\n",
       "      <th>name</th>\n",
       "      <th>location</th>\n",
       "      <th>caller_inline</th>\n",
       "      <th>caller_func</th>\n",
       "      <th>external</th>\n",
       "    </tr>\n",
       "  </thead>\n",
       "  <tbody>\n",
       "    <tr>\n",
       "      <th>0</th>\n",
       "      <td>kernel_init</td>\n",
       "      <td>init/main.c</td>\n",
       "      <td>0</td>\n",
       "      <td>0</td>\n",
       "      <td>False</td>\n",
       "    </tr>\n",
       "    <tr>\n",
       "      <th>1</th>\n",
       "      <td>mark_readonly</td>\n",
       "      <td>init/main.c</td>\n",
       "      <td>1</td>\n",
       "      <td>0</td>\n",
       "      <td>False</td>\n",
       "    </tr>\n",
       "    <tr>\n",
       "      <th>2</th>\n",
       "      <td>rodata_test</td>\n",
       "      <td>include/linux/rodata_test.h</td>\n",
       "      <td>1</td>\n",
       "      <td>0</td>\n",
       "      <td>False</td>\n",
       "    </tr>\n",
       "    <tr>\n",
       "      <th>3</th>\n",
       "      <td>rcu_barrier</td>\n",
       "      <td>rcu_barrier</td>\n",
       "      <td>1</td>\n",
       "      <td>35</td>\n",
       "      <td>True</td>\n",
       "    </tr>\n",
       "    <tr>\n",
       "      <th>4</th>\n",
       "      <td>mark_rodata_ro</td>\n",
       "      <td>mark_rodata_ro</td>\n",
       "      <td>0</td>\n",
       "      <td>1</td>\n",
       "      <td>True</td>\n",
       "    </tr>\n",
       "    <tr>\n",
       "      <th>5</th>\n",
       "      <td>printk</td>\n",
       "      <td>printk</td>\n",
       "      <td>0</td>\n",
       "      <td>5936</td>\n",
       "      <td>True</td>\n",
       "    </tr>\n",
       "    <tr>\n",
       "      <th>6</th>\n",
       "      <td>kernel_init_freeable</td>\n",
       "      <td>init/main.c</td>\n",
       "      <td>0</td>\n",
       "      <td>1</td>\n",
       "      <td>False</td>\n",
       "    </tr>\n",
       "    <tr>\n",
       "      <th>7</th>\n",
       "      <td>async_synchronize_full</td>\n",
       "      <td>async_synchronize_full</td>\n",
       "      <td>0</td>\n",
       "      <td>17</td>\n",
       "      <td>True</td>\n",
       "    </tr>\n",
       "    <tr>\n",
       "      <th>8</th>\n",
       "      <td>ftrace_free_init_mem</td>\n",
       "      <td>ftrace_free_init_mem</td>\n",
       "      <td>0</td>\n",
       "      <td>1</td>\n",
       "      <td>True</td>\n",
       "    </tr>\n",
       "    <tr>\n",
       "      <th>9</th>\n",
       "      <td>free_initmem</td>\n",
       "      <td>free_initmem</td>\n",
       "      <td>0</td>\n",
       "      <td>1</td>\n",
       "      <td>True</td>\n",
       "    </tr>\n",
       "  </tbody>\n",
       "</table>\n",
       "</div>"
      ],
      "text/plain": [
       "                     name                     location  caller_inline  \\\n",
       "0             kernel_init                  init/main.c              0   \n",
       "1           mark_readonly                  init/main.c              1   \n",
       "2             rodata_test  include/linux/rodata_test.h              1   \n",
       "3             rcu_barrier                  rcu_barrier              1   \n",
       "4          mark_rodata_ro               mark_rodata_ro              0   \n",
       "5                  printk                       printk              0   \n",
       "6    kernel_init_freeable                  init/main.c              0   \n",
       "7  async_synchronize_full       async_synchronize_full              0   \n",
       "8    ftrace_free_init_mem         ftrace_free_init_mem              0   \n",
       "9            free_initmem                 free_initmem              0   \n",
       "\n",
       "   caller_func  external  \n",
       "0            0     False  \n",
       "1            0     False  \n",
       "2            0     False  \n",
       "3           35      True  \n",
       "4            1      True  \n",
       "5         5936      True  \n",
       "6            1     False  \n",
       "7           17      True  \n",
       "8            1      True  \n",
       "9            1      True  "
      ]
     },
     "execution_count": 5,
     "metadata": {},
     "output_type": "execute_result"
    }
   ],
   "source": [
    "import pandas as pd\n",
    "\n",
    "\n",
    "df = pd.DataFrame(\n",
    "    [\n",
    "        {\n",
    "            \"name\": name,\n",
    "            \"location\": location,\n",
    "            \"caller_inline\": len(info.caller_inline),\n",
    "            \"caller_func\": len(info.caller_func),\n",
    "            \"external\": info.external,\n",
    "        }\n",
    "        for name, d in subroutine_info.items()\n",
    "        for location, info in d.items()\n",
    "    ]\n",
    ")\n",
    "\n",
    "print(len(df))\n",
    "\n",
    "df[:10]"
   ]
  },
  {
   "cell_type": "code",
   "execution_count": 6,
   "metadata": {},
   "outputs": [
    {
     "name": "stdout",
     "output_type": "stream",
     "text": [
      "0.34888704025813605\n"
     ]
    }
   ],
   "source": [
    "full_inlined_df = df[(df.caller_inline > 0) & (df.caller_func == 0)]\n",
    "print(len(full_inlined_df) / len(df))"
   ]
  },
  {
   "cell_type": "code",
   "execution_count": 7,
   "metadata": {},
   "outputs": [
    {
     "data": {
      "text/plain": [
       "0.6967692554561682"
      ]
     },
     "execution_count": 7,
     "metadata": {},
     "output_type": "execute_result"
    }
   ],
   "source": [
    "df.caller_inline.sum() / (df.caller_inline.sum() + df.caller_func.sum())"
   ]
  },
  {
   "cell_type": "code",
   "execution_count": 8,
   "metadata": {},
   "outputs": [
    {
     "name": "stdout",
     "output_type": "stream",
     "text": [
      "4118\n"
     ]
    },
    {
     "data": {
      "text/html": [
       "<div>\n",
       "<style scoped>\n",
       "    .dataframe tbody tr th:only-of-type {\n",
       "        vertical-align: middle;\n",
       "    }\n",
       "\n",
       "    .dataframe tbody tr th {\n",
       "        vertical-align: top;\n",
       "    }\n",
       "\n",
       "    .dataframe thead th {\n",
       "        text-align: right;\n",
       "    }\n",
       "</style>\n",
       "<table border=\"1\" class=\"dataframe\">\n",
       "  <thead>\n",
       "    <tr style=\"text-align: right;\">\n",
       "      <th></th>\n",
       "      <th>name</th>\n",
       "      <th>location</th>\n",
       "      <th>caller_inline</th>\n",
       "      <th>caller_func</th>\n",
       "      <th>external</th>\n",
       "    </tr>\n",
       "  </thead>\n",
       "  <tbody>\n",
       "    <tr>\n",
       "      <th>3</th>\n",
       "      <td>rcu_barrier</td>\n",
       "      <td>rcu_barrier</td>\n",
       "      <td>1</td>\n",
       "      <td>35</td>\n",
       "      <td>True</td>\n",
       "    </tr>\n",
       "    <tr>\n",
       "      <th>19</th>\n",
       "      <td>kstrtobool</td>\n",
       "      <td>kstrtobool</td>\n",
       "      <td>1</td>\n",
       "      <td>47</td>\n",
       "      <td>True</td>\n",
       "    </tr>\n",
       "    <tr>\n",
       "      <th>25</th>\n",
       "      <td>do_raw_spin_lock</td>\n",
       "      <td>include/linux/spinlock.h</td>\n",
       "      <td>3342</td>\n",
       "      <td>204</td>\n",
       "      <td>False</td>\n",
       "    </tr>\n",
       "    <tr>\n",
       "      <th>30</th>\n",
       "      <td>__cmpxchg_case_acq_32</td>\n",
       "      <td>arch/arm64/include/asm/cmpxchg.h</td>\n",
       "      <td>5542</td>\n",
       "      <td>10</td>\n",
       "      <td>False</td>\n",
       "    </tr>\n",
       "    <tr>\n",
       "      <th>31</th>\n",
       "      <td>system_uses_lse_atomics</td>\n",
       "      <td>arch/arm64/include/asm/lse.h</td>\n",
       "      <td>12096</td>\n",
       "      <td>91</td>\n",
       "      <td>False</td>\n",
       "    </tr>\n",
       "    <tr>\n",
       "      <th>36</th>\n",
       "      <td>arch_local_irq_save</td>\n",
       "      <td>arch/arm64/include/asm/irqflags.h</td>\n",
       "      <td>4643</td>\n",
       "      <td>110</td>\n",
       "      <td>False</td>\n",
       "    </tr>\n",
       "    <tr>\n",
       "      <th>37</th>\n",
       "      <td>arch_local_save_flags</td>\n",
       "      <td>arch/arm64/include/asm/irqflags.h</td>\n",
       "      <td>4779</td>\n",
       "      <td>26</td>\n",
       "      <td>False</td>\n",
       "    </tr>\n",
       "    <tr>\n",
       "      <th>38</th>\n",
       "      <td>arch_irqs_disabled_flags</td>\n",
       "      <td>arch/arm64/include/asm/irqflags.h</td>\n",
       "      <td>4771</td>\n",
       "      <td>14</td>\n",
       "      <td>False</td>\n",
       "    </tr>\n",
       "    <tr>\n",
       "      <th>39</th>\n",
       "      <td>arch_local_irq_disable</td>\n",
       "      <td>arch/arm64/include/asm/irqflags.h</td>\n",
       "      <td>5386</td>\n",
       "      <td>140</td>\n",
       "      <td>False</td>\n",
       "    </tr>\n",
       "    <tr>\n",
       "      <th>45</th>\n",
       "      <td>arch_local_irq_restore</td>\n",
       "      <td>arch/arm64/include/asm/irqflags.h</td>\n",
       "      <td>4824</td>\n",
       "      <td>254</td>\n",
       "      <td>False</td>\n",
       "    </tr>\n",
       "  </tbody>\n",
       "</table>\n",
       "</div>"
      ],
      "text/plain": [
       "                        name                           location  \\\n",
       "3                rcu_barrier                        rcu_barrier   \n",
       "19                kstrtobool                         kstrtobool   \n",
       "25          do_raw_spin_lock           include/linux/spinlock.h   \n",
       "30     __cmpxchg_case_acq_32   arch/arm64/include/asm/cmpxchg.h   \n",
       "31   system_uses_lse_atomics       arch/arm64/include/asm/lse.h   \n",
       "36       arch_local_irq_save  arch/arm64/include/asm/irqflags.h   \n",
       "37     arch_local_save_flags  arch/arm64/include/asm/irqflags.h   \n",
       "38  arch_irqs_disabled_flags  arch/arm64/include/asm/irqflags.h   \n",
       "39    arch_local_irq_disable  arch/arm64/include/asm/irqflags.h   \n",
       "45    arch_local_irq_restore  arch/arm64/include/asm/irqflags.h   \n",
       "\n",
       "    caller_inline  caller_func  external  \n",
       "3               1           35      True  \n",
       "19              1           47      True  \n",
       "25           3342          204     False  \n",
       "30           5542           10     False  \n",
       "31          12096           91     False  \n",
       "36           4643          110     False  \n",
       "37           4779           26     False  \n",
       "38           4771           14     False  \n",
       "39           5386          140     False  \n",
       "45           4824          254     False  "
      ]
     },
     "execution_count": 8,
     "metadata": {},
     "output_type": "execute_result"
    }
   ],
   "source": [
    "partial_inlined_df = df[(df.caller_inline > 0) & (df.caller_func > 0)]\n",
    "\n",
    "\n",
    "print(len(partial_inlined_df))\n",
    "\n",
    "\n",
    "partial_inlined_df[:10]"
   ]
  }
 ],
 "metadata": {
  "kernelspec": {
   "display_name": "Python 3",
   "language": "python",
   "name": "python3"
  },
  "language_info": {
   "codemirror_mode": {
    "name": "ipython",
    "version": 3
   },
   "file_extension": ".py",
   "mimetype": "text/x-python",
   "name": "python",
   "nbconvert_exporter": "python",
   "pygments_lexer": "ipython3",
   "version": "3.11.4"
  }
 },
 "nbformat": 4,
 "nbformat_minor": 2
}
