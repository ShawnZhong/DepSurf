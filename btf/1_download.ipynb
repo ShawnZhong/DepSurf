{
 "cells": [
  {
   "cell_type": "markdown",
   "metadata": {},
   "source": [
    "# Getting BTF Files for Ubuntu 20.04"
   ]
  },
  {
   "cell_type": "code",
   "execution_count": 1,
   "metadata": {},
   "outputs": [
    {
     "name": "stdout",
     "output_type": "stream",
     "text": [
      "Reading package lists... Done\n",
      "Building dependency tree... Done\n",
      "Reading state information... Done\n",
      "zstd is already the newest version (1.5.4+dfsg2-4).\n",
      "linux-tools-generic is already the newest version (6.2.0.39.39).\n",
      "0 upgraded, 0 newly installed, 0 to remove and 2 not upgraded.\n"
     ]
    }
   ],
   "source": [
    "!sudo apt install zstd linux-tools-generic -y"
   ]
  },
  {
   "cell_type": "code",
   "execution_count": 30,
   "metadata": {},
   "outputs": [],
   "source": [
    "%reload_ext autoreload\n",
    "%autoreload 2\n",
    "\n",
    "from utils import system"
   ]
  },
  {
   "cell_type": "code",
   "execution_count": 3,
   "metadata": {},
   "outputs": [],
   "source": [
    "from pathlib import Path\n",
    "\n",
    "data_path = Path(\"data/20.04-x86\")\n",
    "url_prefix = \"http://security.ubuntu.com/ubuntu\"\n",
    "package_url = f\"{url_prefix}/dists/focal-security/main/binary-amd64/Packages.gz\"\n",
    "\n",
    "# data_path = Path(\"data/20.04-arm64\")\n",
    "# url_prefix = \"http://ports.ubuntu.com/ubuntu-ports\"\n",
    "# package_url = f\"{url_prefix}/dists/focal-security/main/binary-arm64/Packages.gz\"\n",
    "\n",
    "tmp_path = data_path / \"tmp\"\n",
    "tmp_path.mkdir(parents=True, exist_ok=True)"
   ]
  },
  {
   "cell_type": "code",
   "execution_count": 4,
   "metadata": {},
   "outputs": [
    {
     "name": "stdout",
     "output_type": "stream",
     "text": [
      "Using data/20.04-x86/tmp/Packages.gz\n",
      "Using data/20.04-x86/tmp/Packages\n"
     ]
    },
    {
     "data": {
      "text/plain": [
       "PosixPath('data/20.04-x86/tmp/Packages')"
      ]
     },
     "execution_count": 4,
     "metadata": {},
     "output_type": "execute_result"
    }
   ],
   "source": [
    "import urllib.request\n",
    "import gzip\n",
    "\n",
    "\n",
    "def download_package_index():\n",
    "    gz_path = tmp_path / \"Packages.gz\"\n",
    "\n",
    "    if not gz_path.exists():\n",
    "        print(f\"Downloading {package_url} to {gz_path}\")\n",
    "        urllib.request.urlretrieve(package_url, gz_path)\n",
    "    else:\n",
    "        print(f\"Using {gz_path}\")\n",
    "\n",
    "    package_path = gz_path.with_suffix(\"\")\n",
    "    if not package_path.with_suffix(\"\").exists():\n",
    "        print(f\"Unzipping {gz_path} to {package_path}\")\n",
    "        with gzip.open(gz_path, \"rb\") as f_in:\n",
    "            with open(package_path, \"wb\") as f_out:\n",
    "                f_out.write(f_in.read())\n",
    "    else:\n",
    "        print(f\"Using {package_path}\")\n",
    "\n",
    "    return package_path\n",
    "\n",
    "\n",
    "package_path = download_package_index()\n",
    "package_path"
   ]
  },
  {
   "cell_type": "code",
   "execution_count": 9,
   "metadata": {},
   "outputs": [
    {
     "data": {
      "text/plain": [
       "[('accountsservice',\n",
       "  'pool/main/a/accountsservice/accountsservice_0.6.55-0ubuntu12~20.04.6_amd64.deb'),\n",
       " ('adcli', 'pool/main/a/adcli/adcli_0.9.0-1ubuntu0.20.04.1_amd64.deb'),\n",
       " ('adsys', 'pool/main/a/adsys/adsys_0.9.2~20.04.1_amd64.deb'),\n",
       " ('adsys-windows', 'pool/main/a/adsys/adsys-windows_0.9.2~20.04.1_amd64.deb'),\n",
       " ('advancecomp',\n",
       "  'pool/main/a/advancecomp/advancecomp_2.1-2.1ubuntu0.20.04.1_amd64.deb'),\n",
       " ('aide', 'pool/main/a/aide/aide_0.16.1-1ubuntu0.1_amd64.deb'),\n",
       " ('aide-common', 'pool/main/a/aide/aide-common_0.16.1-1ubuntu0.1_all.deb'),\n",
       " ('amd64-microcode',\n",
       "  'pool/main/a/amd64-microcode/amd64-microcode_3.20191218.1ubuntu1.2_amd64.deb'),\n",
       " ('apache2', 'pool/main/a/apache2/apache2_2.4.41-4ubuntu3.15_amd64.deb'),\n",
       " ('apache2-bin',\n",
       "  'pool/main/a/apache2/apache2-bin_2.4.41-4ubuntu3.15_amd64.deb')]"
      ]
     },
     "execution_count": 9,
     "metadata": {},
     "output_type": "execute_result"
    }
   ],
   "source": [
    "def parse_package_index(package_path):\n",
    "    result = {}\n",
    "    with open(package_path) as f:\n",
    "        for line in f:\n",
    "            line = line.strip()\n",
    "            if not line:\n",
    "                continue\n",
    "\n",
    "            key, val = line.split(\": \", 1)\n",
    "            if key == \"Package\":\n",
    "                package = val\n",
    "            elif key == \"Filename\":\n",
    "                result[package] = val\n",
    "    return result\n",
    "\n",
    "\n",
    "package_index = parse_package_index(package_path)\n",
    "\n",
    "list(package_index.items())[:10]"
   ]
  },
  {
   "cell_type": "code",
   "execution_count": 42,
   "metadata": {},
   "outputs": [
    {
     "data": {
      "text/plain": [
       "[('linux-image-5.11.0-46-generic',\n",
       "  'pool/main/l/linux-signed-hwe-5.11/linux-image-5.11.0-46-generic_5.11.0-46.51~20.04.1_amd64.deb'),\n",
       " ('linux-image-5.13.0-52-generic',\n",
       "  'pool/main/l/linux-signed-hwe-5.13/linux-image-5.13.0-52-generic_5.13.0-52.59~20.04.1_amd64.deb'),\n",
       " ('linux-image-5.15.0-92-generic',\n",
       "  'pool/main/l/linux-signed-hwe-5.15/linux-image-5.15.0-92-generic_5.15.0-92.102~20.04.1_amd64.deb'),\n",
       " ('linux-image-5.4.0-170-generic',\n",
       "  'pool/main/l/linux-signed/linux-image-5.4.0-170-generic_5.4.0-170.188_amd64.deb'),\n",
       " ('linux-image-5.8.0-63-generic',\n",
       "  'pool/main/l/linux-signed-hwe-5.8/linux-image-5.8.0-63-generic_5.8.0-63.71~20.04.1_amd64.deb')]"
      ]
     },
     "execution_count": 42,
     "metadata": {},
     "output_type": "execute_result"
    }
   ],
   "source": [
    "import re\n",
    "from collections import defaultdict\n",
    "\n",
    "\n",
    "def filter_linux_images(package_index):\n",
    "    result = defaultdict(dict)\n",
    "    for package, path in package_index.items():\n",
    "        groups = re.match(r\"^linux-image-(\\d+\\.\\d+\\.\\d+)-(\\d+)-generic$\", package)\n",
    "        if groups is None:\n",
    "            continue\n",
    "\n",
    "        version, build = groups.groups()\n",
    "        result[version][int(build)] = package, path\n",
    "\n",
    "    return [v[max(v.keys())] for v in result.values()]\n",
    "\n",
    "\n",
    "linux_versions = filter_linux_images(package_index)\n",
    "\n",
    "linux_versions"
   ]
  },
  {
   "cell_type": "code",
   "execution_count": 43,
   "metadata": {},
   "outputs": [
    {
     "name": "stdout",
     "output_type": "stream",
     "text": [
      "Using data/20.04-x86/tmp/linux-image-5.11.0-46-generic_5.11.0-46.51~20.04.1_amd64.deb\n",
      "Using data/20.04-x86/tmp/linux-image-5.13.0-52-generic_5.13.0-52.59~20.04.1_amd64.deb\n",
      "Using data/20.04-x86/tmp/linux-image-5.15.0-92-generic_5.15.0-92.102~20.04.1_amd64.deb\n",
      "Using data/20.04-x86/tmp/linux-image-5.4.0-170-generic_5.4.0-170.188_amd64.deb\n",
      "Using data/20.04-x86/tmp/linux-image-5.8.0-63-generic_5.8.0-63.71~20.04.1_amd64.deb\n"
     ]
    },
    {
     "data": {
      "text/plain": [
       "{'5.11.0-46-generic': PosixPath('data/20.04-x86/tmp/linux-image-5.11.0-46-generic_5.11.0-46.51~20.04.1_amd64.deb'),\n",
       " '5.13.0-52-generic': PosixPath('data/20.04-x86/tmp/linux-image-5.13.0-52-generic_5.13.0-52.59~20.04.1_amd64.deb'),\n",
       " '5.15.0-92-generic': PosixPath('data/20.04-x86/tmp/linux-image-5.15.0-92-generic_5.15.0-92.102~20.04.1_amd64.deb'),\n",
       " '5.4.0-170-generic': PosixPath('data/20.04-x86/tmp/linux-image-5.4.0-170-generic_5.4.0-170.188_amd64.deb'),\n",
       " '5.8.0-63-generic': PosixPath('data/20.04-x86/tmp/linux-image-5.8.0-63-generic_5.8.0-63.71~20.04.1_amd64.deb')}"
      ]
     },
     "execution_count": 43,
     "metadata": {},
     "output_type": "execute_result"
    }
   ],
   "source": [
    "def download_deb_files(linux_versions):\n",
    "    results = {}\n",
    "    for package, path in linux_versions:\n",
    "        url = f\"{url_prefix}/{path}\"\n",
    "        file_path = tmp_path / path.split(\"/\")[-1]\n",
    "        if not file_path.exists():\n",
    "            print(f\"Downloading {url} to {file_path}\")\n",
    "            urllib.request.urlretrieve(url, file_path)\n",
    "        else:\n",
    "            print(f\"Using {file_path}\")\n",
    "\n",
    "        key = package.removeprefix(\"linux-image-\")\n",
    "        results[key] = file_path\n",
    "\n",
    "    return results\n",
    "\n",
    "\n",
    "deb_paths = download_deb_files(linux_versions)\n",
    "\n",
    "deb_paths"
   ]
  },
  {
   "cell_type": "code",
   "execution_count": 49,
   "metadata": {},
   "outputs": [
    {
     "name": "stdout",
     "output_type": "stream",
     "text": [
      "Using data/20.04-x86/tmp/vmlinuz-5.11.0-46-generic\n",
      "Using data/20.04-x86/tmp/vmlinuz-5.13.0-52-generic\n",
      "Using data/20.04-x86/tmp/vmlinuz-5.15.0-92-generic\n",
      "Using data/20.04-x86/tmp/vmlinuz-5.4.0-170-generic\n",
      "Using data/20.04-x86/tmp/vmlinuz-5.8.0-63-generic\n"
     ]
    },
    {
     "data": {
      "text/plain": [
       "{'5.11.0-46-generic': PosixPath('data/20.04-x86/tmp/vmlinuz-5.11.0-46-generic'),\n",
       " '5.13.0-52-generic': PosixPath('data/20.04-x86/tmp/vmlinuz-5.13.0-52-generic'),\n",
       " '5.15.0-92-generic': PosixPath('data/20.04-x86/tmp/vmlinuz-5.15.0-92-generic'),\n",
       " '5.4.0-170-generic': PosixPath('data/20.04-x86/tmp/vmlinuz-5.4.0-170-generic'),\n",
       " '5.8.0-63-generic': PosixPath('data/20.04-x86/tmp/vmlinuz-5.8.0-63-generic')}"
      ]
     },
     "execution_count": 49,
     "metadata": {},
     "output_type": "execute_result"
    }
   ],
   "source": [
    "def extract_vmlinuz_files(deb_paths):\n",
    "    results = {}\n",
    "    for name, deb_path in deb_paths.items():\n",
    "        vmlinuz_path = tmp_path / f\"vmlinuz-{name}\"\n",
    "        if not vmlinuz_path.exists():\n",
    "            print(f\"Extracting {deb_path} to {vmlinuz_path}\")\n",
    "            # system(f\"dpkg -x {deb_path} {tmp_path}\")\n",
    "            system(f\"dpkg --fsys-tarfile {deb_path} | tar -xO ./boot/vmlinuz-{name} > {vmlinuz_path}\")\n",
    "        else:\n",
    "            print(f\"Using {vmlinuz_path}\")\n",
    "        results[name] = vmlinuz_path\n",
    "    return results\n",
    "\n",
    "\n",
    "vmlinuz_paths = extract_vmlinuz_files(deb_paths)\n",
    "\n",
    "vmlinuz_paths"
   ]
  },
  {
   "cell_type": "code",
   "execution_count": 57,
   "metadata": {},
   "outputs": [
    {
     "name": "stdout",
     "output_type": "stream",
     "text": [
      "Using data/20.04-x86/tmp/vmlinux-5.11.0-46-generic\n",
      "Using data/20.04-x86/tmp/vmlinux-5.13.0-52-generic\n",
      "Using data/20.04-x86/tmp/vmlinux-5.15.0-92-generic\n",
      "Using data/20.04-x86/tmp/vmlinux-5.4.0-170-generic\n",
      "Using data/20.04-x86/tmp/vmlinux-5.8.0-63-generic\n"
     ]
    },
    {
     "data": {
      "text/plain": [
       "{'5.11.0-46-generic': PosixPath('data/20.04-x86/tmp/vmlinux-5.11.0-46-generic'),\n",
       " '5.13.0-52-generic': PosixPath('data/20.04-x86/tmp/vmlinux-5.13.0-52-generic'),\n",
       " '5.15.0-92-generic': PosixPath('data/20.04-x86/tmp/vmlinux-5.15.0-92-generic'),\n",
       " '5.4.0-170-generic': PosixPath('data/20.04-x86/tmp/vmlinux-5.4.0-170-generic'),\n",
       " '5.8.0-63-generic': PosixPath('data/20.04-x86/tmp/vmlinux-5.8.0-63-generic')}"
      ]
     },
     "execution_count": 57,
     "metadata": {},
     "output_type": "execute_result"
    }
   ],
   "source": [
    "extract_vmlinux = Path(\"data\") / \"extract-vmlinux\"\n",
    "\n",
    "assert extract_vmlinux.exists(), f\"{extract_vmlinux} does not exist\"\n",
    "\n",
    "def extract_vmlinux_files(vmlinuz_paths):\n",
    "    results = {}\n",
    "    for name, vmlinuz_path in vmlinuz_paths.items():\n",
    "        vmlinux_path = tmp_path / f\"vmlinux-{name}\"\n",
    "        if not vmlinux_path.exists() or vmlinux_path.stat().st_size == 0:\n",
    "            print(f\"Extracting {vmlinuz_path} to {vmlinux_path}\")\n",
    "            # TODO: check how the file is compressed\n",
    "            if \"arm64\" in str(vmlinuz_path):\n",
    "                system(f\"zcat {vmlinuz_path} > {vmlinux_path}\")\n",
    "            else:\n",
    "                system(f\"{extract_vmlinux} {vmlinuz_path} > {vmlinux_path}\")\n",
    "        else:\n",
    "            print(f\"Using {vmlinux_path}\")\n",
    "        results[name] = vmlinux_path\n",
    "    return results\n",
    "\n",
    "\n",
    "vmlinux_paths = extract_vmlinux_files(vmlinuz_paths)\n",
    "\n",
    "vmlinux_paths"
   ]
  },
  {
   "cell_type": "code",
   "execution_count": 35,
   "metadata": {},
   "outputs": [
    {
     "data": {
      "text/plain": [
       "(5, 4, 0)"
      ]
     },
     "execution_count": 35,
     "metadata": {},
     "output_type": "execute_result"
    }
   ],
   "source": [
    "def parse_version_triple(name):\n",
    "    return tuple(map(int, name.split(\"-\")[0].split(\".\")))\n",
    "\n",
    "parse_version_triple(\"5.4.0-170-generic\")"
   ]
  },
  {
   "cell_type": "code",
   "execution_count": 58,
   "metadata": {},
   "outputs": [
    {
     "name": "stdout",
     "output_type": "stream",
     "text": [
      "Using data/20.04-x86/5.11.0-46-generic.btf\n",
      "Using data/20.04-x86/5.13.0-52-generic.btf\n",
      "Using data/20.04-x86/5.15.0-92-generic.btf\n",
      "Using data/20.04-x86/5.4.0-170-generic.btf\n",
      "Using data/20.04-x86/5.8.0-63-generic.btf\n"
     ]
    },
    {
     "data": {
      "text/plain": [
       "{'vmlinux-5.11.0-46-generic': PosixPath('data/20.04-x86/5.11.0-46-generic.btf'),\n",
       " 'vmlinux-5.13.0-52-generic': PosixPath('data/20.04-x86/5.13.0-52-generic.btf'),\n",
       " 'vmlinux-5.15.0-92-generic': PosixPath('data/20.04-x86/5.15.0-92-generic.btf'),\n",
       " 'vmlinux-5.4.0-170-generic': PosixPath('data/20.04-x86/5.4.0-170-generic.btf'),\n",
       " 'vmlinux-5.8.0-63-generic': PosixPath('data/20.04-x86/5.8.0-63-generic.btf')}"
      ]
     },
     "execution_count": 58,
     "metadata": {},
     "output_type": "execute_result"
    }
   ],
   "source": [
    "def extract_btf_files(vmlinux_paths):\n",
    "    results = {}\n",
    "    for name, vmlinux_path in vmlinux_paths.items():\n",
    "        # if parse_version_triple(name) <= (5, 8, 0):\n",
    "            # print(f\"Skipping {name} because it doesn't have BTF support\")\n",
    "            # continue\n",
    "        btf_path = data_path / f\"{name}.btf\"\n",
    "        if not btf_path.exists():\n",
    "            print(f\"Extracting {vmlinux_path} to {btf_path}\")\n",
    "            system(\n",
    "                f\"objcopy -I elf64-little {vmlinux_path} --dump-section .BTF={btf_path}\"\n",
    "            )\n",
    "            # we use objcopy instead of pahole because pahole sometimes fails with\n",
    "            # \"btf_encoder__new: cannot get ELF header\", and pahole seems does more\n",
    "            # processing than we need\n",
    "            # system(f\"pahole --btf_encode_detached {btf_path} {vmlinux_path}\")\n",
    "        else:\n",
    "            print(f\"Using {btf_path}\")\n",
    "        results[vmlinux_path.name] = btf_path\n",
    "\n",
    "    return results\n",
    "\n",
    "\n",
    "btf_paths = extract_btf_files(vmlinux_paths)\n",
    "\n",
    "btf_paths"
   ]
  }
 ],
 "metadata": {
  "kernelspec": {
   "display_name": "Python 3",
   "language": "python",
   "name": "python3"
  },
  "language_info": {
   "codemirror_mode": {
    "name": "ipython",
    "version": 3
   },
   "file_extension": ".py",
   "mimetype": "text/x-python",
   "name": "python",
   "nbconvert_exporter": "python",
   "pygments_lexer": "ipython3",
   "version": "3.11.4"
  }
 },
 "nbformat": 4,
 "nbformat_minor": 2
}
