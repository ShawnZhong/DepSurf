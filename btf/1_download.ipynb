{
 "cells": [
  {
   "cell_type": "code",
   "execution_count": 1,
   "metadata": {},
   "outputs": [],
   "source": [
    "%reload_ext autoreload\n",
    "%autoreload 2"
   ]
  },
  {
   "cell_type": "code",
   "execution_count": 7,
   "metadata": {},
   "outputs": [],
   "source": [
    "from pathlib import Path\n",
    "\n",
    "# data_path = Path(\"data/20.04-x86\")\n",
    "# url_prefix = \"http://security.ubuntu.com/ubuntu\"\n",
    "# package_url = f\"{url_prefix}/dists/focal-security/main/binary-amd64/Packages.gz\"\n",
    "\n",
    "data_path = Path(\"data/22.04-x86\")\n",
    "url_prefix = \"http://security.ubuntu.com/ubuntu\"\n",
    "package_url = f\"{url_prefix}/dists/jammy-security/main/binary-amd64/Packages.gz\"\n",
    "\n",
    "# data_path = Path(\"data/20.04-arm64\")\n",
    "# url_prefix = \"http://ports.ubuntu.com/ubuntu-ports\"\n",
    "# package_url = f\"{url_prefix}/dists/focal-security/main/binary-arm64/Packages.gz\""
   ]
  },
  {
   "cell_type": "code",
   "execution_count": 16,
   "metadata": {},
   "outputs": [
    {
     "name": "stdout",
     "output_type": "stream",
     "text": [
      "Downloading http://security.ubuntu.com/ubuntu/dists/jammy-security/main/binary-amd64/Packages.gz to data/22.04-x86/index/Packages.gz\n",
      "Unzipping data/22.04-x86/index/Packages.gz to data/22.04-x86/index/Packages\n"
     ]
    },
    {
     "data": {
      "text/plain": [
       "PosixPath('data/22.04-x86/index/Packages')"
      ]
     },
     "execution_count": 16,
     "metadata": {},
     "output_type": "execute_result"
    }
   ],
   "source": [
    "from utils import download_package_index\n",
    "\n",
    "package_path = download_package_index(package_url, result_path=data_path / \"index\")\n",
    "package_path"
   ]
  },
  {
   "cell_type": "code",
   "execution_count": 11,
   "metadata": {},
   "outputs": [
    {
     "data": {
      "text/plain": [
       "[('accountsservice',\n",
       "  'pool/main/a/accountsservice/accountsservice_22.07.5-2ubuntu1.4_amd64.deb'),\n",
       " ('adsys', 'pool/main/a/adsys/adsys_0.9.2~22.04.1_amd64.deb'),\n",
       " ('adsys-windows', 'pool/main/a/adsys/adsys-windows_0.9.2~22.04.1_amd64.deb'),\n",
       " ('advancecomp',\n",
       "  'pool/main/a/advancecomp/advancecomp_2.1-2.1ubuntu2.1_amd64.deb'),\n",
       " ('amd64-microcode',\n",
       "  'pool/main/a/amd64-microcode/amd64-microcode_3.20191218.1ubuntu2.2_amd64.deb'),\n",
       " ('apache2', 'pool/main/a/apache2/apache2_2.4.52-1ubuntu4.7_amd64.deb'),\n",
       " ('apache2-bin',\n",
       "  'pool/main/a/apache2/apache2-bin_2.4.52-1ubuntu4.7_amd64.deb'),\n",
       " ('apache2-data',\n",
       "  'pool/main/a/apache2/apache2-data_2.4.52-1ubuntu4.7_all.deb'),\n",
       " ('apache2-dev',\n",
       "  'pool/main/a/apache2/apache2-dev_2.4.52-1ubuntu4.7_amd64.deb'),\n",
       " ('apache2-doc', 'pool/main/a/apache2/apache2-doc_2.4.52-1ubuntu4.7_all.deb')]"
      ]
     },
     "execution_count": 11,
     "metadata": {},
     "output_type": "execute_result"
    }
   ],
   "source": [
    "from utils import parse_package_index\n",
    "\n",
    "package_index = parse_package_index(package_path)\n",
    "list(package_index.items())[:10]"
   ]
  },
  {
   "cell_type": "code",
   "execution_count": 12,
   "metadata": {},
   "outputs": [
    {
     "data": {
      "text/plain": [
       "[('5.15.0-97-generic',\n",
       "  'pool/main/l/linux-signed/linux-image-5.15.0-97-generic_5.15.0-97.107_amd64.deb'),\n",
       " ('5.19.0-50-generic',\n",
       "  'pool/main/l/linux-signed-hwe-5.19/linux-image-5.19.0-50-generic_5.19.0-50.50_amd64.deb'),\n",
       " ('6.2.0-39-generic',\n",
       "  'pool/main/l/linux-signed-hwe-6.2/linux-image-6.2.0-39-generic_6.2.0-39.40~22.04.1_amd64.deb'),\n",
       " ('6.5.0-21-generic',\n",
       "  'pool/main/l/linux-signed-hwe-6.5/linux-image-6.5.0-21-generic_6.5.0-21.21~22.04.1_amd64.deb')]"
      ]
     },
     "execution_count": 12,
     "metadata": {},
     "output_type": "execute_result"
    }
   ],
   "source": [
    "from utils import filter_linux_images\n",
    "\n",
    "linux_paths = filter_linux_images(package_index)\n",
    "linux_paths"
   ]
  },
  {
   "cell_type": "code",
   "execution_count": 14,
   "metadata": {},
   "outputs": [
    {
     "name": "stdout",
     "output_type": "stream",
     "text": [
      "Downloading http://security.ubuntu.com/ubuntu/pool/main/l/linux-signed/linux-image-5.15.0-97-generic_5.15.0-97.107_amd64.deb to data/22.04-x86/debs/linux-image-5.15.0-97-generic_5.15.0-97.107_amd64.deb\n",
      "Downloading http://security.ubuntu.com/ubuntu/pool/main/l/linux-signed-hwe-5.19/linux-image-5.19.0-50-generic_5.19.0-50.50_amd64.deb to data/22.04-x86/debs/linux-image-5.19.0-50-generic_5.19.0-50.50_amd64.deb\n",
      "Downloading http://security.ubuntu.com/ubuntu/pool/main/l/linux-signed-hwe-6.2/linux-image-6.2.0-39-generic_6.2.0-39.40~22.04.1_amd64.deb to data/22.04-x86/debs/linux-image-6.2.0-39-generic_6.2.0-39.40~22.04.1_amd64.deb\n",
      "Downloading http://security.ubuntu.com/ubuntu/pool/main/l/linux-signed-hwe-6.5/linux-image-6.5.0-21-generic_6.5.0-21.21~22.04.1_amd64.deb to data/22.04-x86/debs/linux-image-6.5.0-21-generic_6.5.0-21.21~22.04.1_amd64.deb\n"
     ]
    },
    {
     "data": {
      "text/plain": [
       "{'5.15.0-97-generic': PosixPath('data/22.04-x86/debs/linux-image-5.15.0-97-generic_5.15.0-97.107_amd64.deb'),\n",
       " '5.19.0-50-generic': PosixPath('data/22.04-x86/debs/linux-image-5.19.0-50-generic_5.19.0-50.50_amd64.deb'),\n",
       " '6.2.0-39-generic': PosixPath('data/22.04-x86/debs/linux-image-6.2.0-39-generic_6.2.0-39.40~22.04.1_amd64.deb'),\n",
       " '6.5.0-21-generic': PosixPath('data/22.04-x86/debs/linux-image-6.5.0-21-generic_6.5.0-21.21~22.04.1_amd64.deb')}"
      ]
     },
     "execution_count": 14,
     "metadata": {},
     "output_type": "execute_result"
    }
   ],
   "source": [
    "from utils import download_deb_files\n",
    "\n",
    "deb_paths = download_deb_files(linux_paths, url_prefix=url_prefix, result_path=data_path / \"debs\")\n",
    "deb_paths"
   ]
  },
  {
   "cell_type": "code",
   "execution_count": 18,
   "metadata": {},
   "outputs": [
    {
     "name": "stdout",
     "output_type": "stream",
     "text": [
      "Using data/22.04-x86/vmlinuz/vmlinuz-5.15.0-97-generic\n",
      "Using data/22.04-x86/vmlinuz/vmlinuz-5.19.0-50-generic\n",
      "Using data/22.04-x86/vmlinuz/vmlinuz-6.2.0-39-generic\n",
      "Using data/22.04-x86/vmlinuz/vmlinuz-6.5.0-21-generic\n"
     ]
    },
    {
     "data": {
      "text/plain": [
       "{'5.15.0-97-generic': PosixPath('data/22.04-x86/vmlinuz/vmlinuz-5.15.0-97-generic'),\n",
       " '5.19.0-50-generic': PosixPath('data/22.04-x86/vmlinuz/vmlinuz-5.19.0-50-generic'),\n",
       " '6.2.0-39-generic': PosixPath('data/22.04-x86/vmlinuz/vmlinuz-6.2.0-39-generic'),\n",
       " '6.5.0-21-generic': PosixPath('data/22.04-x86/vmlinuz/vmlinuz-6.5.0-21-generic')}"
      ]
     },
     "execution_count": 18,
     "metadata": {},
     "output_type": "execute_result"
    }
   ],
   "source": [
    "from utils import extract_vmlinuz_files\n",
    "\n",
    "vmlinuz_paths = extract_vmlinuz_files(deb_paths, result_path=data_path / \"vmlinuz\")\n",
    "\n",
    "vmlinuz_paths"
   ]
  },
  {
   "cell_type": "code",
   "execution_count": 20,
   "metadata": {},
   "outputs": [
    {
     "name": "stdout",
     "output_type": "stream",
     "text": [
      "Extracting data/22.04-x86/vmlinuz/vmlinuz-5.15.0-97-generic to data/22.04-x86/vmlinux/vmlinux-5.15.0-97-generic\n",
      "Extracting data/22.04-x86/vmlinuz/vmlinuz-5.19.0-50-generic to data/22.04-x86/vmlinux/vmlinux-5.19.0-50-generic\n",
      "Extracting data/22.04-x86/vmlinuz/vmlinuz-6.2.0-39-generic to data/22.04-x86/vmlinux/vmlinux-6.2.0-39-generic\n",
      "Extracting data/22.04-x86/vmlinuz/vmlinuz-6.5.0-21-generic to data/22.04-x86/vmlinux/vmlinux-6.5.0-21-generic\n"
     ]
    },
    {
     "data": {
      "text/plain": [
       "{'5.15.0-97-generic': PosixPath('data/22.04-x86/vmlinux/vmlinux-5.15.0-97-generic'),\n",
       " '5.19.0-50-generic': PosixPath('data/22.04-x86/vmlinux/vmlinux-5.19.0-50-generic'),\n",
       " '6.2.0-39-generic': PosixPath('data/22.04-x86/vmlinux/vmlinux-6.2.0-39-generic'),\n",
       " '6.5.0-21-generic': PosixPath('data/22.04-x86/vmlinux/vmlinux-6.5.0-21-generic')}"
      ]
     },
     "execution_count": 20,
     "metadata": {},
     "output_type": "execute_result"
    }
   ],
   "source": [
    "from utils import extract_vmlinux_files\n",
    "\n",
    "vmlinux_paths = extract_vmlinux_files(vmlinuz_paths, result_path=data_path / \"vmlinux\")\n",
    "\n",
    "vmlinux_paths"
   ]
  },
  {
   "cell_type": "code",
   "execution_count": 21,
   "metadata": {},
   "outputs": [
    {
     "name": "stdout",
     "output_type": "stream",
     "text": [
      "Extracting BTF from data/22.04-x86/vmlinux/vmlinux-5.15.0-97-generic to data/22.04-x86/5.15.0-97-generic.btf\n",
      "Extracting BTF from data/22.04-x86/vmlinux/vmlinux-5.19.0-50-generic to data/22.04-x86/5.19.0-50-generic.btf\n",
      "Extracting BTF from data/22.04-x86/vmlinux/vmlinux-6.2.0-39-generic to data/22.04-x86/6.2.0-39-generic.btf\n",
      "Extracting BTF from data/22.04-x86/vmlinux/vmlinux-6.5.0-21-generic to data/22.04-x86/6.5.0-21-generic.btf\n"
     ]
    },
    {
     "data": {
      "text/plain": [
       "{'5.15.0-97-generic': PosixPath('data/22.04-x86/5.15.0-97-generic.btf'),\n",
       " '5.19.0-50-generic': PosixPath('data/22.04-x86/5.19.0-50-generic.btf'),\n",
       " '6.2.0-39-generic': PosixPath('data/22.04-x86/6.2.0-39-generic.btf'),\n",
       " '6.5.0-21-generic': PosixPath('data/22.04-x86/6.5.0-21-generic.btf')}"
      ]
     },
     "execution_count": 21,
     "metadata": {},
     "output_type": "execute_result"
    }
   ],
   "source": [
    "from utils import extract_btf_files\n",
    "\n",
    "btf_paths = extract_btf_files(vmlinux_paths, result_path=data_path)\n",
    "\n",
    "btf_paths"
   ]
  }
 ],
 "metadata": {
  "kernelspec": {
   "display_name": "Python 3",
   "language": "python",
   "name": "python3"
  },
  "language_info": {
   "codemirror_mode": {
    "name": "ipython",
    "version": 3
   },
   "file_extension": ".py",
   "mimetype": "text/x-python",
   "name": "python",
   "nbconvert_exporter": "python",
   "pygments_lexer": "ipython3",
   "version": "3.11.4"
  }
 },
 "nbformat": 4,
 "nbformat_minor": 2
}
