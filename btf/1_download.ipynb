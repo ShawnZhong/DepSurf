{
 "cells": [
  {
   "cell_type": "code",
   "execution_count": 1,
   "metadata": {},
   "outputs": [],
   "source": [
    "%reload_ext autoreload\n",
    "%autoreload 2"
   ]
  },
  {
   "cell_type": "code",
   "execution_count": 2,
   "metadata": {},
   "outputs": [],
   "source": [
    "from depsurf import DATA_PATH\n",
    "\n",
    "# data_path = DATA_PATH / \"data/20.04-x86\"\n",
    "# url_prefix = \"http://security.ubuntu.com/ubuntu\"\n",
    "# package_url = f\"{url_prefix}/dists/focal-security/main/binary-amd64/Packages.gz\"\n",
    "\n",
    "data_path = DATA_PATH / \"22.04-x86\"\n",
    "url_prefix = \"http://security.ubuntu.com/ubuntu\"\n",
    "package_url = f\"{url_prefix}/dists/jammy-security/main/binary-amd64/Packages.gz\"\n",
    "\n",
    "# data_path = DATA_PATH / 20.04-arm64\"\n",
    "# url_prefix = \"http://ports.ubuntu.com/ubuntu-ports\"\n",
    "# package_url = f\"{url_prefix}/dists/focal-security/main/binary-arm64/Packages.gz\""
   ]
  },
  {
   "cell_type": "code",
   "execution_count": 3,
   "metadata": {},
   "outputs": [
    {
     "name": "stderr",
     "output_type": "stream",
     "text": [
      "[download.py:15] INFO: Using /Users/szhong/Downloads/bpf-study/btf/data/22.04-x86/index/Packages.gz\n",
      "[download.py:24] INFO: Using /Users/szhong/Downloads/bpf-study/btf/data/22.04-x86/index/Packages\n"
     ]
    },
    {
     "data": {
      "text/plain": [
       "PosixPath('/Users/szhong/Downloads/bpf-study/btf/data/22.04-x86/index/Packages')"
      ]
     },
     "execution_count": 3,
     "metadata": {},
     "output_type": "execute_result"
    }
   ],
   "source": [
    "from depsurf import download_package_index\n",
    "\n",
    "package_path = download_package_index(package_url, result_path=data_path / \"index\")\n",
    "package_path"
   ]
  },
  {
   "cell_type": "code",
   "execution_count": 4,
   "metadata": {},
   "outputs": [
    {
     "data": {
      "text/plain": [
       "[('accountsservice',\n",
       "  'pool/main/a/accountsservice/accountsservice_22.07.5-2ubuntu1.4_amd64.deb'),\n",
       " ('adsys', 'pool/main/a/adsys/adsys_0.9.2~22.04.1_amd64.deb'),\n",
       " ('adsys-windows', 'pool/main/a/adsys/adsys-windows_0.9.2~22.04.1_amd64.deb'),\n",
       " ('advancecomp',\n",
       "  'pool/main/a/advancecomp/advancecomp_2.1-2.1ubuntu2.1_amd64.deb'),\n",
       " ('amd64-microcode',\n",
       "  'pool/main/a/amd64-microcode/amd64-microcode_3.20191218.1ubuntu2.2_amd64.deb'),\n",
       " ('apache2', 'pool/main/a/apache2/apache2_2.4.52-1ubuntu4.7_amd64.deb'),\n",
       " ('apache2-bin',\n",
       "  'pool/main/a/apache2/apache2-bin_2.4.52-1ubuntu4.7_amd64.deb'),\n",
       " ('apache2-data',\n",
       "  'pool/main/a/apache2/apache2-data_2.4.52-1ubuntu4.7_all.deb'),\n",
       " ('apache2-dev',\n",
       "  'pool/main/a/apache2/apache2-dev_2.4.52-1ubuntu4.7_amd64.deb'),\n",
       " ('apache2-doc', 'pool/main/a/apache2/apache2-doc_2.4.52-1ubuntu4.7_all.deb')]"
      ]
     },
     "execution_count": 4,
     "metadata": {},
     "output_type": "execute_result"
    }
   ],
   "source": [
    "from depsurf import parse_package_index\n",
    "\n",
    "package_index = parse_package_index(package_path)\n",
    "list(package_index.items())[:10]"
   ]
  },
  {
   "cell_type": "code",
   "execution_count": 5,
   "metadata": {},
   "outputs": [
    {
     "data": {
      "text/plain": [
       "[('5.15.0-97-generic',\n",
       "  'pool/main/l/linux-signed/linux-image-5.15.0-97-generic_5.15.0-97.107_amd64.deb'),\n",
       " ('5.19.0-50-generic',\n",
       "  'pool/main/l/linux-signed-hwe-5.19/linux-image-5.19.0-50-generic_5.19.0-50.50_amd64.deb'),\n",
       " ('6.2.0-39-generic',\n",
       "  'pool/main/l/linux-signed-hwe-6.2/linux-image-6.2.0-39-generic_6.2.0-39.40~22.04.1_amd64.deb'),\n",
       " ('6.5.0-21-generic',\n",
       "  'pool/main/l/linux-signed-hwe-6.5/linux-image-6.5.0-21-generic_6.5.0-21.21~22.04.1_amd64.deb')]"
      ]
     },
     "execution_count": 5,
     "metadata": {},
     "output_type": "execute_result"
    }
   ],
   "source": [
    "from depsurf import filter_linux_images\n",
    "\n",
    "linux_paths = filter_linux_images(package_index)\n",
    "linux_paths"
   ]
  },
  {
   "cell_type": "code",
   "execution_count": 6,
   "metadata": {},
   "outputs": [
    {
     "name": "stderr",
     "output_type": "stream",
     "text": [
      "[download.py:75] INFO: Using /Users/szhong/Downloads/bpf-study/btf/data/22.04-x86/debs/linux-image-5.15.0-97-generic_5.15.0-97.107_amd64.deb\n",
      "[download.py:75] INFO: Using /Users/szhong/Downloads/bpf-study/btf/data/22.04-x86/debs/linux-image-5.19.0-50-generic_5.19.0-50.50_amd64.deb\n",
      "[download.py:75] INFO: Using /Users/szhong/Downloads/bpf-study/btf/data/22.04-x86/debs/linux-image-6.2.0-39-generic_6.2.0-39.40~22.04.1_amd64.deb\n",
      "[download.py:75] INFO: Using /Users/szhong/Downloads/bpf-study/btf/data/22.04-x86/debs/linux-image-6.5.0-21-generic_6.5.0-21.21~22.04.1_amd64.deb\n"
     ]
    },
    {
     "data": {
      "text/plain": [
       "{'5.15.0-97-generic': PosixPath('/Users/szhong/Downloads/bpf-study/btf/data/22.04-x86/debs/linux-image-5.15.0-97-generic_5.15.0-97.107_amd64.deb'),\n",
       " '5.19.0-50-generic': PosixPath('/Users/szhong/Downloads/bpf-study/btf/data/22.04-x86/debs/linux-image-5.19.0-50-generic_5.19.0-50.50_amd64.deb'),\n",
       " '6.2.0-39-generic': PosixPath('/Users/szhong/Downloads/bpf-study/btf/data/22.04-x86/debs/linux-image-6.2.0-39-generic_6.2.0-39.40~22.04.1_amd64.deb'),\n",
       " '6.5.0-21-generic': PosixPath('/Users/szhong/Downloads/bpf-study/btf/data/22.04-x86/debs/linux-image-6.5.0-21-generic_6.5.0-21.21~22.04.1_amd64.deb')}"
      ]
     },
     "execution_count": 6,
     "metadata": {},
     "output_type": "execute_result"
    }
   ],
   "source": [
    "from depsurf import download_deb_files\n",
    "\n",
    "deb_paths = download_deb_files(linux_paths, url_prefix=url_prefix, result_path=data_path / \"debs\")\n",
    "deb_paths"
   ]
  },
  {
   "cell_type": "code",
   "execution_count": 7,
   "metadata": {},
   "outputs": [
    {
     "name": "stderr",
     "output_type": "stream",
     "text": [
      "[extract.py:19] INFO: Using /Users/szhong/Downloads/bpf-study/btf/data/22.04-x86/vmlinuz/5.15.0-97-generic.vmlinuz\n",
      "[extract.py:19] INFO: Using /Users/szhong/Downloads/bpf-study/btf/data/22.04-x86/vmlinuz/5.19.0-50-generic.vmlinuz\n",
      "[extract.py:19] INFO: Using /Users/szhong/Downloads/bpf-study/btf/data/22.04-x86/vmlinuz/6.2.0-39-generic.vmlinuz\n",
      "[extract.py:19] INFO: Using /Users/szhong/Downloads/bpf-study/btf/data/22.04-x86/vmlinuz/6.5.0-21-generic.vmlinuz\n"
     ]
    },
    {
     "data": {
      "text/plain": [
       "{'5.15.0-97-generic': PosixPath('/Users/szhong/Downloads/bpf-study/btf/data/22.04-x86/vmlinuz/5.15.0-97-generic.vmlinuz'),\n",
       " '5.19.0-50-generic': PosixPath('/Users/szhong/Downloads/bpf-study/btf/data/22.04-x86/vmlinuz/5.19.0-50-generic.vmlinuz'),\n",
       " '6.2.0-39-generic': PosixPath('/Users/szhong/Downloads/bpf-study/btf/data/22.04-x86/vmlinuz/6.2.0-39-generic.vmlinuz'),\n",
       " '6.5.0-21-generic': PosixPath('/Users/szhong/Downloads/bpf-study/btf/data/22.04-x86/vmlinuz/6.5.0-21-generic.vmlinuz')}"
      ]
     },
     "execution_count": 7,
     "metadata": {},
     "output_type": "execute_result"
    }
   ],
   "source": [
    "from depsurf import extract_vmlinuz_files\n",
    "\n",
    "vmlinuz_paths = extract_vmlinuz_files(deb_paths, result_path=data_path / \"vmlinuz\")\n",
    "\n",
    "vmlinuz_paths"
   ]
  },
  {
   "cell_type": "code",
   "execution_count": 8,
   "metadata": {},
   "outputs": [
    {
     "name": "stderr",
     "output_type": "stream",
     "text": [
      "[extract.py:42] INFO: Using /Users/szhong/Downloads/bpf-study/btf/data/22.04-x86/vmlinux/5.15.0-97-generic.vmlinux\n",
      "[extract.py:42] INFO: Using /Users/szhong/Downloads/bpf-study/btf/data/22.04-x86/vmlinux/5.19.0-50-generic.vmlinux\n",
      "[extract.py:42] INFO: Using /Users/szhong/Downloads/bpf-study/btf/data/22.04-x86/vmlinux/6.2.0-39-generic.vmlinux\n",
      "[extract.py:42] INFO: Using /Users/szhong/Downloads/bpf-study/btf/data/22.04-x86/vmlinux/6.5.0-21-generic.vmlinux\n"
     ]
    },
    {
     "data": {
      "text/plain": [
       "{'5.15.0-97-generic': PosixPath('/Users/szhong/Downloads/bpf-study/btf/data/22.04-x86/vmlinux/5.15.0-97-generic.vmlinux'),\n",
       " '5.19.0-50-generic': PosixPath('/Users/szhong/Downloads/bpf-study/btf/data/22.04-x86/vmlinux/5.19.0-50-generic.vmlinux'),\n",
       " '6.2.0-39-generic': PosixPath('/Users/szhong/Downloads/bpf-study/btf/data/22.04-x86/vmlinux/6.2.0-39-generic.vmlinux'),\n",
       " '6.5.0-21-generic': PosixPath('/Users/szhong/Downloads/bpf-study/btf/data/22.04-x86/vmlinux/6.5.0-21-generic.vmlinux')}"
      ]
     },
     "execution_count": 8,
     "metadata": {},
     "output_type": "execute_result"
    }
   ],
   "source": [
    "from depsurf import extract_vmlinux_files\n",
    "\n",
    "vmlinux_paths = extract_vmlinux_files(vmlinuz_paths, result_path=data_path / \"vmlinux\")\n",
    "\n",
    "vmlinux_paths"
   ]
  },
  {
   "cell_type": "code",
   "execution_count": 10,
   "metadata": {},
   "outputs": [
    {
     "name": "stderr",
     "output_type": "stream",
     "text": [
      "[extract.py:64] INFO: Extracting BTF from /Users/szhong/Downloads/bpf-study/btf/data/22.04-x86/vmlinux/5.15.0-97-generic.vmlinux to /Users/szhong/Downloads/bpf-study/btf/data/22.04-x86/btf/5.15.0-97-generic.btf\n",
      "[extract.py:64] INFO: Extracting BTF from /Users/szhong/Downloads/bpf-study/btf/data/22.04-x86/vmlinux/5.19.0-50-generic.vmlinux to /Users/szhong/Downloads/bpf-study/btf/data/22.04-x86/btf/5.19.0-50-generic.btf\n",
      "[extract.py:64] INFO: Extracting BTF from /Users/szhong/Downloads/bpf-study/btf/data/22.04-x86/vmlinux/6.2.0-39-generic.vmlinux to /Users/szhong/Downloads/bpf-study/btf/data/22.04-x86/btf/6.2.0-39-generic.btf\n",
      "[extract.py:64] INFO: Extracting BTF from /Users/szhong/Downloads/bpf-study/btf/data/22.04-x86/vmlinux/6.5.0-21-generic.vmlinux to /Users/szhong/Downloads/bpf-study/btf/data/22.04-x86/btf/6.5.0-21-generic.btf\n"
     ]
    },
    {
     "data": {
      "text/plain": [
       "{'5.15.0-97-generic': PosixPath('/Users/szhong/Downloads/bpf-study/btf/data/22.04-x86/btf/5.15.0-97-generic.btf'),\n",
       " '5.19.0-50-generic': PosixPath('/Users/szhong/Downloads/bpf-study/btf/data/22.04-x86/btf/5.19.0-50-generic.btf'),\n",
       " '6.2.0-39-generic': PosixPath('/Users/szhong/Downloads/bpf-study/btf/data/22.04-x86/btf/6.2.0-39-generic.btf'),\n",
       " '6.5.0-21-generic': PosixPath('/Users/szhong/Downloads/bpf-study/btf/data/22.04-x86/btf/6.5.0-21-generic.btf')}"
      ]
     },
     "execution_count": 10,
     "metadata": {},
     "output_type": "execute_result"
    }
   ],
   "source": [
    "from depsurf import extract_btf_files\n",
    "\n",
    "btf_paths = extract_btf_files(vmlinux_paths, result_path=data_path / \"btf\")\n",
    "\n",
    "btf_paths"
   ]
  }
 ],
 "metadata": {
  "kernelspec": {
   "display_name": "Python 3",
   "language": "python",
   "name": "python3"
  },
  "language_info": {
   "codemirror_mode": {
    "name": "ipython",
    "version": 3
   },
   "file_extension": ".py",
   "mimetype": "text/x-python",
   "name": "python",
   "nbconvert_exporter": "python",
   "pygments_lexer": "ipython3",
   "version": "3.11.4"
  }
 },
 "nbformat": 4,
 "nbformat_minor": 2
}
