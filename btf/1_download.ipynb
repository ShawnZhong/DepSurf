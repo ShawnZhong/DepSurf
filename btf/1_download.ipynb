{
 "cells": [
  {
   "cell_type": "code",
   "execution_count": 15,
   "metadata": {},
   "outputs": [],
   "source": [
    "%reload_ext autoreload\n",
    "%autoreload 2"
   ]
  },
  {
   "cell_type": "code",
   "execution_count": 55,
   "metadata": {},
   "outputs": [],
   "source": [
    "from depsurf import UbuntuVersion\n",
    "\n",
    "\n",
    "v = UbuntuVersion(\"16.04\", \"x86\")\n",
    "# v = UbuntuVersion(\"18.04\", \"x86\")\n",
    "# v = UbuntuVersion(\"20.04\", \"x86\", debug=True)\n",
    "# v = UbuntuVersion(\"20.04\", \"arm64\")\n",
    "# v = UbuntuVersion(\"22.04\", \"x86\")"
   ]
  },
  {
   "cell_type": "code",
   "execution_count": 56,
   "metadata": {},
   "outputs": [
    {
     "name": "stderr",
     "output_type": "stream",
     "text": [
      "[utils.py:8] INFO: Downloading http://security.ubuntu.com/ubuntu/dists/xenial-security/main/binary-amd64/Packages.gz to /Users/szhong/Downloads/bpf-study/btf/data/16.04-x86/index/Packages.gz\n",
      "[utils.py:18] INFO: Unzipping /Users/szhong/Downloads/bpf-study/btf/data/16.04-x86/index/Packages.gz to /Users/szhong/Downloads/bpf-study/btf/data/16.04-x86/index/Packages\n"
     ]
    },
    {
     "data": {
      "text/plain": [
       "PosixPath('/Users/szhong/Downloads/bpf-study/btf/data/16.04-x86/index/Packages')"
      ]
     },
     "execution_count": 56,
     "metadata": {},
     "output_type": "execute_result"
    }
   ],
   "source": [
    "from depsurf import download_package_index\n",
    "\n",
    "package_path = download_package_index(v.url, result_path=v.index_path, overwrite=True)\n",
    "package_path"
   ]
  },
  {
   "cell_type": "code",
   "execution_count": 57,
   "metadata": {},
   "outputs": [
    {
     "data": {
      "text/plain": [
       "[('accountsservice',\n",
       "  'pool/main/a/accountsservice/accountsservice_0.6.40-2ubuntu11.6_amd64.deb'),\n",
       " ('advancecomp',\n",
       "  'pool/main/a/advancecomp/advancecomp_1.20-1ubuntu0.2_amd64.deb'),\n",
       " ('amd64-microcode',\n",
       "  'pool/main/a/amd64-microcode/amd64-microcode_3.20191021.1+really3.20180524.1~ubuntu0.16.04.2_amd64.deb'),\n",
       " ('apache2', 'pool/main/a/apache2/apache2_2.4.18-2ubuntu3.17_amd64.deb'),\n",
       " ('apache2-bin',\n",
       "  'pool/main/a/apache2/apache2-bin_2.4.18-2ubuntu3.17_amd64.deb'),\n",
       " ('apache2-data',\n",
       "  'pool/main/a/apache2/apache2-data_2.4.18-2ubuntu3.17_all.deb'),\n",
       " ('apache2-dbg',\n",
       "  'pool/main/a/apache2/apache2-dbg_2.4.18-2ubuntu3.17_amd64.deb'),\n",
       " ('apache2-dev',\n",
       "  'pool/main/a/apache2/apache2-dev_2.4.18-2ubuntu3.17_amd64.deb'),\n",
       " ('apache2-doc', 'pool/main/a/apache2/apache2-doc_2.4.18-2ubuntu3.17_all.deb'),\n",
       " ('apache2-utils',\n",
       "  'pool/main/a/apache2/apache2-utils_2.4.18-2ubuntu3.17_amd64.deb')]"
      ]
     },
     "execution_count": 57,
     "metadata": {},
     "output_type": "execute_result"
    }
   ],
   "source": [
    "from depsurf import parse_package_index\n",
    "\n",
    "package_index = parse_package_index(package_path)\n",
    "list(package_index.items())[:10]"
   ]
  },
  {
   "cell_type": "code",
   "execution_count": 59,
   "metadata": {},
   "outputs": [
    {
     "data": {
      "text/plain": [
       "[('4.15.0-142-generic',\n",
       "  'pool/main/l/linux-signed-hwe/linux-image-4.15.0-142-generic_4.15.0-142.146~16.04.1_amd64.deb'),\n",
       " ('4.4.0-210-generic',\n",
       "  'pool/main/l/linux-signed/linux-image-4.4.0-210-generic_4.4.0-210.242_amd64.deb')]"
      ]
     },
     "execution_count": 59,
     "metadata": {},
     "output_type": "execute_result"
    }
   ],
   "source": [
    "from depsurf import filter_linux_images\n",
    "\n",
    "linux_paths = filter_linux_images(package_index)\n",
    "linux_paths"
   ]
  },
  {
   "cell_type": "code",
   "execution_count": 40,
   "metadata": {},
   "outputs": [
    {
     "name": "stderr",
     "output_type": "stream",
     "text": [
      "[utils.py:8] INFO: Downloading http://security.ubuntu.com/ubuntu/pool/main/l/linux-signed-hwe-5.11/linux-image-5.11.0-46-generic_5.11.0-46.51~20.04.1_amd64.deb to /Users/szhong/Downloads/bpf-study/btf/data/20.04-x86/debs_dbg/linux-image-5.11.0-46-generic_5.11.0-46.51~20.04.1_amd64.deb\n"
     ]
    },
    {
     "ename": "KeyboardInterrupt",
     "evalue": "",
     "output_type": "error",
     "traceback": [
      "\u001b[0;31m---------------------------------------------------------------------------\u001b[0m",
      "\u001b[0;31mKeyboardInterrupt\u001b[0m                         Traceback (most recent call last)",
      "Cell \u001b[0;32mIn[40], line 3\u001b[0m\n\u001b[1;32m      1\u001b[0m \u001b[38;5;28;01mfrom\u001b[39;00m \u001b[38;5;21;01mdepsurf\u001b[39;00m \u001b[38;5;28;01mimport\u001b[39;00m download_deb_files\n\u001b[0;32m----> 3\u001b[0m deb_paths \u001b[38;5;241m=\u001b[39m \u001b[43mdownload_deb_files\u001b[49m\u001b[43m(\u001b[49m\u001b[43mlinux_paths\u001b[49m\u001b[43m,\u001b[49m\u001b[43m \u001b[49m\u001b[43murl_prefix\u001b[49m\u001b[38;5;241;43m=\u001b[39;49m\u001b[43mv\u001b[49m\u001b[38;5;241;43m.\u001b[39;49m\u001b[43murl_prefix\u001b[49m\u001b[43m,\u001b[49m\u001b[43m \u001b[49m\u001b[43mresult_path\u001b[49m\u001b[38;5;241;43m=\u001b[39;49m\u001b[43mv\u001b[49m\u001b[38;5;241;43m.\u001b[39;49m\u001b[43mdeb_path\u001b[49m\u001b[43m)\u001b[49m\n\u001b[1;32m      4\u001b[0m deb_paths\n",
      "File \u001b[0;32m/Users/szhong/Downloads/bpf-study/btf/depsurf/linux/download.py:58\u001b[0m, in \u001b[0;36mdownload_deb_files\u001b[0;34m(linux_versions, url_prefix, result_path, overwrite)\u001b[0m\n\u001b[1;32m     56\u001b[0m     url \u001b[38;5;241m=\u001b[39m \u001b[38;5;124mf\u001b[39m\u001b[38;5;124m\"\u001b[39m\u001b[38;5;132;01m{\u001b[39;00murl_prefix\u001b[38;5;132;01m}\u001b[39;00m\u001b[38;5;124m/\u001b[39m\u001b[38;5;132;01m{\u001b[39;00mpath\u001b[38;5;132;01m}\u001b[39;00m\u001b[38;5;124m\"\u001b[39m\n\u001b[1;32m     57\u001b[0m     file_path \u001b[38;5;241m=\u001b[39m result_path \u001b[38;5;241m/\u001b[39m path\u001b[38;5;241m.\u001b[39msplit(\u001b[38;5;124m\"\u001b[39m\u001b[38;5;124m/\u001b[39m\u001b[38;5;124m\"\u001b[39m)[\u001b[38;5;241m-\u001b[39m\u001b[38;5;241m1\u001b[39m]\n\u001b[0;32m---> 58\u001b[0m     \u001b[43mdownload\u001b[49m\u001b[43m(\u001b[49m\u001b[43murl\u001b[49m\u001b[43m,\u001b[49m\u001b[43m \u001b[49m\u001b[43mfile_path\u001b[49m\u001b[43m,\u001b[49m\u001b[43m \u001b[49m\u001b[43moverwrite\u001b[49m\u001b[38;5;241;43m=\u001b[39;49m\u001b[43moverwrite\u001b[49m\u001b[43m)\u001b[49m\n\u001b[1;32m     59\u001b[0m     results[name] \u001b[38;5;241m=\u001b[39m file_path\n\u001b[1;32m     61\u001b[0m \u001b[38;5;28;01mreturn\u001b[39;00m results\n",
      "File \u001b[0;32m/Users/szhong/Downloads/bpf-study/btf/depsurf/linux/utils.py:9\u001b[0m, in \u001b[0;36mdownload\u001b[0;34m(url, path, overwrite)\u001b[0m\n\u001b[1;32m      6\u001b[0m     \u001b[38;5;28;01mimport\u001b[39;00m \u001b[38;5;21;01murllib\u001b[39;00m\u001b[38;5;21;01m.\u001b[39;00m\u001b[38;5;21;01mrequest\u001b[39;00m\n\u001b[1;32m      8\u001b[0m     logging\u001b[38;5;241m.\u001b[39minfo(\u001b[38;5;124mf\u001b[39m\u001b[38;5;124m\"\u001b[39m\u001b[38;5;124mDownloading \u001b[39m\u001b[38;5;132;01m{\u001b[39;00murl\u001b[38;5;132;01m}\u001b[39;00m\u001b[38;5;124m to \u001b[39m\u001b[38;5;132;01m{\u001b[39;00mpath\u001b[38;5;132;01m}\u001b[39;00m\u001b[38;5;124m\"\u001b[39m)\n\u001b[0;32m----> 9\u001b[0m     \u001b[43murllib\u001b[49m\u001b[38;5;241;43m.\u001b[39;49m\u001b[43mrequest\u001b[49m\u001b[38;5;241;43m.\u001b[39;49m\u001b[43murlretrieve\u001b[49m\u001b[43m(\u001b[49m\u001b[43murl\u001b[49m\u001b[43m,\u001b[49m\u001b[43m \u001b[49m\u001b[43mpath\u001b[49m\u001b[43m)\u001b[49m\n\u001b[1;32m     10\u001b[0m \u001b[38;5;28;01melse\u001b[39;00m:\n\u001b[1;32m     11\u001b[0m     logging\u001b[38;5;241m.\u001b[39minfo(\u001b[38;5;124mf\u001b[39m\u001b[38;5;124m\"\u001b[39m\u001b[38;5;124mUsing \u001b[39m\u001b[38;5;132;01m{\u001b[39;00mpath\u001b[38;5;132;01m}\u001b[39;00m\u001b[38;5;124m\"\u001b[39m)\n",
      "File \u001b[0;32m/usr/lib/python3.11/urllib/request.py:270\u001b[0m, in \u001b[0;36murlretrieve\u001b[0;34m(url, filename, reporthook, data)\u001b[0m\n\u001b[1;32m    267\u001b[0m     reporthook(blocknum, bs, size)\n\u001b[1;32m    269\u001b[0m \u001b[38;5;28;01mwhile\u001b[39;00m \u001b[38;5;28;01mTrue\u001b[39;00m:\n\u001b[0;32m--> 270\u001b[0m     block \u001b[38;5;241m=\u001b[39m \u001b[43mfp\u001b[49m\u001b[38;5;241;43m.\u001b[39;49m\u001b[43mread\u001b[49m\u001b[43m(\u001b[49m\u001b[43mbs\u001b[49m\u001b[43m)\u001b[49m\n\u001b[1;32m    271\u001b[0m     \u001b[38;5;28;01mif\u001b[39;00m \u001b[38;5;129;01mnot\u001b[39;00m block:\n\u001b[1;32m    272\u001b[0m         \u001b[38;5;28;01mbreak\u001b[39;00m\n",
      "File \u001b[0;32m/usr/lib/python3.11/http/client.py:466\u001b[0m, in \u001b[0;36mHTTPResponse.read\u001b[0;34m(self, amt)\u001b[0m\n\u001b[1;32m    463\u001b[0m \u001b[38;5;28;01mif\u001b[39;00m \u001b[38;5;28mself\u001b[39m\u001b[38;5;241m.\u001b[39mlength \u001b[38;5;129;01mis\u001b[39;00m \u001b[38;5;129;01mnot\u001b[39;00m \u001b[38;5;28;01mNone\u001b[39;00m \u001b[38;5;129;01mand\u001b[39;00m amt \u001b[38;5;241m>\u001b[39m \u001b[38;5;28mself\u001b[39m\u001b[38;5;241m.\u001b[39mlength:\n\u001b[1;32m    464\u001b[0m     \u001b[38;5;66;03m# clip the read to the \"end of response\"\u001b[39;00m\n\u001b[1;32m    465\u001b[0m     amt \u001b[38;5;241m=\u001b[39m \u001b[38;5;28mself\u001b[39m\u001b[38;5;241m.\u001b[39mlength\n\u001b[0;32m--> 466\u001b[0m s \u001b[38;5;241m=\u001b[39m \u001b[38;5;28mself\u001b[39m\u001b[38;5;241m.\u001b[39mfp\u001b[38;5;241m.\u001b[39mread(amt)\n\u001b[1;32m    467\u001b[0m \u001b[38;5;28;01mif\u001b[39;00m \u001b[38;5;129;01mnot\u001b[39;00m s \u001b[38;5;129;01mand\u001b[39;00m amt:\n\u001b[1;32m    468\u001b[0m     \u001b[38;5;66;03m# Ideally, we would raise IncompleteRead if the content-length\u001b[39;00m\n\u001b[1;32m    469\u001b[0m     \u001b[38;5;66;03m# wasn't satisfied, but it might break compatibility.\u001b[39;00m\n\u001b[1;32m    470\u001b[0m     \u001b[38;5;28mself\u001b[39m\u001b[38;5;241m.\u001b[39m_close_conn()\n",
      "File \u001b[0;32m/usr/lib/python3.11/socket.py:706\u001b[0m, in \u001b[0;36mSocketIO.readinto\u001b[0;34m(self, b)\u001b[0m\n\u001b[1;32m    704\u001b[0m \u001b[38;5;28;01mwhile\u001b[39;00m \u001b[38;5;28;01mTrue\u001b[39;00m:\n\u001b[1;32m    705\u001b[0m     \u001b[38;5;28;01mtry\u001b[39;00m:\n\u001b[0;32m--> 706\u001b[0m         \u001b[38;5;28;01mreturn\u001b[39;00m \u001b[38;5;28;43mself\u001b[39;49m\u001b[38;5;241;43m.\u001b[39;49m\u001b[43m_sock\u001b[49m\u001b[38;5;241;43m.\u001b[39;49m\u001b[43mrecv_into\u001b[49m\u001b[43m(\u001b[49m\u001b[43mb\u001b[49m\u001b[43m)\u001b[49m\n\u001b[1;32m    707\u001b[0m     \u001b[38;5;28;01mexcept\u001b[39;00m timeout:\n\u001b[1;32m    708\u001b[0m         \u001b[38;5;28mself\u001b[39m\u001b[38;5;241m.\u001b[39m_timeout_occurred \u001b[38;5;241m=\u001b[39m \u001b[38;5;28;01mTrue\u001b[39;00m\n",
      "\u001b[0;31mKeyboardInterrupt\u001b[0m: "
     ]
    }
   ],
   "source": [
    "from depsurf import download_deb_files\n",
    "\n",
    "deb_paths = download_deb_files(linux_paths, url_prefix=v.url_prefix, result_path=v.deb_path)\n",
    "deb_paths"
   ]
  },
  {
   "cell_type": "code",
   "execution_count": 29,
   "metadata": {},
   "outputs": [
    {
     "name": "stderr",
     "output_type": "stream",
     "text": [
      "[extract.py:13] INFO: Extracting /Users/szhong/Downloads/bpf-study/btf/data/18.04-x86/debs/linux-image-4.15.0-213-generic_4.15.0-213.224_amd64.deb to /Users/szhong/Downloads/bpf-study/btf/data/18.04-x86/vmlinuz/4.15.0-213-generic.vmlinuz\n",
      "[system.py:19] INFO: Running command: \"\u001b[92mdpkg --fsys-tarfile /Users/szhong/Downloads/bpf-study/btf/data/18.04-x86/debs/linux-image-4.15.0-213-generic_4.15.0-213.224_amd64.deb | tar -xO ./boot/vmlinuz-4.15.0-213-generic > /Users/szhong/Downloads/bpf-study/btf/data/18.04-x86/vmlinuz/4.15.0-213-generic.vmlinuz\u001b[0m\"\n",
      "[extract.py:13] INFO: Extracting /Users/szhong/Downloads/bpf-study/btf/data/18.04-x86/debs/linux-image-4.18.0-25-generic_4.18.0-25.26~18.04.1_amd64.deb to /Users/szhong/Downloads/bpf-study/btf/data/18.04-x86/vmlinuz/4.18.0-25-generic.vmlinuz\n",
      "[system.py:19] INFO: Running command: \"\u001b[92mdpkg --fsys-tarfile /Users/szhong/Downloads/bpf-study/btf/data/18.04-x86/debs/linux-image-4.18.0-25-generic_4.18.0-25.26~18.04.1_amd64.deb | tar -xO ./boot/vmlinuz-4.18.0-25-generic > /Users/szhong/Downloads/bpf-study/btf/data/18.04-x86/vmlinuz/4.18.0-25-generic.vmlinuz\u001b[0m\"\n",
      "[extract.py:13] INFO: Extracting /Users/szhong/Downloads/bpf-study/btf/data/18.04-x86/debs/linux-image-5.0.0-65-generic_5.0.0-65.71_amd64.deb to /Users/szhong/Downloads/bpf-study/btf/data/18.04-x86/vmlinuz/5.0.0-65-generic.vmlinuz\n",
      "[system.py:19] INFO: Running command: \"\u001b[92mdpkg --fsys-tarfile /Users/szhong/Downloads/bpf-study/btf/data/18.04-x86/debs/linux-image-5.0.0-65-generic_5.0.0-65.71_amd64.deb | tar -xO ./boot/vmlinuz-5.0.0-65-generic > /Users/szhong/Downloads/bpf-study/btf/data/18.04-x86/vmlinuz/5.0.0-65-generic.vmlinuz\u001b[0m\"\n",
      "[extract.py:13] INFO: Extracting /Users/szhong/Downloads/bpf-study/btf/data/18.04-x86/debs/linux-image-5.3.0-76-generic_5.3.0-76.72_amd64.deb to /Users/szhong/Downloads/bpf-study/btf/data/18.04-x86/vmlinuz/5.3.0-76-generic.vmlinuz\n",
      "[system.py:19] INFO: Running command: \"\u001b[92mdpkg --fsys-tarfile /Users/szhong/Downloads/bpf-study/btf/data/18.04-x86/debs/linux-image-5.3.0-76-generic_5.3.0-76.72_amd64.deb | tar -xO ./boot/vmlinuz-5.3.0-76-generic > /Users/szhong/Downloads/bpf-study/btf/data/18.04-x86/vmlinuz/5.3.0-76-generic.vmlinuz\u001b[0m\"\n",
      "[extract.py:13] INFO: Extracting /Users/szhong/Downloads/bpf-study/btf/data/18.04-x86/debs/linux-image-5.4.0-150-generic_5.4.0-150.167~18.04.1_amd64.deb to /Users/szhong/Downloads/bpf-study/btf/data/18.04-x86/vmlinuz/5.4.0-150-generic.vmlinuz\n",
      "[system.py:19] INFO: Running command: \"\u001b[92mdpkg --fsys-tarfile /Users/szhong/Downloads/bpf-study/btf/data/18.04-x86/debs/linux-image-5.4.0-150-generic_5.4.0-150.167~18.04.1_amd64.deb | tar -xO ./boot/vmlinuz-5.4.0-150-generic > /Users/szhong/Downloads/bpf-study/btf/data/18.04-x86/vmlinuz/5.4.0-150-generic.vmlinuz\u001b[0m\"\n"
     ]
    },
    {
     "data": {
      "text/plain": [
       "{'4.15.0-213-generic': PosixPath('/Users/szhong/Downloads/bpf-study/btf/data/18.04-x86/vmlinuz/4.15.0-213-generic.vmlinuz'),\n",
       " '4.18.0-25-generic': PosixPath('/Users/szhong/Downloads/bpf-study/btf/data/18.04-x86/vmlinuz/4.18.0-25-generic.vmlinuz'),\n",
       " '5.0.0-65-generic': PosixPath('/Users/szhong/Downloads/bpf-study/btf/data/18.04-x86/vmlinuz/5.0.0-65-generic.vmlinuz'),\n",
       " '5.3.0-76-generic': PosixPath('/Users/szhong/Downloads/bpf-study/btf/data/18.04-x86/vmlinuz/5.3.0-76-generic.vmlinuz'),\n",
       " '5.4.0-150-generic': PosixPath('/Users/szhong/Downloads/bpf-study/btf/data/18.04-x86/vmlinuz/5.4.0-150-generic.vmlinuz')}"
      ]
     },
     "execution_count": 29,
     "metadata": {},
     "output_type": "execute_result"
    }
   ],
   "source": [
    "from depsurf import extract_vmlinuz_files\n",
    "\n",
    "vmlinuz_paths = extract_vmlinuz_files(deb_paths, result_path=v.vmlinuz_path)\n",
    "\n",
    "vmlinuz_paths"
   ]
  },
  {
   "cell_type": "code",
   "execution_count": 30,
   "metadata": {},
   "outputs": [
    {
     "name": "stderr",
     "output_type": "stream",
     "text": [
      "[extract.py:33] INFO: Extracting /Users/szhong/Downloads/bpf-study/btf/data/18.04-x86/vmlinuz/4.15.0-213-generic.vmlinuz to /Users/szhong/Downloads/bpf-study/btf/data/18.04-x86/vmlinux/4.15.0-213-generic.vmlinux\n"
     ]
    },
    {
     "name": "stderr",
     "output_type": "stream",
     "text": [
      "[vmlinuz_decompressor.py:251] INFO: [+] Kernel successfully decompressed in-memory (the offsets that follow will be given relative to the decompressed binary)\n",
      "[extract.py:33] INFO: Extracting /Users/szhong/Downloads/bpf-study/btf/data/18.04-x86/vmlinuz/4.18.0-25-generic.vmlinuz to /Users/szhong/Downloads/bpf-study/btf/data/18.04-x86/vmlinux/4.18.0-25-generic.vmlinux\n",
      "[vmlinuz_decompressor.py:251] INFO: [+] Kernel successfully decompressed in-memory (the offsets that follow will be given relative to the decompressed binary)\n",
      "[extract.py:33] INFO: Extracting /Users/szhong/Downloads/bpf-study/btf/data/18.04-x86/vmlinuz/5.0.0-65-generic.vmlinuz to /Users/szhong/Downloads/bpf-study/btf/data/18.04-x86/vmlinux/5.0.0-65-generic.vmlinux\n",
      "[vmlinuz_decompressor.py:251] INFO: [+] Kernel successfully decompressed in-memory (the offsets that follow will be given relative to the decompressed binary)\n",
      "[extract.py:33] INFO: Extracting /Users/szhong/Downloads/bpf-study/btf/data/18.04-x86/vmlinuz/5.3.0-76-generic.vmlinuz to /Users/szhong/Downloads/bpf-study/btf/data/18.04-x86/vmlinux/5.3.0-76-generic.vmlinux\n",
      "[vmlinuz_decompressor.py:251] INFO: [+] Kernel successfully decompressed in-memory (the offsets that follow will be given relative to the decompressed binary)\n",
      "[extract.py:33] INFO: Extracting /Users/szhong/Downloads/bpf-study/btf/data/18.04-x86/vmlinuz/5.4.0-150-generic.vmlinuz to /Users/szhong/Downloads/bpf-study/btf/data/18.04-x86/vmlinux/5.4.0-150-generic.vmlinux\n",
      "[vmlinuz_decompressor.py:251] INFO: [+] Kernel successfully decompressed in-memory (the offsets that follow will be given relative to the decompressed binary)\n"
     ]
    },
    {
     "data": {
      "text/plain": [
       "{'4.15.0-213-generic': PosixPath('/Users/szhong/Downloads/bpf-study/btf/data/18.04-x86/vmlinux/4.15.0-213-generic.vmlinux'),\n",
       " '4.18.0-25-generic': PosixPath('/Users/szhong/Downloads/bpf-study/btf/data/18.04-x86/vmlinux/4.18.0-25-generic.vmlinux'),\n",
       " '5.0.0-65-generic': PosixPath('/Users/szhong/Downloads/bpf-study/btf/data/18.04-x86/vmlinux/5.0.0-65-generic.vmlinux'),\n",
       " '5.3.0-76-generic': PosixPath('/Users/szhong/Downloads/bpf-study/btf/data/18.04-x86/vmlinux/5.3.0-76-generic.vmlinux'),\n",
       " '5.4.0-150-generic': PosixPath('/Users/szhong/Downloads/bpf-study/btf/data/18.04-x86/vmlinux/5.4.0-150-generic.vmlinux')}"
      ]
     },
     "execution_count": 30,
     "metadata": {},
     "output_type": "execute_result"
    }
   ],
   "source": [
    "from depsurf import extract_vmlinux_files\n",
    "\n",
    "vmlinux_paths = extract_vmlinux_files(vmlinuz_paths, result_path=v.vmlinux_path)\n",
    "\n",
    "vmlinux_paths"
   ]
  },
  {
   "cell_type": "code",
   "execution_count": 31,
   "metadata": {},
   "outputs": [
    {
     "name": "stderr",
     "output_type": "stream",
     "text": [
      "[extract.py:58] WARNING: No .BTF section in /Users/szhong/Downloads/bpf-study/btf/data/18.04-x86/vmlinux/4.15.0-213-generic.vmlinux\n",
      "[extract.py:58] WARNING: No .BTF section in /Users/szhong/Downloads/bpf-study/btf/data/18.04-x86/vmlinux/4.18.0-25-generic.vmlinux\n",
      "[extract.py:58] WARNING: No .BTF section in /Users/szhong/Downloads/bpf-study/btf/data/18.04-x86/vmlinux/5.0.0-65-generic.vmlinux\n",
      "[extract.py:58] WARNING: No .BTF section in /Users/szhong/Downloads/bpf-study/btf/data/18.04-x86/vmlinux/5.3.0-76-generic.vmlinux\n"
     ]
    },
    {
     "name": "stderr",
     "output_type": "stream",
     "text": [
      "[extract.py:64] INFO: Extracting BTF from /Users/szhong/Downloads/bpf-study/btf/data/18.04-x86/vmlinux/5.4.0-150-generic.vmlinux to /Users/szhong/Downloads/bpf-study/btf/data/18.04-x86/btf/5.4.0-150-generic.btf\n"
     ]
    },
    {
     "data": {
      "text/plain": [
       "{'5.4.0-150-generic': PosixPath('/Users/szhong/Downloads/bpf-study/btf/data/18.04-x86/btf/5.4.0-150-generic.btf')}"
      ]
     },
     "execution_count": 31,
     "metadata": {},
     "output_type": "execute_result"
    }
   ],
   "source": [
    "from depsurf import extract_btf_files\n",
    "\n",
    "btf_paths = extract_btf_files(vmlinux_paths, result_path=v.btf_path)\n",
    "\n",
    "btf_paths"
   ]
  }
 ],
 "metadata": {
  "kernelspec": {
   "display_name": "Python 3",
   "language": "python",
   "name": "python3"
  },
  "language_info": {
   "codemirror_mode": {
    "name": "ipython",
    "version": 3
   },
   "file_extension": ".py",
   "mimetype": "text/x-python",
   "name": "python",
   "nbconvert_exporter": "python",
   "pygments_lexer": "ipython3",
   "version": "3.11.4"
  }
 },
 "nbformat": 4,
 "nbformat_minor": 2
}
