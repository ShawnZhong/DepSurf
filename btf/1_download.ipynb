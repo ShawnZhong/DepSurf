{
 "cells": [
  {
   "cell_type": "markdown",
   "metadata": {},
   "source": [
    "# Getting BTF Files for Ubuntu 20.04"
   ]
  },
  {
   "cell_type": "code",
   "execution_count": 1,
   "metadata": {},
   "outputs": [
    {
     "name": "stdout",
     "output_type": "stream",
     "text": [
      "Reading package lists... Done\n",
      "Building dependency tree... 0%\r"
     ]
    },
    {
     "name": "stdout",
     "output_type": "stream",
     "text": [
      "Building dependency tree... Done\n",
      "Reading state information... Done\n",
      "zstd is already the newest version (1.5.4+dfsg2-4).\n",
      "linux-tools-generic is already the newest version (6.2.0.39.39).\n",
      "0 upgraded, 0 newly installed, 0 to remove and 2 not upgraded.\n"
     ]
    }
   ],
   "source": [
    "!sudo apt install zstd linux-tools-generic -y"
   ]
  },
  {
   "cell_type": "code",
   "execution_count": 2,
   "metadata": {},
   "outputs": [],
   "source": [
    "%reload_ext autoreload\n",
    "%autoreload 2"
   ]
  },
  {
   "cell_type": "code",
   "execution_count": 3,
   "metadata": {},
   "outputs": [],
   "source": [
    "from pathlib import Path\n",
    "\n",
    "# data_path = Path(\"data/20.04-x86\")\n",
    "# url_prefix = \"http://security.ubuntu.com/ubuntu\"\n",
    "# package_url = f\"{url_prefix}/dists/focal-security/main/binary-amd64/Packages.gz\"\n",
    "\n",
    "data_path = Path(\"data/22.04-x86\")\n",
    "url_prefix = \"http://security.ubuntu.com/ubuntu\"\n",
    "package_url = f\"{url_prefix}/dists/jammy-security/main/binary-amd64/Packages.gz\"\n",
    "\n",
    "# data_path = Path(\"data/20.04-arm64\")\n",
    "# url_prefix = \"http://ports.ubuntu.com/ubuntu-ports\"\n",
    "# package_url = f\"{url_prefix}/dists/focal-security/main/binary-arm64/Packages.gz\"\n",
    "\n",
    "data_path = data_path.resolve()\n",
    "\n",
    "tmp_path = data_path / \"tmp\"\n",
    "tmp_path.mkdir(parents=True, exist_ok=True)"
   ]
  },
  {
   "cell_type": "code",
   "execution_count": 4,
   "metadata": {},
   "outputs": [
    {
     "name": "stdout",
     "output_type": "stream",
     "text": [
      "Using /Users/szhong/Downloads/bpf-study/btf/data/22.04-x86/tmp/Packages.gz\n",
      "Using /Users/szhong/Downloads/bpf-study/btf/data/22.04-x86/tmp/Packages\n"
     ]
    },
    {
     "data": {
      "text/plain": [
       "PosixPath('/Users/szhong/Downloads/bpf-study/btf/data/22.04-x86/tmp/Packages')"
      ]
     },
     "execution_count": 4,
     "metadata": {},
     "output_type": "execute_result"
    }
   ],
   "source": [
    "from utils import download_package_index\n",
    "\n",
    "package_path = download_package_index(package_url, download_path=tmp_path)\n",
    "package_path"
   ]
  },
  {
   "cell_type": "code",
   "execution_count": 5,
   "metadata": {},
   "outputs": [
    {
     "data": {
      "text/plain": [
       "[('accountsservice',\n",
       "  'pool/main/a/accountsservice/accountsservice_22.07.5-2ubuntu1.4_amd64.deb'),\n",
       " ('adsys', 'pool/main/a/adsys/adsys_0.9.2~22.04.1_amd64.deb'),\n",
       " ('adsys-windows', 'pool/main/a/adsys/adsys-windows_0.9.2~22.04.1_amd64.deb'),\n",
       " ('advancecomp',\n",
       "  'pool/main/a/advancecomp/advancecomp_2.1-2.1ubuntu2.1_amd64.deb'),\n",
       " ('amd64-microcode',\n",
       "  'pool/main/a/amd64-microcode/amd64-microcode_3.20191218.1ubuntu2.2_amd64.deb'),\n",
       " ('apache2', 'pool/main/a/apache2/apache2_2.4.52-1ubuntu4.7_amd64.deb'),\n",
       " ('apache2-bin',\n",
       "  'pool/main/a/apache2/apache2-bin_2.4.52-1ubuntu4.7_amd64.deb'),\n",
       " ('apache2-data',\n",
       "  'pool/main/a/apache2/apache2-data_2.4.52-1ubuntu4.7_all.deb'),\n",
       " ('apache2-dev',\n",
       "  'pool/main/a/apache2/apache2-dev_2.4.52-1ubuntu4.7_amd64.deb'),\n",
       " ('apache2-doc', 'pool/main/a/apache2/apache2-doc_2.4.52-1ubuntu4.7_all.deb')]"
      ]
     },
     "execution_count": 5,
     "metadata": {},
     "output_type": "execute_result"
    }
   ],
   "source": [
    "from utils import parse_package_index\n",
    "\n",
    "package_index = parse_package_index(package_path)\n",
    "\n",
    "list(package_index.items())[:10]"
   ]
  },
  {
   "cell_type": "code",
   "execution_count": 6,
   "metadata": {},
   "outputs": [
    {
     "data": {
      "text/plain": [
       "[('linux-image-5.15.0-97-generic',\n",
       "  'pool/main/l/linux-signed/linux-image-5.15.0-97-generic_5.15.0-97.107_amd64.deb'),\n",
       " ('linux-image-5.19.0-50-generic',\n",
       "  'pool/main/l/linux-signed-hwe-5.19/linux-image-5.19.0-50-generic_5.19.0-50.50_amd64.deb'),\n",
       " ('linux-image-6.2.0-39-generic',\n",
       "  'pool/main/l/linux-signed-hwe-6.2/linux-image-6.2.0-39-generic_6.2.0-39.40~22.04.1_amd64.deb'),\n",
       " ('linux-image-6.5.0-21-generic',\n",
       "  'pool/main/l/linux-signed-hwe-6.5/linux-image-6.5.0-21-generic_6.5.0-21.21~22.04.1_amd64.deb')]"
      ]
     },
     "execution_count": 6,
     "metadata": {},
     "output_type": "execute_result"
    }
   ],
   "source": [
    "from utils import filter_linux_images\n",
    "\n",
    "linux_versions = filter_linux_images(package_index)\n",
    "\n",
    "linux_versions"
   ]
  },
  {
   "cell_type": "code",
   "execution_count": 7,
   "metadata": {},
   "outputs": [
    {
     "name": "stdout",
     "output_type": "stream",
     "text": [
      "Using /Users/szhong/Downloads/bpf-study/btf/data/22.04-x86/tmp/linux-image-5.15.0-97-generic_5.15.0-97.107_amd64.deb\n",
      "Using /Users/szhong/Downloads/bpf-study/btf/data/22.04-x86/tmp/linux-image-5.19.0-50-generic_5.19.0-50.50_amd64.deb\n",
      "Using /Users/szhong/Downloads/bpf-study/btf/data/22.04-x86/tmp/linux-image-6.2.0-39-generic_6.2.0-39.40~22.04.1_amd64.deb\n",
      "Using /Users/szhong/Downloads/bpf-study/btf/data/22.04-x86/tmp/linux-image-6.5.0-21-generic_6.5.0-21.21~22.04.1_amd64.deb\n"
     ]
    },
    {
     "data": {
      "text/plain": [
       "{'5.15.0-97-generic': PosixPath('/Users/szhong/Downloads/bpf-study/btf/data/22.04-x86/tmp/linux-image-5.15.0-97-generic_5.15.0-97.107_amd64.deb'),\n",
       " '5.19.0-50-generic': PosixPath('/Users/szhong/Downloads/bpf-study/btf/data/22.04-x86/tmp/linux-image-5.19.0-50-generic_5.19.0-50.50_amd64.deb'),\n",
       " '6.2.0-39-generic': PosixPath('/Users/szhong/Downloads/bpf-study/btf/data/22.04-x86/tmp/linux-image-6.2.0-39-generic_6.2.0-39.40~22.04.1_amd64.deb'),\n",
       " '6.5.0-21-generic': PosixPath('/Users/szhong/Downloads/bpf-study/btf/data/22.04-x86/tmp/linux-image-6.5.0-21-generic_6.5.0-21.21~22.04.1_amd64.deb')}"
      ]
     },
     "execution_count": 7,
     "metadata": {},
     "output_type": "execute_result"
    }
   ],
   "source": [
    "from utils import download_deb_files\n",
    "\n",
    "deb_paths = download_deb_files(linux_versions, url_prefix=url_prefix, download_path=tmp_path)\n",
    "\n",
    "deb_paths"
   ]
  },
  {
   "cell_type": "code",
   "execution_count": 8,
   "metadata": {},
   "outputs": [
    {
     "name": "stdout",
     "output_type": "stream",
     "text": [
      "Using /Users/szhong/Downloads/bpf-study/btf/data/22.04-x86/tmp/vmlinuz-5.15.0-97-generic\n",
      "Using /Users/szhong/Downloads/bpf-study/btf/data/22.04-x86/tmp/vmlinuz-5.19.0-50-generic\n",
      "Using /Users/szhong/Downloads/bpf-study/btf/data/22.04-x86/tmp/vmlinuz-6.2.0-39-generic\n",
      "Using /Users/szhong/Downloads/bpf-study/btf/data/22.04-x86/tmp/vmlinuz-6.5.0-21-generic\n"
     ]
    },
    {
     "data": {
      "text/plain": [
       "{'5.15.0-97-generic': PosixPath('/Users/szhong/Downloads/bpf-study/btf/data/22.04-x86/tmp/vmlinuz-5.15.0-97-generic'),\n",
       " '5.19.0-50-generic': PosixPath('/Users/szhong/Downloads/bpf-study/btf/data/22.04-x86/tmp/vmlinuz-5.19.0-50-generic'),\n",
       " '6.2.0-39-generic': PosixPath('/Users/szhong/Downloads/bpf-study/btf/data/22.04-x86/tmp/vmlinuz-6.2.0-39-generic'),\n",
       " '6.5.0-21-generic': PosixPath('/Users/szhong/Downloads/bpf-study/btf/data/22.04-x86/tmp/vmlinuz-6.5.0-21-generic')}"
      ]
     },
     "execution_count": 8,
     "metadata": {},
     "output_type": "execute_result"
    }
   ],
   "source": [
    "from utils import extract_vmlinuz_files\n",
    "\n",
    "vmlinuz_paths = extract_vmlinuz_files(deb_paths, result_path=tmp_path)\n",
    "\n",
    "vmlinuz_paths"
   ]
  },
  {
   "cell_type": "code",
   "execution_count": 9,
   "metadata": {},
   "outputs": [
    {
     "name": "stdout",
     "output_type": "stream",
     "text": [
      "Using /Users/szhong/Downloads/bpf-study/btf/data/22.04-x86/tmp/vmlinux-5.15.0-97-generic\n",
      "Using /Users/szhong/Downloads/bpf-study/btf/data/22.04-x86/tmp/vmlinux-5.19.0-50-generic\n",
      "Using /Users/szhong/Downloads/bpf-study/btf/data/22.04-x86/tmp/vmlinux-6.2.0-39-generic\n",
      "Using /Users/szhong/Downloads/bpf-study/btf/data/22.04-x86/tmp/vmlinux-6.5.0-21-generic\n"
     ]
    },
    {
     "data": {
      "text/plain": [
       "{'5.15.0-97-generic': PosixPath('/Users/szhong/Downloads/bpf-study/btf/data/22.04-x86/tmp/vmlinux-5.15.0-97-generic'),\n",
       " '5.19.0-50-generic': PosixPath('/Users/szhong/Downloads/bpf-study/btf/data/22.04-x86/tmp/vmlinux-5.19.0-50-generic'),\n",
       " '6.2.0-39-generic': PosixPath('/Users/szhong/Downloads/bpf-study/btf/data/22.04-x86/tmp/vmlinux-6.2.0-39-generic'),\n",
       " '6.5.0-21-generic': PosixPath('/Users/szhong/Downloads/bpf-study/btf/data/22.04-x86/tmp/vmlinux-6.5.0-21-generic')}"
      ]
     },
     "execution_count": 9,
     "metadata": {},
     "output_type": "execute_result"
    }
   ],
   "source": [
    "from utils import extract_vmlinux_files\n",
    "\n",
    "\n",
    "vmlinux_paths = extract_vmlinux_files(vmlinuz_paths, result_path=tmp_path)\n",
    "\n",
    "vmlinux_paths"
   ]
  },
  {
   "cell_type": "code",
   "execution_count": 10,
   "metadata": {},
   "outputs": [
    {
     "name": "stdout",
     "output_type": "stream",
     "text": [
      "Using /Users/szhong/Downloads/bpf-study/btf/data/22.04-x86/5.15.0-97-generic.btf\n",
      "Using /Users/szhong/Downloads/bpf-study/btf/data/22.04-x86/5.19.0-50-generic.btf\n",
      "Using /Users/szhong/Downloads/bpf-study/btf/data/22.04-x86/6.2.0-39-generic.btf\n",
      "Using /Users/szhong/Downloads/bpf-study/btf/data/22.04-x86/6.5.0-21-generic.btf\n"
     ]
    },
    {
     "data": {
      "text/plain": [
       "{'vmlinux-5.15.0-97-generic': PosixPath('/Users/szhong/Downloads/bpf-study/btf/data/22.04-x86/5.15.0-97-generic.btf'),\n",
       " 'vmlinux-5.19.0-50-generic': PosixPath('/Users/szhong/Downloads/bpf-study/btf/data/22.04-x86/5.19.0-50-generic.btf'),\n",
       " 'vmlinux-6.2.0-39-generic': PosixPath('/Users/szhong/Downloads/bpf-study/btf/data/22.04-x86/6.2.0-39-generic.btf'),\n",
       " 'vmlinux-6.5.0-21-generic': PosixPath('/Users/szhong/Downloads/bpf-study/btf/data/22.04-x86/6.5.0-21-generic.btf')}"
      ]
     },
     "execution_count": 10,
     "metadata": {},
     "output_type": "execute_result"
    }
   ],
   "source": [
    "\n",
    "from utils import extract_btf_files\n",
    "\n",
    "btf_paths = extract_btf_files(vmlinux_paths, result_path=data_path)\n",
    "\n",
    "btf_paths"
   ]
  }
 ],
 "metadata": {
  "kernelspec": {
   "display_name": "Python 3",
   "language": "python",
   "name": "python3"
  },
  "language_info": {
   "codemirror_mode": {
    "name": "ipython",
    "version": 3
   },
   "file_extension": ".py",
   "mimetype": "text/x-python",
   "name": "python",
   "nbconvert_exporter": "python",
   "pygments_lexer": "ipython3",
   "version": "3.11.4"
  }
 },
 "nbformat": 4,
 "nbformat_minor": 2
}
