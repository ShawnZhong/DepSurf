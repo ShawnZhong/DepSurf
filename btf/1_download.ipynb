{
 "cells": [
  {
   "cell_type": "code",
   "execution_count": 15,
   "metadata": {},
   "outputs": [],
   "source": [
    "%reload_ext autoreload\n",
    "%autoreload 2"
   ]
  },
  {
   "cell_type": "code",
   "execution_count": 24,
   "metadata": {},
   "outputs": [],
   "source": [
    "from depsurf import UbuntuVersion\n",
    "\n",
    "\n",
    "# v = UbuntuVersion(\"20.04\", \"x86\")\n",
    "# v = UbuntuVersion(\"22.04\", \"x86\")\n",
    "# v = UbuntuVersion(\"20.04\", \"arm64\")\n",
    "# v = UbuntuVersion(\"16.04\", \"x86\")\n",
    "v = UbuntuVersion(\"18.04\", \"x86\")"
   ]
  },
  {
   "cell_type": "code",
   "execution_count": 25,
   "metadata": {},
   "outputs": [
    {
     "name": "stderr",
     "output_type": "stream",
     "text": [
      "[utils.py:8] INFO: Downloading http://security.ubuntu.com/ubuntu/dists/bionic-security/main/binary-amd64/Packages.gz to /Users/szhong/Downloads/bpf-study/btf/data/18.04-x86/index/Packages.gz\n"
     ]
    },
    {
     "name": "stderr",
     "output_type": "stream",
     "text": [
      "[utils.py:18] INFO: Unzipping /Users/szhong/Downloads/bpf-study/btf/data/18.04-x86/index/Packages.gz to /Users/szhong/Downloads/bpf-study/btf/data/18.04-x86/index/Packages\n"
     ]
    },
    {
     "data": {
      "text/plain": [
       "PosixPath('/Users/szhong/Downloads/bpf-study/btf/data/18.04-x86/index/Packages')"
      ]
     },
     "execution_count": 25,
     "metadata": {},
     "output_type": "execute_result"
    }
   ],
   "source": [
    "from depsurf import download_package_index\n",
    "\n",
    "package_path = download_package_index(v.url, result_path=v.index_path)\n",
    "package_path"
   ]
  },
  {
   "cell_type": "code",
   "execution_count": 26,
   "metadata": {},
   "outputs": [
    {
     "data": {
      "text/plain": [
       "[('accountsservice',\n",
       "  'pool/main/a/accountsservice/accountsservice_0.6.45-1ubuntu1.3_amd64.deb'),\n",
       " ('advancecomp',\n",
       "  'pool/main/a/advancecomp/advancecomp_2.1-1ubuntu0.18.04.3_amd64.deb'),\n",
       " ('aide', 'pool/main/a/aide/aide_0.16-3ubuntu0.1_amd64.deb'),\n",
       " ('aide-common', 'pool/main/a/aide/aide-common_0.16-3ubuntu0.1_all.deb'),\n",
       " ('amd64-microcode',\n",
       "  'pool/main/a/amd64-microcode/amd64-microcode_3.20191021.1+really3.20181128.1~ubuntu0.18.04.1_amd64.deb'),\n",
       " ('apache2', 'pool/main/a/apache2/apache2_2.4.29-1ubuntu4.27_amd64.deb'),\n",
       " ('apache2-bin',\n",
       "  'pool/main/a/apache2/apache2-bin_2.4.29-1ubuntu4.27_amd64.deb'),\n",
       " ('apache2-data',\n",
       "  'pool/main/a/apache2/apache2-data_2.4.29-1ubuntu4.27_all.deb'),\n",
       " ('apache2-dbg',\n",
       "  'pool/main/a/apache2/apache2-dbg_2.4.29-1ubuntu4.27_amd64.deb'),\n",
       " ('apache2-dev',\n",
       "  'pool/main/a/apache2/apache2-dev_2.4.29-1ubuntu4.27_amd64.deb')]"
      ]
     },
     "execution_count": 26,
     "metadata": {},
     "output_type": "execute_result"
    }
   ],
   "source": [
    "from depsurf import parse_package_index\n",
    "\n",
    "package_index = parse_package_index(package_path)\n",
    "list(package_index.items())[:10]"
   ]
  },
  {
   "cell_type": "code",
   "execution_count": 27,
   "metadata": {},
   "outputs": [
    {
     "data": {
      "text/plain": [
       "[('4.15.0-213-generic',\n",
       "  'pool/main/l/linux-signed/linux-image-4.15.0-213-generic_4.15.0-213.224_amd64.deb'),\n",
       " ('4.18.0-25-generic',\n",
       "  'pool/main/l/linux-signed-hwe/linux-image-4.18.0-25-generic_4.18.0-25.26~18.04.1_amd64.deb'),\n",
       " ('5.0.0-65-generic',\n",
       "  'pool/main/l/linux-signed-hwe-5.0/linux-image-5.0.0-65-generic_5.0.0-65.71_amd64.deb'),\n",
       " ('5.3.0-76-generic',\n",
       "  'pool/main/l/linux-signed-hwe/linux-image-5.3.0-76-generic_5.3.0-76.72_amd64.deb'),\n",
       " ('5.4.0-150-generic',\n",
       "  'pool/main/l/linux-signed-hwe-5.4/linux-image-5.4.0-150-generic_5.4.0-150.167~18.04.1_amd64.deb')]"
      ]
     },
     "execution_count": 27,
     "metadata": {},
     "output_type": "execute_result"
    }
   ],
   "source": [
    "from depsurf import filter_linux_images\n",
    "\n",
    "linux_paths = filter_linux_images(package_index)\n",
    "linux_paths"
   ]
  },
  {
   "cell_type": "code",
   "execution_count": 28,
   "metadata": {},
   "outputs": [
    {
     "name": "stderr",
     "output_type": "stream",
     "text": [
      "[utils.py:8] INFO: Downloading http://security.ubuntu.com/ubuntu/pool/main/l/linux-signed/linux-image-4.15.0-213-generic_4.15.0-213.224_amd64.deb to /Users/szhong/Downloads/bpf-study/btf/data/18.04-x86/debs/linux-image-4.15.0-213-generic_4.15.0-213.224_amd64.deb\n",
      "[utils.py:8] INFO: Downloading http://security.ubuntu.com/ubuntu/pool/main/l/linux-signed-hwe/linux-image-4.18.0-25-generic_4.18.0-25.26~18.04.1_amd64.deb to /Users/szhong/Downloads/bpf-study/btf/data/18.04-x86/debs/linux-image-4.18.0-25-generic_4.18.0-25.26~18.04.1_amd64.deb\n",
      "[utils.py:8] INFO: Downloading http://security.ubuntu.com/ubuntu/pool/main/l/linux-signed-hwe-5.0/linux-image-5.0.0-65-generic_5.0.0-65.71_amd64.deb to /Users/szhong/Downloads/bpf-study/btf/data/18.04-x86/debs/linux-image-5.0.0-65-generic_5.0.0-65.71_amd64.deb\n",
      "[utils.py:8] INFO: Downloading http://security.ubuntu.com/ubuntu/pool/main/l/linux-signed-hwe/linux-image-5.3.0-76-generic_5.3.0-76.72_amd64.deb to /Users/szhong/Downloads/bpf-study/btf/data/18.04-x86/debs/linux-image-5.3.0-76-generic_5.3.0-76.72_amd64.deb\n",
      "[utils.py:8] INFO: Downloading http://security.ubuntu.com/ubuntu/pool/main/l/linux-signed-hwe-5.4/linux-image-5.4.0-150-generic_5.4.0-150.167~18.04.1_amd64.deb to /Users/szhong/Downloads/bpf-study/btf/data/18.04-x86/debs/linux-image-5.4.0-150-generic_5.4.0-150.167~18.04.1_amd64.deb\n"
     ]
    },
    {
     "data": {
      "text/plain": [
       "{'4.15.0-213-generic': PosixPath('/Users/szhong/Downloads/bpf-study/btf/data/18.04-x86/debs/linux-image-4.15.0-213-generic_4.15.0-213.224_amd64.deb'),\n",
       " '4.18.0-25-generic': PosixPath('/Users/szhong/Downloads/bpf-study/btf/data/18.04-x86/debs/linux-image-4.18.0-25-generic_4.18.0-25.26~18.04.1_amd64.deb'),\n",
       " '5.0.0-65-generic': PosixPath('/Users/szhong/Downloads/bpf-study/btf/data/18.04-x86/debs/linux-image-5.0.0-65-generic_5.0.0-65.71_amd64.deb'),\n",
       " '5.3.0-76-generic': PosixPath('/Users/szhong/Downloads/bpf-study/btf/data/18.04-x86/debs/linux-image-5.3.0-76-generic_5.3.0-76.72_amd64.deb'),\n",
       " '5.4.0-150-generic': PosixPath('/Users/szhong/Downloads/bpf-study/btf/data/18.04-x86/debs/linux-image-5.4.0-150-generic_5.4.0-150.167~18.04.1_amd64.deb')}"
      ]
     },
     "execution_count": 28,
     "metadata": {},
     "output_type": "execute_result"
    }
   ],
   "source": [
    "from depsurf import download_deb_files\n",
    "\n",
    "deb_paths = download_deb_files(linux_paths, url_prefix=v.url_prefix, result_path=v.deb_path)\n",
    "deb_paths"
   ]
  },
  {
   "cell_type": "code",
   "execution_count": 29,
   "metadata": {},
   "outputs": [
    {
     "name": "stderr",
     "output_type": "stream",
     "text": [
      "[extract.py:13] INFO: Extracting /Users/szhong/Downloads/bpf-study/btf/data/18.04-x86/debs/linux-image-4.15.0-213-generic_4.15.0-213.224_amd64.deb to /Users/szhong/Downloads/bpf-study/btf/data/18.04-x86/vmlinuz/4.15.0-213-generic.vmlinuz\n",
      "[system.py:19] INFO: Running command: \"\u001b[92mdpkg --fsys-tarfile /Users/szhong/Downloads/bpf-study/btf/data/18.04-x86/debs/linux-image-4.15.0-213-generic_4.15.0-213.224_amd64.deb | tar -xO ./boot/vmlinuz-4.15.0-213-generic > /Users/szhong/Downloads/bpf-study/btf/data/18.04-x86/vmlinuz/4.15.0-213-generic.vmlinuz\u001b[0m\"\n",
      "[extract.py:13] INFO: Extracting /Users/szhong/Downloads/bpf-study/btf/data/18.04-x86/debs/linux-image-4.18.0-25-generic_4.18.0-25.26~18.04.1_amd64.deb to /Users/szhong/Downloads/bpf-study/btf/data/18.04-x86/vmlinuz/4.18.0-25-generic.vmlinuz\n",
      "[system.py:19] INFO: Running command: \"\u001b[92mdpkg --fsys-tarfile /Users/szhong/Downloads/bpf-study/btf/data/18.04-x86/debs/linux-image-4.18.0-25-generic_4.18.0-25.26~18.04.1_amd64.deb | tar -xO ./boot/vmlinuz-4.18.0-25-generic > /Users/szhong/Downloads/bpf-study/btf/data/18.04-x86/vmlinuz/4.18.0-25-generic.vmlinuz\u001b[0m\"\n",
      "[extract.py:13] INFO: Extracting /Users/szhong/Downloads/bpf-study/btf/data/18.04-x86/debs/linux-image-5.0.0-65-generic_5.0.0-65.71_amd64.deb to /Users/szhong/Downloads/bpf-study/btf/data/18.04-x86/vmlinuz/5.0.0-65-generic.vmlinuz\n",
      "[system.py:19] INFO: Running command: \"\u001b[92mdpkg --fsys-tarfile /Users/szhong/Downloads/bpf-study/btf/data/18.04-x86/debs/linux-image-5.0.0-65-generic_5.0.0-65.71_amd64.deb | tar -xO ./boot/vmlinuz-5.0.0-65-generic > /Users/szhong/Downloads/bpf-study/btf/data/18.04-x86/vmlinuz/5.0.0-65-generic.vmlinuz\u001b[0m\"\n",
      "[extract.py:13] INFO: Extracting /Users/szhong/Downloads/bpf-study/btf/data/18.04-x86/debs/linux-image-5.3.0-76-generic_5.3.0-76.72_amd64.deb to /Users/szhong/Downloads/bpf-study/btf/data/18.04-x86/vmlinuz/5.3.0-76-generic.vmlinuz\n",
      "[system.py:19] INFO: Running command: \"\u001b[92mdpkg --fsys-tarfile /Users/szhong/Downloads/bpf-study/btf/data/18.04-x86/debs/linux-image-5.3.0-76-generic_5.3.0-76.72_amd64.deb | tar -xO ./boot/vmlinuz-5.3.0-76-generic > /Users/szhong/Downloads/bpf-study/btf/data/18.04-x86/vmlinuz/5.3.0-76-generic.vmlinuz\u001b[0m\"\n",
      "[extract.py:13] INFO: Extracting /Users/szhong/Downloads/bpf-study/btf/data/18.04-x86/debs/linux-image-5.4.0-150-generic_5.4.0-150.167~18.04.1_amd64.deb to /Users/szhong/Downloads/bpf-study/btf/data/18.04-x86/vmlinuz/5.4.0-150-generic.vmlinuz\n",
      "[system.py:19] INFO: Running command: \"\u001b[92mdpkg --fsys-tarfile /Users/szhong/Downloads/bpf-study/btf/data/18.04-x86/debs/linux-image-5.4.0-150-generic_5.4.0-150.167~18.04.1_amd64.deb | tar -xO ./boot/vmlinuz-5.4.0-150-generic > /Users/szhong/Downloads/bpf-study/btf/data/18.04-x86/vmlinuz/5.4.0-150-generic.vmlinuz\u001b[0m\"\n"
     ]
    },
    {
     "data": {
      "text/plain": [
       "{'4.15.0-213-generic': PosixPath('/Users/szhong/Downloads/bpf-study/btf/data/18.04-x86/vmlinuz/4.15.0-213-generic.vmlinuz'),\n",
       " '4.18.0-25-generic': PosixPath('/Users/szhong/Downloads/bpf-study/btf/data/18.04-x86/vmlinuz/4.18.0-25-generic.vmlinuz'),\n",
       " '5.0.0-65-generic': PosixPath('/Users/szhong/Downloads/bpf-study/btf/data/18.04-x86/vmlinuz/5.0.0-65-generic.vmlinuz'),\n",
       " '5.3.0-76-generic': PosixPath('/Users/szhong/Downloads/bpf-study/btf/data/18.04-x86/vmlinuz/5.3.0-76-generic.vmlinuz'),\n",
       " '5.4.0-150-generic': PosixPath('/Users/szhong/Downloads/bpf-study/btf/data/18.04-x86/vmlinuz/5.4.0-150-generic.vmlinuz')}"
      ]
     },
     "execution_count": 29,
     "metadata": {},
     "output_type": "execute_result"
    }
   ],
   "source": [
    "from depsurf import extract_vmlinuz_files\n",
    "\n",
    "vmlinuz_paths = extract_vmlinuz_files(deb_paths, result_path=v.vmlinuz_path)\n",
    "\n",
    "vmlinuz_paths"
   ]
  },
  {
   "cell_type": "code",
   "execution_count": 30,
   "metadata": {},
   "outputs": [
    {
     "name": "stderr",
     "output_type": "stream",
     "text": [
      "[extract.py:33] INFO: Extracting /Users/szhong/Downloads/bpf-study/btf/data/18.04-x86/vmlinuz/4.15.0-213-generic.vmlinuz to /Users/szhong/Downloads/bpf-study/btf/data/18.04-x86/vmlinux/4.15.0-213-generic.vmlinux\n"
     ]
    },
    {
     "name": "stderr",
     "output_type": "stream",
     "text": [
      "[vmlinuz_decompressor.py:251] INFO: [+] Kernel successfully decompressed in-memory (the offsets that follow will be given relative to the decompressed binary)\n",
      "[extract.py:33] INFO: Extracting /Users/szhong/Downloads/bpf-study/btf/data/18.04-x86/vmlinuz/4.18.0-25-generic.vmlinuz to /Users/szhong/Downloads/bpf-study/btf/data/18.04-x86/vmlinux/4.18.0-25-generic.vmlinux\n",
      "[vmlinuz_decompressor.py:251] INFO: [+] Kernel successfully decompressed in-memory (the offsets that follow will be given relative to the decompressed binary)\n",
      "[extract.py:33] INFO: Extracting /Users/szhong/Downloads/bpf-study/btf/data/18.04-x86/vmlinuz/5.0.0-65-generic.vmlinuz to /Users/szhong/Downloads/bpf-study/btf/data/18.04-x86/vmlinux/5.0.0-65-generic.vmlinux\n",
      "[vmlinuz_decompressor.py:251] INFO: [+] Kernel successfully decompressed in-memory (the offsets that follow will be given relative to the decompressed binary)\n",
      "[extract.py:33] INFO: Extracting /Users/szhong/Downloads/bpf-study/btf/data/18.04-x86/vmlinuz/5.3.0-76-generic.vmlinuz to /Users/szhong/Downloads/bpf-study/btf/data/18.04-x86/vmlinux/5.3.0-76-generic.vmlinux\n",
      "[vmlinuz_decompressor.py:251] INFO: [+] Kernel successfully decompressed in-memory (the offsets that follow will be given relative to the decompressed binary)\n",
      "[extract.py:33] INFO: Extracting /Users/szhong/Downloads/bpf-study/btf/data/18.04-x86/vmlinuz/5.4.0-150-generic.vmlinuz to /Users/szhong/Downloads/bpf-study/btf/data/18.04-x86/vmlinux/5.4.0-150-generic.vmlinux\n",
      "[vmlinuz_decompressor.py:251] INFO: [+] Kernel successfully decompressed in-memory (the offsets that follow will be given relative to the decompressed binary)\n"
     ]
    },
    {
     "data": {
      "text/plain": [
       "{'4.15.0-213-generic': PosixPath('/Users/szhong/Downloads/bpf-study/btf/data/18.04-x86/vmlinux/4.15.0-213-generic.vmlinux'),\n",
       " '4.18.0-25-generic': PosixPath('/Users/szhong/Downloads/bpf-study/btf/data/18.04-x86/vmlinux/4.18.0-25-generic.vmlinux'),\n",
       " '5.0.0-65-generic': PosixPath('/Users/szhong/Downloads/bpf-study/btf/data/18.04-x86/vmlinux/5.0.0-65-generic.vmlinux'),\n",
       " '5.3.0-76-generic': PosixPath('/Users/szhong/Downloads/bpf-study/btf/data/18.04-x86/vmlinux/5.3.0-76-generic.vmlinux'),\n",
       " '5.4.0-150-generic': PosixPath('/Users/szhong/Downloads/bpf-study/btf/data/18.04-x86/vmlinux/5.4.0-150-generic.vmlinux')}"
      ]
     },
     "execution_count": 30,
     "metadata": {},
     "output_type": "execute_result"
    }
   ],
   "source": [
    "from depsurf import extract_vmlinux_files\n",
    "\n",
    "vmlinux_paths = extract_vmlinux_files(vmlinuz_paths, result_path=v.vmlinux_path)\n",
    "\n",
    "vmlinux_paths"
   ]
  },
  {
   "cell_type": "code",
   "execution_count": 31,
   "metadata": {},
   "outputs": [
    {
     "name": "stderr",
     "output_type": "stream",
     "text": [
      "[extract.py:58] WARNING: No .BTF section in /Users/szhong/Downloads/bpf-study/btf/data/18.04-x86/vmlinux/4.15.0-213-generic.vmlinux\n",
      "[extract.py:58] WARNING: No .BTF section in /Users/szhong/Downloads/bpf-study/btf/data/18.04-x86/vmlinux/4.18.0-25-generic.vmlinux\n",
      "[extract.py:58] WARNING: No .BTF section in /Users/szhong/Downloads/bpf-study/btf/data/18.04-x86/vmlinux/5.0.0-65-generic.vmlinux\n",
      "[extract.py:58] WARNING: No .BTF section in /Users/szhong/Downloads/bpf-study/btf/data/18.04-x86/vmlinux/5.3.0-76-generic.vmlinux\n"
     ]
    },
    {
     "name": "stderr",
     "output_type": "stream",
     "text": [
      "[extract.py:64] INFO: Extracting BTF from /Users/szhong/Downloads/bpf-study/btf/data/18.04-x86/vmlinux/5.4.0-150-generic.vmlinux to /Users/szhong/Downloads/bpf-study/btf/data/18.04-x86/btf/5.4.0-150-generic.btf\n"
     ]
    },
    {
     "data": {
      "text/plain": [
       "{'5.4.0-150-generic': PosixPath('/Users/szhong/Downloads/bpf-study/btf/data/18.04-x86/btf/5.4.0-150-generic.btf')}"
      ]
     },
     "execution_count": 31,
     "metadata": {},
     "output_type": "execute_result"
    }
   ],
   "source": [
    "from depsurf import extract_btf_files\n",
    "\n",
    "btf_paths = extract_btf_files(vmlinux_paths, result_path=v.btf_path)\n",
    "\n",
    "btf_paths"
   ]
  }
 ],
 "metadata": {
  "kernelspec": {
   "display_name": "Python 3",
   "language": "python",
   "name": "python3"
  },
  "language_info": {
   "codemirror_mode": {
    "name": "ipython",
    "version": 3
   },
   "file_extension": ".py",
   "mimetype": "text/x-python",
   "name": "python",
   "nbconvert_exporter": "python",
   "pygments_lexer": "ipython3",
   "version": "3.11.4"
  }
 },
 "nbformat": 4,
 "nbformat_minor": 2
}
