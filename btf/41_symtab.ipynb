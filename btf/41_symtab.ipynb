{
 "cells": [
  {
   "cell_type": "code",
   "execution_count": 55,
   "metadata": {},
   "outputs": [],
   "source": [
    "import pickle\n",
    "\n",
    "with open(\"subroutine_info.pkl\", \"rb\") as f:\n",
    "    subroutine_info = pickle.load(f)"
   ]
  },
  {
   "cell_type": "code",
   "execution_count": 82,
   "metadata": {},
   "outputs": [
    {
     "data": {
      "text/plain": [
       "25020"
      ]
     },
     "execution_count": 82,
     "metadata": {},
     "output_type": "execute_result"
    }
   ],
   "source": [
    "len(subroutine_info) - len(func_df)"
   ]
  },
  {
   "cell_type": "code",
   "execution_count": 63,
   "metadata": {},
   "outputs": [
    {
     "data": {
      "text/plain": [
       "defaultdict(depsurf.dwarf.traverser.SubroutineEntry,\n",
       "            {'include/linux/dmaengine.h': SubroutineEntry(external=False, caller_inline=['serial8250_rx_dma_flush', 'pl011_int'], caller_func=[])})"
      ]
     },
     "execution_count": 63,
     "metadata": {},
     "output_type": "execute_result"
    }
   ],
   "source": [
    "subroutine_info[\"dmaengine_pause\"]"
   ]
  },
  {
   "cell_type": "code",
   "execution_count": 69,
   "metadata": {},
   "outputs": [
    {
     "name": "stdout",
     "output_type": "stream",
     "text": [
      "__builtin_strncmp True\n",
      "fdt_begin_node True\n",
      "get_fdt True\n",
      "efi_setup_gop True\n",
      "efi_get_random_bytes True\n",
      "__real_memchr_inv True\n",
      "get_dram_base True\n",
      "efi_random_get_seed True\n",
      "efi_convert_cmdline True\n",
      "efi_parse_options True\n",
      "efi_get_secureboot True\n",
      "fdt_create True\n",
      "handle_kernel_image True\n",
      "efi_get_virtmap True\n",
      "__builtin_memcmp True\n",
      "efi_free True\n",
      "check_platform_features True\n",
      "efi_random_alloc True\n",
      "is_quiet True\n",
      "novamap True\n",
      "efi_low_alloc_above True\n",
      "__builtin_strchr True\n",
      "efi_retrieve_tpm2_eventlog True\n",
      "get_efi_config_table True\n",
      "__real_strnlen True\n",
      "__builtin_memset True\n",
      "efi_relocate_kernel True\n",
      "efi_high_alloc True\n",
      "__builtin_memcpy True\n",
      "nokaslr True\n",
      "__builtin_strncpy True\n",
      "__builtin_strcmp True\n",
      "efi_exit_boot_services True\n",
      "__builtin_strcpy True\n",
      "fdt_resize True\n",
      "fdt_finish True\n",
      "install_memreserve_table True\n",
      "fdt_property True\n",
      "fdt_finish_reservemap True\n",
      "fdt_property_placeholder True\n",
      "efi_entry True\n",
      "efi_get_memory_map True\n",
      "fdt_create_empty_tree True\n",
      "__real_strlcpy True\n",
      "efi_printk True\n",
      "handle_cmdline_files True\n",
      "fdt_create_with_flags True\n",
      "efi_char16_printk True\n",
      "allocate_new_fdt_and_exit_boot True\n",
      "efi_enable_reset_attack_mitigation True\n",
      "fdt_add_reservemap_entry True\n",
      "__builtin_memchr True\n",
      "__builtin_strlen True\n",
      "__builtin_strcat True\n",
      "__builtin_memmove True\n",
      "__real_kmemdup True\n",
      "fdt_end_node True\n"
     ]
    }
   ],
   "source": [
    "for k in set(subroutine_info.keys()) - set(func_df[\"name\"]):\n",
    "    for location, info in subroutine_info[k].items():\n",
    "        if info.external:\n",
    "            print(location, info.external)\n",
    "        # assert not info.external, info\n",
    "        # print(location, info.external)"
   ]
  },
  {
   "cell_type": "code",
   "execution_count": 1,
   "metadata": {},
   "outputs": [],
   "source": [
    "from depsurf import get_symbol_info, DBGSYM_PATH\n",
    "\n",
    "\n",
    "df = get_symbol_info(DBGSYM_PATH / \"6.5.0-27-generic\")"
   ]
  },
  {
   "cell_type": "code",
   "execution_count": 2,
   "metadata": {},
   "outputs": [
    {
     "data": {
      "text/plain": [
       "132151"
      ]
     },
     "execution_count": 2,
     "metadata": {},
     "output_type": "execute_result"
    }
   ],
   "source": [
    "func_df = df[df.type == \"STT_FUNC\"]\n",
    "\n",
    "len(func_df)"
   ]
  },
  {
   "cell_type": "code",
   "execution_count": 3,
   "metadata": {},
   "outputs": [],
   "source": [
    "duplicated_func_df = func_df[func_df.duplicated(\"name\", keep=False)]"
   ]
  },
  {
   "cell_type": "code",
   "execution_count": 28,
   "metadata": {},
   "outputs": [
    {
     "data": {
      "text/plain": [
       "array(['STT_NOTYPE', 'STT_SECTION', 'STT_FILE', 'STT_FUNC', 'STT_OBJECT'],\n",
       "      dtype=object)"
      ]
     },
     "execution_count": 28,
     "metadata": {},
     "output_type": "execute_result"
    }
   ],
   "source": [
    "df.type.unique()"
   ]
  },
  {
   "cell_type": "code",
   "execution_count": 41,
   "metadata": {},
   "outputs": [
    {
     "data": {
      "text/html": [
       "<div>\n",
       "<style scoped>\n",
       "    .dataframe tbody tr th:only-of-type {\n",
       "        vertical-align: middle;\n",
       "    }\n",
       "\n",
       "    .dataframe tbody tr th {\n",
       "        vertical-align: top;\n",
       "    }\n",
       "\n",
       "    .dataframe thead th {\n",
       "        text-align: right;\n",
       "    }\n",
       "</style>\n",
       "<table border=\"1\" class=\"dataframe\">\n",
       "  <thead>\n",
       "    <tr style=\"text-align: right;\">\n",
       "      <th></th>\n",
       "      <th>name</th>\n",
       "      <th>section</th>\n",
       "      <th>bind</th>\n",
       "      <th>type</th>\n",
       "      <th>visibility</th>\n",
       "      <th>value</th>\n",
       "      <th>size</th>\n",
       "    </tr>\n",
       "  </thead>\n",
       "  <tbody>\n",
       "    <tr>\n",
       "      <th>85</th>\n",
       "      <td>__UNIQUE_ID_ddebug22.44460</td>\n",
       "      <td>.data</td>\n",
       "      <td>STB_LOCAL</td>\n",
       "      <td>STT_OBJECT</td>\n",
       "      <td>STV_DEFAULT</td>\n",
       "      <td>18446603336519985128</td>\n",
       "      <td>56</td>\n",
       "    </tr>\n",
       "    <tr>\n",
       "      <th>97</th>\n",
       "      <td>__func__.44502</td>\n",
       "      <td>.rodata</td>\n",
       "      <td>STB_LOCAL</td>\n",
       "      <td>STT_OBJECT</td>\n",
       "      <td>STV_DEFAULT</td>\n",
       "      <td>18446603336504059160</td>\n",
       "      <td>18</td>\n",
       "    </tr>\n",
       "    <tr>\n",
       "      <th>98</th>\n",
       "      <td>esr_class_str</td>\n",
       "      <td>.rodata</td>\n",
       "      <td>STB_LOCAL</td>\n",
       "      <td>STT_OBJECT</td>\n",
       "      <td>STV_DEFAULT</td>\n",
       "      <td>18446603336504059184</td>\n",
       "      <td>512</td>\n",
       "    </tr>\n",
       "    <tr>\n",
       "      <th>99</th>\n",
       "      <td>__func__.44461</td>\n",
       "      <td>.rodata</td>\n",
       "      <td>STB_LOCAL</td>\n",
       "      <td>STT_OBJECT</td>\n",
       "      <td>STV_DEFAULT</td>\n",
       "      <td>18446603336504059696</td>\n",
       "      <td>15</td>\n",
       "    </tr>\n",
       "    <tr>\n",
       "      <th>100</th>\n",
       "      <td>cp15_32_hooks</td>\n",
       "      <td>.rodata</td>\n",
       "      <td>STB_LOCAL</td>\n",
       "      <td>STT_OBJECT</td>\n",
       "      <td>STV_DEFAULT</td>\n",
       "      <td>18446603336504059712</td>\n",
       "      <td>32</td>\n",
       "    </tr>\n",
       "  </tbody>\n",
       "</table>\n",
       "</div>"
      ],
      "text/plain": [
       "                           name  section       bind        type   visibility                 value  size\n",
       "85   __UNIQUE_ID_ddebug22.44460    .data  STB_LOCAL  STT_OBJECT  STV_DEFAULT  18446603336519985128    56\n",
       "97               __func__.44502  .rodata  STB_LOCAL  STT_OBJECT  STV_DEFAULT  18446603336504059160    18\n",
       "98                esr_class_str  .rodata  STB_LOCAL  STT_OBJECT  STV_DEFAULT  18446603336504059184   512\n",
       "99               __func__.44461  .rodata  STB_LOCAL  STT_OBJECT  STV_DEFAULT  18446603336504059696    15\n",
       "100               cp15_32_hooks  .rodata  STB_LOCAL  STT_OBJECT  STV_DEFAULT  18446603336504059712    32"
      ]
     },
     "execution_count": 41,
     "metadata": {},
     "output_type": "execute_result"
    }
   ],
   "source": [
    "df[(df.type == \"STT_OBJECT\")][:5]"
   ]
  },
  {
   "cell_type": "code",
   "execution_count": 39,
   "metadata": {},
   "outputs": [
    {
     "data": {
      "text/html": [
       "<div>\n",
       "<style scoped>\n",
       "    .dataframe tbody tr th:only-of-type {\n",
       "        vertical-align: middle;\n",
       "    }\n",
       "\n",
       "    .dataframe tbody tr th {\n",
       "        vertical-align: top;\n",
       "    }\n",
       "\n",
       "    .dataframe thead th {\n",
       "        text-align: right;\n",
       "    }\n",
       "</style>\n",
       "<table border=\"1\" class=\"dataframe\">\n",
       "  <thead>\n",
       "    <tr style=\"text-align: right;\">\n",
       "      <th></th>\n",
       "      <th>name</th>\n",
       "      <th>section</th>\n",
       "      <th>bind</th>\n",
       "      <th>type</th>\n",
       "      <th>visibility</th>\n",
       "      <th>value</th>\n",
       "      <th>size</th>\n",
       "    </tr>\n",
       "  </thead>\n",
       "  <tbody>\n",
       "    <tr>\n",
       "      <th>140611</th>\n",
       "      <td>__tracepoint_block_bio_backmerge</td>\n",
       "      <td>.data</td>\n",
       "      <td>STB_GLOBAL</td>\n",
       "      <td>STT_OBJECT</td>\n",
       "      <td>STV_DEFAULT</td>\n",
       "      <td>18446603336519972224</td>\n",
       "      <td>48</td>\n",
       "    </tr>\n",
       "    <tr>\n",
       "      <th>140619</th>\n",
       "      <td>__tracepoint_hrtimer_expire_entry</td>\n",
       "      <td>.data</td>\n",
       "      <td>STB_GLOBAL</td>\n",
       "      <td>STT_OBJECT</td>\n",
       "      <td>STV_DEFAULT</td>\n",
       "      <td>18446603336519956720</td>\n",
       "      <td>48</td>\n",
       "    </tr>\n",
       "    <tr>\n",
       "      <th>140645</th>\n",
       "      <td>__tracepoint_page_pool_state_release</td>\n",
       "      <td>.data</td>\n",
       "      <td>STB_GLOBAL</td>\n",
       "      <td>STT_OBJECT</td>\n",
       "      <td>STV_DEFAULT</td>\n",
       "      <td>18446603336519982544</td>\n",
       "      <td>48</td>\n",
       "    </tr>\n",
       "    <tr>\n",
       "      <th>140648</th>\n",
       "      <td>__tracepoint_dax_pmd_load_hole_fallback</td>\n",
       "      <td>.data</td>\n",
       "      <td>STB_GLOBAL</td>\n",
       "      <td>STT_OBJECT</td>\n",
       "      <td>STV_DEFAULT</td>\n",
       "      <td>18446603336519965504</td>\n",
       "      <td>48</td>\n",
       "    </tr>\n",
       "    <tr>\n",
       "      <th>140656</th>\n",
       "      <td>__tracepoint_dev_pm_qos_update_request</td>\n",
       "      <td>.data</td>\n",
       "      <td>STB_GLOBAL</td>\n",
       "      <td>STT_OBJECT</td>\n",
       "      <td>STV_DEFAULT</td>\n",
       "      <td>18446603336519957968</td>\n",
       "      <td>48</td>\n",
       "    </tr>\n",
       "  </tbody>\n",
       "</table>\n",
       "</div>"
      ],
      "text/plain": [
       "                                           name section        bind        type   visibility                 value  size\n",
       "140611         __tracepoint_block_bio_backmerge   .data  STB_GLOBAL  STT_OBJECT  STV_DEFAULT  18446603336519972224    48\n",
       "140619        __tracepoint_hrtimer_expire_entry   .data  STB_GLOBAL  STT_OBJECT  STV_DEFAULT  18446603336519956720    48\n",
       "140645     __tracepoint_page_pool_state_release   .data  STB_GLOBAL  STT_OBJECT  STV_DEFAULT  18446603336519982544    48\n",
       "140648  __tracepoint_dax_pmd_load_hole_fallback   .data  STB_GLOBAL  STT_OBJECT  STV_DEFAULT  18446603336519965504    48\n",
       "140656   __tracepoint_dev_pm_qos_update_request   .data  STB_GLOBAL  STT_OBJECT  STV_DEFAULT  18446603336519957968    48"
      ]
     },
     "execution_count": 39,
     "metadata": {},
     "output_type": "execute_result"
    }
   ],
   "source": [
    "df[(df.type == \"STT_OBJECT\") & (df.name.str.startswith(\"__tracepoint\"))][:5]"
   ]
  },
  {
   "cell_type": "code",
   "execution_count": 40,
   "metadata": {},
   "outputs": [
    {
     "data": {
      "text/html": [
       "<div>\n",
       "<style scoped>\n",
       "    .dataframe tbody tr th:only-of-type {\n",
       "        vertical-align: middle;\n",
       "    }\n",
       "\n",
       "    .dataframe tbody tr th {\n",
       "        vertical-align: top;\n",
       "    }\n",
       "\n",
       "    .dataframe thead th {\n",
       "        text-align: right;\n",
       "    }\n",
       "</style>\n",
       "<table border=\"1\" class=\"dataframe\">\n",
       "  <thead>\n",
       "    <tr style=\"text-align: right;\">\n",
       "      <th></th>\n",
       "      <th>name</th>\n",
       "      <th>section</th>\n",
       "      <th>bind</th>\n",
       "      <th>type</th>\n",
       "      <th>visibility</th>\n",
       "      <th>value</th>\n",
       "      <th>size</th>\n",
       "    </tr>\n",
       "  </thead>\n",
       "  <tbody>\n",
       "    <tr>\n",
       "      <th>140684</th>\n",
       "      <td>tramp_pg_dir</td>\n",
       "      <td>.init.text</td>\n",
       "      <td>STB_GLOBAL</td>\n",
       "      <td>STT_NOTYPE</td>\n",
       "      <td>STV_DEFAULT</td>\n",
       "      <td>18446603336510767104</td>\n",
       "      <td>0</td>\n",
       "    </tr>\n",
       "    <tr>\n",
       "      <th>140706</th>\n",
       "      <td>kallsyms_token_table</td>\n",
       "      <td>.rodata</td>\n",
       "      <td>STB_GLOBAL</td>\n",
       "      <td>STT_NOTYPE</td>\n",
       "      <td>STV_DEFAULT</td>\n",
       "      <td>18446603336508311456</td>\n",
       "      <td>0</td>\n",
       "    </tr>\n",
       "    <tr>\n",
       "      <th>140744</th>\n",
       "      <td>__stop___kcrctab_gpl_future</td>\n",
       "      <td>__ksymtab_strings</td>\n",
       "      <td>STB_GLOBAL</td>\n",
       "      <td>STT_NOTYPE</td>\n",
       "      <td>STV_DEFAULT</td>\n",
       "      <td>18446603336510507288</td>\n",
       "      <td>0</td>\n",
       "    </tr>\n",
       "    <tr>\n",
       "      <th>140896</th>\n",
       "      <td>__stop___ksymtab_gpl</td>\n",
       "      <td>__ksymtab_gpl</td>\n",
       "      <td>STB_GLOBAL</td>\n",
       "      <td>STT_NOTYPE</td>\n",
       "      <td>STV_DEFAULT</td>\n",
       "      <td>18446603336510507288</td>\n",
       "      <td>0</td>\n",
       "    </tr>\n",
       "    <tr>\n",
       "      <th>140938</th>\n",
       "      <td>__aarch32_sigret_code_start</td>\n",
       "      <td>.text</td>\n",
       "      <td>STB_GLOBAL</td>\n",
       "      <td>STT_NOTYPE</td>\n",
       "      <td>STV_DEFAULT</td>\n",
       "      <td>18446603336490293040</td>\n",
       "      <td>0</td>\n",
       "    </tr>\n",
       "  </tbody>\n",
       "</table>\n",
       "</div>"
      ],
      "text/plain": [
       "                               name            section        bind        type   visibility                 value  size\n",
       "140684                 tramp_pg_dir         .init.text  STB_GLOBAL  STT_NOTYPE  STV_DEFAULT  18446603336510767104     0\n",
       "140706         kallsyms_token_table            .rodata  STB_GLOBAL  STT_NOTYPE  STV_DEFAULT  18446603336508311456     0\n",
       "140744  __stop___kcrctab_gpl_future  __ksymtab_strings  STB_GLOBAL  STT_NOTYPE  STV_DEFAULT  18446603336510507288     0\n",
       "140896         __stop___ksymtab_gpl      __ksymtab_gpl  STB_GLOBAL  STT_NOTYPE  STV_DEFAULT  18446603336510507288     0\n",
       "140938  __aarch32_sigret_code_start              .text  STB_GLOBAL  STT_NOTYPE  STV_DEFAULT  18446603336490293040     0"
      ]
     },
     "execution_count": 40,
     "metadata": {},
     "output_type": "execute_result"
    }
   ],
   "source": [
    "df[(df.type == \"STT_NOTYPE\") & (df.bind == \"STB_GLOBAL\")][:5]"
   ]
  }
 ],
 "metadata": {
  "kernelspec": {
   "display_name": "Python 3",
   "language": "python",
   "name": "python3"
  },
  "language_info": {
   "codemirror_mode": {
    "name": "ipython",
    "version": 3
   },
   "file_extension": ".py",
   "mimetype": "text/x-python",
   "name": "python",
   "nbconvert_exporter": "python",
   "pygments_lexer": "ipython3",
   "version": "3.11.4"
  }
 },
 "nbformat": 4,
 "nbformat_minor": 2
}
