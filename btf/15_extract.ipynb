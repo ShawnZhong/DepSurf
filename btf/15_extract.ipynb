{
 "cells": [
  {
   "cell_type": "code",
   "execution_count": 1,
   "metadata": {},
   "outputs": [],
   "source": [
    "%reload_ext autoreload\n",
    "%autoreload 2"
   ]
  },
  {
   "cell_type": "code",
   "execution_count": 4,
   "metadata": {},
   "outputs": [
    {
     "name": "stderr",
     "output_type": "stream",
     "text": [
      "[utils.py:38] INFO: Using /Users/szhong/Downloads/bpf-study/btf/data/vmlinux/6.5.0-1010-gcp-arm64\n",
      "[utils.py:50] INFO: Using /Users/szhong/Downloads/bpf-study/btf/data/btf/6.5.0-1010-gcp-arm64.btf\n",
      "[bpftool.py:49] INFO: Using /Users/szhong/Downloads/bpf-study/btf/data/btf/6.5.0-1010-gcp-arm64.h\n",
      "[bpftool.py:49] INFO: Using /Users/szhong/Downloads/bpf-study/btf/data/btf/6.5.0-1010-gcp-arm64.txt\n",
      "[bpftool.py:49] INFO: Using /Users/szhong/Downloads/bpf-study/btf/data/btf/6.5.0-1010-gcp-arm64.json\n",
      "[normalize.py:153] INFO: /Users/szhong/Downloads/bpf-study/btf/data/btf/6.5.0-1010-gcp-arm64.pkl already exists\n",
      "[utils.py:38] INFO: Using /Users/szhong/Downloads/bpf-study/btf/data/vmlinux/6.5.0-1010-aws-arm64\n",
      "[utils.py:50] INFO: Using /Users/szhong/Downloads/bpf-study/btf/data/btf/6.5.0-1010-aws-arm64.btf\n",
      "[bpftool.py:49] INFO: Using /Users/szhong/Downloads/bpf-study/btf/data/btf/6.5.0-1010-aws-arm64.h\n",
      "[bpftool.py:49] INFO: Using /Users/szhong/Downloads/bpf-study/btf/data/btf/6.5.0-1010-aws-arm64.txt\n",
      "[bpftool.py:49] INFO: Using /Users/szhong/Downloads/bpf-study/btf/data/btf/6.5.0-1010-aws-arm64.json\n",
      "[normalize.py:153] INFO: /Users/szhong/Downloads/bpf-study/btf/data/btf/6.5.0-1010-aws-arm64.pkl already exists\n",
      "[utils.py:38] INFO: Using /Users/szhong/Downloads/bpf-study/btf/data/vmlinux/6.5.0-1010-raspi-arm64\n",
      "[utils.py:50] INFO: Using /Users/szhong/Downloads/bpf-study/btf/data/btf/6.5.0-1010-raspi-arm64.btf\n",
      "[bpftool.py:49] INFO: Using /Users/szhong/Downloads/bpf-study/btf/data/btf/6.5.0-1010-raspi-arm64.h\n",
      "[bpftool.py:49] INFO: Using /Users/szhong/Downloads/bpf-study/btf/data/btf/6.5.0-1010-raspi-arm64.txt\n",
      "[bpftool.py:49] INFO: Using /Users/szhong/Downloads/bpf-study/btf/data/btf/6.5.0-1010-raspi-arm64.json\n",
      "[normalize.py:153] INFO: /Users/szhong/Downloads/bpf-study/btf/data/btf/6.5.0-1010-raspi-arm64.pkl already exists\n",
      "[utils.py:38] INFO: Using /Users/szhong/Downloads/bpf-study/btf/data/vmlinux/6.5.0-1010-azure-arm64\n",
      "[utils.py:50] INFO: Using /Users/szhong/Downloads/bpf-study/btf/data/btf/6.5.0-1010-azure-arm64.btf\n",
      "[bpftool.py:49] INFO: Using /Users/szhong/Downloads/bpf-study/btf/data/btf/6.5.0-1010-azure-arm64.h\n",
      "[bpftool.py:49] INFO: Using /Users/szhong/Downloads/bpf-study/btf/data/btf/6.5.0-1010-azure-arm64.txt\n",
      "[bpftool.py:49] INFO: Using /Users/szhong/Downloads/bpf-study/btf/data/btf/6.5.0-1010-azure-arm64.json\n",
      "[normalize.py:153] INFO: /Users/szhong/Downloads/bpf-study/btf/data/btf/6.5.0-1010-azure-arm64.pkl already exists\n",
      "[utils.py:38] INFO: Using /Users/szhong/Downloads/bpf-study/btf/data/vmlinux/6.5.0-1010-laptop-arm64\n",
      "[utils.py:50] INFO: Using /Users/szhong/Downloads/bpf-study/btf/data/btf/6.5.0-1010-laptop-arm64.btf\n",
      "[bpftool.py:49] INFO: Using /Users/szhong/Downloads/bpf-study/btf/data/btf/6.5.0-1010-laptop-arm64.h\n",
      "[bpftool.py:49] INFO: Using /Users/szhong/Downloads/bpf-study/btf/data/btf/6.5.0-1010-laptop-arm64.txt\n",
      "[bpftool.py:49] INFO: Using /Users/szhong/Downloads/bpf-study/btf/data/btf/6.5.0-1010-laptop-arm64.json\n",
      "[normalize.py:153] INFO: /Users/szhong/Downloads/bpf-study/btf/data/btf/6.5.0-1010-laptop-arm64.pkl already exists\n"
     ]
    }
   ],
   "source": [
    "from depsurf import extract_deb, extract_btf, dump_btf, normalize_btf, DATA_PATH, BuildVersion\n",
    "\n",
    "\n",
    "for deb_path in (DATA_PATH / \"debs\").iterdir():\n",
    "    version = BuildVersion.from_path(deb_path)\n",
    "    extract_deb(deb_path, version.compressed_vmlinux_path, version.vmlinux_path)\n",
    "    extract_btf(version.vmlinux_path, version.btf_path)\n",
    "    dump_btf(version.btf_path)\n",
    "    normalize_btf(version.btf_path)"
   ]
  }
 ],
 "metadata": {
  "kernelspec": {
   "display_name": "Python 3",
   "language": "python",
   "name": "python3"
  },
  "language_info": {
   "codemirror_mode": {
    "name": "ipython",
    "version": 3
   },
   "file_extension": ".py",
   "mimetype": "text/x-python",
   "name": "python",
   "nbconvert_exporter": "python",
   "pygments_lexer": "ipython3",
   "version": "3.11.4"
  }
 },
 "nbformat": 4,
 "nbformat_minor": 2
}
