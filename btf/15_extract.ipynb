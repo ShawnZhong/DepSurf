{
 "cells": [
  {
   "cell_type": "code",
   "execution_count": 2,
   "metadata": {},
   "outputs": [
    {
     "name": "stderr",
     "output_type": "stream",
     "text": [
      "[utils.py:28] INFO: Extracting /Users/szhong/Downloads/bpf-study/btf/data/dbgsym/linux-image-unsigned-6.5.0-27-generic-dbgsym_6.5.0-27.28~22.04.1_amd64.ddeb to ./vmlinux-6.5.0-27-generic\n",
      "[system.py:19] INFO: Running command: \"\u001b[92mdpkg --fsys-tarfile /Users/szhong/Downloads/bpf-study/btf/data/dbgsym/linux-image-unsigned-6.5.0-27-generic-dbgsym_6.5.0-27.28~22.04.1_amd64.ddeb | tar -xO ./usr/lib/debug/boot/vmlinux-6.5.0-27-generic > ./vmlinux-6.5.0-27-generic\u001b[0m\"\n",
      "[system.py:19] INFO: Running command: \"\u001b[92mdpkg --fsys-tarfile /Users/szhong/Downloads/bpf-study/btf/data/dbgsym/linux-image-unsigned-6.5.0-27-generic-dbgsym_6.5.0-27.28~22.04.1_amd64.ddeb | tar -xO ./usr/lib/debug/boot/vmlinux-6.5.0-27-generic > ./vmlinux-6.5.0-27-generic\u001b[0m\"\n"
     ]
    }
   ],
   "source": [
    "from depsurf import extract_deb\n",
    "\n",
    "deb_path = \"/Users/szhong/Downloads/bpf-study/btf/data/dbgsym/linux-image-unsigned-6.5.0-27-generic-dbgsym_6.5.0-27.28~22.04.1_amd64.ddeb\"\n",
    "\n",
    "extract_deb(deb_path, \"./usr/lib/debug/boot/vmlinux-6.5.0-27-generic\", \"./vmlinux-6.5.0-27-generic\")"
   ]
  }
 ],
 "metadata": {
  "kernelspec": {
   "display_name": "Python 3",
   "language": "python",
   "name": "python3"
  },
  "language_info": {
   "codemirror_mode": {
    "name": "ipython",
    "version": 3
   },
   "file_extension": ".py",
   "mimetype": "text/x-python",
   "name": "python",
   "nbconvert_exporter": "python",
   "pygments_lexer": "ipython3",
   "version": "3.11.4"
  }
 },
 "nbformat": 4,
 "nbformat_minor": 2
}
