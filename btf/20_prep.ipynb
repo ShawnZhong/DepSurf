{
 "cells": [
  {
   "cell_type": "code",
   "execution_count": 1,
   "metadata": {},
   "outputs": [],
   "source": [
    "%reload_ext autoreload\n",
    "%autoreload 2"
   ]
  },
  {
   "cell_type": "code",
   "execution_count": 3,
   "metadata": {},
   "outputs": [
    {
     "name": "stderr",
     "output_type": "stream",
     "text": [
      "[decorator.py:17 ] INFO: extract_deb      Using /Users/szhong/Downloads/bpf-study/btf/data/vmlinux/4.4.0-21-generic-amd64\n",
      "[decorator.py:17 ] INFO: extract_btf      Using /Users/szhong/Downloads/bpf-study/btf/data/btf/4.4.0-21-generic-amd64\n",
      "[decorator.py:17 ] INFO: dump_btf_impl    Using /Users/szhong/Downloads/bpf-study/btf/data/btf_json/4.4.0-21-generic-amd64.json\n",
      "[decorator.py:17 ] INFO: dump_btf_impl    Using /Users/szhong/Downloads/bpf-study/btf/data/btf_txt/4.4.0-21-generic-amd64.txt\n",
      "[decorator.py:17 ] INFO: dump_btf_impl    Using /Users/szhong/Downloads/bpf-study/btf/data/btf_header/4.4.0-21-generic-amd64.h\n",
      "[decorator.py:17 ] INFO: normalize_btf    Using /Users/szhong/Downloads/bpf-study/btf/data/btf_norm/4.4.0-21-generic-amd64.pkl\n",
      "[decorator.py:17 ] INFO: dump_symtab      Using /Users/szhong/Downloads/bpf-study/btf/data/symtab/4.4.0-21-generic-amd64.pkl\n",
      "[decorator.py:17 ] INFO: extract_btf      Using /Users/szhong/Downloads/bpf-study/btf/data/btf/4.4.0-21-generic-amd64\n",
      "[decorator.py:17 ] INFO: dump_btf_impl    Using /Users/szhong/Downloads/bpf-study/btf/data/btf_json/4.4.0-21-generic-amd64.json\n",
      "[decorator.py:17 ] INFO: dump_btf_impl    Using /Users/szhong/Downloads/bpf-study/btf/data/btf_txt/4.4.0-21-generic-amd64.txt\n",
      "[decorator.py:17 ] INFO: dump_btf_impl    Using /Users/szhong/Downloads/bpf-study/btf/data/btf_header/4.4.0-21-generic-amd64.h\n",
      "[decorator.py:17 ] INFO: normalize_btf    Using /Users/szhong/Downloads/bpf-study/btf/data/btf_norm/4.4.0-21-generic-amd64.pkl\n",
      "[decorator.py:17 ] INFO: dump_symtab      Using /Users/szhong/Downloads/bpf-study/btf/data/symtab/4.4.0-21-generic-amd64.pkl\n"
     ]
    }
   ],
   "source": [
    "import multiprocessing as mp\n",
    "\n",
    "from depsurf import (\n",
    "    BuildVersion,\n",
    "    dump_symtab,\n",
    "    dump_btf,\n",
    "    extract_btf,\n",
    "    extract_deb,\n",
    "    normalize_btf,\n",
    ")\n",
    "\n",
    "\n",
    "def prep(bv: BuildVersion):\n",
    "    extract_deb(\n",
    "        deb_path=bv.deb_path,\n",
    "        file_path=bv.vmlinux_deb_path,\n",
    "        result_path=bv.vmlinux_path,\n",
    "        overwrite=False,\n",
    "    )\n",
    "    extract_btf(\n",
    "        vmlinux_path=bv.vmlinux_path,\n",
    "        result_path=bv.btf_path,\n",
    "        overwrite=False,\n",
    "    )\n",
    "    dump_btf(\n",
    "        btf_path=bv.btf_path,\n",
    "        result_paths=(\n",
    "            bv.btf_json_path,\n",
    "            bv.btf_txt_path,\n",
    "            bv.btf_header_path,\n",
    "        ),\n",
    "        overwrite=False,\n",
    "    )\n",
    "    normalize_btf(\n",
    "        bv.btf_json_path,\n",
    "        result_path=bv.btf_normalized_path,\n",
    "        overwrite=False,\n",
    "    )\n",
    "    dump_symtab(\n",
    "        vmlinux_path=bv.vmlinux_path,\n",
    "        result_path=bv.symtab_path,\n",
    "        overwrite=False,\n",
    "    )\n",
    "\n",
    "with mp.Pool(mp.cpu_count() - 1) as pool:\n",
    "    pool.map(prep, BuildVersion.iter())"
   ]
  }
 ],
 "metadata": {
  "kernelspec": {
   "display_name": "Python 3",
   "language": "python",
   "name": "python3"
  },
  "language_info": {
   "codemirror_mode": {
    "name": "ipython",
    "version": 3
   },
   "file_extension": ".py",
   "mimetype": "text/x-python",
   "name": "python",
   "nbconvert_exporter": "python",
   "pygments_lexer": "ipython3",
   "version": "3.11.4"
  }
 },
 "nbformat": 4,
 "nbformat_minor": 2
}
