{
 "cells": [
  {
   "cell_type": "code",
   "execution_count": 1,
   "metadata": {},
   "outputs": [
    {
     "name": "stdout",
     "output_type": "stream",
     "text": [
      "Defaulting to user installation because normal site-packages is not writeable\n",
      "Collecting git+https://github.com/marin-m/vmlinux-to-elf\n",
      "  Cloning https://github.com/marin-m/vmlinux-to-elf to /tmp/pip-req-build-wtvahacr\n",
      "  Running command git clone --filter=blob:none --quiet https://github.com/marin-m/vmlinux-to-elf /tmp/pip-req-build-wtvahacr\n",
      "  Resolved https://github.com/marin-m/vmlinux-to-elf to commit fa5c9305ae1c4bbcd2debabb810e7613def690a7\n",
      "  Preparing metadata (setup.py) ... \u001b[?25ldone\n",
      "\u001b[?25hCollecting python-lzo@ git+https://github.com/clubby789/python-lzo@b4e39df\n",
      "  Cloning https://github.com/clubby789/python-lzo (to revision b4e39df) to /tmp/pip-install-djxlb9yp/python-lzo_69f0effc205e431ba702e32392f92184\n",
      "  Running command git clone --filter=blob:none --quiet https://github.com/clubby789/python-lzo /tmp/pip-install-djxlb9yp/python-lzo_69f0effc205e431ba702e32392f92184\n",
      "\u001b[33m  WARNING: Did not find branch or tag 'b4e39df', assuming revision or ref.\u001b[0m\u001b[33m\n",
      "\u001b[0m  Running command git checkout -q b4e39df\n",
      "  Resolved https://github.com/clubby789/python-lzo to commit b4e39df\n",
      "  Preparing metadata (setup.py) ... \u001b[?25ldone\n",
      "\u001b[?25hRequirement already satisfied: lz4 in /home/szhong/.local/lib/python3.11/site-packages (from vmlinux-to-elf==1.0) (4.3.3)\n",
      "Requirement already satisfied: zstandard in /home/szhong/.local/lib/python3.11/site-packages (from vmlinux-to-elf==1.0) (0.22.0)\n"
     ]
    }
   ],
   "source": [
    "!pip install --upgrade git+https://github.com/marin-m/vmlinux-to-elf --break-system-packages"
   ]
  },
  {
   "cell_type": "code",
   "execution_count": 2,
   "metadata": {},
   "outputs": [],
   "source": [
    "from vmlinux_to_elf.kallsyms_finder import KallsymsFinder, obtain_raw_kernel_from_file\n",
    "\n",
    "path = '/Users/szhong/Downloads/bpf-study/btf/data/20.04-x86/tmp/vmlinux-5.4.0-170-generic'\n",
    "# path = '/Users/szhong/Downloads/bpf-study/btf/data/20.04-x86/tmp/vmlinux-5.15.0-92-generic'\n",
    "with open(path, 'rb') as f:\n",
    "    kallsyms = KallsymsFinder(obtain_raw_kernel_from_file(f.read()))"
   ]
  },
  {
   "cell_type": "code",
   "execution_count": 14,
   "metadata": {},
   "outputs": [
    {
     "name": "stdout",
     "output_type": "stream",
     "text": [
      ".part.0: 1.77%\n",
      ".isra.0: 1.62%\n",
      ".constprop.0: 0.90%\n",
      ".cold: 7.13%\n"
     ]
    }
   ],
   "source": [
    "from collections import defaultdict\n",
    "\n",
    "from vmlinux_to_elf.kallsyms_finder import KallsymsSymbolType\n",
    "\n",
    "# https://sourceware.org/binutils/docs/binutils/nm.html\n",
    "ignored_sym_types = [\n",
    "    KallsymsSymbolType.RODATA, # The symbol is in a read only data section.\n",
    "    KallsymsSymbolType.DATA, # The symbol is in the initialized data section.\n",
    "    KallsymsSymbolType.BSS, # The symbol is in the BSS data section.\n",
    "    KallsymsSymbolType.ABSOLUTE, # The symbol’s value is absolute, and will not be changed by further linking.\n",
    "]\n",
    "\n",
    "fn_sym_types = [\n",
    "    KallsymsSymbolType.TEXT, # The symbol is in the text (code) section.\n",
    "    KallsymsSymbolType.WEAK_SYMBOL_WITH_DEFAULT, # The symbol is a weak symbol that has not been specifically tagged as a weak object symbol. \n",
    "    KallsymsSymbolType.WEAK_OBJECT_WITH_DEFAULT, # The symbol is a weak object. \n",
    "]\n",
    "\n",
    "suffixes = [\n",
    "    \".isra.0\",\n",
    "    \".part.0\",\n",
    "    \".constprop.0\",\n",
    "    \".cold\",\n",
    "]\n",
    "\n",
    "counts = defaultdict(int)\n",
    "\n",
    "for s in kallsyms.symbols:\n",
    "    if s.symbol_type in ignored_sym_types:\n",
    "        continue\n",
    "    assert s.symbol_type in fn_sym_types, f\"Unknown symbol type: {s.symbol_type}\"\n",
    "    if \".\" in s.name:\n",
    "        if s.name.startswith(\".\"):\n",
    "            continue\n",
    "        if s.name.split('.', 1)[-1].isdigit():\n",
    "            continue\n",
    "        match = False\n",
    "        for suffix in suffixes:\n",
    "            if s.name.endswith(suffix):\n",
    "                counts[suffix] += 1\n",
    "                match = True\n",
    "        if not match:\n",
    "            print(f\"Unknown suffix: {s.name}\")\n",
    "\n",
    "counts\n",
    "\n",
    "# cat /Users/szhong/Downloads/bpf-study/btf/data/20.04-x86/5.4.0-170-generic.txt | grep \"FUNC '\" | wc -l\n",
    "for k, v in counts.items():\n",
    "    print(f\"{k}: {v / 48181 * 100:.2f}%\")\n"
   ]
  }
 ],
 "metadata": {
  "kernelspec": {
   "display_name": "Python 3",
   "language": "python",
   "name": "python3"
  },
  "language_info": {
   "codemirror_mode": {
    "name": "ipython",
    "version": 3
   },
   "file_extension": ".py",
   "mimetype": "text/x-python",
   "name": "python",
   "nbconvert_exporter": "python",
   "pygments_lexer": "ipython3",
   "version": "3.11.4"
  }
 },
 "nbformat": 4,
 "nbformat_minor": 2
}
