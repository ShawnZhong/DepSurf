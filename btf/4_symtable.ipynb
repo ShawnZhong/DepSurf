{
 "cells": [
  {
   "cell_type": "code",
   "execution_count": 2,
   "metadata": {},
   "outputs": [],
   "source": [
    "from vmlinux_to_elf.kallsyms_finder import KallsymsFinder, obtain_raw_kernel_from_file\n",
    "\n",
    "path = '/Users/szhong/Downloads/bpf-study/btf/data/20.04-x86/tmp/vmlinux-5.4.0-170-generic'\n",
    "# path = '/Users/szhong/Downloads/bpf-study/btf/data/20.04-x86/tmp/vmlinux-5.15.0-92-generic'\n",
    "with open(path, 'rb') as f:\n",
    "    kallsyms = KallsymsFinder(obtain_raw_kernel_from_file(f.read()))"
   ]
  },
  {
   "cell_type": "code",
   "execution_count": 14,
   "metadata": {},
   "outputs": [
    {
     "name": "stdout",
     "output_type": "stream",
     "text": [
      ".part.0: 1.77%\n",
      ".isra.0: 1.62%\n",
      ".constprop.0: 0.90%\n",
      ".cold: 7.13%\n"
     ]
    }
   ],
   "source": [
    "from collections import defaultdict\n",
    "\n",
    "from vmlinux_to_elf.kallsyms_finder import KallsymsSymbolType\n",
    "\n",
    "# https://sourceware.org/binutils/docs/binutils/nm.html\n",
    "ignored_sym_types = [\n",
    "    KallsymsSymbolType.RODATA, # The symbol is in a read only data section.\n",
    "    KallsymsSymbolType.DATA, # The symbol is in the initialized data section.\n",
    "    KallsymsSymbolType.BSS, # The symbol is in the BSS data section.\n",
    "    KallsymsSymbolType.ABSOLUTE, # The symbol’s value is absolute, and will not be changed by further linking.\n",
    "]\n",
    "\n",
    "fn_sym_types = [\n",
    "    KallsymsSymbolType.TEXT, # The symbol is in the text (code) section.\n",
    "    KallsymsSymbolType.WEAK_SYMBOL_WITH_DEFAULT, # The symbol is a weak symbol that has not been specifically tagged as a weak object symbol. \n",
    "    KallsymsSymbolType.WEAK_OBJECT_WITH_DEFAULT, # The symbol is a weak object. \n",
    "]\n",
    "\n",
    "suffixes = [\n",
    "    \".isra.0\",\n",
    "    \".part.0\",\n",
    "    \".constprop.0\",\n",
    "    \".cold\",\n",
    "]\n",
    "\n",
    "counts = defaultdict(int)\n",
    "\n",
    "for s in kallsyms.symbols:\n",
    "    if s.symbol_type in ignored_sym_types:\n",
    "        continue\n",
    "    assert s.symbol_type in fn_sym_types, f\"Unknown symbol type: {s.symbol_type}\"\n",
    "    if \".\" in s.name:\n",
    "        if s.name.startswith(\".\"):\n",
    "            continue\n",
    "        if s.name.split('.', 1)[-1].isdigit():\n",
    "            continue\n",
    "        match = False\n",
    "        for suffix in suffixes:\n",
    "            if s.name.endswith(suffix):\n",
    "                counts[suffix] += 1\n",
    "                match = True\n",
    "        if not match:\n",
    "            print(f\"Unknown suffix: {s.name}\")\n",
    "\n",
    "counts\n",
    "\n",
    "# cat /Users/szhong/Downloads/bpf-study/btf/data/20.04-x86/5.4.0-170-generic.txt | grep \"FUNC '\" | wc -l\n",
    "for k, v in counts.items():\n",
    "    print(f\"{k}: {v / 48181 * 100:.2f}%\")\n"
   ]
  }
 ],
 "metadata": {
  "kernelspec": {
   "display_name": "Python 3",
   "language": "python",
   "name": "python3"
  },
  "language_info": {
   "codemirror_mode": {
    "name": "ipython",
    "version": 3
   },
   "file_extension": ".py",
   "mimetype": "text/x-python",
   "name": "python",
   "nbconvert_exporter": "python",
   "pygments_lexer": "ipython3",
   "version": "3.11.4"
  }
 },
 "nbformat": 4,
 "nbformat_minor": 2
}
