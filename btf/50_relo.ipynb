{
 "cells": [
  {
   "cell_type": "code",
   "execution_count": 1,
   "metadata": {},
   "outputs": [],
   "source": [
    "%reload_ext autoreload\n",
    "%autoreload 2"
   ]
  },
  {
   "cell_type": "code",
   "execution_count": 2,
   "metadata": {},
   "outputs": [
    {
     "name": "stdout",
     "output_type": "stream",
     "text": [
      "Overwriting tmp.bpf.c\n"
     ]
    }
   ],
   "source": [
    "%%writefile tmp.bpf.c\n",
    "\n",
    "struct bar_t {\n",
    "    char c;\n",
    "} __attribute__((preserve_access_index));\n",
    "\n",
    "struct foo_t {\n",
    "  int i;\n",
    "  int j;\n",
    "  int k;\n",
    "  struct bar_t bar;\n",
    "} __attribute__((preserve_access_index));\n",
    "\n",
    "__attribute__((section(\"kprobe/f\")))\n",
    "int f(struct foo_t* foo) { \n",
    "    return foo->bar.c;\n",
    "}\n",
    "\n",
    "__attribute__((section(\"kprobe/g\")))\n",
    "int g(struct foo_t* foo) { \n",
    "    int i = foo->i;\n",
    "    int k = foo->k;\n",
    "    return i + k;\n",
    "}"
   ]
  },
  {
   "cell_type": "code",
   "execution_count": 3,
   "metadata": {},
   "outputs": [
    {
     "name": "stdout",
     "output_type": "stream",
     "text": [
      "\n",
      "tmp.bpf.o:\tfile format elf64-bpf\n",
      "\n",
      "Disassembly of section kprobe/f:\n",
      "\n",
      "0000000000000000 <f>:\n",
      ";     return foo->bar.c;\n",
      "       0:\t71 10 0c 00 00 00 00 00\tr0 = *(u8 *)(r1 + 0xc)\n",
      "\t\t0000000000000000:  CO-RE <byte_off> [2] struct foo_t::bar.c (0:3:0)\n",
      "       1:\t67 00 00 00 38 00 00 00\tr0 <<= 0x38\n",
      "       2:\tc7 00 00 00 38 00 00 00\tr0 s>>= 0x38\n",
      "       3:\t95 00 00 00 00 00 00 00\texit\n",
      "\n",
      "Disassembly of section kprobe/g:\n",
      "\n",
      "0000000000000000 <g>:\n",
      ";     int i = foo->i;\n",
      "       0:\t61 12 00 00 00 00 00 00\tr2 = *(u32 *)(r1 + 0x0)\n",
      "\t\t0000000000000000:  CO-RE <byte_off> [2] struct foo_t::i (0:0)\n",
      ";     int k = foo->k;\n",
      "       1:\t61 10 08 00 00 00 00 00\tr0 = *(u32 *)(r1 + 0x8)\n",
      "\t\t0000000000000008:  CO-RE <byte_off> [2] struct foo_t::k (0:2)\n",
      ";     return i + k;\n",
      "       2:\t0f 20 00 00 00 00 00 00\tr0 += r2\n",
      "       3:\t95 00 00 00 00 00 00 00\texit\n"
     ]
    }
   ],
   "source": [
    "!clang -g -O2 -target bpf -c tmp.bpf.c -o tmp.bpf.o\n",
    "!llvm-objdump-18 --disassemble --reloc --source tmp.bpf.o"
   ]
  },
  {
   "cell_type": "code",
   "execution_count": 4,
   "metadata": {},
   "outputs": [],
   "source": [
    "# !hexdump -C /tmp/struct.o"
   ]
  },
  {
   "cell_type": "code",
   "execution_count": 15,
   "metadata": {},
   "outputs": [
    {
     "name": "stderr",
     "output_type": "stream",
     "text": [
      "[system.py:19] INFO: Running command: \"\u001b[92m/usr/lib/linux-tools/6.2.0-39-generic/bpftool btf dump file tmp.bpf.o format c > tmp.bpf.h\u001b[0m\"\n",
      "[system.py:19] INFO: Running command: \"\u001b[92m/usr/lib/linux-tools/6.2.0-39-generic/bpftool btf dump file tmp.bpf.o format raw > tmp.bpf.txt\u001b[0m\"\n",
      "[system.py:19] INFO: Running command: \"\u001b[92m/usr/lib/linux-tools/6.2.0-39-generic/bpftool btf dump file tmp.bpf.o --json > tmp.bpf.json\u001b[0m\"\n"
     ]
    },
    {
     "data": {
      "text/plain": [
       "[BTFReloSection(sec_name='kprobe/f',\n",
       "                relocations=[BTFReloEntry(insn_off=0,\n",
       "                                          types=[('STRUCT', 'foo_t', 'bar'),\n",
       "                                                 ('STRUCT', 'bar_t', 'c')],\n",
       "                                          access_str='0:3:0',\n",
       "                                          kind=<BTFCoreReloKind.FIELD_BYTE_OFFSET: 0>)]),\n",
       " BTFReloSection(sec_name='kprobe/g',\n",
       "                relocations=[BTFReloEntry(insn_off=0,\n",
       "                                          types=[('STRUCT', 'foo_t', 'i')],\n",
       "                                          access_str='0:0',\n",
       "                                          kind=<BTFCoreReloKind.FIELD_BYTE_OFFSET: 0>),\n",
       "                             BTFReloEntry(insn_off=8,\n",
       "                                          types=[('STRUCT', 'foo_t', 'k')],\n",
       "                                          access_str='0:2',\n",
       "                                          kind=<BTFCoreReloKind.FIELD_BYTE_OFFSET: 0>)])]"
      ]
     },
     "execution_count": 15,
     "metadata": {},
     "output_type": "execute_result"
    }
   ],
   "source": [
    "from depsurf import BPFObjectFile\n",
    "\n",
    "bpfobj = BPFObjectFile(\"tmp.bpf.o\")\n",
    "\n",
    "# bpfobj.get_section_info()\n",
    "\n",
    "bpfobj.get_relo_info()"
   ]
  }
 ],
 "metadata": {
  "kernelspec": {
   "display_name": "Python 3",
   "language": "python",
   "name": "python3"
  },
  "language_info": {
   "codemirror_mode": {
    "name": "ipython",
    "version": 3
   },
   "file_extension": ".py",
   "mimetype": "text/x-python",
   "name": "python",
   "nbconvert_exporter": "python",
   "pygments_lexer": "ipython3",
   "version": "3.11.4"
  }
 },
 "nbformat": 4,
 "nbformat_minor": 2
}
