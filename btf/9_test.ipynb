{
 "cells": [
  {
   "cell_type": "code",
   "execution_count": 2,
   "metadata": {},
   "outputs": [
    {
     "name": "stdout",
     "output_type": "stream",
     "text": [
      "\n",
      ".text\n",
      ".rodata\n",
      ".pci_fixup\n",
      ".tracedata\n",
      "__ksymtab\n",
      "__ksymtab_gpl\n",
      "__kcrctab\n",
      "__kcrctab_gpl\n",
      "__ksymtab_strings\n",
      "__init_rodata\n",
      "__param\n",
      "__modver\n",
      "__ex_table\n",
      ".notes\n",
      ".BTF\n",
      ".BTF_ids\n",
      ".data\n",
      "__bug_table\n",
      ".vvar\n",
      ".data..percpu\n",
      ".init.text\n",
      ".altinstr_aux\n",
      ".init.data\n",
      ".x86_cpu_dev.init\n",
      ".parainstructions\n",
      ".retpoline_sites\n",
      ".return_sites\n",
      ".altinstructions\n",
      ".altinstr_replacement\n",
      ".iommu_table\n",
      ".apicdrivers\n",
      ".exit.text\n",
      ".smp_locks\n",
      ".data_nosave\n",
      ".bss\n",
      ".brk\n",
      ".init.scratch\n",
      ".shstrtab\n"
     ]
    }
   ],
   "source": [
    "from elftools.elf.elffile import ELFFile\n",
    "\n",
    "# /Users/szhong/Downloads/bpf-study/btf/data/22.04-x86/vmlinux/vmlinux-5.15.0-97-generic\n",
    "\n",
    "with open(\"/Users/szhong/Downloads/bpf-study/btf/data/22.04-x86/vmlinux/vmlinux-5.15.0-97-generic\", \"rb\") as f:\n",
    "    elffile = ELFFile(f)\n",
    "    for section in elffile.iter_sections():\n",
    "        print(section.name)\n",
    "        # print(section.header)\n",
    "        # print(section.data())\n",
    "        # print(section.data().hex())\n",
    "        # print(section.data().decode(\"utf-8\"))"
   ]
  }
 ],
 "metadata": {
  "kernelspec": {
   "display_name": "Python 3",
   "language": "python",
   "name": "python3"
  },
  "language_info": {
   "codemirror_mode": {
    "name": "ipython",
    "version": 3
   },
   "file_extension": ".py",
   "mimetype": "text/x-python",
   "name": "python",
   "nbconvert_exporter": "python",
   "pygments_lexer": "ipython3",
   "version": "3.11.4"
  }
 },
 "nbformat": 4,
 "nbformat_minor": 2
}
