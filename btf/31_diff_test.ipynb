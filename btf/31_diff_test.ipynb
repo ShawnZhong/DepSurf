{
 "cells": [
  {
   "cell_type": "code",
   "execution_count": 1,
   "metadata": {},
   "outputs": [],
   "source": [
    "%reload_ext autoreload\n",
    "%autoreload 2"
   ]
  },
  {
   "cell_type": "code",
   "execution_count": 3,
   "metadata": {},
   "outputs": [
    {
     "name": "stderr",
     "output_type": "stream",
     "text": [
      "[btf.py:15] INFO: Loading data/20.04-x86/btf/5.13.0-52-generic.pkl\n",
      "[btf.py:15] INFO: Loading data/20.04-x86/btf/5.15.0-92-generic.pkl\n"
     ]
    },
    {
     "data": {
      "text/plain": [
       "File: data/20.04-x86/btf/5.15.0-92-generic.pkl\n",
       "Sample:\n",
       "\tINT        (   15): {'kind': 'INT', 'name': 'long unsigned int'}\n",
       "\tTYPEDEF    ( 2037): {'kind': 'TYPEDEF', 'name': '__s8', 'type': {'kind': 'INT', 'name': 'signed char'}}\n",
       "\tSTRUCT     ( 9382): {'kind': 'STRUCT', 'name': 'list_head', 'size': 16, 'members': [{'name': 'next', 'bits_offset': 0, 'type': {'kind': 'PTR', 'type': {'kind': 'STRUCT', 'name': 'list_head'}}}, {'name': 'prev', 'bits_offset': 64, 'type': {'kind': 'PTR', 'type': {'kind': 'STRUCT', 'name': 'list_head'}}}]}\n",
       "\tENUM       ( 1390): {'kind': 'ENUM', 'name': 'system_states', 'size': 4, 'values': [{'name': 'SYSTEM_BOOTING', 'val': 0}, {'name': 'SYSTEM_SCHEDULING', 'val': 1}, {'name': 'SYSTEM_RUNNING', 'val': 2}, {'name': 'SYSTEM_HALT', 'val': 3}, {'name': 'SYSTEM_POWER_OFF', 'val': 4}, {'name': 'SYSTEM_RESTART', 'val': 5}, {'name': 'SYSTEM_SUSPEND', 'val': 6}]}\n",
       "\tUNION      (  150): {'kind': 'UNION', 'name': 'fpregs_state', 'size': 4096, 'members': [{'name': 'fsave', 'bits_offset': 0, 'type': {'kind': 'STRUCT', 'name': 'fregs_state'}}, {'name': 'fxsave', 'bits_offset': 0, 'type': {'kind': 'STRUCT', 'name': 'fxregs_state'}}, {'name': 'soft', 'bits_offset': 0, 'type': {'kind': 'STRUCT', 'name': 'swregs_state'}}, {'name': 'xsave', 'bits_offset': 0, 'type': {'kind': 'STRUCT', 'name': 'xregs_state'}}, {'name': '__padding', 'bits_offset': 0, 'type': {'kind': 'ARRAY', 'name': '(anon)', 'nr_elems': 4096, 'type': {'kind': 'TYPEDEF', 'name': 'u8'}}}]}\n",
       "\tFWD        (  194): {'kind': 'FWD', 'name': 'tick_device', 'fwd_kind': 'struct'}\n",
       "\tFUNC       (53335): {'kind': 'FUNC', 'name': 'startup_64_setup_env', 'type': {'kind': 'FUNC_PROTO', 'params': [{'name': 'physbase', 'type': {'kind': 'INT', 'name': 'long unsigned int'}}], 'ret_type': {'name': 'void', 'kind': 'VOID'}}}\n",
       "\tFLOAT      (    2): {'kind': 'FLOAT', 'name': 'double', 'size': 8}"
      ]
     },
     "execution_count": 3,
     "metadata": {},
     "output_type": "execute_result"
    }
   ],
   "source": [
    "from depsurf import Kind, BTF\n",
    "\n",
    "btf1 = BTF(\"data/20.04-x86/btf/5.13.0-52-generic.pkl\")\n",
    "btf2 = BTF(\"data/20.04-x86/btf/5.15.0-92-generic.pkl\")\n",
    "btf2"
   ]
  },
  {
   "cell_type": "code",
   "execution_count": 3,
   "metadata": {},
   "outputs": [
    {
     "data": {
      "text/plain": [
       "{'kind': 'ENUM',\n",
       " 'name': 'nf_ip_hook_priorities',\n",
       " 'size': 4,\n",
       " 'values': [{'name': 'NF_IP_PRI_FIRST', 'val': -2147483648},\n",
       "  {'name': 'NF_IP_PRI_RAW_BEFORE_DEFRAG', 'val': -450},\n",
       "  {'name': 'NF_IP_PRI_CONNTRACK_DEFRAG', 'val': -400},\n",
       "  {'name': 'NF_IP_PRI_RAW', 'val': -300},\n",
       "  {'name': 'NF_IP_PRI_SELINUX_FIRST', 'val': -225},\n",
       "  {'name': 'NF_IP_PRI_CONNTRACK', 'val': -200},\n",
       "  {'name': 'NF_IP_PRI_MANGLE', 'val': -150},\n",
       "  {'name': 'NF_IP_PRI_NAT_DST', 'val': -100},\n",
       "  {'name': 'NF_IP_PRI_FILTER', 'val': 0},\n",
       "  {'name': 'NF_IP_PRI_SECURITY', 'val': 50},\n",
       "  {'name': 'NF_IP_PRI_NAT_SRC', 'val': 100},\n",
       "  {'name': 'NF_IP_PRI_SELINUX_LAST', 'val': 225},\n",
       "  {'name': 'NF_IP_PRI_CONNTRACK_HELPER', 'val': 300},\n",
       "  {'name': 'NF_IP_PRI_CONNTRACK_CONFIRM', 'val': 2147483647},\n",
       "  {'name': 'NF_IP_PRI_LAST', 'val': 2147483647}]}"
      ]
     },
     "execution_count": 3,
     "metadata": {},
     "output_type": "execute_result"
    }
   ],
   "source": [
    "# btf1.get(Kind.UNION, \"intel_x86_pebs_dse\")\n",
    "# btf1.get(Kind.STRUCT, \"task_struct\")\n",
    "# btf1.get(Kind.FUNC, \"vfs_read\")\n",
    "btf1.get(Kind.ENUM, \"nf_ip_hook_priorities\")"
   ]
  },
  {
   "cell_type": "code",
   "execution_count": 4,
   "metadata": {},
   "outputs": [
    {
     "data": {
      "text/plain": [
       "Field added          ==> Compiler error\n",
       "\t__state                 : unsigned int\n",
       "\tcore_node               : struct rb_node\n",
       "\tcore_cookie             : long unsigned int\n",
       "\tcore_occupation         : unsigned int\n",
       "\tstats                   : struct sched_statistics\n",
       "\tuser_cpus_ptr           : cpumask_t *\n",
       "\tin_eventfd              : unsigned int\n",
       "\tin_ubsan                : unsigned int\n",
       "\toom_reaper_timer        : struct timer_list\n",
       "\tbpf_ctx                 : struct bpf_run_ctx *\n",
       "\tl1d_flush_kill          : struct callback_head\n",
       "Field removed        ==> Compiler error\n",
       "\tstate                   : volatile (anon)"
      ]
     },
     "execution_count": 4,
     "metadata": {},
     "output_type": "execute_result"
    }
   ],
   "source": [
    "from depsurf import diff_struct, StructChange, check_diff_impl\n",
    "\n",
    "n = (Kind.STRUCT, \"task_struct\")\n",
    "diff_struct(btf1.get(n), btf2.get(n))\n",
    "\n",
    "\n",
    "# check_diff_impl(\n",
    "#     btf1.get(Kind.STRUCT),\n",
    "#     btf2.get(Kind.STRUCT),\n",
    "#     Kind.STRUCT,\n",
    "#     diff_struct,\n",
    "#     StructChange,\n",
    "# )"
   ]
  },
  {
   "cell_type": "code",
   "execution_count": 5,
   "metadata": {},
   "outputs": [
    {
     "data": {
      "text/plain": [
       "Field type changed   ==> Silent error\n",
       "\tbinder_set_context_mgr  : int (*)(struct task_struct *)  ->  int (*)(const (anon) *)\n",
       "\tbinder_transaction      : int (*)(struct task_struct *, struct task_struct *)  ->  int (*)(const (anon) *, const (anon) *)\n",
       "\tbinder_transfer_binder  : int (*)(struct task_struct *, struct task_struct *)  ->  int (*)(const (anon) *, const (anon) *)\n",
       "\tbinder_transfer_file    : int (*)(struct task_struct *, struct task_struct *, struct file *)  ->  int (*)(const (anon) *, const (anon) *, struct file *)\n",
       "\txfrm_policy_lookup      : int (*)(struct xfrm_sec_ctx *, u32, u8)  ->  int (*)(struct xfrm_sec_ctx *, u32)"
      ]
     },
     "execution_count": 5,
     "metadata": {},
     "output_type": "execute_result"
    }
   ],
   "source": [
    "n = (Kind.UNION, \"security_list_options\")\n",
    "diff_struct(btf1.get(n), btf2.get(n))\n",
    "\n",
    "# check_diff_impl(\n",
    "#     btf1.get(Kind.UNION),\n",
    "#     btf2.get(Kind.UNION),\n",
    "#     Kind.UNION,\n",
    "#     diff_struct,\n",
    "#     StructChange,\n",
    "# )"
   ]
  },
  {
   "cell_type": "code",
   "execution_count": 6,
   "metadata": {},
   "outputs": [
    {
     "data": {
      "text/plain": [
       "Param reordered      ==> Silent error\n",
       "\t  ['nr', 'regs']\n",
       "\t->['regs', 'nr']\n",
       "Param type changed   ==> Silent error\n",
       "\tnr                      : long unsigned int  ->  int"
      ]
     },
     "execution_count": 6,
     "metadata": {},
     "output_type": "execute_result"
    }
   ],
   "source": [
    "from depsurf import diff_func, FuncChange\n",
    "\n",
    "n = (Kind.FUNC, \"do_syscall_64\")\n",
    "diff_func(btf1.get(n), btf2.get(n))\n",
    "\n",
    "# check_diff_impl(\n",
    "#     btf1.get(Kind.FUNC),\n",
    "#     btf2.get(Kind.FUNC),\n",
    "#     Kind.FUNC,\n",
    "#     diff_func,\n",
    "#     FuncChange,\n",
    "# )"
   ]
  },
  {
   "cell_type": "code",
   "execution_count": 7,
   "metadata": {},
   "outputs": [
    {
     "data": {
      "text/plain": [
       "Elem added           ==> Compiler error\n",
       "\tBPF_FUNC_sys_bpf        : 166\n",
       "\tBPF_FUNC_btf_find_by_name_kind: 167\n",
       "\tBPF_FUNC_sys_close      : 168\n",
       "\tBPF_FUNC_timer_init     : 169\n",
       "\tBPF_FUNC_timer_set_callback: 170\n",
       "\tBPF_FUNC_timer_start    : 171\n",
       "\tBPF_FUNC_timer_cancel   : 172\n",
       "\tBPF_FUNC_get_func_ip    : 173\n",
       "\tBPF_FUNC_get_attach_cookie: 174\n",
       "\tBPF_FUNC_task_pt_regs   : 175\n",
       "Value changed        ==> CO-RE\n",
       "\t__BPF_FUNC_MAX_ID       : 166  ->  176"
      ]
     },
     "execution_count": 7,
     "metadata": {},
     "output_type": "execute_result"
    }
   ],
   "source": [
    "from depsurf import diff_enum, EnumChange\n",
    "\n",
    "n = (Kind.ENUM, \"bpf_func_id\")\n",
    "diff_enum(btf1.get(n), btf2.get(n))\n",
    "\n",
    "\n",
    "# check_diff_impl(\n",
    "#     btf1.get(Kind.ENUM),\n",
    "#     btf2.get(Kind.ENUM),\n",
    "#     Kind.ENUM,\n",
    "#     diff_enum,\n",
    "#     EnumChange,\n",
    "# )"
   ]
  }
 ],
 "metadata": {
  "kernelspec": {
   "display_name": "Python 3",
   "language": "python",
   "name": "python3"
  },
  "language_info": {
   "codemirror_mode": {
    "name": "ipython",
    "version": 3
   },
   "file_extension": ".py",
   "mimetype": "text/x-python",
   "name": "python",
   "nbconvert_exporter": "python",
   "pygments_lexer": "ipython3",
   "version": "3.11.4"
  }
 },
 "nbformat": 4,
 "nbformat_minor": 2
}
