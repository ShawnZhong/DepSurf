{
 "cells": [
  {
   "cell_type": "markdown",
   "metadata": {},
   "source": [
    "# Function Inlining\n",
    "\n",
    "This notebook generates the table for function inlining."
   ]
  },
  {
   "cell_type": "code",
   "execution_count": 1,
   "metadata": {},
   "outputs": [],
   "source": [
    "%reload_ext autoreload\n",
    "%autoreload 2"
   ]
  },
  {
   "cell_type": "code",
   "execution_count": 2,
   "metadata": {},
   "outputs": [],
   "source": [
    "from typing import Dict\n",
    "\n",
    "from depsurf import FuncGroup, FuncGroups, InlineType, Version\n",
    "from utils import OUTPUT_PATH\n",
    "\n",
    "\n",
    "def count_inline(v: Version):\n",
    "    groups = FuncGroups.from_dump(v.func_groups_path)\n",
    "    results: Dict[InlineType, Dict[str, FuncGroup]] = {t: {} for t in InlineType}\n",
    "\n",
    "    for group in groups.iter_groups():\n",
    "        results[group.inline_type][group.name] = group\n",
    "\n",
    "    output_path = OUTPUT_PATH / \"inline\" / v.name\n",
    "    output_path.mkdir(parents=True, exist_ok=True)\n",
    "    for t, group in results.items():\n",
    "        path = output_path / f\"{t.name.lower()}.txt\"\n",
    "        with open(path, \"w\") as f:\n",
    "            for group in results[t].values():\n",
    "                for func in group.funcs:\n",
    "                    lines = (\n",
    "                        f\"{func.name}\",\n",
    "                        f\"\\tLoc: {func.loc}\",\n",
    "                        f\"\\tFile: {func.file}\",\n",
    "                        f\"\\tInline: {func.inline}\",\n",
    "                        f\"\\tExternal: {func.external}\",\n",
    "                        f\"\\tCaller Inline ({len(func.caller_inline)})\",\n",
    "                        *(f\"\\t\\t{caller}\" for caller in func.caller_inline),\n",
    "                        f\"\\tCaller Func ({len(func.caller_func)})\",\n",
    "                        *(f\"\\t\\t{caller}\" for caller in func.caller_func),\n",
    "                    )\n",
    "                    print(\"\\n\".join(lines), file=f)\n",
    "        print(f\"Saved {len(results[t]):5} groups to {path}\", flush=True)\n",
    "\n",
    "    return {t: len(d) / groups.num_groups for t, d in results.items()}\n",
    "\n",
    "\n",
    "# count_inline(VERSION_LAST)"
   ]
  },
  {
   "cell_type": "code",
   "execution_count": 3,
   "metadata": {},
   "outputs": [
    {
     "name": "stderr",
     "output_type": "stream",
     "text": [
      "[       groups.py:47 ] INFO: Loading funcs from /Users/szhong/Code/DepSurf/data/dataset/func_groups/4.4.0-21-generic-amd64.jsonl\n"
     ]
    },
    {
     "name": "stdout",
     "output_type": "stream",
     "text": [
      "Saved 31197 groups to /Users/szhong/Code/DepSurf/data/output/inline/4.4.0-21-generic-amd64/no.txt\n",
      "Saved 19900 groups to /Users/szhong/Code/DepSurf/data/output/inline/4.4.0-21-generic-amd64/full.txt\n",
      "Saved  6306 groups to /Users/szhong/Code/DepSurf/data/output/inline/4.4.0-21-generic-amd64/selective.txt\n"
     ]
    },
    {
     "name": "stderr",
     "output_type": "stream",
     "text": [
      "[       groups.py:47 ] INFO: Loading funcs from /Users/szhong/Code/DepSurf/data/dataset/func_groups/4.8.0-22-generic-amd64.jsonl\n"
     ]
    },
    {
     "name": "stdout",
     "output_type": "stream",
     "text": [
      "Saved 32826 groups to /Users/szhong/Code/DepSurf/data/output/inline/4.8.0-22-generic-amd64/no.txt\n",
      "Saved 20945 groups to /Users/szhong/Code/DepSurf/data/output/inline/4.8.0-22-generic-amd64/full.txt\n",
      "Saved  6610 groups to /Users/szhong/Code/DepSurf/data/output/inline/4.8.0-22-generic-amd64/selective.txt\n"
     ]
    },
    {
     "name": "stderr",
     "output_type": "stream",
     "text": [
      "[       groups.py:47 ] INFO: Loading funcs from /Users/szhong/Code/DepSurf/data/dataset/func_groups/4.10.0-19-generic-amd64.jsonl\n"
     ]
    },
    {
     "name": "stdout",
     "output_type": "stream",
     "text": [
      "Saved 33643 groups to /Users/szhong/Code/DepSurf/data/output/inline/4.10.0-19-generic-amd64/no.txt\n",
      "Saved 21649 groups to /Users/szhong/Code/DepSurf/data/output/inline/4.10.0-19-generic-amd64/full.txt\n",
      "Saved  6744 groups to /Users/szhong/Code/DepSurf/data/output/inline/4.10.0-19-generic-amd64/selective.txt\n"
     ]
    },
    {
     "name": "stderr",
     "output_type": "stream",
     "text": [
      "[       groups.py:47 ] INFO: Loading funcs from /Users/szhong/Code/DepSurf/data/dataset/func_groups/4.13.0-16-generic-amd64.jsonl\n"
     ]
    },
    {
     "name": "stdout",
     "output_type": "stream",
     "text": [
      "Saved 34636 groups to /Users/szhong/Code/DepSurf/data/output/inline/4.13.0-16-generic-amd64/no.txt\n",
      "Saved 22717 groups to /Users/szhong/Code/DepSurf/data/output/inline/4.13.0-16-generic-amd64/full.txt\n",
      "Saved  7445 groups to /Users/szhong/Code/DepSurf/data/output/inline/4.13.0-16-generic-amd64/selective.txt\n"
     ]
    },
    {
     "name": "stderr",
     "output_type": "stream",
     "text": [
      "[       groups.py:47 ] INFO: Loading funcs from /Users/szhong/Code/DepSurf/data/dataset/func_groups/4.15.0-20-generic-amd64.jsonl\n"
     ]
    },
    {
     "name": "stdout",
     "output_type": "stream",
     "text": [
      "Saved 35977 groups to /Users/szhong/Code/DepSurf/data/output/inline/4.15.0-20-generic-amd64/no.txt\n",
      "Saved 23382 groups to /Users/szhong/Code/DepSurf/data/output/inline/4.15.0-20-generic-amd64/full.txt\n",
      "Saved  7712 groups to /Users/szhong/Code/DepSurf/data/output/inline/4.15.0-20-generic-amd64/selective.txt\n"
     ]
    },
    {
     "name": "stderr",
     "output_type": "stream",
     "text": [
      "[       groups.py:47 ] INFO: Loading funcs from /Users/szhong/Code/DepSurf/data/dataset/func_groups/4.18.0-10-generic-amd64.jsonl\n"
     ]
    },
    {
     "name": "stdout",
     "output_type": "stream",
     "text": [
      "Saved 38703 groups to /Users/szhong/Code/DepSurf/data/output/inline/4.18.0-10-generic-amd64/no.txt\n",
      "Saved 24765 groups to /Users/szhong/Code/DepSurf/data/output/inline/4.18.0-10-generic-amd64/full.txt\n",
      "Saved  7181 groups to /Users/szhong/Code/DepSurf/data/output/inline/4.18.0-10-generic-amd64/selective.txt\n"
     ]
    },
    {
     "name": "stderr",
     "output_type": "stream",
     "text": [
      "[       groups.py:47 ] INFO: Loading funcs from /Users/szhong/Code/DepSurf/data/dataset/func_groups/5.0.0-13-generic-amd64.jsonl\n"
     ]
    },
    {
     "name": "stdout",
     "output_type": "stream",
     "text": [
      "Saved 39450 groups to /Users/szhong/Code/DepSurf/data/output/inline/5.0.0-13-generic-amd64/no.txt\n",
      "Saved 25599 groups to /Users/szhong/Code/DepSurf/data/output/inline/5.0.0-13-generic-amd64/full.txt\n",
      "Saved  7259 groups to /Users/szhong/Code/DepSurf/data/output/inline/5.0.0-13-generic-amd64/selective.txt\n"
     ]
    },
    {
     "name": "stderr",
     "output_type": "stream",
     "text": [
      "[       groups.py:47 ] INFO: Loading funcs from /Users/szhong/Code/DepSurf/data/dataset/func_groups/5.3.0-18-generic-amd64.jsonl\n"
     ]
    },
    {
     "name": "stdout",
     "output_type": "stream",
     "text": [
      "Saved 41203 groups to /Users/szhong/Code/DepSurf/data/output/inline/5.3.0-18-generic-amd64/no.txt\n",
      "Saved 26520 groups to /Users/szhong/Code/DepSurf/data/output/inline/5.3.0-18-generic-amd64/full.txt\n",
      "Saved  7350 groups to /Users/szhong/Code/DepSurf/data/output/inline/5.3.0-18-generic-amd64/selective.txt\n"
     ]
    },
    {
     "name": "stderr",
     "output_type": "stream",
     "text": [
      "[       groups.py:47 ] INFO: Loading funcs from /Users/szhong/Code/DepSurf/data/dataset/func_groups/5.4.0-26-generic-amd64.jsonl\n"
     ]
    },
    {
     "name": "stdout",
     "output_type": "stream",
     "text": [
      "Saved 42040 groups to /Users/szhong/Code/DepSurf/data/output/inline/5.4.0-26-generic-amd64/no.txt\n",
      "Saved 27224 groups to /Users/szhong/Code/DepSurf/data/output/inline/5.4.0-26-generic-amd64/full.txt\n",
      "Saved  7541 groups to /Users/szhong/Code/DepSurf/data/output/inline/5.4.0-26-generic-amd64/selective.txt\n"
     ]
    },
    {
     "name": "stderr",
     "output_type": "stream",
     "text": [
      "[       groups.py:47 ] INFO: Loading funcs from /Users/szhong/Code/DepSurf/data/dataset/func_groups/5.8.0-25-generic-amd64.jsonl\n"
     ]
    },
    {
     "name": "stdout",
     "output_type": "stream",
     "text": [
      "Saved 45295 groups to /Users/szhong/Code/DepSurf/data/output/inline/5.8.0-25-generic-amd64/no.txt\n",
      "Saved 26090 groups to /Users/szhong/Code/DepSurf/data/output/inline/5.8.0-25-generic-amd64/full.txt\n",
      "Saved  8291 groups to /Users/szhong/Code/DepSurf/data/output/inline/5.8.0-25-generic-amd64/selective.txt\n"
     ]
    },
    {
     "name": "stderr",
     "output_type": "stream",
     "text": [
      "[       groups.py:47 ] INFO: Loading funcs from /Users/szhong/Code/DepSurf/data/dataset/func_groups/5.11.0-16-generic-amd64.jsonl\n"
     ]
    },
    {
     "name": "stdout",
     "output_type": "stream",
     "text": [
      "Saved 48400 groups to /Users/szhong/Code/DepSurf/data/output/inline/5.11.0-16-generic-amd64/no.txt\n",
      "Saved 27074 groups to /Users/szhong/Code/DepSurf/data/output/inline/5.11.0-16-generic-amd64/full.txt\n",
      "Saved  8416 groups to /Users/szhong/Code/DepSurf/data/output/inline/5.11.0-16-generic-amd64/selective.txt\n"
     ]
    },
    {
     "name": "stderr",
     "output_type": "stream",
     "text": [
      "[       groups.py:47 ] INFO: Loading funcs from /Users/szhong/Code/DepSurf/data/dataset/func_groups/5.13.0-19-generic-amd64.jsonl\n"
     ]
    },
    {
     "name": "stdout",
     "output_type": "stream",
     "text": [
      "Saved 47352 groups to /Users/szhong/Code/DepSurf/data/output/inline/5.13.0-19-generic-amd64/no.txt\n",
      "Saved 29570 groups to /Users/szhong/Code/DepSurf/data/output/inline/5.13.0-19-generic-amd64/full.txt\n",
      "Saved  8270 groups to /Users/szhong/Code/DepSurf/data/output/inline/5.13.0-19-generic-amd64/selective.txt\n"
     ]
    },
    {
     "name": "stderr",
     "output_type": "stream",
     "text": [
      "[       groups.py:47 ] INFO: Loading funcs from /Users/szhong/Code/DepSurf/data/dataset/func_groups/5.15.0-25-generic-amd64.jsonl\n"
     ]
    },
    {
     "name": "stdout",
     "output_type": "stream",
     "text": [
      "Saved 48216 groups to /Users/szhong/Code/DepSurf/data/output/inline/5.15.0-25-generic-amd64/no.txt\n",
      "Saved 30203 groups to /Users/szhong/Code/DepSurf/data/output/inline/5.15.0-25-generic-amd64/full.txt\n",
      "Saved  8186 groups to /Users/szhong/Code/DepSurf/data/output/inline/5.15.0-25-generic-amd64/selective.txt\n"
     ]
    },
    {
     "name": "stderr",
     "output_type": "stream",
     "text": [
      "[       groups.py:47 ] INFO: Loading funcs from /Users/szhong/Code/DepSurf/data/dataset/func_groups/5.19.0-21-generic-amd64.jsonl\n"
     ]
    },
    {
     "name": "stdout",
     "output_type": "stream",
     "text": [
      "Saved 50330 groups to /Users/szhong/Code/DepSurf/data/output/inline/5.19.0-21-generic-amd64/no.txt\n",
      "Saved 31313 groups to /Users/szhong/Code/DepSurf/data/output/inline/5.19.0-21-generic-amd64/full.txt\n",
      "Saved  7957 groups to /Users/szhong/Code/DepSurf/data/output/inline/5.19.0-21-generic-amd64/selective.txt\n"
     ]
    },
    {
     "name": "stderr",
     "output_type": "stream",
     "text": [
      "[       groups.py:47 ] INFO: Loading funcs from /Users/szhong/Code/DepSurf/data/dataset/func_groups/6.2.0-20-generic-amd64.jsonl\n"
     ]
    },
    {
     "name": "stdout",
     "output_type": "stream",
     "text": [
      "Saved 51429 groups to /Users/szhong/Code/DepSurf/data/output/inline/6.2.0-20-generic-amd64/no.txt\n",
      "Saved 32516 groups to /Users/szhong/Code/DepSurf/data/output/inline/6.2.0-20-generic-amd64/full.txt\n",
      "Saved  8103 groups to /Users/szhong/Code/DepSurf/data/output/inline/6.2.0-20-generic-amd64/selective.txt\n"
     ]
    },
    {
     "name": "stderr",
     "output_type": "stream",
     "text": [
      "[       groups.py:47 ] INFO: Loading funcs from /Users/szhong/Code/DepSurf/data/dataset/func_groups/6.5.0-9-generic-amd64.jsonl\n"
     ]
    },
    {
     "name": "stdout",
     "output_type": "stream",
     "text": [
      "Saved 53587 groups to /Users/szhong/Code/DepSurf/data/output/inline/6.5.0-9-generic-amd64/no.txt\n",
      "Saved 33495 groups to /Users/szhong/Code/DepSurf/data/output/inline/6.5.0-9-generic-amd64/full.txt\n",
      "Saved  8461 groups to /Users/szhong/Code/DepSurf/data/output/inline/6.5.0-9-generic-amd64/selective.txt\n"
     ]
    },
    {
     "name": "stderr",
     "output_type": "stream",
     "text": [
      "[       groups.py:47 ] INFO: Loading funcs from /Users/szhong/Code/DepSurf/data/dataset/func_groups/6.8.0-31-generic-amd64.jsonl\n"
     ]
    },
    {
     "name": "stdout",
     "output_type": "stream",
     "text": [
      "Saved 55840 groups to /Users/szhong/Code/DepSurf/data/output/inline/6.8.0-31-generic-amd64/no.txt\n",
      "Saved 34916 groups to /Users/szhong/Code/DepSurf/data/output/inline/6.8.0-31-generic-amd64/full.txt\n",
      "Saved  8917 groups to /Users/szhong/Code/DepSurf/data/output/inline/6.8.0-31-generic-amd64/selective.txt\n"
     ]
    },
    {
     "name": "stderr",
     "output_type": "stream",
     "text": [
      "[       groups.py:47 ] INFO: Loading funcs from /Users/szhong/Code/DepSurf/data/dataset/func_groups/5.4.0-26-generic-arm64.jsonl\n"
     ]
    },
    {
     "name": "stdout",
     "output_type": "stream",
     "text": [
      "Saved 43427 groups to /Users/szhong/Code/DepSurf/data/output/inline/5.4.0-26-generic-arm64/no.txt\n",
      "Saved 27547 groups to /Users/szhong/Code/DepSurf/data/output/inline/5.4.0-26-generic-arm64/full.txt\n",
      "Saved  7676 groups to /Users/szhong/Code/DepSurf/data/output/inline/5.4.0-26-generic-arm64/selective.txt\n"
     ]
    },
    {
     "name": "stderr",
     "output_type": "stream",
     "text": [
      "[       groups.py:47 ] INFO: Loading funcs from /Users/szhong/Code/DepSurf/data/dataset/func_groups/5.4.0-26-generic-armhf.jsonl\n"
     ]
    },
    {
     "name": "stdout",
     "output_type": "stream",
     "text": [
      "Saved 43148 groups to /Users/szhong/Code/DepSurf/data/output/inline/5.4.0-26-generic-armhf/no.txt\n",
      "Saved 26198 groups to /Users/szhong/Code/DepSurf/data/output/inline/5.4.0-26-generic-armhf/full.txt\n",
      "Saved  6671 groups to /Users/szhong/Code/DepSurf/data/output/inline/5.4.0-26-generic-armhf/selective.txt\n"
     ]
    },
    {
     "name": "stderr",
     "output_type": "stream",
     "text": [
      "[       groups.py:47 ] INFO: Loading funcs from /Users/szhong/Code/DepSurf/data/dataset/func_groups/5.4.0-26-generic-ppc64el.jsonl\n"
     ]
    },
    {
     "name": "stdout",
     "output_type": "stream",
     "text": [
      "Saved 37962 groups to /Users/szhong/Code/DepSurf/data/output/inline/5.4.0-26-generic-ppc64el/no.txt\n",
      "Saved 24310 groups to /Users/szhong/Code/DepSurf/data/output/inline/5.4.0-26-generic-ppc64el/full.txt\n",
      "Saved  6146 groups to /Users/szhong/Code/DepSurf/data/output/inline/5.4.0-26-generic-ppc64el/selective.txt\n"
     ]
    },
    {
     "name": "stderr",
     "output_type": "stream",
     "text": [
      "[       groups.py:47 ] INFO: Loading funcs from /Users/szhong/Code/DepSurf/data/dataset/func_groups/5.4.0-24-generic-riscv64.jsonl\n"
     ]
    },
    {
     "name": "stdout",
     "output_type": "stream",
     "text": [
      "Saved 31869 groups to /Users/szhong/Code/DepSurf/data/output/inline/5.4.0-24-generic-riscv64/no.txt\n",
      "Saved 21798 groups to /Users/szhong/Code/DepSurf/data/output/inline/5.4.0-24-generic-riscv64/full.txt\n",
      "Saved  5796 groups to /Users/szhong/Code/DepSurf/data/output/inline/5.4.0-24-generic-riscv64/selective.txt\n"
     ]
    }
   ],
   "source": [
    "from depsurf import VersionGroup, Version\n",
    "\n",
    "groups = [VersionGroup.REGULAR, VersionGroup.ARCH]\n",
    "\n",
    "data: Dict[VersionGroup, Dict[Version, Dict[InlineType, float]]] = {}\n",
    "for group in groups:\n",
    "    group_data = {}\n",
    "    for version in group.versions:\n",
    "        group_data[version] = count_inline(version)\n",
    "    data[group] = group_data"
   ]
  },
  {
   "cell_type": "code",
   "execution_count": 4,
   "metadata": {},
   "outputs": [
    {
     "data": {
      "text/html": [
       "<div>\n",
       "<style scoped>\n",
       "    .dataframe tbody tr th:only-of-type {\n",
       "        vertical-align: middle;\n",
       "    }\n",
       "\n",
       "    .dataframe tbody tr th {\n",
       "        vertical-align: top;\n",
       "    }\n",
       "\n",
       "    .dataframe thead th {\n",
       "        text-align: right;\n",
       "    }\n",
       "</style>\n",
       "<table border=\"1\" class=\"dataframe\">\n",
       "  <thead>\n",
       "    <tr style=\"text-align: right;\">\n",
       "      <th></th>\n",
       "      <th></th>\n",
       "      <th>No</th>\n",
       "      <th>Full</th>\n",
       "      <th>Selective</th>\n",
       "    </tr>\n",
       "  </thead>\n",
       "  <tbody>\n",
       "    <tr>\n",
       "      <th rowspan=\"17\" valign=\"top\">Regular</th>\n",
       "      <th>4.4.0-21-generic-amd64</th>\n",
       "      <td>0.543473</td>\n",
       "      <td>0.346672</td>\n",
       "      <td>0.109855</td>\n",
       "    </tr>\n",
       "    <tr>\n",
       "      <th>4.8.0-22-generic-amd64</th>\n",
       "      <td>0.543648</td>\n",
       "      <td>0.346881</td>\n",
       "      <td>0.109472</td>\n",
       "    </tr>\n",
       "    <tr>\n",
       "      <th>4.10.0-19-generic-amd64</th>\n",
       "      <td>0.542314</td>\n",
       "      <td>0.348975</td>\n",
       "      <td>0.108711</td>\n",
       "    </tr>\n",
       "    <tr>\n",
       "      <th>4.13.0-16-generic-amd64</th>\n",
       "      <td>0.534523</td>\n",
       "      <td>0.350582</td>\n",
       "      <td>0.114896</td>\n",
       "    </tr>\n",
       "    <tr>\n",
       "      <th>4.15.0-20-generic-amd64</th>\n",
       "      <td>0.536402</td>\n",
       "      <td>0.348616</td>\n",
       "      <td>0.114983</td>\n",
       "    </tr>\n",
       "    <tr>\n",
       "      <th>4.18.0-10-generic-amd64</th>\n",
       "      <td>0.547821</td>\n",
       "      <td>0.350536</td>\n",
       "      <td>0.101643</td>\n",
       "    </tr>\n",
       "    <tr>\n",
       "      <th>5.0.0-13-generic-amd64</th>\n",
       "      <td>0.545583</td>\n",
       "      <td>0.354027</td>\n",
       "      <td>0.100390</td>\n",
       "    </tr>\n",
       "    <tr>\n",
       "      <th>5.3.0-18-generic-amd64</th>\n",
       "      <td>0.548839</td>\n",
       "      <td>0.353256</td>\n",
       "      <td>0.097905</td>\n",
       "    </tr>\n",
       "    <tr>\n",
       "      <th>5.4.0-26-generic-amd64</th>\n",
       "      <td>0.547360</td>\n",
       "      <td>0.354456</td>\n",
       "      <td>0.098184</td>\n",
       "    </tr>\n",
       "    <tr>\n",
       "      <th>5.8.0-25-generic-amd64</th>\n",
       "      <td>0.568490</td>\n",
       "      <td>0.327451</td>\n",
       "      <td>0.104059</td>\n",
       "    </tr>\n",
       "    <tr>\n",
       "      <th>5.11.0-16-generic-amd64</th>\n",
       "      <td>0.576946</td>\n",
       "      <td>0.322732</td>\n",
       "      <td>0.100322</td>\n",
       "    </tr>\n",
       "    <tr>\n",
       "      <th>5.13.0-19-generic-amd64</th>\n",
       "      <td>0.555827</td>\n",
       "      <td>0.347098</td>\n",
       "      <td>0.097075</td>\n",
       "    </tr>\n",
       "    <tr>\n",
       "      <th>5.15.0-25-generic-amd64</th>\n",
       "      <td>0.556735</td>\n",
       "      <td>0.348744</td>\n",
       "      <td>0.094521</td>\n",
       "    </tr>\n",
       "    <tr>\n",
       "      <th>5.19.0-21-generic-amd64</th>\n",
       "      <td>0.561719</td>\n",
       "      <td>0.349475</td>\n",
       "      <td>0.088806</td>\n",
       "    </tr>\n",
       "    <tr>\n",
       "      <th>6.2.0-20-generic-amd64</th>\n",
       "      <td>0.558719</td>\n",
       "      <td>0.353250</td>\n",
       "      <td>0.088030</td>\n",
       "    </tr>\n",
       "    <tr>\n",
       "      <th>6.5.0-9-generic-amd64</th>\n",
       "      <td>0.560868</td>\n",
       "      <td>0.350575</td>\n",
       "      <td>0.088557</td>\n",
       "    </tr>\n",
       "    <tr>\n",
       "      <th>6.8.0-31-generic-amd64</th>\n",
       "      <td>0.560232</td>\n",
       "      <td>0.350305</td>\n",
       "      <td>0.089463</td>\n",
       "    </tr>\n",
       "    <tr>\n",
       "      <th rowspan=\"4\" valign=\"top\">Arch</th>\n",
       "      <th>5.4.0-26-generic-arm64</th>\n",
       "      <td>0.552155</td>\n",
       "      <td>0.350248</td>\n",
       "      <td>0.097597</td>\n",
       "    </tr>\n",
       "    <tr>\n",
       "      <th>5.4.0-26-generic-armhf</th>\n",
       "      <td>0.567610</td>\n",
       "      <td>0.344633</td>\n",
       "      <td>0.087757</td>\n",
       "    </tr>\n",
       "    <tr>\n",
       "      <th>5.4.0-26-generic-ppc64el</th>\n",
       "      <td>0.554854</td>\n",
       "      <td>0.355316</td>\n",
       "      <td>0.089830</td>\n",
       "    </tr>\n",
       "    <tr>\n",
       "      <th>5.4.0-24-generic-riscv64</th>\n",
       "      <td>0.535947</td>\n",
       "      <td>0.366581</td>\n",
       "      <td>0.097472</td>\n",
       "    </tr>\n",
       "  </tbody>\n",
       "</table>\n",
       "</div>"
      ],
      "text/plain": [
       "                                        No      Full  Selective\n",
       "Regular 4.4.0-21-generic-amd64    0.543473  0.346672   0.109855\n",
       "        4.8.0-22-generic-amd64    0.543648  0.346881   0.109472\n",
       "        4.10.0-19-generic-amd64   0.542314  0.348975   0.108711\n",
       "        4.13.0-16-generic-amd64   0.534523  0.350582   0.114896\n",
       "        4.15.0-20-generic-amd64   0.536402  0.348616   0.114983\n",
       "        4.18.0-10-generic-amd64   0.547821  0.350536   0.101643\n",
       "        5.0.0-13-generic-amd64    0.545583  0.354027   0.100390\n",
       "        5.3.0-18-generic-amd64    0.548839  0.353256   0.097905\n",
       "        5.4.0-26-generic-amd64    0.547360  0.354456   0.098184\n",
       "        5.8.0-25-generic-amd64    0.568490  0.327451   0.104059\n",
       "        5.11.0-16-generic-amd64   0.576946  0.322732   0.100322\n",
       "        5.13.0-19-generic-amd64   0.555827  0.347098   0.097075\n",
       "        5.15.0-25-generic-amd64   0.556735  0.348744   0.094521\n",
       "        5.19.0-21-generic-amd64   0.561719  0.349475   0.088806\n",
       "        6.2.0-20-generic-amd64    0.558719  0.353250   0.088030\n",
       "        6.5.0-9-generic-amd64     0.560868  0.350575   0.088557\n",
       "        6.8.0-31-generic-amd64    0.560232  0.350305   0.089463\n",
       "Arch    5.4.0-26-generic-arm64    0.552155  0.350248   0.097597\n",
       "        5.4.0-26-generic-armhf    0.567610  0.344633   0.087757\n",
       "        5.4.0-26-generic-ppc64el  0.554854  0.355316   0.089830\n",
       "        5.4.0-24-generic-riscv64  0.535947  0.366581   0.097472"
      ]
     },
     "execution_count": 4,
     "metadata": {},
     "output_type": "execute_result"
    }
   ],
   "source": [
    "import pandas as pd\n",
    "\n",
    "pd.DataFrame(\n",
    "    {\n",
    "        (group, version): data[group][version]\n",
    "        for group in data\n",
    "        for version in data[group]\n",
    "    }\n",
    ").T"
   ]
  },
  {
   "cell_type": "code",
   "execution_count": 5,
   "metadata": {},
   "outputs": [
    {
     "name": "stderr",
     "output_type": "stream",
     "text": [
      "[utils_matplotlib.py:86 ] INFO: Saved figure to /Users/szhong/Code/DepSurf/paper/figs/inline.pdf\n"
     ]
    },
    {
     "data": {
      "image/png": "[encoded data removed]",
      "text/plain": [
       "<Figure size 1000x250 with 2 Axes>"
      ]
     },
     "metadata": {},
     "output_type": "display_data"
    }
   ],
   "source": [
    "from typing import List\n",
    "\n",
    "from matplotlib import pyplot as plt\n",
    "from matplotlib.axes import Axes\n",
    "from matplotlib.ticker import FuncFormatter\n",
    "\n",
    "from depsurf import InlineType, VersionGroup\n",
    "from utils import get_legend_handles_labels, save_fig, ARCH_NAMES\n",
    "\n",
    "COLORS = {\n",
    "    InlineType.NO: \"tab:blue\",\n",
    "    InlineType.FULL: \"tab:green\",\n",
    "    InlineType.SELECTIVE: \"tab:red\",\n",
    "}\n",
    "\n",
    "NAMES = {\n",
    "    InlineType.NO: \"Not inlined\",\n",
    "    InlineType.FULL: \"Fully inlined\",\n",
    "    InlineType.SELECTIVE: \"Selectively inlined\",\n",
    "}\n",
    "\n",
    "GROUPS = {\n",
    "    VersionGroup.REGULAR: \"Linux Kernel Version\",\n",
    "    VersionGroup.ARCH: \"Arch for v5.4\",\n",
    "}\n",
    "\n",
    "fig, axs = plt.subplots(\n",
    "    1,\n",
    "    len(data),\n",
    "    figsize=(5, 1.25),\n",
    "    sharey=True,\n",
    "    width_ratios=[len(v) for v in data.values()],\n",
    "    gridspec_kw={\"wspace\": 0.1},\n",
    ")\n",
    "\n",
    "axs: List[Axes]\n",
    "\n",
    "for group_idx, (ax, (group, group_data)) in enumerate(zip(axs, data.items())):\n",
    "    for i, (version, version_data) in enumerate(group_data.items()):\n",
    "        bottom = 0\n",
    "        for k, v in version_data.items():\n",
    "            ax.bar(i, v, 0.7, label=NAMES[k], bottom=bottom, color=COLORS[k])\n",
    "            bottom += v\n",
    "\n",
    "    if group == VersionGroup.REGULAR:\n",
    "        labels = [v.short_version for v in group_data]\n",
    "    elif group == VersionGroup.ARCH:\n",
    "        labels = [ARCH_NAMES[v.arch] for v in group_data]\n",
    "\n",
    "    ax.set_xticks(range(len(labels)), labels)\n",
    "    ax.set_xlabel(GROUPS[group], fontsize=8)\n",
    "    ax.set_xticklabels(labels, fontsize=8, rotation=45, ha=\"right\", va=\"top\")\n",
    "\n",
    "    ax.yaxis.set_major_formatter(FuncFormatter(lambda x, _: f\"{x:.0%}\"))\n",
    "\n",
    "axs[0].set_ylabel(\"Pct. of Functions\")\n",
    "\n",
    "handles, labels = get_legend_handles_labels(fig)\n",
    "fig.legend(\n",
    "    handles,\n",
    "    labels,\n",
    "    loc=\"upper center\",\n",
    "    ncol=5,\n",
    "    bbox_to_anchor=(0.5, 1.1),\n",
    "    fontsize=8,\n",
    ")\n",
    "\n",
    "save_fig(fig, \"inline\")"
   ]
  }
 ],
 "metadata": {
  "kernelspec": {
   "display_name": ".venv",
   "language": "python",
   "name": "python3"
  },
  "language_info": {
   "codemirror_mode": {
    "name": "ipython",
    "version": 3
   },
   "file_extension": ".py",
   "mimetype": "text/x-python",
   "name": "python",
   "nbconvert_exporter": "python",
   "pygments_lexer": "ipython3",
   "version": "3.13.0"
  }
 },
 "nbformat": 4,
 "nbformat_minor": 2
}
