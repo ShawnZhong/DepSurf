{
 "cells": [
  {
   "cell_type": "code",
   "execution_count": 1,
   "metadata": {},
   "outputs": [],
   "source": [
    "%reload_ext autoreload\n",
    "%autoreload 2"
   ]
  },
  {
   "cell_type": "code",
   "execution_count": null,
   "metadata": {},
   "outputs": [],
   "source": [
    "from depsurf.output import load_df\n",
    "\n",
    "df = load_df(\"dep\")\n",
    "df[\"Num Programs\"] = df[\"Program\"].apply(len)\n",
    "df = df.sort_values(by=[\"Type\", \"Num Programs\"], ascending=False)\n",
    "df = df.drop(columns=[\"Program\"], level=0)\n",
    "df = df.loc[df.index.get_level_values(\"Type\") == \"Function\"]\n",
    "df[[\"Status\", \"Num Programs\"]]\n",
    "# df[[\"Delta\", \"Num Programs\"]]\n",
    "\n",
    "# df"
   ]
  }
 ],
 "metadata": {
  "kernelspec": {
   "display_name": "base",
   "language": "python",
   "name": "python3"
  },
  "language_info": {
   "codemirror_mode": {
    "name": "ipython",
    "version": 3
   },
   "file_extension": ".py",
   "mimetype": "text/x-python",
   "name": "python",
   "nbconvert_exporter": "python",
   "pygments_lexer": "ipython3",
   "version": "3.11.7"
  }
 },
 "nbformat": 4,
 "nbformat_minor": 2
}
