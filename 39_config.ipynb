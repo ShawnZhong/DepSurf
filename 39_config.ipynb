{
 "cells": [
  {
   "cell_type": "code",
   "execution_count": 1,
   "metadata": {},
   "outputs": [],
   "source": [
    "%reload_ext autoreload\n",
    "%autoreload 2"
   ]
  },
  {
   "cell_type": "code",
   "execution_count": 25,
   "metadata": {},
   "outputs": [
    {
     "name": "stderr",
     "output_type": "stream",
     "text": [
      "[ utils_pickle.py:18 ] INFO: Loding config from /Users/szhong/Code/DepSurf/output/config.pkl\n",
      "[  utils_latex.py:101] INFO: Saved cfg to /Users/szhong/Code/DepSurf/paper/tabs/cfg.tex\n"
     ]
    }
   ],
   "source": [
    "import pandas as pd\n",
    "\n",
    "from depsurf import DepKind, DiffResult, IssueEnum, VersionGroup\n",
    "from utils import load_pkl, GRAY_DASH, save_latex, FLAVOR_NAMES, ARCH_NAMES, texttt, footnotesize\n",
    "\n",
    "data: DiffResult = load_pkl(\"config\")\n",
    "\n",
    "ISSUES = {\n",
    "    IssueEnum.ADD: \"$+$\",\n",
    "    IssueEnum.REMOVE: \"$-$\",\n",
    "    IssueEnum.CHANGE: r\"$\\Delta$\",\n",
    "    IssueEnum.NEW: \"#\",\n",
    "}\n",
    "\n",
    "KINDS = {\n",
    "    DepKind.STRUCT: \"Struct\",\n",
    "    DepKind.CONFIG: \"Config\",\n",
    "    DepKind.FUNC: \"Func\",\n",
    "    DepKind.TRACEPOINT: r\"\\shortstack{Tracept\\\\($\\Delta=0$)}\",\n",
    "    DepKind.SYSCALL: r\"Syscall\",\n",
    "}\n",
    "\n",
    "GROUPS = {\n",
    "    VersionGroup.ARCH: \"Architecture\",\n",
    "    VersionGroup.FLAVOR: \"Flavor\",\n",
    "}\n",
    "\n",
    "\n",
    "def format_val(v) -> str:\n",
    "    if v > 1000:\n",
    "        return f\"{v/1000:.1f}k\"\n",
    "    return v\n",
    "\n",
    "\n",
    "results = {}\n",
    "\n",
    "def_pair_result = list(data.data[VersionGroup.ARCH].data.values())[0]\n",
    "result = {}\n",
    "for kind, kind_result in def_pair_result.iter_kinds():\n",
    "    if kind not in KINDS:\n",
    "        continue\n",
    "    for issue, count in kind_result.iter_issues():\n",
    "        if issue == IssueEnum.OLD:\n",
    "            result[(KINDS[kind], ISSUES[IssueEnum.NEW])] = format_val(count)\n",
    "        elif (\n",
    "            issue in (IssueEnum.ADD, IssueEnum.REMOVE, IssueEnum.CHANGE)\n",
    "            and kind != DepKind.CONFIG\n",
    "        ):\n",
    "            result[(KINDS[kind], ISSUES[issue])] = 0\n",
    "result[(\"Register\", ISSUES[IssueEnum.CHANGE])] = 0\n",
    "results[(r\"\\multicolumn{1}{c|}{def-}\", r\"\\multicolumn{1}{c|}{ault}\")] = result\n",
    "\n",
    "\n",
    "for group, group_result in data.iter_groups():\n",
    "    if group not in GROUPS:\n",
    "        continue\n",
    "    for pair, pair_result in group_result.iter_pairs():\n",
    "        result = {}\n",
    "        for kind, kind_result in pair_result.iter_kinds():\n",
    "            if kind not in KINDS:\n",
    "                continue\n",
    "            for issue, count in kind_result.iter_issues():\n",
    "                if issue not in ISSUES:\n",
    "                    continue\n",
    "                if kind == DepKind.CONFIG and issue != IssueEnum.NEW:\n",
    "                    continue\n",
    "                result[(KINDS[kind], ISSUES[issue])] = format_val(count)\n",
    "        result[(\"Register\", ISSUES[IssueEnum.CHANGE])] = 1 if group == VersionGroup.ARCH else 0\n",
    "        if group == VersionGroup.ARCH:\n",
    "            name = texttt(footnotesize(ARCH_NAMES[pair.v2.arch]))\n",
    "        elif group == VersionGroup.FLAVOR:\n",
    "            name = FLAVOR_NAMES[pair.v2.flavor]\n",
    "        results[(GROUPS[group], name)] = result\n",
    "\n",
    "\n",
    "df = pd.DataFrame(results)\n",
    "df = df.loc[(df != 0).any(axis=1)]\n",
    "\n",
    "\n",
    "df = df.map(lambda x: GRAY_DASH if x == 0 else x)\n",
    "latex = df.to_latex(\n",
    "    multicolumn_format=\"c|\", column_format=r\"p{7ex}p{1.5ex}|r|rrrr|rrrr\", multirow=True\n",
    ")\n",
    "\n",
    "save_latex(latex, \"cfg\", rotate=False)"
   ]
  }
 ],
 "metadata": {
  "kernelspec": {
   "display_name": "base",
   "language": "python",
   "name": "python3"
  },
  "language_info": {
   "codemirror_mode": {
    "name": "ipython",
    "version": 3
   },
   "file_extension": ".py",
   "mimetype": "text/x-python",
   "name": "python",
   "nbconvert_exporter": "python",
   "pygments_lexer": "ipython3",
   "version": "3.12.4"
  }
 },
 "nbformat": 4,
 "nbformat_minor": 2
}
