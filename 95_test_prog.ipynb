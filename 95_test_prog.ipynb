{
 "cells": [
  {
   "cell_type": "code",
   "execution_count": null,
   "metadata": {},
   "outputs": [],
   "source": [
    "%reload_ext autoreload\n",
    "%autoreload 2"
   ]
  },
  {
   "cell_type": "code",
   "execution_count": 1,
   "metadata": {},
   "outputs": [
    {
     "name": "stdout",
     "output_type": "stream",
     "text": [
      "Writing tmp.bpf.c\n"
     ]
    }
   ],
   "source": [
    "%%writefile tmp.bpf.c\n",
    "struct task_struct {\n",
    "  int i;\n",
    "  int j;\n",
    "  int k;\n",
    "  struct inner {\n",
    "    int a;\n",
    "    int b;\n",
    "  } s;\n",
    "} __attribute__((preserve_access_index));\n",
    "\n",
    "int f(struct task_struct* foo) { \n",
    "    return foo->s.b;\n",
    "}"
   ]
  },
  {
   "cell_type": "code",
   "execution_count": 2,
   "metadata": {},
   "outputs": [
    {
     "name": "stdout",
     "output_type": "stream",
     "text": [
      "\n",
      "tmp.bpf.o:\tfile format elf64-bpf\n",
      "\n",
      "Disassembly of section .text:\n",
      "\n",
      "0000000000000000 <f>:\n",
      ";     return foo->s.b;\n",
      "       0:\t61 10 10 00 00 00 00 00\tr0 = *(u32 *)(r1 + 0x10)\n",
      "\t\t0000000000000000:  CO-RE <byte_off> [2] struct task_struct::s.b (0:3:1)\n",
      "       1:\t95 00 00 00 00 00 00 00\texit\n"
     ]
    }
   ],
   "source": [
    "!clang -g -O2 -target bpf -c tmp.bpf.c -o tmp.bpf.o\n",
    "!llvm-objdump --disassemble --reloc --source tmp.bpf.o\n",
    "!rm tmp.bpf.c tmp.bpf.o"
   ]
  },
  {
   "cell_type": "code",
   "execution_count": 2,
   "metadata": {},
   "outputs": [
    {
     "name": "stdout",
     "output_type": "stream",
     "text": [
      "Function    __page_cache_release\n",
      "\tIn 4.4.0-21-generic-amd64: No issues\n",
      "\t\tFuncEntry(addr=0xffffffff8119c910, name=__page_cache_release, loc=mm/swap.c:53, file=mm/swap.c, external=False, caller_func=['mm/swap.c:__put_compound_page'], caller_inline=[], inline=-2)\n",
      "\t\tFuncSymbol(addr=0xffffffff8119c910, name=__page_cache_release, section=.text, bind=STB_LOCAL, size=340)\n",
      "\tIn 4.8.0-22-generic-amd64: No issues\n",
      "\t\tFuncEntry(addr=0xffffffff811b2770, name=__page_cache_release, loc=mm/swap.c:58, file=mm/swap.c, external=False, caller_func=['mm/swap.c:__put_page', 'mm/swap.c:__put_compound_page'], caller_inline=[], inline=-2)\n",
      "\t\tFuncSymbol(addr=0xffffffff811b2770, name=__page_cache_release, section=.text, bind=STB_LOCAL, size=517)\n",
      "\tIn 4.10.0-19-generic-amd64: No issues\n",
      "\t\tFuncEntry(addr=0xffffffff811c2df0, name=__page_cache_release, loc=mm/swap.c:58, file=mm/swap.c, external=False, caller_func=['mm/swap.c:__put_page', 'mm/swap.c:__put_compound_page'], caller_inline=[], inline=-2)\n",
      "\t\tFuncSymbol(addr=0xffffffff811c2df0, name=__page_cache_release, section=.text, bind=STB_LOCAL, size=529)\n",
      "\tIn 4.13.0-16-generic-amd64: No issues\n",
      "\t\tFuncEntry(addr=0xffffffff811cb250, name=__page_cache_release, loc=mm/swap.c:58, file=mm/swap.c, external=False, caller_func=['mm/swap.c:__put_compound_page'], caller_inline=[], inline=-2)\n",
      "\t\tFuncSymbol(addr=0xffffffff811cb250, name=__page_cache_release, section=.text, bind=STB_LOCAL, size=534)\n",
      "\tIn 4.15.0-20-generic-amd64: No issues\n",
      "\t\tFuncEntry(addr=0xffffffff811e0190, name=__page_cache_release, loc=mm/swap.c:58, file=mm/swap.c, external=False, caller_func=['mm/swap.c:__put_compound_page'], caller_inline=[], inline=-2)\n",
      "\t\tFuncSymbol(addr=0xffffffff811e0190, name=__page_cache_release, section=.text, bind=STB_LOCAL, size=534)\n",
      "\tIn 4.18.0-10-generic-amd64: No issues\n",
      "\t\tFuncEntry(addr=0xffffffff81201110, name=__page_cache_release, loc=mm/swap.c:59, file=mm/swap.c, external=False, caller_func=['mm/swap.c:__put_compound_page'], caller_inline=[], inline=-2)\n",
      "\t\tFuncSymbol(addr=0xffffffff81201110, name=__page_cache_release, section=.text, bind=STB_LOCAL, size=543)\n",
      "\tIn 5.0.0-13-generic-amd64: No issues\n",
      "\t\tFuncEntry(addr=0xffffffff812143b0, name=__page_cache_release, loc=mm/swap.c:58, file=mm/swap.c, external=False, caller_func=['mm/swap.c:__put_compound_page'], caller_inline=[], inline=-2)\n",
      "\t\tFuncSymbol(addr=0xffffffff812143b0, name=__page_cache_release, section=.text, bind=STB_LOCAL, size=546)\n",
      "\tIn 5.3.0-18-generic-amd64: No issues\n",
      "\t\tFuncEntry(addr=0xffffffff81223a80, name=__page_cache_release, loc=mm/swap.c:59, file=mm/swap.c, external=False, caller_func=['mm/swap.c:__put_compound_page'], caller_inline=[], inline=-2)\n",
      "\t\tFuncSymbol(addr=0xffffffff81223a80, name=__page_cache_release, section=.text, bind=STB_LOCAL, size=515)\n",
      "\tIn 5.4.0-26-generic-amd64: No issues\n",
      "\t\tFuncEntry(addr=0xffffffff81231830, name=__page_cache_release, loc=mm/swap.c:60, file=mm/swap.c, external=False, caller_func=['mm/swap.c:__put_compound_page'], caller_inline=[], inline=-2)\n",
      "\t\tFuncSymbol(addr=0xffffffff81231830, name=__page_cache_release, section=.text, bind=STB_LOCAL, size=496)\n",
      "\tIn 5.8.0-25-generic-amd64: No issues\n",
      "\t\tFuncEntry(addr=0xffffffff8125e270, name=__page_cache_release, loc=mm/swap.c:79, file=mm/swap.c, external=False, caller_func=['mm/swap.c:release_pages', 'mm/swap.c:__put_page', 'mm/swap.c:__put_page'], caller_inline=[], inline=-2)\n",
      "\t\tFuncSymbol(addr=0xffffffff8125e270, name=__page_cache_release, section=.text, bind=STB_LOCAL, size=488)\n",
      "\tIn 5.11.0-16-generic-amd64: No issues\n",
      "\t\tFuncEntry(addr=0xffffffff81268330, name=__page_cache_release, loc=mm/swap.c:79, file=mm/swap.c, external=False, caller_func=['mm/swap.c:release_pages'], caller_inline=[], inline=-2)\n",
      "\t\tFuncSymbol(addr=0xffffffff81268330, name=__page_cache_release, section=.text, bind=STB_LOCAL, size=478)\n",
      "\tIn 5.13.0-19-generic-amd64: No issues\n",
      "\t\tFuncEntry(addr=0xffffffff8126dc90, name=__page_cache_release, loc=mm/swap.c:80, file=mm/swap.c, external=False, caller_func=['mm/swap.c:release_pages'], caller_inline=[], inline=-2)\n",
      "\t\tFuncSymbol(addr=0xffffffff8126dc90, name=__page_cache_release, section=.text, bind=STB_LOCAL, size=524)\n",
      "\tIn 5.15.0-25-generic-amd64: No issues\n",
      "\t\tFuncEntry(addr=0xffffffff812aab70, name=__page_cache_release, loc=mm/swap.c:80, file=mm/swap.c, external=False, caller_func=['mm/swap.c:release_pages'], caller_inline=[], inline=-2)\n",
      "\t\tFuncSymbol(addr=0xffffffff812aab70, name=__page_cache_release, section=.text, bind=STB_LOCAL, size=597)\n",
      "\tIn 5.19.0-21-generic-amd64: No issues\n",
      "\t\tFuncEntry(addr=0xffffffff813043f0, name=__page_cache_release, loc=mm/swap.c:80, file=mm/swap.c, external=False, caller_func=['mm/swap.c:release_pages', 'mm/swap.c:put_pages_list', 'mm/swap.c:__put_page', 'mm/swap.c:__put_page'], caller_inline=[], inline=-2)\n",
      "\t\tFuncSymbol(addr=0xffffffff813043f0, name=__page_cache_release, section=.text, bind=STB_LOCAL, size=1241)\n",
      "\tIn 6.2.0-20-generic-amd64: No issues\n",
      "\t\tFuncEntry(addr=0xffffffff8136d650, name=__page_cache_release, loc=mm/swap.c:81, file=mm/swap.c, external=False, caller_func=['mm/swap.c:release_pages', 'mm/swap.c:put_pages_list', 'mm/swap.c:__folio_put', 'mm/swap.c:__folio_put'], caller_inline=[], inline=-2)\n",
      "\t\tFuncSymbol(addr=0xffffffff8136d650, name=__page_cache_release, section=.text, bind=STB_LOCAL, size=696)\n",
      "\tIn 6.5.0-9-generic-amd64: No issues\n",
      "\t\tFuncEntry(addr=0xffffffff8139f890, name=__page_cache_release, loc=mm/swap.c:81, file=mm/swap.c, external=False, caller_func=['mm/swap.c:release_pages', 'mm/swap.c:put_pages_list', 'mm/swap.c:__folio_put', 'mm/swap.c:__folio_put'], caller_inline=[], inline=-2)\n",
      "\t\tFuncSymbol(addr=0xffffffff8139f890, name=__page_cache_release, section=.text, bind=STB_LOCAL, size=696)\n",
      "\tIn 6.8.0-31-generic-amd64: No issues\n",
      "\t\tFuncEntry(addr=0xffffffff813c94f0, name=__page_cache_release, loc=mm/swap.c:81, file=mm/swap.c, external=False, caller_func=['mm/swap.c:release_pages', 'mm/swap.c:put_pages_list', 'mm/swap.c:__folio_put', 'mm/swap.c:__folio_put'], caller_inline=[], inline=-2)\n",
      "\t\tFuncSymbol(addr=0xffffffff813c94f0, name=__page_cache_release, section=.text, bind=STB_LOCAL, size=692)\n",
      "\tFrom 4.4.0-21-generic-amd64 to 4.8.0-22-generic-amd64: No changes\n",
      "\tFrom 4.4.0-21-generic-amd64 to 4.10.0-19-generic-amd64: No changes\n",
      "\tFrom 4.4.0-21-generic-amd64 to 4.13.0-16-generic-amd64: No changes\n",
      "\tFrom 4.4.0-21-generic-amd64 to 4.15.0-20-generic-amd64: No changes\n",
      "\tFrom 4.4.0-21-generic-amd64 to 4.18.0-10-generic-amd64: No changes\n",
      "\tFrom 4.4.0-21-generic-amd64 to 5.0.0-13-generic-amd64: No changes\n",
      "\tFrom 4.4.0-21-generic-amd64 to 5.3.0-18-generic-amd64: No changes\n",
      "\tFrom 4.4.0-21-generic-amd64 to 5.4.0-26-generic-amd64: No changes\n",
      "\tFrom 4.4.0-21-generic-amd64 to 5.8.0-25-generic-amd64: No changes\n",
      "\tFrom 4.4.0-21-generic-amd64 to 5.11.0-16-generic-amd64: No changes\n",
      "\tFrom 4.4.0-21-generic-amd64 to 5.13.0-19-generic-amd64: No changes\n",
      "\tFrom 4.4.0-21-generic-amd64 to 5.15.0-25-generic-amd64: No changes\n",
      "\tFrom 4.4.0-21-generic-amd64 to 5.19.0-21-generic-amd64: No changes\n",
      "\tFrom 4.4.0-21-generic-amd64 to 6.2.0-20-generic-amd64: Changed\n",
      "\t\tParam added             struct folio * folio\n",
      "\t\tParam removed           struct page * page\n",
      "\tFrom 4.4.0-21-generic-amd64 to 6.5.0-9-generic-amd64: Changed\n",
      "\t\tParam added             struct folio * folio\n",
      "\t\tParam removed           struct page * page\n",
      "\tFrom 4.4.0-21-generic-amd64 to 6.8.0-31-generic-amd64: Changed\n",
      "\t\tParam added             struct folio * folio\n",
      "\t\tParam removed           struct page * page\n"
     ]
    }
   ],
   "source": [
    "from depsurf import DepKind, VersionGroup, gen_report\n",
    "\n",
    "result = gen_report([DepKind.FUNC(\"__page_cache_release\")], VersionGroup.REGULAR)"
   ]
  }
 ],
 "metadata": {
  "kernelspec": {
   "display_name": "base",
   "language": "python",
   "name": "python3"
  },
  "language_info": {
   "codemirror_mode": {
    "name": "ipython",
    "version": 3
   },
   "file_extension": ".py",
   "mimetype": "text/x-python",
   "name": "python",
   "nbconvert_exporter": "python",
   "pygments_lexer": "ipython3",
   "version": "3.13.0"
  }
 },
 "nbformat": 4,
 "nbformat_minor": 2
}
