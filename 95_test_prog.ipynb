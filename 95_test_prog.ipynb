{
 "cells": [
  {
   "cell_type": "code",
   "execution_count": null,
   "metadata": {},
   "outputs": [],
   "source": [
    "%reload_ext autoreload\n",
    "%autoreload 2"
   ]
  },
  {
   "cell_type": "code",
   "execution_count": 1,
   "metadata": {},
   "outputs": [
    {
     "name": "stdout",
     "output_type": "stream",
     "text": [
      "Writing tmp.bpf.c\n"
     ]
    }
   ],
   "source": [
    "%%writefile tmp.bpf.c\n",
    "struct task_struct {\n",
    "  int i;\n",
    "  int j;\n",
    "  int k;\n",
    "  struct inner {\n",
    "    int a;\n",
    "    int b;\n",
    "  } s;\n",
    "} __attribute__((preserve_access_index));\n",
    "\n",
    "int f(struct task_struct* foo) { \n",
    "    return foo->s.b;\n",
    "}"
   ]
  },
  {
   "cell_type": "code",
   "execution_count": 2,
   "metadata": {},
   "outputs": [
    {
     "name": "stdout",
     "output_type": "stream",
     "text": [
      "\n",
      "tmp.bpf.o:\tfile format elf64-bpf\n",
      "\n",
      "Disassembly of section .text:\n",
      "\n",
      "0000000000000000 <f>:\n",
      ";     return foo->s.b;\n",
      "       0:\t61 10 10 00 00 00 00 00\tr0 = *(u32 *)(r1 + 0x10)\n",
      "\t\t0000000000000000:  CO-RE <byte_off> [2] struct task_struct::s.b (0:3:1)\n",
      "       1:\t95 00 00 00 00 00 00 00\texit\n"
     ]
    }
   ],
   "source": [
    "!clang -g -O2 -target bpf -c tmp.bpf.c -o tmp.bpf.o\n",
    "!llvm-objdump --disassemble --reloc --source tmp.bpf.o\n",
    "!rm tmp.bpf.c tmp.bpf.o"
   ]
  },
  {
   "cell_type": "code",
   "execution_count": 2,
   "metadata": {},
   "outputs": [
    {
     "name": "stdout",
     "output_type": "stream",
     "text": [
      "Function    __page_cache_release\n",
      "\tIn 4.4.0-21-generic-amd64: No issues\n",
      "\t\tFuncEntry(addr=18446744071580535056, name='__page_cache_release', external=False, loc='mm/swap.c:53', file='mm/swap.c', inline='seen, unknown', caller_inline=[], caller_func=['mm/swap.c:__put_compound_page'])\n",
      "\tIn 4.8.0-22-generic-amd64: No issues\n",
      "\t\tFuncEntry(addr=18446744071580624752, name='__page_cache_release', external=False, loc='mm/swap.c:58', file='mm/swap.c', inline='seen, unknown', caller_inline=[], caller_func=['mm/swap.c:__put_page', 'mm/swap.c:__put_compound_page'])\n",
      "\tIn 4.10.0-19-generic-amd64: No issues\n",
      "\t\tFuncEntry(addr=18446744071580691952, name='__page_cache_release', external=False, loc='mm/swap.c:58', file='mm/swap.c', inline='seen, unknown', caller_inline=[], caller_func=['mm/swap.c:__put_page', 'mm/swap.c:__put_compound_page'])\n",
      "\tIn 4.13.0-16-generic-amd64: No issues\n",
      "\t\tFuncEntry(addr=18446744071580725840, name='__page_cache_release', external=False, loc='mm/swap.c:58', file='mm/swap.c', inline='seen, unknown', caller_inline=[], caller_func=['mm/swap.c:__put_compound_page'])\n",
      "\tIn 4.15.0-20-generic-amd64: No issues\n",
      "\t\tFuncEntry(addr=18446744071580811664, name='__page_cache_release', external=False, loc='mm/swap.c:58', file='mm/swap.c', inline='seen, unknown', caller_inline=[], caller_func=['mm/swap.c:__put_compound_page'])\n",
      "\tIn 4.18.0-10-generic-amd64: No issues\n",
      "\t\tFuncEntry(addr=18446744071580946704, name='__page_cache_release', external=False, loc='mm/swap.c:59', file='mm/swap.c', inline='seen, unknown', caller_inline=[], caller_func=['mm/swap.c:__put_compound_page'])\n",
      "\tIn 5.0.0-13-generic-amd64: No issues\n",
      "\t\tFuncEntry(addr=18446744071581025200, name='__page_cache_release', external=False, loc='mm/swap.c:58', file='mm/swap.c', inline='seen, unknown', caller_inline=[], caller_func=['mm/swap.c:__put_compound_page'])\n",
      "\tIn 5.3.0-18-generic-amd64: No issues\n",
      "\t\tFuncEntry(addr=18446744071581088384, name='__page_cache_release', external=False, loc='mm/swap.c:59', file='mm/swap.c', inline='seen, unknown', caller_inline=[], caller_func=['mm/swap.c:__put_compound_page'])\n",
      "\tIn 5.4.0-26-generic-amd64: No issues\n",
      "\t\tFuncEntry(addr=18446744071581145136, name='__page_cache_release', external=False, loc='mm/swap.c:60', file='mm/swap.c', inline='seen, unknown', caller_inline=[], caller_func=['mm/swap.c:__put_compound_page'])\n",
      "\tIn 5.8.0-25-generic-amd64: No issues\n",
      "\t\tFuncEntry(addr=18446744071581327984, name='__page_cache_release', external=False, loc='mm/swap.c:79', file='mm/swap.c', inline='seen, unknown', caller_inline=[], caller_func=['mm/swap.c:release_pages', 'mm/swap.c:__put_page', 'mm/swap.c:__put_page'])\n",
      "\tIn 5.11.0-16-generic-amd64: No issues\n",
      "\t\tFuncEntry(addr=18446744071581369136, name='__page_cache_release', external=False, loc='mm/swap.c:79', file='mm/swap.c', inline='seen, unknown', caller_inline=[], caller_func=['mm/swap.c:release_pages'])\n",
      "\tIn 5.13.0-19-generic-amd64: No issues\n",
      "\t\tFuncEntry(addr=18446744071581392016, name='__page_cache_release', external=False, loc='mm/swap.c:80', file='mm/swap.c', inline='seen, unknown', caller_inline=[], caller_func=['mm/swap.c:release_pages'])\n",
      "\tIn 5.15.0-25-generic-amd64: No issues\n",
      "\t\tFuncEntry(addr=18446744071581641584, name='__page_cache_release', external=False, loc='mm/swap.c:80', file='mm/swap.c', inline='seen, unknown', caller_inline=[], caller_func=['mm/swap.c:release_pages'])\n",
      "\tIn 5.19.0-21-generic-amd64: No issues\n",
      "\t\tFuncEntry(addr=18446744071582008304, name='__page_cache_release', external=False, loc='mm/swap.c:80', file='mm/swap.c', inline='seen, unknown', caller_inline=[], caller_func=['mm/swap.c:release_pages', 'mm/swap.c:put_pages_list', 'mm/swap.c:__put_page', 'mm/swap.c:__put_page'])\n",
      "\tIn 6.2.0-20-generic-amd64: No issues\n",
      "\t\tFuncEntry(addr=18446744071582438992, name='__page_cache_release', external=False, loc='mm/swap.c:81', file='mm/swap.c', inline='seen, unknown', caller_inline=[], caller_func=['mm/swap.c:release_pages', 'mm/swap.c:put_pages_list', 'mm/swap.c:__folio_put', 'mm/swap.c:__folio_put'])\n",
      "\tIn 6.5.0-9-generic-amd64: No issues\n",
      "\t\tFuncEntry(addr=18446744071582644368, name='__page_cache_release', external=False, loc='mm/swap.c:81', file='mm/swap.c', inline='seen, unknown', caller_inline=[], caller_func=['mm/swap.c:release_pages', 'mm/swap.c:put_pages_list', 'mm/swap.c:__folio_put', 'mm/swap.c:__folio_put'])\n",
      "\tIn 6.8.0-31-generic-amd64: No issues\n",
      "\t\tFuncEntry(addr=18446744071582815472, name='__page_cache_release', external=False, loc='mm/swap.c:81', file='mm/swap.c', inline='seen, unknown', caller_inline=[], caller_func=['mm/swap.c:release_pages', 'mm/swap.c:put_pages_list', 'mm/swap.c:__folio_put', 'mm/swap.c:__folio_put'])\n",
      "\tFrom 4.4.0-21-generic-amd64 to 4.8.0-22-generic-amd64: No changes\n",
      "\tFrom 4.4.0-21-generic-amd64 to 4.10.0-19-generic-amd64: No changes\n",
      "\tFrom 4.4.0-21-generic-amd64 to 4.13.0-16-generic-amd64: No changes\n",
      "\tFrom 4.4.0-21-generic-amd64 to 4.15.0-20-generic-amd64: No changes\n",
      "\tFrom 4.4.0-21-generic-amd64 to 4.18.0-10-generic-amd64: No changes\n",
      "\tFrom 4.4.0-21-generic-amd64 to 5.0.0-13-generic-amd64: No changes\n",
      "\tFrom 4.4.0-21-generic-amd64 to 5.3.0-18-generic-amd64: No changes\n",
      "\tFrom 4.4.0-21-generic-amd64 to 5.4.0-26-generic-amd64: No changes\n",
      "\tFrom 4.4.0-21-generic-amd64 to 5.8.0-25-generic-amd64: No changes\n",
      "\tFrom 4.4.0-21-generic-amd64 to 5.11.0-16-generic-amd64: No changes\n",
      "\tFrom 4.4.0-21-generic-amd64 to 5.13.0-19-generic-amd64: No changes\n",
      "\tFrom 4.4.0-21-generic-amd64 to 5.15.0-25-generic-amd64: No changes\n",
      "\tFrom 4.4.0-21-generic-amd64 to 5.19.0-21-generic-amd64: No changes\n",
      "\tFrom 4.4.0-21-generic-amd64 to 6.2.0-20-generic-amd64: Changed\n",
      "\t\tParam added             struct folio * folio\n",
      "\t\tParam removed           struct page * page\n",
      "\tFrom 4.4.0-21-generic-amd64 to 6.5.0-9-generic-amd64: Changed\n",
      "\t\tParam added             struct folio * folio\n",
      "\t\tParam removed           struct page * page\n",
      "\tFrom 4.4.0-21-generic-amd64 to 6.8.0-31-generic-amd64: Changed\n",
      "\t\tParam added             struct folio * folio\n",
      "\t\tParam removed           struct page * page\n"
     ]
    }
   ],
   "source": [
    "from depsurf import DepKind, VersionGroup, DepReport\n",
    "\n",
    "DepReport.from_group(DepKind.FUNC(\"__page_cache_release\"), VersionGroup.REGULAR).print()"
   ]
  }
 ],
 "metadata": {
  "kernelspec": {
   "display_name": ".venv",
   "language": "python",
   "name": "python3"
  },
  "language_info": {
   "codemirror_mode": {
    "name": "ipython",
    "version": 3
   },
   "file_extension": ".py",
   "mimetype": "text/x-python",
   "name": "python",
   "nbconvert_exporter": "python",
   "pygments_lexer": "ipython3",
   "version": "3.13.0"
  }
 },
 "nbformat": 4,
 "nbformat_minor": 2
}
