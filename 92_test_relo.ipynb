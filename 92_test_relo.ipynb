{
 "cells": [
  {
   "cell_type": "code",
   "execution_count": 1,
   "metadata": {},
   "outputs": [],
   "source": [
    "%reload_ext autoreload\n",
    "%autoreload 2"
   ]
  },
  {
   "cell_type": "code",
   "execution_count": 13,
   "metadata": {},
   "outputs": [
    {
     "name": "stdout",
     "output_type": "stream",
     "text": [
      "Overwriting tmp.bpf.c\n"
     ]
    }
   ],
   "source": [
    "%%writefile tmp.bpf.c\n",
    "struct task_struct {\n",
    "  int i;\n",
    "  int j;\n",
    "  int k;\n",
    "  struct inner {\n",
    "    int a;\n",
    "    int b;\n",
    "  } s;\n",
    "} __attribute__((preserve_access_index));\n",
    "\n",
    "int f(struct task_struct* foo) { \n",
    "    return foo->s.b;\n",
    "}"
   ]
  },
  {
   "cell_type": "code",
   "execution_count": 12,
   "metadata": {},
   "outputs": [
    {
     "name": "stdout",
     "output_type": "stream",
     "text": [
      "\n",
      "tmp.bpf.o:\tfile format elf64-bpf\n",
      "\n",
      "Disassembly of section kprobe/f:\n",
      "\n",
      "0000000000000000 <f>:\n",
      ";     return (int) foo->s.b;\n",
      "       0:\t61 10 10 00 00 00 00 00\tr0 = *(u32 *)(r1 + 0x10)\n",
      "\t\t0000000000000000:  CO-RE <byte_off> [2] struct task_struct::s.b (0:3:1)\n",
      "       1:\t95 00 00 00 00 00 00 00\texit\n"
     ]
    }
   ],
   "source": [
    "!clang -g -O2 -target bpf -c tmp.bpf.c -o tmp.bpf.o\n",
    "!llvm-objdump-18 --disassemble --reloc --source tmp.bpf.o"
   ]
  }
 ],
 "metadata": {
  "kernelspec": {
   "display_name": "Python 3",
   "language": "python",
   "name": "python3"
  },
  "language_info": {
   "codemirror_mode": {
    "name": "ipython",
    "version": 3
   },
   "file_extension": ".py",
   "mimetype": "text/x-python",
   "name": "python",
   "nbconvert_exporter": "python",
   "pygments_lexer": "ipython3",
   "version": "3.11.4"
  }
 },
 "nbformat": 4,
 "nbformat_minor": 2
}
