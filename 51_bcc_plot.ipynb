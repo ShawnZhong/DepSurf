{
 "cells": [
  {
   "cell_type": "code",
   "execution_count": null,
   "metadata": {},
   "outputs": [],
   "source": [
    "from depsurf.plot import load_df\n",
    "\n",
    "df_delta = load_df(\"bcc_delta\")\n",
    "df_delta = df_delta.replace({-1: 0})\n",
    "\n",
    "\n",
    "df_delta = df_delta.groupby(df_delta.index.get_level_values(0)).sum()\n",
    "\n",
    "# df_delta[\"Sum\"] = df_delta.sum(axis=1)\n",
    "# df_delta = df_delta.sort_values(\"Sum\", ascending=False)\n",
    "# df_delta\n",
    "\n",
    "# plot a heatmap\n",
    "\n",
    "import matplotlib.pyplot as plt\n",
    "\n",
    "\n",
    "# fig, ax = plt.subplots(figsize=(10, 10))\n",
    "\n",
    "# cax = ax.matshow(df_delta, cmap=\"viridis\")\n",
    "\n",
    "# ax.set_xticks(range(len(df_delta.columns)))\n",
    "# ax.set_xticklabels(df_delta.columns.map(lambda x: \" \".join(x)), rotation=90)\n",
    "# ax.set_yticks(range(len(df_delta.index)))\n",
    "# ax.set_yticklabels(df_delta.index)\n",
    "\n",
    "# fig.colorbar(cax)\n",
    "\n",
    "df_version = load_df(\"bcc_version\")\n",
    "df_version = df_version.replace({True: 0, False: 1})\n",
    "df_version = df_version.groupby(df_version.index.get_level_values(0)).sum()\n",
    "\n",
    "fig, ax = plt.subplots(figsize=(10, 10))\n",
    "cax = ax.matshow(df_version, cmap=\"viridis\")\n",
    "ax.set_xticks(range(len(df_version.columns)))\n",
    "ax.set_xticklabels(df_version.columns, rotation=90)\n",
    "ax.set_yticks(range(len(df_version.index)))\n",
    "ax.set_yticklabels(df_version.index)\n",
    "fig.colorbar(cax)\n",
    "\n",
    "df_version"
   ]
  }
 ],
 "metadata": {
  "kernelspec": {
   "display_name": "Python 3",
   "language": "python",
   "name": "python3"
  },
  "language_info": {
   "codemirror_mode": {
    "name": "ipython",
    "version": 3
   },
   "file_extension": ".py",
   "mimetype": "text/x-python",
   "name": "python",
   "nbconvert_exporter": "python",
   "pygments_lexer": "ipython3",
   "version": "3.11.4"
  }
 },
 "nbformat": 4,
 "nbformat_minor": 2
}
