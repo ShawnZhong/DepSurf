{
 "cells": [
  {
   "cell_type": "code",
   "execution_count": 1,
   "metadata": {},
   "outputs": [],
   "source": [
    "%reload_ext autoreload\n",
    "%autoreload 2"
   ]
  },
  {
   "cell_type": "code",
   "execution_count": 2,
   "metadata": {},
   "outputs": [],
   "source": [
    "from depsurf import Version, FunctionRecorder, disable_dwarf_cache, VERSION_LAST\n",
    "\n",
    "\n",
    "def dump_dwarf(v: Version):\n",
    "    print(f\"Dumping {v}\")\n",
    "\n",
    "    disable_dwarf_cache()\n",
    "\n",
    "    # if v.funcs_path.exists():\n",
    "    #     print(f\"Skipping {v} as {v.funcs_path} already exists\")\n",
    "    #     return\n",
    "\n",
    "    recorder = FunctionRecorder.from_path(path=v.vmlinux_path)\n",
    "    recorder.dump_jsonl(v.funcs_path)\n",
    "\n",
    "\n",
    "# dump_dwarf(VERSION_LAST)"
   ]
  },
  {
   "cell_type": "code",
   "execution_count": null,
   "metadata": {},
   "outputs": [],
   "source": [
    "from depsurf import VERSIONS_ARCH, VERSIONS_FLAVOR, VERSIONS_REGULAR\n",
    "\n",
    "import multiprocessing as mp\n",
    "\n",
    "with mp.Pool(4, maxtasksperchild=1) as pool:\n",
    "    pool.map(dump_dwarf, VERSIONS_REGULAR + VERSIONS_FLAVOR + VERSIONS_ARCH)"
   ]
  }
 ],
 "metadata": {
  "kernelspec": {
   "display_name": "Python 3",
   "language": "python",
   "name": "python3"
  },
  "language_info": {
   "codemirror_mode": {
    "name": "ipython",
    "version": 3
   },
   "file_extension": ".py",
   "mimetype": "text/x-python",
   "name": "python",
   "nbconvert_exporter": "python",
   "pygments_lexer": "ipython3",
   "version": "3.11.4"
  }
 },
 "nbformat": 4,
 "nbformat_minor": 2
}
