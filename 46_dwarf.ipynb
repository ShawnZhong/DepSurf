{
 "cells": [
  {
   "cell_type": "code",
   "execution_count": 1,
   "metadata": {},
   "outputs": [],
   "source": [
    "%reload_ext autoreload\n",
    "%autoreload 2"
   ]
  },
  {
   "cell_type": "code",
   "execution_count": 2,
   "metadata": {},
   "outputs": [
    {
     "name": "stderr",
     "output_type": "stream",
     "text": [
      "[decorator.py:17 ] INFO: dump_funcs       Using /Users/szhong/Downloads/bpf-study/data/funcs/4.8.0-22-generic-amd64.jsonl\n",
      "[decorator.py:17 ] INFO: dump_funcs       Using /Users/szhong/Downloads/bpf-study/data/funcs/4.18.0-10-generic-amd64.jsonl\n",
      "[decorator.py:17 ] INFO: dump_funcs       Using /Users/szhong/Downloads/bpf-study/data/funcs/4.4.0-21-generic-amd64.jsonl\n",
      "[decorator.py:17 ] INFO: dump_funcs       Using /Users/szhong/Downloads/bpf-study/data/funcs/4.13.0-16-generic-amd64.jsonl\n",
      "[decorator.py:17 ] INFO: dump_funcs       Using /Users/szhong/Downloads/bpf-study/data/funcs/4.10.0-19-generic-amd64.jsonl\n",
      "[decorator.py:17 ] INFO: dump_funcs       Using /Users/szhong/Downloads/bpf-study/data/funcs/4.15.0-20-generic-amd64.jsonl\n",
      "[decorator.py:17 ] INFO: dump_funcs       Using /Users/szhong/Downloads/bpf-study/data/funcs/5.0.0-13-generic-amd64.jsonl\n",
      "[decorator.py:17 ] INFO: dump_funcs       Using /Users/szhong/Downloads/bpf-study/data/funcs/5.15.0-25-generic-amd64.jsonl\n",
      "[decorator.py:17 ] INFO: dump_funcs       Using /Users/szhong/Downloads/bpf-study/data/funcs/5.11.0-16-generic-amd64.jsonl\n",
      "[decorator.py:17 ] INFO: dump_funcs       Using /Users/szhong/Downloads/bpf-study/data/funcs/5.8.0-25-generic-amd64.jsonl\n",
      "[decorator.py:17 ] INFO: dump_funcs       Using /Users/szhong/Downloads/bpf-study/data/funcs/5.3.0-18-generic-amd64.jsonl\n",
      "[decorator.py:17 ] INFO: dump_funcs       Using /Users/szhong/Downloads/bpf-study/data/funcs/5.13.0-19-generic-amd64.jsonl\n",
      "[decorator.py:17 ] INFO: dump_funcs       Using /Users/szhong/Downloads/bpf-study/data/funcs/5.4.0-26-generic-amd64.jsonl\n",
      "[decorator.py:17 ] INFO: dump_funcs       Using /Users/szhong/Downloads/bpf-study/data/funcs/5.19.0-21-generic-amd64.jsonl\n",
      "[decorator.py:17 ] INFO: dump_funcs       Using /Users/szhong/Downloads/bpf-study/data/funcs/6.2.0-20-generic-amd64.jsonl\n",
      "[decorator.py:17 ] INFO: dump_funcs       Using /Users/szhong/Downloads/bpf-study/data/funcs/6.8.0-22-generic-amd64.jsonl\n",
      "[decorator.py:17 ] INFO: dump_funcs       Using /Users/szhong/Downloads/bpf-study/data/funcs/6.5.0-9-generic-amd64.jsonl\n",
      "[decorator.py:17 ] INFO: dump_funcs       Using /Users/szhong/Downloads/bpf-study/data/funcs/5.4.0-1009-aws-amd64.jsonl\n",
      "[decorator.py:17 ] INFO: dump_funcs       Using /Users/szhong/Downloads/bpf-study/data/funcs/5.4.0-26-lowlatency-amd64.jsonl\n",
      "[decorator.py:17 ] INFO: dump_funcs       Using /Users/szhong/Downloads/bpf-study/data/funcs/5.4.0-1010-azure-amd64.jsonl\n",
      "[decorator.py:17 ] INFO: dump_funcs       Using /Users/szhong/Downloads/bpf-study/data/funcs/5.4.0-1009-gcp-amd64.jsonl\n",
      "[decorator.py:17 ] INFO: dump_funcs       Using /Users/szhong/Downloads/bpf-study/data/funcs/5.4.0-26-generic-armhf.jsonl\n",
      "[decorator.py:17 ] INFO: dump_funcs       Using /Users/szhong/Downloads/bpf-study/data/funcs/5.4.0-26-generic-arm64.jsonl\n",
      "[decorator.py:17 ] INFO: dump_funcs       Using /Users/szhong/Downloads/bpf-study/data/funcs/5.4.0-26-generic-ppc64el.jsonl\n"
     ]
    }
   ],
   "source": [
    "import multiprocessing as mp\n",
    "\n",
    "from depsurf import VERSIONS_ARCH, VERSIONS_FLAVOR, VERSIONS_REGULAR, VERSION_LAST, prep_dwarf\n",
    "\n",
    "with mp.Pool(mp.cpu_count() - 1, maxtasksperchild=1) as pool:\n",
    "    pool.map(\n",
    "        prep_dwarf,\n",
    "        # [VERSION_LAST],\n",
    "        VERSIONS_REGULAR + VERSIONS_FLAVOR + VERSIONS_ARCH,\n",
    "    )"
   ]
  }
 ],
 "metadata": {
  "kernelspec": {
   "display_name": "Python 3",
   "language": "python",
   "name": "python3"
  },
  "language_info": {
   "codemirror_mode": {
    "name": "ipython",
    "version": 3
   },
   "file_extension": ".py",
   "mimetype": "text/x-python",
   "name": "python",
   "nbconvert_exporter": "python",
   "pygments_lexer": "ipython3",
   "version": "3.11.7"
  }
 },
 "nbformat": 4,
 "nbformat_minor": 2
}
