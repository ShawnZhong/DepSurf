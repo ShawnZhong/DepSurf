{
 "cells": [
  {
   "cell_type": "code",
   "execution_count": 1,
   "metadata": {},
   "outputs": [],
   "source": [
    "%reload_ext autoreload\n",
    "%autoreload 2"
   ]
  },
  {
   "cell_type": "code",
   "execution_count": 1,
   "metadata": {},
   "outputs": [],
   "source": [
    "from depsurf import BuildVersion, FunctionRecorder, disable_dwarf_cache\n",
    "from depsurf.output import setup_pandas\n",
    "\n",
    "def dump_dwarf(v: BuildVersion):\n",
    "    print(f\"Dumping {v}\")\n",
    "\n",
    "    disable_dwarf_cache()\n",
    "\n",
    "    recorder = FunctionRecorder.from_path(path=v.vmlinux_path)\n",
    "    groups = recorder.data\n",
    "    groups.dump_jsonl(v.func_jsonl_path)\n",
    "    return groups\n",
    "\n",
    "\n",
    "# v = BuildVersion.filter()[-1]\n",
    "# dump_dwarf(v)"
   ]
  },
  {
   "cell_type": "code",
   "execution_count": 5,
   "metadata": {},
   "outputs": [],
   "source": [
    "import multiprocessing as mp\n",
    "\n",
    "with mp.Pool(mp.cpu_count()) as pool:\n",
    "    pool.map(dump_dwarf, BuildVersion.filter())"
   ]
  }
 ],
 "metadata": {
  "kernelspec": {
   "display_name": "Python 3",
   "language": "python",
   "name": "python3"
  },
  "language_info": {
   "codemirror_mode": {
    "name": "ipython",
    "version": 3
   },
   "file_extension": ".py",
   "mimetype": "text/x-python",
   "name": "python",
   "nbconvert_exporter": "python",
   "pygments_lexer": "ipython3",
   "version": "3.11.4"
  }
 },
 "nbformat": 4,
 "nbformat_minor": 2
}
