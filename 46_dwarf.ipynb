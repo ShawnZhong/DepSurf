{
 "cells": [
  {
   "cell_type": "code",
   "execution_count": 1,
   "metadata": {},
   "outputs": [],
   "source": [
    "%reload_ext autoreload\n",
    "%autoreload 2"
   ]
  },
  {
   "cell_type": "code",
   "execution_count": 2,
   "metadata": {},
   "outputs": [],
   "source": [
    "from pathlib import Path\n",
    "\n",
    "from elftools.elf.elffile import ELFFile\n",
    "\n",
    "from depsurf import BuildVersion, Functions, disable_dwarf_cache\n",
    "\n",
    "\n",
    "def dump_dwarf_smoke(vmlinux_path: Path, smoke_path: str, debug: bool):\n",
    "    with vmlinux_path.open(\"rb\") as f:\n",
    "        dwarfinfo = ELFFile(f).get_dwarf_info(relocate_dwarf_sections=False)\n",
    "        cu = next(\n",
    "            cu\n",
    "            for cu in dwarfinfo.iter_CUs()\n",
    "            if cu.get_top_DIE().get_full_path().endswith(smoke_path)\n",
    "        )\n",
    "        funcs = Functions.from_cus([cu], debug=debug)\n",
    "        return funcs.df\n",
    "\n",
    "\n",
    "# dump_dwarf_smoke(\n",
    "#     BuildVersion.from_str(\"5.19.0-21-generic-amd64\").vmlinux_path,\n",
    "#     smoke_path=\"head_64.S\",\n",
    "#     debug=True,\n",
    "# )"
   ]
  },
  {
   "cell_type": "code",
   "execution_count": 4,
   "metadata": {},
   "outputs": [
    {
     "name": "stdout",
     "output_type": "stream",
     "text": [
      "Skipping /Users/szhong/Downloads/bpf-study/data/dwarf/4.4.0-21-generic-amd64.pkl\n",
      "Skipping /Users/szhong/Downloads/bpf-study/data/dwarf/4.8.0-22-generic-amd64.pkl\n",
      "Skipping /Users/szhong/Downloads/bpf-study/data/dwarf/4.10.0-19-generic-amd64.pkl\n",
      "Skipping /Users/szhong/Downloads/bpf-study/data/dwarf/4.13.0-16-generic-amd64.pkl\n",
      "Skipping /Users/szhong/Downloads/bpf-study/data/dwarf/4.15.0-20-generic-amd64.pkl\n",
      "Skipping /Users/szhong/Downloads/bpf-study/data/dwarf/4.18.0-10-generic-amd64.pkl\n",
      "Skipping /Users/szhong/Downloads/bpf-study/data/dwarf/5.0.0-13-generic-amd64.pkl\n",
      "Skipping /Users/szhong/Downloads/bpf-study/data/dwarf/5.3.0-18-generic-amd64.pkl\n",
      "Skipping /Users/szhong/Downloads/bpf-study/data/dwarf/5.4.0-26-generic-amd64.pkl\n",
      "Skipping /Users/szhong/Downloads/bpf-study/data/dwarf/5.8.0-25-generic-amd64.pkl\n",
      "Skipping /Users/szhong/Downloads/bpf-study/data/dwarf/5.11.0-16-generic-amd64.pkl\n",
      "Skipping /Users/szhong/Downloads/bpf-study/data/dwarf/5.13.0-19-generic-amd64.pkl\n",
      "Skipping /Users/szhong/Downloads/bpf-study/data/dwarf/5.15.0-25-generic-amd64.pkl\n",
      "Skipping /Users/szhong/Downloads/bpf-study/data/dwarf/5.19.0-21-generic-amd64.pkl\n",
      "Skipping /Users/szhong/Downloads/bpf-study/data/dwarf/6.2.0-20-generic-amd64.pkl\n",
      "Skipping /Users/szhong/Downloads/bpf-study/data/dwarf/6.5.0-9-generic-amd64.pkl\n",
      "Skipping /Users/szhong/Downloads/bpf-study/data/dwarf/6.8.0-22-generic-amd64.pkl\n"
     ]
    }
   ],
   "source": [
    "def dump_dwarf(vmlinux_path: Path, result_path: Path):\n",
    "    disable_dwarf_cache()\n",
    "\n",
    "    if result_path.exists():\n",
    "        print(f\"Skipping {result_path}\")\n",
    "        return\n",
    "\n",
    "    with vmlinux_path.open(\"rb\") as f:\n",
    "        dwarfinfo = ELFFile(f).get_dwarf_info(relocate_dwarf_sections=False)\n",
    "        funcs = Functions.from_dwarfinfo(dwarfinfo)\n",
    "        funcs.dump(path=result_path)\n",
    "\n",
    "for v in BuildVersion.filter():\n",
    "    dump_dwarf(v.vmlinux_path, v.dwarf_path)"
   ]
  },
  {
   "cell_type": "code",
   "execution_count": null,
   "metadata": {},
   "outputs": [],
   "source": [
    "import multiprocessing as mp\n",
    "\n",
    "with mp.Pool(mp.cpu_count()) as pool:\n",
    "    pool.starmap(\n",
    "        dump_dwarf,\n",
    "        [(v.vmlinux_path, v.dwarf_path) for v in BuildVersion.filter()],\n",
    "    )"
   ]
  }
 ],
 "metadata": {
  "kernelspec": {
   "display_name": "Python 3",
   "language": "python",
   "name": "python3"
  },
  "language_info": {
   "codemirror_mode": {
    "name": "ipython",
    "version": 3
   },
   "file_extension": ".py",
   "mimetype": "text/x-python",
   "name": "python",
   "nbconvert_exporter": "python",
   "pygments_lexer": "ipython3",
   "version": "3.11.4"
  }
 },
 "nbformat": 4,
 "nbformat_minor": 2
}
