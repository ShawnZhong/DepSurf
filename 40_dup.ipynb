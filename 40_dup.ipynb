{
 "cells": [
  {
   "cell_type": "code",
   "execution_count": 1,
   "metadata": {},
   "outputs": [],
   "source": [
    "%reload_ext autoreload\n",
    "%autoreload 2"
   ]
  },
  {
   "cell_type": "code",
   "execution_count": 2,
   "metadata": {},
   "outputs": [
    {
     "name": "stderr",
     "output_type": "stream",
     "text": [
      "[        utils.py:160] INFO: NumExpr defaulting to 8 threads.\n"
     ]
    }
   ],
   "source": [
    "from depsurf import Version, FuncGroups, CollisionType, VERSION_DEFAULT\n",
    "from utils import OUTPUT_PATH\n",
    "\n",
    "\n",
    "def count_dup(v: Version):\n",
    "    functions = FuncGroups.from_dump(v.dwarf_funcs_path)\n",
    "    results = {c: FuncGroups() for c in CollisionType}\n",
    "\n",
    "    for name, group in functions.iter_groups():\n",
    "        results[group.get_collision_type()].add_group(name, group)\n",
    "\n",
    "    path = OUTPUT_PATH / \"dup\" / v.name\n",
    "    for c in CollisionType:\n",
    "        results[c].save_groups(path / f\"{c.name.lower()}.txt\")\n",
    "\n",
    "    return {k: v.num_groups for k, v in results.items()}\n",
    "\n",
    "\n",
    "# count_dup(VERSION_DEFAULT)"
   ]
  },
  {
   "cell_type": "code",
   "execution_count": 3,
   "metadata": {},
   "outputs": [
    {
     "name": "stderr",
     "output_type": "stream",
     "text": [
      "[       groups.py:68 ] INFO: Loading funcs from /Users/szhong/Downloads/bpf-study/data/dwarf_funcs/4.4.0-21-generic-amd64.jsonl\n",
      "[       groups.py:56 ] INFO: Saved FuncGroups(17237 groups, 17237 functions) to /Users/szhong/Downloads/bpf-study/output/dup/4.4.0-21-generic-amd64/unique_global.txt\n",
      "[       groups.py:56 ] INFO: Saved FuncGroups(35710 groups, 35710 functions) to /Users/szhong/Downloads/bpf-study/output/dup/4.4.0-21-generic-amd64/unique_static.txt\n",
      "[       groups.py:56 ] INFO: Saved FuncGroups(4042 groups, 53294 functions) to /Users/szhong/Downloads/bpf-study/output/dup/4.4.0-21-generic-amd64/include_dup.txt\n",
      "[       groups.py:56 ] INFO: Saved FuncGroups(404 groups, 961 functions) to /Users/szhong/Downloads/bpf-study/output/dup/4.4.0-21-generic-amd64/static_static.txt\n",
      "[       groups.py:56 ] INFO: Saved FuncGroups(10 groups, 20 functions) to /Users/szhong/Downloads/bpf-study/output/dup/4.4.0-21-generic-amd64/static_global.txt\n",
      "[       groups.py:68 ] INFO: Loading funcs from /Users/szhong/Downloads/bpf-study/data/dwarf_funcs/4.15.0-20-generic-amd64.jsonl\n",
      "[       groups.py:56 ] INFO: Saved FuncGroups(20098 groups, 20098 functions) to /Users/szhong/Downloads/bpf-study/output/dup/4.15.0-20-generic-amd64/unique_global.txt\n",
      "[       groups.py:56 ] INFO: Saved FuncGroups(41740 groups, 41740 functions) to /Users/szhong/Downloads/bpf-study/output/dup/4.15.0-20-generic-amd64/unique_static.txt\n",
      "[       groups.py:56 ] INFO: Saved FuncGroups(4809 groups, 65765 functions) to /Users/szhong/Downloads/bpf-study/output/dup/4.15.0-20-generic-amd64/include_dup.txt\n",
      "[       groups.py:56 ] INFO: Saved FuncGroups(398 groups, 975 functions) to /Users/szhong/Downloads/bpf-study/output/dup/4.15.0-20-generic-amd64/static_static.txt\n",
      "[       groups.py:56 ] INFO: Saved FuncGroups(26 groups, 52 functions) to /Users/szhong/Downloads/bpf-study/output/dup/4.15.0-20-generic-amd64/static_global.txt\n",
      "[       groups.py:68 ] INFO: Loading funcs from /Users/szhong/Downloads/bpf-study/data/dwarf_funcs/5.4.0-26-generic-amd64.jsonl\n",
      "[       groups.py:56 ] INFO: Saved FuncGroups(22713 groups, 22713 functions) to /Users/szhong/Downloads/bpf-study/output/dup/5.4.0-26-generic-amd64/unique_global.txt\n",
      "[       groups.py:56 ] INFO: Saved FuncGroups(48193 groups, 48193 functions) to /Users/szhong/Downloads/bpf-study/output/dup/5.4.0-26-generic-amd64/unique_static.txt\n",
      "[       groups.py:56 ] INFO: Saved FuncGroups(5461 groups, 81585 functions) to /Users/szhong/Downloads/bpf-study/output/dup/5.4.0-26-generic-amd64/include_dup.txt\n",
      "[       groups.py:56 ] INFO: Saved FuncGroups(411 groups, 1033 functions) to /Users/szhong/Downloads/bpf-study/output/dup/5.4.0-26-generic-amd64/static_static.txt\n",
      "[       groups.py:56 ] INFO: Saved FuncGroups(27 groups, 54 functions) to /Users/szhong/Downloads/bpf-study/output/dup/5.4.0-26-generic-amd64/static_global.txt\n",
      "[       groups.py:68 ] INFO: Loading funcs from /Users/szhong/Downloads/bpf-study/data/dwarf_funcs/5.15.0-25-generic-amd64.jsonl\n",
      "[       groups.py:56 ] INFO: Saved FuncGroups(26642 groups, 26642 functions) to /Users/szhong/Downloads/bpf-study/output/dup/5.15.0-25-generic-amd64/unique_global.txt\n",
      "[       groups.py:56 ] INFO: Saved FuncGroups(53331 groups, 53331 functions) to /Users/szhong/Downloads/bpf-study/output/dup/5.15.0-25-generic-amd64/unique_static.txt\n",
      "[       groups.py:56 ] INFO: Saved FuncGroups(6162 groups, 96493 functions) to /Users/szhong/Downloads/bpf-study/output/dup/5.15.0-25-generic-amd64/include_dup.txt\n",
      "[       groups.py:56 ] INFO: Saved FuncGroups(444 groups, 1145 functions) to /Users/szhong/Downloads/bpf-study/output/dup/5.15.0-25-generic-amd64/static_static.txt\n",
      "[       groups.py:56 ] INFO: Saved FuncGroups(26 groups, 52 functions) to /Users/szhong/Downloads/bpf-study/output/dup/5.15.0-25-generic-amd64/static_global.txt\n",
      "[       groups.py:68 ] INFO: Loading funcs from /Users/szhong/Downloads/bpf-study/data/dwarf_funcs/6.8.0-31-generic-amd64.jsonl\n",
      "[       groups.py:56 ] INFO: Saved FuncGroups(31543 groups, 31543 functions) to /Users/szhong/Downloads/bpf-study/output/dup/6.8.0-31-generic-amd64/unique_global.txt\n",
      "[       groups.py:56 ] INFO: Saved FuncGroups(60185 groups, 60185 functions) to /Users/szhong/Downloads/bpf-study/output/dup/6.8.0-31-generic-amd64/unique_static.txt\n",
      "[       groups.py:56 ] INFO: Saved FuncGroups(7418 groups, 112138 functions) to /Users/szhong/Downloads/bpf-study/output/dup/6.8.0-31-generic-amd64/include_dup.txt\n",
      "[       groups.py:56 ] INFO: Saved FuncGroups(498 groups, 1288 functions) to /Users/szhong/Downloads/bpf-study/output/dup/6.8.0-31-generic-amd64/static_static.txt\n",
      "[       groups.py:56 ] INFO: Saved FuncGroups(29 groups, 60 functions) to /Users/szhong/Downloads/bpf-study/output/dup/6.8.0-31-generic-amd64/static_global.txt\n",
      "[          pkl.py:13 ] INFO: Saved dup to /Users/szhong/Downloads/bpf-study/output/dup.pkl\n"
     ]
    }
   ],
   "source": [
    "from depsurf import VersionGroup\n",
    "from utils import save_pkl\n",
    "\n",
    "data = {}\n",
    "\n",
    "for v in VersionGroup.LTS:\n",
    "    data[v] = count_dup(v)\n",
    "\n",
    "save_pkl(data, \"dup\")"
   ]
  },
  {
   "cell_type": "code",
   "execution_count": 9,
   "metadata": {},
   "outputs": [
    {
     "name": "stderr",
     "output_type": "stream",
     "text": [
      "[          pkl.py:18 ] INFO: Loding dup from /Users/szhong/Downloads/bpf-study/output/dup.pkl\n",
      "[        latex.py:19 ] INFO: Saved dup to /Users/szhong/Downloads/bpf-study/paper/tabs/dup.tex\n"
     ]
    },
    {
     "data": {
      "text/html": [
       "<div>\n",
       "<style scoped>\n",
       "    .dataframe tbody tr th:only-of-type {\n",
       "        vertical-align: middle;\n",
       "    }\n",
       "\n",
       "    .dataframe tbody tr th {\n",
       "        vertical-align: top;\n",
       "    }\n",
       "\n",
       "    .dataframe thead tr th {\n",
       "        text-align: left;\n",
       "    }\n",
       "</style>\n",
       "<table border=\"1\" class=\"dataframe\">\n",
       "  <thead>\n",
       "    <tr>\n",
       "      <th></th>\n",
       "      <th colspan=\"5\" halign=\"left\">Linux Kernel Version</th>\n",
       "    </tr>\n",
       "    <tr>\n",
       "      <th></th>\n",
       "      <th>\\multicolumn{1}{c}{4.4}</th>\n",
       "      <th>\\multicolumn{1}{c}{4.15}</th>\n",
       "      <th>\\multicolumn{1}{c}{5.4}</th>\n",
       "      <th>\\multicolumn{1}{c}{5.15}</th>\n",
       "      <th>\\multicolumn{1}{c}{6.8}</th>\n",
       "    </tr>\n",
       "  </thead>\n",
       "  <tbody>\n",
       "    <tr>\n",
       "      <th>Unique Global</th>\n",
       "      <td>17.2k</td>\n",
       "      <td>20.1k</td>\n",
       "      <td>22.7k</td>\n",
       "      <td>26.6k</td>\n",
       "      <td>31.5k</td>\n",
       "    </tr>\n",
       "    <tr>\n",
       "      <th>Unique Static</th>\n",
       "      <td>35.7k</td>\n",
       "      <td>41.7k</td>\n",
       "      <td>48.2k</td>\n",
       "      <td>53.3k</td>\n",
       "      <td>60.2k</td>\n",
       "    </tr>\n",
       "    <tr>\n",
       "      <th>Static Dup. with #include</th>\n",
       "      <td>4.0k</td>\n",
       "      <td>4.8k</td>\n",
       "      <td>5.5k</td>\n",
       "      <td>6.2k</td>\n",
       "      <td>7.4k</td>\n",
       "    </tr>\n",
       "    <tr>\n",
       "      <th>Static-Static Collision</th>\n",
       "      <td>404</td>\n",
       "      <td>398</td>\n",
       "      <td>411</td>\n",
       "      <td>444</td>\n",
       "      <td>498</td>\n",
       "    </tr>\n",
       "    <tr>\n",
       "      <th>Static-Global Collision</th>\n",
       "      <td>10</td>\n",
       "      <td>26</td>\n",
       "      <td>27</td>\n",
       "      <td>26</td>\n",
       "      <td>29</td>\n",
       "    </tr>\n",
       "  </tbody>\n",
       "</table>\n",
       "</div>"
      ],
      "text/plain": [
       "                             Linux Kernel Version                                                                                                  \n",
       "                          \\multicolumn{1}{c}{4.4} \\multicolumn{1}{c}{4.15} \\multicolumn{1}{c}{5.4} \\multicolumn{1}{c}{5.15} \\multicolumn{1}{c}{6.8}\n",
       "Unique Global                               17.2k                    20.1k                   22.7k                    26.6k                   31.5k\n",
       "Unique Static                               35.7k                    41.7k                   48.2k                    53.3k                   60.2k\n",
       "Static Dup. with #include                    4.0k                     4.8k                    5.5k                     6.2k                    7.4k\n",
       "Static-Static Collision                       404                      398                     411                      444                     498\n",
       "Static-Global Collision                        10                       26                      27                       26                      29"
      ]
     },
     "execution_count": 9,
     "metadata": {},
     "output_type": "execute_result"
    }
   ],
   "source": [
    "from utils import load_pkl, save_latex\n",
    "import pandas as pd\n",
    "\n",
    "\n",
    "data = load_pkl(\"dup\")\n",
    "\n",
    "result = {}\n",
    "for k, v in data.items():\n",
    "    result[(\"Linux Kernel Version\", r\"\\multicolumn{1}{c}{\" + k.short_version + \"}\")] = v\n",
    "\n",
    "df = pd.DataFrame(result)\n",
    "df = df.map(lambda v: f\"{v / 1000:.1f}k\" if v > 1000 else v)\n",
    "latex = df.to_latex(multicolumn_format=\"c\", column_format=\"l|rrrrr\")\n",
    "save_latex(latex, \"dup\")\n",
    "df"
   ]
  }
 ],
 "metadata": {
  "kernelspec": {
   "display_name": "Python 3",
   "language": "python",
   "name": "python3"
  },
  "language_info": {
   "codemirror_mode": {
    "name": "ipython",
    "version": 3
   },
   "file_extension": ".py",
   "mimetype": "text/x-python",
   "name": "python",
   "nbconvert_exporter": "python",
   "pygments_lexer": "ipython3",
   "version": "3.1.-1"
  }
 },
 "nbformat": 4,
 "nbformat_minor": 2
}
