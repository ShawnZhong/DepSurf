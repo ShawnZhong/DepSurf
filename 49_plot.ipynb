{
 "cells": [
  {
   "cell_type": "code",
   "execution_count": 1,
   "metadata": {},
   "outputs": [],
   "source": [
    "%reload_ext autoreload\n",
    "%autoreload 2"
   ]
  },
  {
   "cell_type": "code",
   "execution_count": 2,
   "metadata": {},
   "outputs": [
    {
     "name": "stderr",
     "output_type": "stream",
     "text": [
      "[       pd.py:50 ] INFO: Loaded df from /Users/szhong/Downloads/bpf-study/output/inline.pkl\n",
      "[      mpl.py:76 ] INFO: Saved figure to /Users/szhong/Downloads/bpf-study/paper/figs/inline.pdf\n"
     ]
    },
    {
     "ename": "ValueError",
     "evalue": "'Header Duplication' is not a valid CollisionType",
     "output_type": "error",
     "traceback": [
      "\u001b[0;31m---------------------------------------------------------------------------\u001b[0m",
      "\u001b[0;31mValueError\u001b[0m                                Traceback (most recent call last)",
      "Cell \u001b[0;32mIn[2], line 69\u001b[0m\n\u001b[1;32m     60\u001b[0m     save_fig(fig, name)\n\u001b[1;32m     63\u001b[0m plot_fig(\n\u001b[1;32m     64\u001b[0m     \u001b[38;5;124m\"\u001b[39m\u001b[38;5;124minline\u001b[39m\u001b[38;5;124m\"\u001b[39m,\n\u001b[1;32m     65\u001b[0m     lines_fn\u001b[38;5;241m=\u001b[39m\u001b[38;5;28;01mlambda\u001b[39;00m row: [(\u001b[38;5;124mf\u001b[39m\u001b[38;5;124m\"\u001b[39m\u001b[38;5;132;01m{\u001b[39;00mformat_k(row[InlineType\u001b[38;5;241m.\u001b[39mPARTIAL])\u001b[38;5;132;01m}\u001b[39;00m\u001b[38;5;124m\"\u001b[39m, \u001b[38;5;124m\"\u001b[39m\u001b[38;5;124mdarkred\u001b[39m\u001b[38;5;124m\"\u001b[39m)],\n\u001b[1;32m     66\u001b[0m     ylim_mult\u001b[38;5;241m=\u001b[39m\u001b[38;5;241m1.1\u001b[39m,\n\u001b[1;32m     67\u001b[0m )\n\u001b[0;32m---> 69\u001b[0m plot_fig(\n\u001b[1;32m     70\u001b[0m     \u001b[38;5;124m\"\u001b[39m\u001b[38;5;124mdup\u001b[39m\u001b[38;5;124m\"\u001b[39m,\n\u001b[1;32m     71\u001b[0m     lines_fn\u001b[38;5;241m=\u001b[39m\u001b[38;5;28;01mlambda\u001b[39;00m row: [\n\u001b[1;32m     72\u001b[0m         (\u001b[38;5;124mf\u001b[39m\u001b[38;5;124m\"\u001b[39m\u001b[38;5;132;01m{\u001b[39;00mformat_k(row[CollisionType\u001b[38;5;241m.\u001b[39mMIXED])\u001b[38;5;132;01m}\u001b[39;00m\u001b[38;5;124m\"\u001b[39m, \u001b[38;5;124m\"\u001b[39m\u001b[38;5;124mdarkgreen\u001b[39m\u001b[38;5;124m\"\u001b[39m),\n\u001b[1;32m     73\u001b[0m         (\u001b[38;5;124mf\u001b[39m\u001b[38;5;124m\"\u001b[39m\u001b[38;5;132;01m{\u001b[39;00mrow[CollisionType\u001b[38;5;241m.\u001b[39mSTATIC]\u001b[38;5;250m \u001b[39m\u001b[38;5;241m/\u001b[39m\u001b[38;5;250m \u001b[39m\u001b[38;5;241m1000\u001b[39m\u001b[38;5;132;01m:\u001b[39;00m\u001b[38;5;124m.1f\u001b[39m\u001b[38;5;132;01m}\u001b[39;00m\u001b[38;5;124mk\u001b[39m\u001b[38;5;124m\"\u001b[39m, \u001b[38;5;124m\"\u001b[39m\u001b[38;5;124mmidnightblue\u001b[39m\u001b[38;5;124m\"\u001b[39m),\n\u001b[1;32m     74\u001b[0m     ],\n\u001b[1;32m     75\u001b[0m     ylim_mult\u001b[38;5;241m=\u001b[39m\u001b[38;5;241m1.2\u001b[39m,\n\u001b[1;32m     76\u001b[0m )\n",
      "Cell \u001b[0;32mIn[2], line 39\u001b[0m, in \u001b[0;36mplot_fig\u001b[0;34m(name, lines_fn, ylim_mult)\u001b[0m\n\u001b[1;32m     38\u001b[0m \u001b[38;5;28;01mdef\u001b[39;00m \u001b[38;5;21mplot_fig\u001b[39m(name: \u001b[38;5;28mstr\u001b[39m, lines_fn\u001b[38;5;241m=\u001b[39m\u001b[38;5;28;01mNone\u001b[39;00m, ylim_mult\u001b[38;5;241m=\u001b[39m\u001b[38;5;241m1.1\u001b[39m):\n\u001b[0;32m---> 39\u001b[0m     df \u001b[38;5;241m=\u001b[39m load_df(name)\n\u001b[1;32m     41\u001b[0m     fig, axs \u001b[38;5;241m=\u001b[39m plt\u001b[38;5;241m.\u001b[39msubplots(\n\u001b[1;32m     42\u001b[0m         \u001b[38;5;241m1\u001b[39m,\n\u001b[1;32m     43\u001b[0m         \u001b[38;5;241m3\u001b[39m,\n\u001b[0;32m   (...)\u001b[0m\n\u001b[1;32m     47\u001b[0m         gridspec_kw\u001b[38;5;241m=\u001b[39m{\u001b[38;5;124m\"\u001b[39m\u001b[38;5;124mwspace\u001b[39m\u001b[38;5;124m\"\u001b[39m: \u001b[38;5;241m0.05\u001b[39m, \u001b[38;5;124m\"\u001b[39m\u001b[38;5;124mhspace\u001b[39m\u001b[38;5;124m\"\u001b[39m: \u001b[38;5;241m0.075\u001b[39m},\n\u001b[1;32m     48\u001b[0m     )\n\u001b[1;32m     50\u001b[0m     ylim \u001b[38;5;241m=\u001b[39m df\u001b[38;5;241m.\u001b[39msum(axis\u001b[38;5;241m=\u001b[39m\u001b[38;5;241m1\u001b[39m)\u001b[38;5;241m.\u001b[39mmax() \u001b[38;5;241m*\u001b[39m ylim_mult\n",
      "File \u001b[0;32m~/Downloads/bpf-study/depsurf/output/pd.py:49\u001b[0m, in \u001b[0;36mload_df\u001b[0;34m(name, path)\u001b[0m\n\u001b[1;32m     46\u001b[0m     path \u001b[38;5;241m=\u001b[39m OUTPUT_PATH\n\u001b[1;32m     48\u001b[0m filepath \u001b[38;5;241m=\u001b[39m path \u001b[38;5;241m/\u001b[39m \u001b[38;5;124mf\u001b[39m\u001b[38;5;124m\"\u001b[39m\u001b[38;5;132;01m{\u001b[39;00mname\u001b[38;5;132;01m}\u001b[39;00m\u001b[38;5;124m.pkl\u001b[39m\u001b[38;5;124m\"\u001b[39m\n\u001b[0;32m---> 49\u001b[0m df \u001b[38;5;241m=\u001b[39m pd\u001b[38;5;241m.\u001b[39mread_pickle(filepath)\n\u001b[1;32m     50\u001b[0m logging\u001b[38;5;241m.\u001b[39minfo(\u001b[38;5;124mf\u001b[39m\u001b[38;5;124m\"\u001b[39m\u001b[38;5;124mLoaded df from \u001b[39m\u001b[38;5;132;01m{\u001b[39;00mfilepath\u001b[38;5;132;01m}\u001b[39;00m\u001b[38;5;124m\"\u001b[39m)\n\u001b[1;32m     52\u001b[0m \u001b[38;5;28;01mreturn\u001b[39;00m df\n",
      "File \u001b[0;32m~/anaconda3/lib/python3.11/site-packages/pandas/io/pickle.py:206\u001b[0m, in \u001b[0;36mread_pickle\u001b[0;34m(filepath_or_buffer, compression, storage_options)\u001b[0m\n\u001b[1;32m    203\u001b[0m     \u001b[38;5;28;01mwith\u001b[39;00m warnings\u001b[38;5;241m.\u001b[39mcatch_warnings(record\u001b[38;5;241m=\u001b[39m\u001b[38;5;28;01mTrue\u001b[39;00m):\n\u001b[1;32m    204\u001b[0m         \u001b[38;5;66;03m# We want to silence any warnings about, e.g. moved modules.\u001b[39;00m\n\u001b[1;32m    205\u001b[0m         warnings\u001b[38;5;241m.\u001b[39msimplefilter(\u001b[38;5;124m\"\u001b[39m\u001b[38;5;124mignore\u001b[39m\u001b[38;5;124m\"\u001b[39m, \u001b[38;5;167;01mWarning\u001b[39;00m)\n\u001b[0;32m--> 206\u001b[0m         \u001b[38;5;28;01mreturn\u001b[39;00m pickle\u001b[38;5;241m.\u001b[39mload(handles\u001b[38;5;241m.\u001b[39mhandle)\n\u001b[1;32m    207\u001b[0m \u001b[38;5;28;01mexcept\u001b[39;00m excs_to_catch:\n\u001b[1;32m    208\u001b[0m     \u001b[38;5;66;03m# e.g.\u001b[39;00m\n\u001b[1;32m    209\u001b[0m     \u001b[38;5;66;03m#  \"No module named 'pandas.core.sparse.series'\"\u001b[39;00m\n\u001b[1;32m    210\u001b[0m     \u001b[38;5;66;03m#  \"Can't get attribute '__nat_unpickle' on <module 'pandas._libs.tslib\"\u001b[39;00m\n\u001b[1;32m    211\u001b[0m     \u001b[38;5;28;01mreturn\u001b[39;00m pc\u001b[38;5;241m.\u001b[39mload(handles\u001b[38;5;241m.\u001b[39mhandle, encoding\u001b[38;5;241m=\u001b[39m\u001b[38;5;28;01mNone\u001b[39;00m)\n",
      "File \u001b[0;32m~/anaconda3/lib/python3.11/enum.py:712\u001b[0m, in \u001b[0;36mEnumType.__call__\u001b[0;34m(cls, value, names, module, qualname, type, start, boundary)\u001b[0m\n\u001b[1;32m    687\u001b[0m \u001b[38;5;250m\u001b[39m\u001b[38;5;124;03m\"\"\"\u001b[39;00m\n\u001b[1;32m    688\u001b[0m \u001b[38;5;124;03mEither returns an existing member, or creates a new enum class.\u001b[39;00m\n\u001b[1;32m    689\u001b[0m \n\u001b[0;32m   (...)\u001b[0m\n\u001b[1;32m    709\u001b[0m \u001b[38;5;124;03m`type`, if set, will be mixed in as the first base class.\u001b[39;00m\n\u001b[1;32m    710\u001b[0m \u001b[38;5;124;03m\"\"\"\u001b[39;00m\n\u001b[1;32m    711\u001b[0m \u001b[38;5;28;01mif\u001b[39;00m names \u001b[38;5;129;01mis\u001b[39;00m \u001b[38;5;28;01mNone\u001b[39;00m:  \u001b[38;5;66;03m# simple value lookup\u001b[39;00m\n\u001b[0;32m--> 712\u001b[0m     \u001b[38;5;28;01mreturn\u001b[39;00m \u001b[38;5;28mcls\u001b[39m\u001b[38;5;241m.\u001b[39m\u001b[38;5;21m__new__\u001b[39m(\u001b[38;5;28mcls\u001b[39m, value)\n\u001b[1;32m    713\u001b[0m \u001b[38;5;66;03m# otherwise, functional API: we're creating a new Enum type\u001b[39;00m\n\u001b[1;32m    714\u001b[0m \u001b[38;5;28;01mreturn\u001b[39;00m \u001b[38;5;28mcls\u001b[39m\u001b[38;5;241m.\u001b[39m_create_(\n\u001b[1;32m    715\u001b[0m         value,\n\u001b[1;32m    716\u001b[0m         names,\n\u001b[0;32m   (...)\u001b[0m\n\u001b[1;32m    721\u001b[0m         boundary\u001b[38;5;241m=\u001b[39mboundary,\n\u001b[1;32m    722\u001b[0m         )\n",
      "File \u001b[0;32m~/anaconda3/lib/python3.11/enum.py:1135\u001b[0m, in \u001b[0;36mEnum.__new__\u001b[0;34m(cls, value)\u001b[0m\n\u001b[1;32m   1133\u001b[0m ve_exc \u001b[38;5;241m=\u001b[39m \u001b[38;5;167;01mValueError\u001b[39;00m(\u001b[38;5;124m\"\u001b[39m\u001b[38;5;132;01m%r\u001b[39;00m\u001b[38;5;124m is not a valid \u001b[39m\u001b[38;5;132;01m%s\u001b[39;00m\u001b[38;5;124m\"\u001b[39m \u001b[38;5;241m%\u001b[39m (value, \u001b[38;5;28mcls\u001b[39m\u001b[38;5;241m.\u001b[39m\u001b[38;5;18m__qualname__\u001b[39m))\n\u001b[1;32m   1134\u001b[0m \u001b[38;5;28;01mif\u001b[39;00m result \u001b[38;5;129;01mis\u001b[39;00m \u001b[38;5;28;01mNone\u001b[39;00m \u001b[38;5;129;01mand\u001b[39;00m exc \u001b[38;5;129;01mis\u001b[39;00m \u001b[38;5;28;01mNone\u001b[39;00m:\n\u001b[0;32m-> 1135\u001b[0m     \u001b[38;5;28;01mraise\u001b[39;00m ve_exc\n\u001b[1;32m   1136\u001b[0m \u001b[38;5;28;01melif\u001b[39;00m exc \u001b[38;5;129;01mis\u001b[39;00m \u001b[38;5;28;01mNone\u001b[39;00m:\n\u001b[1;32m   1137\u001b[0m     exc \u001b[38;5;241m=\u001b[39m \u001b[38;5;167;01mTypeError\u001b[39;00m(\n\u001b[1;32m   1138\u001b[0m             \u001b[38;5;124m'\u001b[39m\u001b[38;5;124merror in \u001b[39m\u001b[38;5;132;01m%s\u001b[39;00m\u001b[38;5;124m._missing_: returned \u001b[39m\u001b[38;5;132;01m%r\u001b[39;00m\u001b[38;5;124m instead of None or a valid member\u001b[39m\u001b[38;5;124m'\u001b[39m\n\u001b[1;32m   1139\u001b[0m             \u001b[38;5;241m%\u001b[39m (\u001b[38;5;28mcls\u001b[39m\u001b[38;5;241m.\u001b[39m\u001b[38;5;18m__name__\u001b[39m, result)\n\u001b[1;32m   1140\u001b[0m             )\n",
      "\u001b[0;31mValueError\u001b[0m: 'Header Duplication' is not a valid CollisionType"
     ]
    }
   ],
   "source": [
    "import matplotlib.pyplot as plt\n",
    "import numpy as np\n",
    "import pandas as pd\n",
    "\n",
    "from depsurf import CollisionType, InlineType, VersionGroup\n",
    "from depsurf.output import (\n",
    "    format_k,\n",
    "    get_legend_handles_labels,\n",
    "    label_multiline_text,\n",
    "    load_df,\n",
    "    plot_yticks,\n",
    "    save_fig,\n",
    ")\n",
    "\n",
    "\n",
    "def plot_subfig(ax: plt.Axes, df: pd.DataFrame, group: VersionGroup, ylim, lines_fn):\n",
    "    xs = np.arange(len(df))\n",
    "    bottom = np.zeros(len(df))\n",
    "    for col in df.columns:\n",
    "        ax.bar(xs, df[col], bottom=bottom, label=col, color=col.color)\n",
    "        bottom += df[col]\n",
    "\n",
    "    ax.tick_params(axis=\"both\", labelsize=9)\n",
    "    ax.set_xticks(xs, [group.version_str(v) for v in df.index], rotation=0)\n",
    "    ax.set_xlabel(group.caption)\n",
    "    ax.set_xlim(-0.5, len(df) - 0.5)\n",
    "    ax.set_ylim(0, ylim)\n",
    "\n",
    "    if lines_fn is None:\n",
    "        return\n",
    "\n",
    "    with plt.rc_context({\"font.family\": \"monospace\"}):\n",
    "        for i, (index, row) in enumerate(df.iterrows()):\n",
    "            lines, colors = zip(*lines_fn(row))\n",
    "            label_multiline_text(ax, i, ylim, lines, colors=colors, fontsize=9)\n",
    "\n",
    "\n",
    "def plot_fig(name: str, lines_fn=None, ylim_mult=1.1):\n",
    "    df = load_df(name)\n",
    "\n",
    "    fig, axs = plt.subplots(\n",
    "        1,\n",
    "        3,\n",
    "        figsize=(12, 2.25),\n",
    "        sharey=True,\n",
    "        width_ratios=VersionGroup.num_versions(),\n",
    "        gridspec_kw={\"wspace\": 0.05, \"hspace\": 0.075},\n",
    "    )\n",
    "\n",
    "    ylim = df.sum(axis=1).max() * ylim_mult\n",
    "    for ax, group in zip(axs, VersionGroup):\n",
    "        plot_subfig(ax, df.loc[group], group, ylim=ylim, lines_fn=lines_fn)\n",
    "\n",
    "    plot_yticks(axs[0])\n",
    "    axs[0].set_ylabel(\"Number of Functions Compiled\")\n",
    "\n",
    "    handles, labels = get_legend_handles_labels(fig)\n",
    "    fig.legend(handles, labels, loc=\"upper center\", ncol=4, bbox_to_anchor=(0.5, 1.02))\n",
    "\n",
    "    save_fig(fig, name)\n",
    "\n",
    "\n",
    "plot_fig(\n",
    "    \"inline\",\n",
    "    lines_fn=lambda row: [(f\"{format_k(row[InlineType.PARTIAL])}\", \"darkred\")],\n",
    "    ylim_mult=1.1,\n",
    ")\n",
    "\n",
    "plot_fig(\n",
    "    \"dup\",\n",
    "    lines_fn=lambda row: [\n",
    "        (f\"{format_k(row[CollisionType.MIXED])}\", \"darkgreen\"),\n",
    "        (f\"{row[CollisionType.STATIC] / 1000:.1f}k\", \"midnightblue\"),\n",
    "    ],\n",
    "    ylim_mult=1.2,\n",
    ")"
   ]
  }
 ],
 "metadata": {
  "kernelspec": {
   "display_name": "base",
   "language": "python",
   "name": "python3"
  },
  "language_info": {
   "codemirror_mode": {
    "name": "ipython",
    "version": 3
   },
   "file_extension": ".py",
   "mimetype": "text/x-python",
   "name": "python",
   "nbconvert_exporter": "python",
   "pygments_lexer": "ipython3",
   "version": "3.11.7"
  }
 },
 "nbformat": 4,
 "nbformat_minor": 2
}
