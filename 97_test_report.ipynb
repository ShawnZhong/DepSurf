{
 "cells": [
  {
   "cell_type": "code",
   "execution_count": 1,
   "metadata": {},
   "outputs": [],
   "source": [
    "%reload_ext autoreload\n",
    "%autoreload 2"
   ]
  },
  {
   "cell_type": "code",
   "execution_count": 1,
   "metadata": {},
   "outputs": [
    {
     "name": "stderr",
     "output_type": "stream",
     "text": [
      "[       groups.py:68 ] INFO: Loading funcs from /Users/szhong/Downloads/bpf-study/data/dwarf_funcs/5.4.0-26-generic-arm64.jsonl\n"
     ]
    },
    {
     "name": "stdout",
     "output_type": "stream",
     "text": [
      "Function    blk_account_io_start\n"
     ]
    },
    {
     "name": "stderr",
     "output_type": "stream",
     "text": [
      "[       symtab.py:70 ] INFO: Loading symtab from /Users/szhong/Downloads/bpf-study/data/symtab/5.4.0-26-generic-arm64.jsonl\n",
      "[       groups.py:68 ] INFO: Loading funcs from /Users/szhong/Downloads/bpf-study/data/dwarf_funcs/5.4.0-26-generic-armhf.jsonl\n"
     ]
    },
    {
     "name": "stdout",
     "output_type": "stream",
     "text": [
      "\tExist in arm64: True\n",
      "\t\tIssues: []\n",
      "\t\t\tFuncEntry(name='blk_account_io_start', external=True, inline=-2, loc='block/blk-core.c:1350', file='block/blk-core.c', caller_inline=[], caller_func=['block/blk-core.c:blk_insert_cloned_request', 'block/blk-core.c:bio_attempt_discard_merge', 'block/blk-mq.c:blk_mq_make_request'])\n"
     ]
    },
    {
     "name": "stderr",
     "output_type": "stream",
     "text": [
      "[       symtab.py:70 ] INFO: Loading symtab from /Users/szhong/Downloads/bpf-study/data/symtab/5.4.0-26-generic-armhf.jsonl\n",
      "[       groups.py:68 ] INFO: Loading funcs from /Users/szhong/Downloads/bpf-study/data/dwarf_funcs/5.4.0-26-generic-ppc64el.jsonl\n"
     ]
    },
    {
     "name": "stdout",
     "output_type": "stream",
     "text": [
      "\tExist in arm32: True\n",
      "\t\tIssues: []\n",
      "\t\t\tFuncEntry(name='blk_account_io_start', external=True, inline=-2, loc='block/blk-core.c:1350', file='block/blk-core.c', caller_inline=[], caller_func=['block/blk-core.c:blk_insert_cloned_request', 'block/blk-core.c:bio_attempt_discard_merge', 'block/blk-mq.c:blk_mq_make_request'])\n"
     ]
    },
    {
     "name": "stderr",
     "output_type": "stream",
     "text": [
      "[       symtab.py:70 ] INFO: Loading symtab from /Users/szhong/Downloads/bpf-study/data/symtab/5.4.0-26-generic-ppc64el.jsonl\n",
      "[       groups.py:68 ] INFO: Loading funcs from /Users/szhong/Downloads/bpf-study/data/dwarf_funcs/5.4.0-26-generic-s390x.jsonl\n"
     ]
    },
    {
     "name": "stdout",
     "output_type": "stream",
     "text": [
      "\tExist in ppc: True\n",
      "\t\tIssues: []\n",
      "\t\t\tFuncEntry(name='blk_account_io_start', external=True, inline=-2, loc='block/blk-core.c:1350', file='block/blk-core.c', caller_inline=[], caller_func=['block/blk-core.c:blk_insert_cloned_request', 'block/blk-core.c:bio_attempt_discard_merge', 'block/blk-mq.c:blk_mq_make_request'])\n"
     ]
    },
    {
     "name": "stderr",
     "output_type": "stream",
     "text": [
      "[       symtab.py:70 ] INFO: Loading symtab from /Users/szhong/Downloads/bpf-study/data/symtab/5.4.0-26-generic-s390x.jsonl\n",
      "[          btf.py:21 ] INFO: Loading BTF from /Users/szhong/Downloads/bpf-study/data/btf_norm/5.4.0-26-generic-amd64.pkl\n"
     ]
    },
    {
     "name": "stdout",
     "output_type": "stream",
     "text": [
      "\tExist in s390: True\n",
      "\t\tIssues: []\n",
      "\t\t\tFuncEntry(name='blk_account_io_start', external=True, inline=-2, loc='block/blk-core.c:1350', file='block/blk-core.c', caller_inline=[], caller_func=['block/blk-core.c:blk_insert_cloned_request', 'block/blk-mq.c:blk_mq_make_request'])\n"
     ]
    },
    {
     "name": "stderr",
     "output_type": "stream",
     "text": [
      "[          btf.py:21 ] INFO: Loading BTF from /Users/szhong/Downloads/bpf-study/data/btf_norm/5.4.0-26-generic-arm64.pkl\n",
      "[          btf.py:21 ] INFO: Loading BTF from /Users/szhong/Downloads/bpf-study/data/btf_norm/5.4.0-26-generic-armhf.pkl\n"
     ]
    },
    {
     "name": "stdout",
     "output_type": "stream",
     "text": [
      "\tChanged from x86 to arm64: False\n"
     ]
    },
    {
     "name": "stderr",
     "output_type": "stream",
     "text": [
      "[          btf.py:21 ] INFO: Loading BTF from /Users/szhong/Downloads/bpf-study/data/btf_norm/5.4.0-26-generic-ppc64el.pkl\n",
      "[          btf.py:21 ] INFO: Loading BTF from /Users/szhong/Downloads/bpf-study/data/btf_norm/5.4.0-26-generic-s390x.pkl\n"
     ]
    },
    {
     "name": "stdout",
     "output_type": "stream",
     "text": [
      "\tChanged from x86 to arm32: False\n",
      "\tChanged from x86 to ppc: False\n",
      "\tChanged from x86 to s390: False\n"
     ]
    },
    {
     "data": {
      "text/plain": [
       "{Dep(kind=Function, name='blk_account_io_start'): {(Versions(Arch),\n",
       "   5.4.0-26-generic-arm64): [],\n",
       "  (Versions(Arch), 5.4.0-26-generic-armhf): [],\n",
       "  (Versions(Arch), 5.4.0-26-generic-ppc64el): [],\n",
       "  (Versions(Arch), 5.4.0-26-generic-s390x): []}}"
      ]
     },
     "execution_count": 1,
     "metadata": {},
     "output_type": "execute_result"
    }
   ],
   "source": [
    "from depsurf import *\n",
    "\n",
    "\n",
    "\n",
    "group = VersionGroup.LTS\n",
    "dep = DepKind.FUNC(\"blk_account_io_start\")\n",
    "\n",
    "result = gen_report(dep, group)\n",
    "\n",
    "result"
   ]
  },
  {
   "cell_type": "code",
   "execution_count": 3,
   "metadata": {},
   "outputs": [
    {
     "name": "stderr",
     "output_type": "stream",
     "text": [
      "[        utils.py:160] INFO: NumExpr defaulting to 8 threads.\n",
      "[          pkl.py:13 ] INFO: Saved test to /Users/szhong/Downloads/bpf-study/output/test.pkl\n"
     ]
    }
   ],
   "source": [
    "from utils import save_pkl\n",
    "\n",
    "save_pkl(result, \"test\")"
   ]
  },
  {
   "cell_type": "code",
   "execution_count": 4,
   "metadata": {},
   "outputs": [
    {
     "name": "stderr",
     "output_type": "stream",
     "text": [
      "[          pkl.py:18 ] INFO: Loding test from /Users/szhong/Downloads/bpf-study/output/test.pkl\n"
     ]
    },
    {
     "data": {
      "text/plain": [
       "{Dep(kind=Function, name='blk_account_io_start'): {(Versions(Arch),\n",
       "   5.4.0-26-generic-arm64): [],\n",
       "  (Versions(Arch), 5.4.0-26-generic-armhf): [],\n",
       "  (Versions(Arch), 5.4.0-26-generic-ppc64el): [],\n",
       "  (Versions(Arch), 5.4.0-26-generic-s390x): []}}"
      ]
     },
     "execution_count": 4,
     "metadata": {},
     "output_type": "execute_result"
    }
   ],
   "source": [
    "from utils import load_pkl\n",
    "\n",
    "result = load_pkl(\"test\")\n",
    "\n",
    "result"
   ]
  }
 ],
 "metadata": {
  "kernelspec": {
   "display_name": "base",
   "language": "python",
   "name": "python3"
  },
  "language_info": {
   "codemirror_mode": {
    "name": "ipython",
    "version": 3
   },
   "file_extension": ".py",
   "mimetype": "text/x-python",
   "name": "python",
   "nbconvert_exporter": "python",
   "pygments_lexer": "ipython3",
   "version": "3.11.7"
  }
 },
 "nbformat": 4,
 "nbformat_minor": 2
}
