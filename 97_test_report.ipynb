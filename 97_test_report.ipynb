{
 "cells": [
  {
   "cell_type": "code",
   "execution_count": 1,
   "metadata": {},
   "outputs": [],
   "source": [
    "%reload_ext autoreload\n",
    "%autoreload 2"
   ]
  },
  {
   "cell_type": "code",
   "execution_count": 2,
   "metadata": {},
   "outputs": [
    {
     "name": "stderr",
     "output_type": "stream",
     "text": [
      "[       groups.py:68 ] INFO: Loading funcs from /Users/szhong/Downloads/bpf-study/data/dwarf_funcs/5.4.0-26-generic-arm64.jsonl\n"
     ]
    },
    {
     "name": "stdout",
     "output_type": "stream",
     "text": [
      "Function    __do_page_cache_readahead\n"
     ]
    },
    {
     "name": "stderr",
     "output_type": "stream",
     "text": [
      "[       symtab.py:70 ] INFO: Loading symtab from /Users/szhong/Downloads/bpf-study/data/symtab/5.4.0-26-generic-arm64.jsonl\n",
      "[       groups.py:68 ] INFO: Loading funcs from /Users/szhong/Downloads/bpf-study/data/dwarf_funcs/5.4.0-26-generic-armhf.jsonl\n"
     ]
    },
    {
     "name": "stdout",
     "output_type": "stream",
     "text": [
      "\tarm64, True\n"
     ]
    },
    {
     "name": "stderr",
     "output_type": "stream",
     "text": [
      "[       symtab.py:70 ] INFO: Loading symtab from /Users/szhong/Downloads/bpf-study/data/symtab/5.4.0-26-generic-armhf.jsonl\n",
      "[       groups.py:68 ] INFO: Loading funcs from /Users/szhong/Downloads/bpf-study/data/dwarf_funcs/5.4.0-26-generic-ppc64el.jsonl\n"
     ]
    },
    {
     "name": "stdout",
     "output_type": "stream",
     "text": [
      "\tarm32, True\n"
     ]
    },
    {
     "name": "stderr",
     "output_type": "stream",
     "text": [
      "[       symtab.py:70 ] INFO: Loading symtab from /Users/szhong/Downloads/bpf-study/data/symtab/5.4.0-26-generic-ppc64el.jsonl\n",
      "[       groups.py:68 ] INFO: Loading funcs from /Users/szhong/Downloads/bpf-study/data/dwarf_funcs/5.4.0-26-generic-s390x.jsonl\n"
     ]
    },
    {
     "name": "stdout",
     "output_type": "stream",
     "text": [
      "\tppc, True\n"
     ]
    },
    {
     "name": "stderr",
     "output_type": "stream",
     "text": [
      "[       symtab.py:70 ] INFO: Loading symtab from /Users/szhong/Downloads/bpf-study/data/symtab/5.4.0-26-generic-s390x.jsonl\n",
      "[          btf.py:21 ] INFO: Loading BTF from /Users/szhong/Downloads/bpf-study/data/btf_norm/5.4.0-26-generic-amd64.pkl\n"
     ]
    },
    {
     "name": "stdout",
     "output_type": "stream",
     "text": [
      "\ts390, True\n"
     ]
    },
    {
     "name": "stderr",
     "output_type": "stream",
     "text": [
      "[          btf.py:21 ] INFO: Loading BTF from /Users/szhong/Downloads/bpf-study/data/btf_norm/5.4.0-26-generic-arm64.pkl\n",
      "[          btf.py:21 ] INFO: Loading BTF from /Users/szhong/Downloads/bpf-study/data/btf_norm/5.4.0-26-generic-armhf.pkl\n",
      "[          btf.py:21 ] INFO: Loading BTF from /Users/szhong/Downloads/bpf-study/data/btf_norm/5.4.0-26-generic-ppc64el.pkl\n",
      "[          btf.py:21 ] INFO: Loading BTF from /Users/szhong/Downloads/bpf-study/data/btf_norm/5.4.0-26-generic-s390x.pkl\n"
     ]
    }
   ],
   "source": [
    "from depsurf import *\n",
    "\n",
    "group = VersionGroup.ARCH\n",
    "dep = DepKind.FUNC(\"__do_page_cache_readahead\")\n",
    "\n",
    "result = gen_report(dep, group)"
   ]
  },
  {
   "cell_type": "code",
   "execution_count": 7,
   "metadata": {},
   "outputs": [
    {
     "data": {
      "text/plain": [
       "{Dep(kind=Function, name='__do_page_cache_readahead'): {(Versions(Arch),\n",
       "   5.4.0-26-generic-arm64): [],\n",
       "  (Versions(Arch), 5.4.0-26-generic-armhf): [],\n",
       "  (Versions(Arch), 5.4.0-26-generic-ppc64el): [],\n",
       "  (Versions(Arch), 5.4.0-26-generic-s390x): ['Par. Inline']}}"
      ]
     },
     "execution_count": 7,
     "metadata": {},
     "output_type": "execute_result"
    }
   ],
   "source": [
    "result"
   ]
  },
  {
   "cell_type": "code",
   "execution_count": 4,
   "metadata": {},
   "outputs": [
    {
     "name": "stderr",
     "output_type": "stream",
     "text": [
      "[        utils.py:160] INFO: NumExpr defaulting to 8 threads.\n",
      "[          pkl.py:13 ] INFO: Saved test to /Users/szhong/Downloads/bpf-study/output/test.pkl\n"
     ]
    }
   ],
   "source": [
    "from utils import save_pkl\n",
    "\n",
    "save_pkl(result, \"test\")"
   ]
  },
  {
   "cell_type": "code",
   "execution_count": 5,
   "metadata": {},
   "outputs": [
    {
     "name": "stderr",
     "output_type": "stream",
     "text": [
      "[          pkl.py:18 ] INFO: Loding test from /Users/szhong/Downloads/bpf-study/output/test.pkl\n"
     ]
    },
    {
     "data": {
      "text/plain": [
       "{Dep(kind=Function, name='__do_page_cache_readahead'): {(Versions(Arch),\n",
       "   5.4.0-26-generic-arm64): [],\n",
       "  (Versions(Arch), 5.4.0-26-generic-armhf): [],\n",
       "  (Versions(Arch), 5.4.0-26-generic-ppc64el): [],\n",
       "  (Versions(Arch), 5.4.0-26-generic-s390x): ['Par. Inline']}}"
      ]
     },
     "execution_count": 5,
     "metadata": {},
     "output_type": "execute_result"
    }
   ],
   "source": [
    "from utils import load_pkl\n",
    "\n",
    "result = load_pkl(\"test\")\n",
    "\n",
    "result"
   ]
  },
  {
   "cell_type": "code",
   "execution_count": 6,
   "metadata": {},
   "outputs": [],
   "source": [
    "from depsurf import VersionGroup, gen_report, DepKind\n",
    "\n",
    "\n",
    "# gen_report(DepKind.SYSCALL(\"open\"), VersionGroup.ARCH)"
   ]
  }
 ],
 "metadata": {
  "kernelspec": {
   "display_name": "base",
   "language": "python",
   "name": "python3"
  },
  "language_info": {
   "codemirror_mode": {
    "name": "ipython",
    "version": 3
   },
   "file_extension": ".py",
   "mimetype": "text/x-python",
   "name": "python",
   "nbconvert_exporter": "python",
   "pygments_lexer": "ipython3",
   "version": "3.11.7"
  }
 },
 "nbformat": 4,
 "nbformat_minor": 2
}
