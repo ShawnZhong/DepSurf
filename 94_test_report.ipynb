{
 "cells": [
  {
   "cell_type": "code",
   "execution_count": 2,
   "metadata": {},
   "outputs": [
    {
     "name": "stderr",
     "output_type": "stream",
     "text": [
      "[  func_groups.py:68 ] INFO: Loading funcs from /Users/szhong/Downloads/bpf-study/data/dwarf_funcs/4.4.0-21-generic-amd64.jsonl\n"
     ]
    },
    {
     "name": "stdout",
     "output_type": "stream",
     "text": [
      "Function    __page_cache_release\n"
     ]
    },
    {
     "name": "stderr",
     "output_type": "stream",
     "text": [
      "[       symtab.py:70 ] INFO: Loading symtab from /Users/szhong/Downloads/bpf-study/data/symtab/4.4.0-21-generic-amd64.jsonl\n",
      "[  func_groups.py:68 ] INFO: Loading funcs from /Users/szhong/Downloads/bpf-study/data/dwarf_funcs/4.8.0-22-generic-amd64.jsonl\n",
      "[       symtab.py:70 ] INFO: Loading symtab from /Users/szhong/Downloads/bpf-study/data/symtab/4.8.0-22-generic-amd64.jsonl\n",
      "[  func_groups.py:68 ] INFO: Loading funcs from /Users/szhong/Downloads/bpf-study/data/dwarf_funcs/4.10.0-19-generic-amd64.jsonl\n",
      "[       symtab.py:70 ] INFO: Loading symtab from /Users/szhong/Downloads/bpf-study/data/symtab/4.10.0-19-generic-amd64.jsonl\n",
      "[  func_groups.py:68 ] INFO: Loading funcs from /Users/szhong/Downloads/bpf-study/data/dwarf_funcs/4.13.0-16-generic-amd64.jsonl\n",
      "[       symtab.py:70 ] INFO: Loading symtab from /Users/szhong/Downloads/bpf-study/data/symtab/4.13.0-16-generic-amd64.jsonl\n",
      "[  func_groups.py:68 ] INFO: Loading funcs from /Users/szhong/Downloads/bpf-study/data/dwarf_funcs/4.15.0-20-generic-amd64.jsonl\n",
      "[       symtab.py:70 ] INFO: Loading symtab from /Users/szhong/Downloads/bpf-study/data/symtab/4.15.0-20-generic-amd64.jsonl\n",
      "[  func_groups.py:68 ] INFO: Loading funcs from /Users/szhong/Downloads/bpf-study/data/dwarf_funcs/4.18.0-10-generic-amd64.jsonl\n",
      "[       symtab.py:70 ] INFO: Loading symtab from /Users/szhong/Downloads/bpf-study/data/symtab/4.18.0-10-generic-amd64.jsonl\n",
      "[  func_groups.py:68 ] INFO: Loading funcs from /Users/szhong/Downloads/bpf-study/data/dwarf_funcs/5.0.0-13-generic-amd64.jsonl\n",
      "[       symtab.py:70 ] INFO: Loading symtab from /Users/szhong/Downloads/bpf-study/data/symtab/5.0.0-13-generic-amd64.jsonl\n",
      "[  func_groups.py:68 ] INFO: Loading funcs from /Users/szhong/Downloads/bpf-study/data/dwarf_funcs/5.3.0-18-generic-amd64.jsonl\n",
      "[       symtab.py:70 ] INFO: Loading symtab from /Users/szhong/Downloads/bpf-study/data/symtab/5.3.0-18-generic-amd64.jsonl\n",
      "[  func_groups.py:68 ] INFO: Loading funcs from /Users/szhong/Downloads/bpf-study/data/dwarf_funcs/5.8.0-25-generic-amd64.jsonl\n",
      "[       symtab.py:70 ] INFO: Loading symtab from /Users/szhong/Downloads/bpf-study/data/symtab/5.8.0-25-generic-amd64.jsonl\n",
      "[  func_groups.py:68 ] INFO: Loading funcs from /Users/szhong/Downloads/bpf-study/data/dwarf_funcs/5.11.0-16-generic-amd64.jsonl\n",
      "[       symtab.py:70 ] INFO: Loading symtab from /Users/szhong/Downloads/bpf-study/data/symtab/5.11.0-16-generic-amd64.jsonl\n",
      "[  func_groups.py:68 ] INFO: Loading funcs from /Users/szhong/Downloads/bpf-study/data/dwarf_funcs/5.13.0-19-generic-amd64.jsonl\n",
      "[       symtab.py:70 ] INFO: Loading symtab from /Users/szhong/Downloads/bpf-study/data/symtab/5.13.0-19-generic-amd64.jsonl\n",
      "[  func_groups.py:68 ] INFO: Loading funcs from /Users/szhong/Downloads/bpf-study/data/dwarf_funcs/5.15.0-25-generic-amd64.jsonl\n",
      "[       symtab.py:70 ] INFO: Loading symtab from /Users/szhong/Downloads/bpf-study/data/symtab/5.15.0-25-generic-amd64.jsonl\n",
      "[  func_groups.py:68 ] INFO: Loading funcs from /Users/szhong/Downloads/bpf-study/data/dwarf_funcs/5.19.0-21-generic-amd64.jsonl\n",
      "[       symtab.py:70 ] INFO: Loading symtab from /Users/szhong/Downloads/bpf-study/data/symtab/5.19.0-21-generic-amd64.jsonl\n",
      "[  func_groups.py:68 ] INFO: Loading funcs from /Users/szhong/Downloads/bpf-study/data/dwarf_funcs/6.2.0-20-generic-amd64.jsonl\n",
      "[       symtab.py:70 ] INFO: Loading symtab from /Users/szhong/Downloads/bpf-study/data/symtab/6.2.0-20-generic-amd64.jsonl\n",
      "[  func_groups.py:68 ] INFO: Loading funcs from /Users/szhong/Downloads/bpf-study/data/dwarf_funcs/6.5.0-9-generic-amd64.jsonl\n",
      "[       symtab.py:70 ] INFO: Loading symtab from /Users/szhong/Downloads/bpf-study/data/symtab/6.5.0-9-generic-amd64.jsonl\n",
      "[  func_groups.py:68 ] INFO: Loading funcs from /Users/szhong/Downloads/bpf-study/data/dwarf_funcs/6.8.0-22-generic-amd64.jsonl\n",
      "[       symtab.py:70 ] INFO: Loading symtab from /Users/szhong/Downloads/bpf-study/data/symtab/6.8.0-22-generic-amd64.jsonl\n",
      "[          btf.py:21 ] INFO: Loading BTF from /Users/szhong/Downloads/bpf-study/data/btf_norm/4.4.0-21-generic-amd64.pkl\n",
      "[          btf.py:21 ] INFO: Loading BTF from /Users/szhong/Downloads/bpf-study/data/btf_norm/4.8.0-22-generic-amd64.pkl\n"
     ]
    },
    {
     "name": "stdout",
     "output_type": "stream",
     "text": [
      "\tStatus: 🟣S|🟣S|🟣S|🟣S|🟣S|🟣S|🟣S|🟣S|🟣S|🟣S|🟣S|🟣S|🟣S|🟣S|🟣S|🟣S|🟣S\n",
      "\t4.4\tUnique Static\n",
      "\t\tFuncEntry(name='__page_cache_release', external=False, inline=-2, loc='mm/swap.c:53', file='mm/swap.c', caller_inline=[], caller_func=['mm/swap.c:__put_compound_page'])\n",
      "\t4.8\tUnique Static\n",
      "\t\tFuncEntry(name='__page_cache_release', external=False, inline=-2, loc='mm/swap.c:58', file='mm/swap.c', caller_inline=[], caller_func=['mm/swap.c:__put_page', 'mm/swap.c:__put_compound_page'])\n",
      "\t4.10\tUnique Static\n",
      "\t\tFuncEntry(name='__page_cache_release', external=False, inline=-2, loc='mm/swap.c:58', file='mm/swap.c', caller_inline=[], caller_func=['mm/swap.c:__put_page', 'mm/swap.c:__put_compound_page'])\n",
      "\t4.13\tUnique Static\n",
      "\t\tFuncEntry(name='__page_cache_release', external=False, inline=-2, loc='mm/swap.c:58', file='mm/swap.c', caller_inline=[], caller_func=['mm/swap.c:__put_compound_page'])\n",
      "\t4.15\tUnique Static\n",
      "\t\tFuncEntry(name='__page_cache_release', external=False, inline=-2, loc='mm/swap.c:58', file='mm/swap.c', caller_inline=[], caller_func=['mm/swap.c:__put_compound_page'])\n",
      "\t4.18\tUnique Static\n",
      "\t\tFuncEntry(name='__page_cache_release', external=False, inline=-2, loc='mm/swap.c:59', file='mm/swap.c', caller_inline=[], caller_func=['mm/swap.c:__put_compound_page'])\n",
      "\t5.0\tUnique Static\n",
      "\t\tFuncEntry(name='__page_cache_release', external=False, inline=-2, loc='mm/swap.c:58', file='mm/swap.c', caller_inline=[], caller_func=['mm/swap.c:__put_compound_page'])\n",
      "\t5.3\tUnique Static\n",
      "\t\tFuncEntry(name='__page_cache_release', external=False, inline=-2, loc='mm/swap.c:59', file='mm/swap.c', caller_inline=[], caller_func=['mm/swap.c:__put_compound_page'])\n",
      "\t5.4\tUnique Static\n",
      "\t\tFuncEntry(name='__page_cache_release', external=False, inline=-2, loc='mm/swap.c:60', file='mm/swap.c', caller_inline=[], caller_func=['mm/swap.c:__put_compound_page'])\n",
      "\t5.8\tUnique Static\n",
      "\t\tFuncEntry(name='__page_cache_release', external=False, inline=-2, loc='mm/swap.c:79', file='mm/swap.c', caller_inline=[], caller_func=['mm/swap.c:release_pages', 'mm/swap.c:__put_page', 'mm/swap.c:__put_page'])\n",
      "\t5.11\tUnique Static\n",
      "\t\tFuncEntry(name='__page_cache_release', external=False, inline=-2, loc='mm/swap.c:79', file='mm/swap.c', caller_inline=[], caller_func=['mm/swap.c:release_pages'])\n",
      "\t5.13\tUnique Static\n",
      "\t\tFuncEntry(name='__page_cache_release', external=False, inline=-2, loc='mm/swap.c:80', file='mm/swap.c', caller_inline=[], caller_func=['mm/swap.c:release_pages'])\n",
      "\t5.15\tUnique Static\n",
      "\t\tFuncEntry(name='__page_cache_release', external=False, inline=-2, loc='mm/swap.c:80', file='mm/swap.c', caller_inline=[], caller_func=['mm/swap.c:release_pages'])\n",
      "\t5.19\tUnique Static\n",
      "\t\tFuncEntry(name='__page_cache_release', external=False, inline=-2, loc='mm/swap.c:80', file='mm/swap.c', caller_inline=[], caller_func=['mm/swap.c:release_pages', 'mm/swap.c:put_pages_list', 'mm/swap.c:__put_page', 'mm/swap.c:__put_page'])\n",
      "\t6.2\tUnique Static\n",
      "\t\tFuncEntry(name='__page_cache_release', external=False, inline=-2, loc='mm/swap.c:81', file='mm/swap.c', caller_inline=[], caller_func=['mm/swap.c:release_pages', 'mm/swap.c:put_pages_list', 'mm/swap.c:__folio_put', 'mm/swap.c:__folio_put'])\n",
      "\t6.5\tUnique Static\n",
      "\t\tFuncEntry(name='__page_cache_release', external=False, inline=-2, loc='mm/swap.c:81', file='mm/swap.c', caller_inline=[], caller_func=['mm/swap.c:release_pages', 'mm/swap.c:put_pages_list', 'mm/swap.c:__folio_put', 'mm/swap.c:__folio_put'])\n",
      "\t6.8\tUnique Static\n",
      "\t\tFuncEntry(name='__page_cache_release', external=False, inline=-2, loc='mm/swap.c:81', file='mm/swap.c', caller_inline=[], caller_func=['mm/swap.c:release_pages', 'mm/swap.c:put_pages_list', 'mm/swap.c:__folio_put', 'mm/swap.c:__folio_put'])\n"
     ]
    },
    {
     "name": "stderr",
     "output_type": "stream",
     "text": [
      "[          btf.py:21 ] INFO: Loading BTF from /Users/szhong/Downloads/bpf-study/data/btf_norm/4.10.0-19-generic-amd64.pkl\n",
      "[          btf.py:21 ] INFO: Loading BTF from /Users/szhong/Downloads/bpf-study/data/btf_norm/4.13.0-16-generic-amd64.pkl\n",
      "[          btf.py:21 ] INFO: Loading BTF from /Users/szhong/Downloads/bpf-study/data/btf_norm/4.15.0-20-generic-amd64.pkl\n",
      "[          btf.py:21 ] INFO: Loading BTF from /Users/szhong/Downloads/bpf-study/data/btf_norm/4.18.0-10-generic-amd64.pkl\n",
      "[          btf.py:21 ] INFO: Loading BTF from /Users/szhong/Downloads/bpf-study/data/btf_norm/5.0.0-13-generic-amd64.pkl\n",
      "[          btf.py:21 ] INFO: Loading BTF from /Users/szhong/Downloads/bpf-study/data/btf_norm/5.3.0-18-generic-amd64.pkl\n",
      "[          btf.py:21 ] INFO: Loading BTF from /Users/szhong/Downloads/bpf-study/data/btf_norm/5.4.0-26-generic-amd64.pkl\n",
      "[          btf.py:21 ] INFO: Loading BTF from /Users/szhong/Downloads/bpf-study/data/btf_norm/5.8.0-25-generic-amd64.pkl\n",
      "[          btf.py:21 ] INFO: Loading BTF from /Users/szhong/Downloads/bpf-study/data/btf_norm/5.11.0-16-generic-amd64.pkl\n",
      "[          btf.py:21 ] INFO: Loading BTF from /Users/szhong/Downloads/bpf-study/data/btf_norm/5.13.0-19-generic-amd64.pkl\n",
      "[          btf.py:21 ] INFO: Loading BTF from /Users/szhong/Downloads/bpf-study/data/btf_norm/5.15.0-25-generic-amd64.pkl\n",
      "[          btf.py:21 ] INFO: Loading BTF from /Users/szhong/Downloads/bpf-study/data/btf_norm/5.19.0-21-generic-amd64.pkl\n",
      "[          btf.py:21 ] INFO: Loading BTF from /Users/szhong/Downloads/bpf-study/data/btf_norm/6.2.0-20-generic-amd64.pkl\n",
      "[          btf.py:21 ] INFO: Loading BTF from /Users/szhong/Downloads/bpf-study/data/btf_norm/6.5.0-9-generic-amd64.pkl\n",
      "[          btf.py:21 ] INFO: Loading BTF from /Users/szhong/Downloads/bpf-study/data/btf_norm/6.8.0-22-generic-amd64.pkl\n"
     ]
    },
    {
     "name": "stdout",
     "output_type": "stream",
     "text": [
      "\t5.19 → 6.2\t2 changes\n",
      "\t\tParam added             struct folio * folio\n",
      "\t\tParam removed           struct page * page\n"
     ]
    }
   ],
   "source": [
    "from depsurf import DepKind, Versions, gen_report\n",
    "\n",
    "result = gen_report([DepKind.FUNC(\"__page_cache_release\")], Versions.REGULAR)"
   ]
  }
 ],
 "metadata": {
  "kernelspec": {
   "display_name": "base",
   "language": "python",
   "name": "python3"
  },
  "language_info": {
   "codemirror_mode": {
    "name": "ipython",
    "version": 3
   },
   "file_extension": ".py",
   "mimetype": "text/x-python",
   "name": "python",
   "nbconvert_exporter": "python",
   "pygments_lexer": "ipython3",
   "version": "3.11.7"
  }
 },
 "nbformat": 4,
 "nbformat_minor": 2
}
