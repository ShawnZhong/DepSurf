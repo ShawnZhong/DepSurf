{
 "cells": [
  {
   "cell_type": "code",
   "execution_count": 1,
   "metadata": {},
   "outputs": [],
   "source": [
    "%reload_ext autoreload\n",
    "%autoreload 2"
   ]
  },
  {
   "cell_type": "code",
   "execution_count": null,
   "metadata": {},
   "outputs": [],
   "source": [
    "from depsurf import BuildVersion, FunctionRecorder\n",
    "from depsurf.output import setup_pandas\n",
    "\n",
    "recorder = FunctionRecorder.from_path(\n",
    "    path=BuildVersion.filter()[-1].vmlinux_path,\n",
    "    cus_mapper=lambda cus: [\n",
    "        next(cu for cu in cus if cu.get_top_DIE().get_full_path().endswith(\"main.c\")),\n",
    "        next(cu for cu in cus if cu.get_top_DIE().get_full_path().endswith(\"open.c\"))\n",
    "    ],\n",
    "    debug=False,\n",
    ")\n",
    "\n",
    "# recorder.data.df"
   ]
  }
 ],
 "metadata": {
  "kernelspec": {
   "display_name": "Python 3",
   "language": "python",
   "name": "python3"
  },
  "language_info": {
   "codemirror_mode": {
    "name": "ipython",
    "version": 3
   },
   "file_extension": ".py",
   "mimetype": "text/x-python",
   "name": "python",
   "nbconvert_exporter": "python",
   "pygments_lexer": "ipython3",
   "version": "3.11.4"
  }
 },
 "nbformat": 4,
 "nbformat_minor": 2
}
