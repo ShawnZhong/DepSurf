{
 "cells": [
  {
   "cell_type": "code",
   "execution_count": 1,
   "metadata": {},
   "outputs": [
    {
     "name": "stdout",
     "output_type": "stream",
     "text": [
      "Defaulting to user installation because normal site-packages is not writeable\n",
      "Requirement already satisfied: launchpadlib in /usr/lib/python3/dist-packages (1.11.0)\n",
      "Requirement already satisfied: httplib2 in /usr/lib/python3/dist-packages (from launchpadlib) (0.20.4)\n",
      "Requirement already satisfied: lazr.restfulclient>=0.14.2 in /usr/lib/python3/dist-packages (from launchpadlib) (0.14.5)\n",
      "Requirement already satisfied: lazr.uri in /usr/lib/python3/dist-packages (from launchpadlib) (1.0.6)\n",
      "Requirement already satisfied: six in /home/szhong/.local/lib/python3.11/site-packages (from launchpadlib) (1.16.0)\n",
      "Requirement already satisfied: pyparsing!=3.0.0,!=3.0.1,!=3.0.2,!=3.0.3,<4,>=2.4.2 in /home/szhong/.local/lib/python3.11/site-packages (from httplib2->launchpadlib) (3.1.1)\n"
     ]
    }
   ],
   "source": [
    "!pip install launchpadlib --break-system-packages"
   ]
  },
  {
   "cell_type": "code",
   "execution_count": 2,
   "metadata": {
    "metadata": {}
   },
   "outputs": [],
   "source": [
    "# https://api.launchpad.net/1.0/\n",
    "\n",
    "from launchpadlib.launchpad import Launchpad\n",
    "\n",
    "lp = Launchpad.login_anonymously(\"ubuntu-build-list\", \"production\")\n",
    "ubuntu = lp.distributions[\"ubuntu\"]\n",
    "archive = ubuntu.getArchive(name=\"primary\")\n",
    "series = list(ubuntu.series)"
   ]
  },
  {
   "cell_type": "code",
   "execution_count": 3,
   "metadata": {
    "metadata": {}
   },
   "outputs": [
    {
     "data": {
      "text/plain": [
       "dict_keys(['24.04', '23.10', '23.04', '22.10', '22.04', '21.10', '21.04', '20.10', '20.04', '19.10', '19.04', '18.10', '18.04', '17.10', '17.04', '16.10', '16.04'])"
      ]
     },
     "execution_count": 3,
     "metadata": {},
     "output_type": "execute_result"
    }
   ],
   "source": [
    "series_dict = {\n",
    "    s.version: s\n",
    "    for s in series\n",
    "    if (16, 4) <= tuple(int(part) for part in s.version.split(\".\")) <= (24, 4)\n",
    "}\n",
    "series_dict.keys()"
   ]
  },
  {
   "cell_type": "code",
   "execution_count": 4,
   "metadata": {
    "metadata": {}
   },
   "outputs": [],
   "source": [
    "import re\n",
    "from pathlib import Path\n",
    "\n",
    "\n",
    "def get_ddeb(\n",
    "    distro_series,\n",
    "    source_name: str = \"linux\",\n",
    "    pocket: str = \"Release\",\n",
    "    arch: str = None,\n",
    "    flavor: str = None,\n",
    "):\n",
    "    published_sources = archive.getPublishedSources(\n",
    "        exact_match=True,\n",
    "        source_name=source_name,\n",
    "        distro_series=distro_series,\n",
    "        pocket=pocket,\n",
    "        order_by_date=True,\n",
    "    )\n",
    "\n",
    "    if len(published_sources) == 0:\n",
    "        print(f\"No published sources for {source_name} in {distro_series}\")\n",
    "        return \"\", []\n",
    "\n",
    "    versions = [\n",
    "        tuple(int(part) for part in re.split(r\"-|\\.|\\+\", s.source_package_version))\n",
    "        for s in published_sources\n",
    "    ]\n",
    "    if max(versions) != versions[0]:\n",
    "        raise ValueError(f\"The latest version is not the first: {versions}\")\n",
    "\n",
    "    source = published_sources[0]\n",
    "    web_link = f\"https://launchpad.net/ubuntu/+source/{source_name}/{source.source_package_version}\"\n",
    "\n",
    "    urls = []\n",
    "    for url in source.binaryFileUrls():\n",
    "        path = Path(url)\n",
    "        if path.suffix != \".ddeb\":\n",
    "            continue\n",
    "        if not path.stem.startswith(\"linux-image\"):\n",
    "            continue\n",
    "        if arch is not None and not path.stem.endswith(arch):\n",
    "            continue\n",
    "        if flavor is not None and flavor not in path.stem:\n",
    "            continue\n",
    "        urls.append(url)\n",
    "    return web_link, urls"
   ]
  },
  {
   "cell_type": "code",
   "execution_count": 5,
   "metadata": {
    "metadata": {}
   },
   "outputs": [
    {
     "name": "stdout",
     "output_type": "stream",
     "text": [
      "24.04 https://launchpad.net/ubuntu/+archive/primary/+files/linux-image-unsigned-6.8.0-31-generic-dbgsym_6.8.0-31.31_amd64.ddeb\n",
      "23.10 https://launchpad.net/ubuntu/+archive/primary/+files/linux-image-unsigned-6.5.0-9-generic-dbgsym_6.5.0-9.9_amd64.ddeb\n",
      "23.04 https://launchpad.net/ubuntu/+archive/primary/+files/linux-image-unsigned-6.2.0-20-generic-dbgsym_6.2.0-20.20_amd64.ddeb\n",
      "22.10 https://launchpad.net/ubuntu/+archive/primary/+files/linux-image-unsigned-5.19.0-21-generic-dbgsym_5.19.0-21.21_amd64.ddeb\n",
      "22.04 https://launchpad.net/ubuntu/+archive/primary/+files/linux-image-unsigned-5.15.0-25-generic-dbgsym_5.15.0-25.25_amd64.ddeb\n",
      "21.10 https://launchpad.net/ubuntu/+archive/primary/+files/linux-image-unsigned-5.13.0-19-generic-dbgsym_5.13.0-19.19_amd64.ddeb\n",
      "21.04 https://launchpad.net/ubuntu/+archive/primary/+files/linux-image-unsigned-5.11.0-16-generic-dbgsym_5.11.0-16.17_amd64.ddeb\n",
      "20.10 https://launchpad.net/ubuntu/+archive/primary/+files/linux-image-unsigned-5.8.0-25-generic-dbgsym_5.8.0-25.26_amd64.ddeb\n",
      "20.04 https://launchpad.net/ubuntu/+archive/primary/+files/linux-image-unsigned-5.4.0-26-generic-dbgsym_5.4.0-26.30_amd64.ddeb\n",
      "19.10 https://launchpad.net/ubuntu/+archive/primary/+files/linux-image-unsigned-5.3.0-18-generic-dbgsym_5.3.0-18.19_amd64.ddeb\n",
      "19.04 https://launchpad.net/ubuntu/+archive/primary/+files/linux-image-unsigned-5.0.0-13-generic-dbgsym_5.0.0-13.14_amd64.ddeb\n",
      "18.10 https://launchpad.net/ubuntu/+archive/primary/+files/linux-image-unsigned-4.18.0-10-generic-dbgsym_4.18.0-10.11_amd64.ddeb\n",
      "18.04 https://launchpad.net/ubuntu/+archive/primary/+files/linux-image-unsigned-4.15.0-20-generic-dbgsym_4.15.0-20.21_amd64.ddeb\n",
      "17.10 https://launchpad.net/ubuntu/+archive/primary/+files/linux-image-4.13.0-16-generic-dbgsym_4.13.0-16.19_amd64.ddeb\n",
      "17.04 https://launchpad.net/ubuntu/+archive/primary/+files/linux-image-4.10.0-19-generic-dbgsym_4.10.0-19.21_amd64.ddeb\n",
      "16.10 https://launchpad.net/ubuntu/+archive/primary/+files/linux-image-4.8.0-22-generic-dbgsym_4.8.0-22.24_amd64.ddeb\n",
      "16.04 https://launchpad.net/ubuntu/+archive/primary/+files/linux-image-4.4.0-21-generic-dbgsym_4.4.0-21.37_amd64.ddeb\n"
     ]
    }
   ],
   "source": [
    "# https://launchpad.net/ubuntu/+source/linux/<version>\n",
    "\n",
    "for s in series_dict.values():\n",
    "    web_link, urls = get_ddeb(s, arch=\"amd64\", flavor=\"generic\")\n",
    "    assert len(urls) == 1, urls\n",
    "    print(s.version, urls[0])"
   ]
  },
  {
   "cell_type": "code",
   "execution_count": 6,
   "metadata": {
    "metadata": {}
   },
   "outputs": [
    {
     "name": "stdout",
     "output_type": "stream",
     "text": [
      "20.04: https://launchpad.net/ubuntu/+source/linux/5.4.0-26.30\n",
      "https://launchpad.net/ubuntu/+archive/primary/+files/linux-image-unsigned-5.4.0-26-generic-dbgsym_5.4.0-26.30_s390x.ddeb\n",
      "https://launchpad.net/ubuntu/+archive/primary/+files/linux-image-unsigned-5.4.0-26-generic-dbgsym_5.4.0-26.30_ppc64el.ddeb\n",
      "https://launchpad.net/ubuntu/+archive/primary/+files/linux-image-unsigned-5.4.0-26-generic-dbgsym_5.4.0-26.30_amd64.ddeb\n",
      "https://launchpad.net/ubuntu/+archive/primary/+files/linux-image-unsigned-5.4.0-26-lowlatency-dbgsym_5.4.0-26.30_amd64.ddeb\n",
      "https://launchpad.net/ubuntu/+archive/primary/+files/linux-image-unsigned-5.4.0-26-generic-dbgsym_5.4.0-26.30_arm64.ddeb\n",
      "https://launchpad.net/ubuntu/+archive/primary/+files/linux-image-5.4.0-26-generic-dbgsym_5.4.0-26.30_armhf.ddeb\n",
      "https://launchpad.net/ubuntu/+archive/primary/+files/linux-image-5.4.0-26-generic-lpae-dbgsym_5.4.0-26.30_armhf.ddeb\n",
      "24.04: https://launchpad.net/ubuntu/+source/linux/6.8.0-31.31\n",
      "https://launchpad.net/ubuntu/+archive/primary/+files/linux-image-unsigned-6.8.0-31-generic-dbgsym_6.8.0-31.31_s390x.ddeb\n",
      "https://launchpad.net/ubuntu/+archive/primary/+files/linux-image-6.8.0-31-generic-dbgsym_6.8.0-31.31_ppc64el.ddeb\n",
      "https://launchpad.net/ubuntu/+archive/primary/+files/linux-image-6.8.0-31-generic-dbgsym_6.8.0-31.31_armhf.ddeb\n",
      "https://launchpad.net/ubuntu/+archive/primary/+files/linux-image-unsigned-6.8.0-31-generic-dbgsym_6.8.0-31.31_amd64.ddeb\n",
      "https://launchpad.net/ubuntu/+archive/primary/+files/linux-image-unsigned-6.8.0-31-generic-64k-dbgsym_6.8.0-31.31_arm64.ddeb\n",
      "https://launchpad.net/ubuntu/+archive/primary/+files/linux-image-unsigned-6.8.0-31-generic-dbgsym_6.8.0-31.31_arm64.ddeb\n"
     ]
    }
   ],
   "source": [
    "for s in [\"20.04\", \"24.04\"]:\n",
    "    web_link, urls = get_ddeb(series_dict[s])\n",
    "    print(f\"{s}: {web_link}\")\n",
    "    print(\"\\n\".join(urls))"
   ]
  },
  {
   "cell_type": "code",
   "execution_count": 7,
   "metadata": {
    "metadata": {}
   },
   "outputs": [
    {
     "name": "stdout",
     "output_type": "stream",
     "text": [
      "20.04\n",
      "https://launchpad.net/ubuntu/+source/linux/5.4.0-26.30                  https://launchpad.net/ubuntu/+archive/primary/+files/linux-image-unsigned-5.4.0-26-generic-dbgsym_5.4.0-26.30_amd64.ddeb, https://launchpad.net/ubuntu/+archive/primary/+files/linux-image-unsigned-5.4.0-26-lowlatency-dbgsym_5.4.0-26.30_amd64.ddeb\n",
      "https://launchpad.net/ubuntu/+source/linux-azure/5.4.0-1010.10          https://launchpad.net/ubuntu/+archive/primary/+files/linux-image-unsigned-5.4.0-1010-azure-dbgsym_5.4.0-1010.10_amd64.ddeb\n",
      "https://launchpad.net/ubuntu/+source/linux-aws/5.4.0-1009.9             https://launchpad.net/ubuntu/+archive/primary/+files/linux-image-5.4.0-1009-aws-dbgsym_5.4.0-1009.9_amd64.ddeb\n",
      "https://launchpad.net/ubuntu/+source/linux-gcp/5.4.0-1009.9             https://launchpad.net/ubuntu/+archive/primary/+files/linux-image-unsigned-5.4.0-1009-gcp-dbgsym_5.4.0-1009.9_amd64.ddeb\n",
      "No published sources for linux-lowlatency in https://api.launchpad.net/1.0/ubuntu/focal\n",
      "\n",
      "24.04\n",
      "https://launchpad.net/ubuntu/+source/linux/6.8.0-31.31                  https://launchpad.net/ubuntu/+archive/primary/+files/linux-image-unsigned-6.8.0-31-generic-dbgsym_6.8.0-31.31_amd64.ddeb\n",
      "https://launchpad.net/ubuntu/+source/linux-azure/6.8.0-1007.7           https://launchpad.net/ubuntu/+archive/primary/+files/linux-image-unsigned-6.8.0-1007-azure-dbgsym_6.8.0-1007.7_amd64.ddeb\n",
      "https://launchpad.net/ubuntu/+source/linux-aws/6.8.0-1008.8             https://launchpad.net/ubuntu/+archive/primary/+files/linux-image-unsigned-6.8.0-1008-aws-dbgsym_6.8.0-1008.8_amd64.ddeb\n",
      "https://launchpad.net/ubuntu/+source/linux-gcp/6.8.0-1007.7             https://launchpad.net/ubuntu/+archive/primary/+files/linux-image-unsigned-6.8.0-1007-gcp-dbgsym_6.8.0-1007.7_amd64.ddeb\n",
      "https://launchpad.net/ubuntu/+source/linux-lowlatency/6.8.0-31.31.1     https://launchpad.net/ubuntu/+archive/primary/+files/linux-image-unsigned-6.8.0-31-lowlatency-dbgsym_6.8.0-31.31.1_amd64.ddeb\n",
      "\n"
     ]
    }
   ],
   "source": [
    "for s in [\"20.04\", \"24.04\"]:\n",
    "    print(s)\n",
    "    for source_name in [\n",
    "        \"linux\",\n",
    "        \"linux-azure\",\n",
    "        \"linux-aws\",\n",
    "        \"linux-gcp\",\n",
    "        \"linux-lowlatency\", # Not available for older kernels\n",
    "        # \"linux-oracle\",\n",
    "        # \"linux-raspi\", # Only for arm64\n",
    "        # \"linux-laptop\", # Only for arm64 with newer kernels\n",
    "        # \"linux-nvidia\", # Only for newer kernels\n",
    "        # \"linux-kvm\",  # No debug symbols, not available for 24.04\n",
    "    ]:\n",
    "        web_link, urls = get_ddeb(\n",
    "            series_dict[s],\n",
    "            source_name=source_name,\n",
    "            arch=\"amd64\",\n",
    "        )\n",
    "        if web_link:\n",
    "            print(f\"{web_link:72}{', '.join(urls)}\")\n",
    "    print()"
   ]
  }
 ],
 "metadata": {
  "kernelspec": {
   "display_name": "Python 3",
   "language": "python",
   "name": "python3"
  },
  "language_info": {
   "codemirror_mode": {
    "name": "ipython",
    "version": 3
   },
   "file_extension": ".py",
   "mimetype": "text/x-python",
   "name": "python",
   "nbconvert_exporter": "python",
   "pygments_lexer": "ipython3",
   "version": "3.11.4"
  }
 },
 "nbformat": 4,
 "nbformat_minor": 2
}
