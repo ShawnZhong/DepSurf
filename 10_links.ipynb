{
 "cells": [
  {
   "cell_type": "code",
   "execution_count": 10,
   "metadata": {
    "metadata": {}
   },
   "outputs": [],
   "source": [
    "# https://api.launchpad.net/1.0/\n",
    "\n",
    "from launchpadlib.launchpad import Launchpad\n",
    "\n",
    "lp = Launchpad.login_anonymously(\"ubuntu-build-list\", \"production\")\n",
    "ubuntu = lp.distributions[\"ubuntu\"]\n",
    "archive = ubuntu.getArchive(name=\"primary\")\n",
    "series = list(ubuntu.series)"
   ]
  },
  {
   "cell_type": "code",
   "execution_count": 26,
   "metadata": {
    "metadata": {}
   },
   "outputs": [
    {
     "data": {
      "text/plain": [
       "dict_keys(['24.04', '23.10', '23.04', '22.10', '22.04', '21.10', '21.04', '20.10', '20.04', '19.10', '19.04', '18.10', '18.04', '17.10', '17.04', '16.10', '16.04'])"
      ]
     },
     "execution_count": 26,
     "metadata": {},
     "output_type": "execute_result"
    }
   ],
   "source": [
    "series_dict = {\n",
    "    s.version: s\n",
    "    for s in series\n",
    "    if (16, 4) <= tuple(int(part) for part in s.version.split(\".\")) <= (24, 4)\n",
    "}\n",
    "series_dict.keys()"
   ]
  },
  {
   "cell_type": "code",
   "execution_count": 81,
   "metadata": {
    "metadata": {}
   },
   "outputs": [],
   "source": [
    "import re\n",
    "from pathlib import Path\n",
    "\n",
    "\n",
    "def get_ddeb(\n",
    "    distro_series,\n",
    "    source_name: str = \"linux\",\n",
    "    pocket: str = \"Release\",\n",
    "    arch: str = None,\n",
    "    flavor: str = None,\n",
    "):\n",
    "    published_sources = archive.getPublishedSources(\n",
    "        exact_match=True,\n",
    "        source_name=source_name,\n",
    "        distro_series=distro_series,\n",
    "        pocket=pocket,\n",
    "        order_by_date=True,\n",
    "    )\n",
    "\n",
    "    if len(published_sources) == 0:\n",
    "        raise ValueError(f\"No published sources for {source_name} in {distro_series}\")\n",
    "\n",
    "    versions = [\n",
    "        tuple(int(part) for part in re.split(r\"-|\\.|\\+\", s.source_package_version))\n",
    "        for s in published_sources\n",
    "    ]\n",
    "    if max(versions) != versions[0]:\n",
    "        raise ValueError(f\"The latest version is not the first: {versions}\")\n",
    "\n",
    "    source = published_sources[0]\n",
    "    web_link = f\"https://launchpad.net/ubuntu/+source/{source_name}/{source.source_package_version}\"\n",
    "\n",
    "    urls = []\n",
    "    for url in source.binaryFileUrls():\n",
    "        path = Path(url)\n",
    "        if path.suffix != \".ddeb\":\n",
    "            continue\n",
    "        if not path.stem.startswith(\"linux-image\"):\n",
    "            continue\n",
    "        if arch is not None and not path.stem.endswith(arch):\n",
    "            continue\n",
    "        if flavor is not None and flavor not in path.stem:\n",
    "            continue\n",
    "        urls.append(url)\n",
    "    return web_link, urls"
   ]
  },
  {
   "cell_type": "code",
   "execution_count": 47,
   "metadata": {
    "metadata": {}
   },
   "outputs": [
    {
     "name": "stdout",
     "output_type": "stream",
     "text": [
      "24.04 https://launchpad.net/ubuntu/+archive/primary/+files/linux-image-unsigned-6.8.0-22-generic-dbgsym_6.8.0-22.22_amd64.ddeb\n",
      "23.10 https://launchpad.net/ubuntu/+archive/primary/+files/linux-image-unsigned-6.5.0-9-generic-dbgsym_6.5.0-9.9_amd64.ddeb\n",
      "23.04 https://launchpad.net/ubuntu/+archive/primary/+files/linux-image-unsigned-6.2.0-20-generic-dbgsym_6.2.0-20.20_amd64.ddeb\n",
      "22.10 https://launchpad.net/ubuntu/+archive/primary/+files/linux-image-unsigned-5.19.0-21-generic-dbgsym_5.19.0-21.21_amd64.ddeb\n",
      "22.04 https://launchpad.net/ubuntu/+archive/primary/+files/linux-image-unsigned-5.15.0-25-generic-dbgsym_5.15.0-25.25_amd64.ddeb\n",
      "21.10 https://launchpad.net/ubuntu/+archive/primary/+files/linux-image-unsigned-5.13.0-19-generic-dbgsym_5.13.0-19.19_amd64.ddeb\n",
      "21.04 https://launchpad.net/ubuntu/+archive/primary/+files/linux-image-unsigned-5.11.0-16-generic-dbgsym_5.11.0-16.17_amd64.ddeb\n",
      "20.10 https://launchpad.net/ubuntu/+archive/primary/+files/linux-image-unsigned-5.8.0-25-generic-dbgsym_5.8.0-25.26_amd64.ddeb\n",
      "20.04 https://launchpad.net/ubuntu/+archive/primary/+files/linux-image-unsigned-5.4.0-26-generic-dbgsym_5.4.0-26.30_amd64.ddeb\n",
      "19.10 https://launchpad.net/ubuntu/+archive/primary/+files/linux-image-unsigned-5.3.0-18-generic-dbgsym_5.3.0-18.19_amd64.ddeb\n",
      "19.04 https://launchpad.net/ubuntu/+archive/primary/+files/linux-image-unsigned-5.0.0-13-generic-dbgsym_5.0.0-13.14_amd64.ddeb\n",
      "18.10 https://launchpad.net/ubuntu/+archive/primary/+files/linux-image-unsigned-4.18.0-10-generic-dbgsym_4.18.0-10.11_amd64.ddeb\n",
      "18.04 https://launchpad.net/ubuntu/+archive/primary/+files/linux-image-unsigned-4.15.0-20-generic-dbgsym_4.15.0-20.21_amd64.ddeb\n",
      "17.10 https://launchpad.net/ubuntu/+archive/primary/+files/linux-image-4.13.0-16-generic-dbgsym_4.13.0-16.19_amd64.ddeb\n",
      "17.04 https://launchpad.net/ubuntu/+archive/primary/+files/linux-image-4.10.0-19-generic-dbgsym_4.10.0-19.21_amd64.ddeb\n",
      "16.10 https://launchpad.net/ubuntu/+archive/primary/+files/linux-image-4.8.0-22-generic-dbgsym_4.8.0-22.24_amd64.ddeb\n",
      "16.04 https://launchpad.net/ubuntu/+archive/primary/+files/linux-image-4.4.0-21-generic-dbgsym_4.4.0-21.37_amd64.ddeb\n"
     ]
    }
   ],
   "source": [
    "# https://launchpad.net/ubuntu/+source/linux/<version>\n",
    "\n",
    "for s in series_dict.values():\n",
    "    web_link, urls = get_ddeb(s, arch=\"amd64\", flavor=\"generic\")\n",
    "    assert len(urls) == 1, urls\n",
    "    print(s.version, urls[0])"
   ]
  },
  {
   "cell_type": "code",
   "execution_count": 75,
   "metadata": {
    "metadata": {}
   },
   "outputs": [
    {
     "name": "stdout",
     "output_type": "stream",
     "text": [
      "https://launchpad.net/ubuntu/+source/linux/5.4.0-26.30\n",
      "\n",
      "https://launchpad.net/ubuntu/+archive/primary/+files/linux-image-unsigned-5.4.0-26-generic-dbgsym_5.4.0-26.30_s390x.ddeb\n",
      "https://launchpad.net/ubuntu/+archive/primary/+files/linux-image-unsigned-5.4.0-26-generic-dbgsym_5.4.0-26.30_ppc64el.ddeb\n",
      "https://launchpad.net/ubuntu/+archive/primary/+files/linux-image-unsigned-5.4.0-26-generic-dbgsym_5.4.0-26.30_amd64.ddeb\n",
      "https://launchpad.net/ubuntu/+archive/primary/+files/linux-image-unsigned-5.4.0-26-lowlatency-dbgsym_5.4.0-26.30_amd64.ddeb\n",
      "https://launchpad.net/ubuntu/+archive/primary/+files/linux-image-unsigned-5.4.0-26-generic-dbgsym_5.4.0-26.30_arm64.ddeb\n",
      "https://launchpad.net/ubuntu/+archive/primary/+files/linux-image-5.4.0-26-generic-dbgsym_5.4.0-26.30_armhf.ddeb\n",
      "https://launchpad.net/ubuntu/+archive/primary/+files/linux-image-5.4.0-26-generic-lpae-dbgsym_5.4.0-26.30_armhf.ddeb\n"
     ]
    }
   ],
   "source": [
    "web_link, urls = get_ddeb(series_dict[\"20.04\"])\n",
    "print(web_link)\n",
    "print()\n",
    "print(\"\\n\".join(urls))"
   ]
  },
  {
   "cell_type": "code",
   "execution_count": 86,
   "metadata": {
    "metadata": {}
   },
   "outputs": [
    {
     "name": "stdout",
     "output_type": "stream",
     "text": [
      "https://launchpad.net/ubuntu/+source/linux/5.4.0-26.30          https://launchpad.net/ubuntu/+archive/primary/+files/linux-image-unsigned-5.4.0-26-generic-dbgsym_5.4.0-26.30_amd64.ddeb, https://launchpad.net/ubuntu/+archive/primary/+files/linux-image-unsigned-5.4.0-26-lowlatency-dbgsym_5.4.0-26.30_amd64.ddeb\n",
      "https://launchpad.net/ubuntu/+source/linux-azure/5.4.0-1010.10  https://launchpad.net/ubuntu/+archive/primary/+files/linux-image-unsigned-5.4.0-1010-azure-dbgsym_5.4.0-1010.10_amd64.ddeb\n",
      "https://launchpad.net/ubuntu/+source/linux-aws/5.4.0-1009.9     https://launchpad.net/ubuntu/+archive/primary/+files/linux-image-5.4.0-1009-aws-dbgsym_5.4.0-1009.9_amd64.ddeb\n",
      "https://launchpad.net/ubuntu/+source/linux-gcp/5.4.0-1009.9     https://launchpad.net/ubuntu/+archive/primary/+files/linux-image-unsigned-5.4.0-1009-gcp-dbgsym_5.4.0-1009.9_amd64.ddeb\n",
      "https://launchpad.net/ubuntu/+source/linux-oracle/5.4.0-1009.9  https://launchpad.net/ubuntu/+archive/primary/+files/linux-image-unsigned-5.4.0-1009-oracle-dbgsym_5.4.0-1009.9_amd64.ddeb\n"
     ]
    }
   ],
   "source": [
    "for source_name in [\n",
    "    \"linux\",\n",
    "    \"linux-azure\",\n",
    "    \"linux-aws\",\n",
    "    \"linux-gcp\",\n",
    "    \"linux-oracle\",\n",
    "    # \"linux-kvm\",  # No debug symbols\n",
    "    # \"linux-raspi\", # Only for arm64\n",
    "    # \"linux-laptop\", # Only for arm64 with newer kernels\n",
    "    # \"linux-nvidia\", # Only for newer kernels\n",
    "]:\n",
    "    web_link, urls = get_ddeb(\n",
    "        series_dict[\"20.04\"],\n",
    "        source_name=source_name,\n",
    "        arch=\"amd64\",\n",
    "    )\n",
    "    print(f\"{web_link:64}{', '.join(urls)}\")"
   ]
  }
 ],
 "metadata": {
  "kernelspec": {
   "display_name": "Python 3",
   "language": "python",
   "name": "python3"
  },
  "language_info": {
   "codemirror_mode": {
    "name": "ipython",
    "version": 3
   },
   "file_extension": ".py",
   "mimetype": "text/x-python",
   "name": "python",
   "nbconvert_exporter": "python",
   "pygments_lexer": "ipython3",
   "version": "3.11.4"
  }
 },
 "nbformat": 4,
 "nbformat_minor": 2
}
