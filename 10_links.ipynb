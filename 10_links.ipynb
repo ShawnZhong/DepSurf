{
 "cells": [
  {
   "cell_type": "markdown",
   "metadata": {},
   "source": [
    "# Gather Package Links\n",
    "\n",
    "This notebook is used to collect the links to the Linux kernel packages for different Ubuntu versions.\n",
    "\n",
    "Note: You can safely **skip this notebook**, and refer to the output of the notebook to get the links."
   ]
  },
  {
   "cell_type": "code",
   "execution_count": 4,
   "metadata": {
    "metadata": {}
   },
   "outputs": [
    {
     "data": {
      "text/plain": [
       "{'24.04': <distro_series at https://api.launchpad.net/1.0/ubuntu/noble>,\n",
       " '23.10': <distro_series at https://api.launchpad.net/1.0/ubuntu/mantic>,\n",
       " '23.04': <distro_series at https://api.launchpad.net/1.0/ubuntu/lunar>,\n",
       " '22.10': <distro_series at https://api.launchpad.net/1.0/ubuntu/kinetic>,\n",
       " '22.04': <distro_series at https://api.launchpad.net/1.0/ubuntu/jammy>,\n",
       " '21.10': <distro_series at https://api.launchpad.net/1.0/ubuntu/impish>,\n",
       " '21.04': <distro_series at https://api.launchpad.net/1.0/ubuntu/hirsute>,\n",
       " '20.10': <distro_series at https://api.launchpad.net/1.0/ubuntu/groovy>,\n",
       " '20.04': <distro_series at https://api.launchpad.net/1.0/ubuntu/focal>,\n",
       " '19.10': <distro_series at https://api.launchpad.net/1.0/ubuntu/eoan>,\n",
       " '19.04': <distro_series at https://api.launchpad.net/1.0/ubuntu/disco>,\n",
       " '18.10': <distro_series at https://api.launchpad.net/1.0/ubuntu/cosmic>,\n",
       " '18.04': <distro_series at https://api.launchpad.net/1.0/ubuntu/bionic>,\n",
       " '17.10': <distro_series at https://api.launchpad.net/1.0/ubuntu/artful>,\n",
       " '17.04': <distro_series at https://api.launchpad.net/1.0/ubuntu/zesty>,\n",
       " '16.10': <distro_series at https://api.launchpad.net/1.0/ubuntu/yakkety>,\n",
       " '16.04': <distro_series at https://api.launchpad.net/1.0/ubuntu/xenial>}"
      ]
     },
     "execution_count": 4,
     "metadata": {},
     "output_type": "execute_result"
    }
   ],
   "source": [
    "from launchpadlib.launchpad import Launchpad  # Ref: https://api.launchpad.net/1.0/\n",
    "\n",
    "lp = Launchpad.login_anonymously(\"ubuntu-build-list\", \"production\")\n",
    "ubuntu = lp.distributions[\"ubuntu\"]  # type: ignore\n",
    "archive = ubuntu.main_archive\n",
    "\n",
    "versions = {\n",
    "    s.version: s\n",
    "    for s in ubuntu.series\n",
    "    if (16, 4) <= tuple(int(part) for part in s.version.split(\".\")) <= (24, 4)\n",
    "}\n",
    "versions"
   ]
  },
  {
   "cell_type": "code",
   "execution_count": 5,
   "metadata": {
    "metadata": {}
   },
   "outputs": [],
   "source": [
    "import re\n",
    "from pathlib import Path\n",
    "from typing import Optional, Tuple, List\n",
    "\n",
    "\n",
    "def get_ddeb(\n",
    "    distro_series,\n",
    "    source_name: str = \"linux\",\n",
    "    pocket: str = \"Release\",\n",
    "    arch: Optional[str] = None,\n",
    "    flavor: Optional[str] = None,\n",
    ") -> Tuple[str, List[str]]:\n",
    "    published_sources = archive.getPublishedSources(\n",
    "        exact_match=True,\n",
    "        source_name=source_name,\n",
    "        distro_series=distro_series,\n",
    "        pocket=pocket,\n",
    "        order_by_date=True,\n",
    "    )\n",
    "\n",
    "    if len(published_sources) == 0:\n",
    "        return \"\", []\n",
    "\n",
    "    versions = [\n",
    "        tuple(int(part) for part in re.split(r\"-|\\.|\\+\", s.source_package_version))\n",
    "        for s in published_sources\n",
    "    ]\n",
    "    if max(versions) != versions[0]:\n",
    "        raise ValueError(f\"The latest version is not the first: {versions}\")\n",
    "\n",
    "    source = published_sources[0]\n",
    "    web_link = f\"https://launchpad.net/ubuntu/+source/{source_name}/{source.source_package_version}\"\n",
    "\n",
    "    urls = []\n",
    "    for url in source.binaryFileUrls():\n",
    "        path = Path(url)\n",
    "        if path.suffix != \".ddeb\":\n",
    "            continue\n",
    "        if not path.stem.startswith(\"linux-image\"):\n",
    "            continue\n",
    "        if arch is not None and not path.stem.endswith(arch):\n",
    "            continue\n",
    "        if flavor is not None and flavor not in path.stem:\n",
    "            continue\n",
    "        urls.append(url)\n",
    "    return web_link, urls"
   ]
  },
  {
   "cell_type": "code",
   "execution_count": 6,
   "metadata": {
    "metadata": {}
   },
   "outputs": [
    {
     "name": "stdout",
     "output_type": "stream",
     "text": [
      "24.04 https://launchpad.net/ubuntu/+archive/primary/+files/linux-image-unsigned-6.8.0-31-generic-dbgsym_6.8.0-31.31_amd64.ddeb\n",
      "23.10 https://launchpad.net/ubuntu/+archive/primary/+files/linux-image-unsigned-6.5.0-9-generic-dbgsym_6.5.0-9.9_amd64.ddeb\n",
      "23.04 https://launchpad.net/ubuntu/+archive/primary/+files/linux-image-unsigned-6.2.0-20-generic-dbgsym_6.2.0-20.20_amd64.ddeb\n",
      "22.10 https://launchpad.net/ubuntu/+archive/primary/+files/linux-image-unsigned-5.19.0-21-generic-dbgsym_5.19.0-21.21_amd64.ddeb\n",
      "22.04 https://launchpad.net/ubuntu/+archive/primary/+files/linux-image-unsigned-5.15.0-25-generic-dbgsym_5.15.0-25.25_amd64.ddeb\n",
      "21.10 https://launchpad.net/ubuntu/+archive/primary/+files/linux-image-unsigned-5.13.0-19-generic-dbgsym_5.13.0-19.19_amd64.ddeb\n",
      "21.04 https://launchpad.net/ubuntu/+archive/primary/+files/linux-image-unsigned-5.11.0-16-generic-dbgsym_5.11.0-16.17_amd64.ddeb\n",
      "20.10 https://launchpad.net/ubuntu/+archive/primary/+files/linux-image-unsigned-5.8.0-25-generic-dbgsym_5.8.0-25.26_amd64.ddeb\n",
      "20.04 https://launchpad.net/ubuntu/+archive/primary/+files/linux-image-unsigned-5.4.0-26-generic-dbgsym_5.4.0-26.30_amd64.ddeb\n",
      "19.10 https://launchpad.net/ubuntu/+archive/primary/+files/linux-image-unsigned-5.3.0-18-generic-dbgsym_5.3.0-18.19_amd64.ddeb\n",
      "19.04 https://launchpad.net/ubuntu/+archive/primary/+files/linux-image-unsigned-5.0.0-13-generic-dbgsym_5.0.0-13.14_amd64.ddeb\n",
      "18.10 https://launchpad.net/ubuntu/+archive/primary/+files/linux-image-unsigned-4.18.0-10-generic-dbgsym_4.18.0-10.11_amd64.ddeb\n",
      "18.04 https://launchpad.net/ubuntu/+archive/primary/+files/linux-image-unsigned-4.15.0-20-generic-dbgsym_4.15.0-20.21_amd64.ddeb\n",
      "17.10 https://launchpad.net/ubuntu/+archive/primary/+files/linux-image-4.13.0-16-generic-dbgsym_4.13.0-16.19_amd64.ddeb\n",
      "17.04 https://launchpad.net/ubuntu/+archive/primary/+files/linux-image-4.10.0-19-generic-dbgsym_4.10.0-19.21_amd64.ddeb\n",
      "16.10 https://launchpad.net/ubuntu/+archive/primary/+files/linux-image-4.8.0-22-generic-dbgsym_4.8.0-22.24_amd64.ddeb\n",
      "16.04 https://launchpad.net/ubuntu/+archive/primary/+files/linux-image-4.4.0-21-generic-dbgsym_4.4.0-21.37_amd64.ddeb\n"
     ]
    }
   ],
   "source": [
    "# https://launchpad.net/ubuntu/+source/linux/<version>\n",
    "\n",
    "for v in versions.values():\n",
    "    web_link, urls = get_ddeb(v, arch=\"amd64\", flavor=\"generic\")\n",
    "    assert len(urls) == 1, urls\n",
    "    print(v.version, urls[0])"
   ]
  },
  {
   "cell_type": "code",
   "execution_count": 12,
   "metadata": {
    "metadata": {}
   },
   "outputs": [
    {
     "name": "stdout",
     "output_type": "stream",
     "text": [
      "-------------------------------------20.04--------------------------------------\n",
      "linux               https://launchpad.net/ubuntu/+source/linux/5.4.0-26.30\n",
      "                    https://launchpad.net/ubuntu/+archive/primary/+files/linux-image-unsigned-5.4.0-26-generic-dbgsym_5.4.0-26.30_s390x.ddeb\n",
      "                    https://launchpad.net/ubuntu/+archive/primary/+files/linux-image-unsigned-5.4.0-26-generic-dbgsym_5.4.0-26.30_ppc64el.ddeb\n",
      "                    https://launchpad.net/ubuntu/+archive/primary/+files/linux-image-unsigned-5.4.0-26-generic-dbgsym_5.4.0-26.30_amd64.ddeb\n",
      "                    https://launchpad.net/ubuntu/+archive/primary/+files/linux-image-unsigned-5.4.0-26-lowlatency-dbgsym_5.4.0-26.30_amd64.ddeb\n",
      "                    https://launchpad.net/ubuntu/+archive/primary/+files/linux-image-unsigned-5.4.0-26-generic-dbgsym_5.4.0-26.30_arm64.ddeb\n",
      "                    https://launchpad.net/ubuntu/+archive/primary/+files/linux-image-5.4.0-26-generic-dbgsym_5.4.0-26.30_armhf.ddeb\n",
      "                    https://launchpad.net/ubuntu/+archive/primary/+files/linux-image-5.4.0-26-generic-lpae-dbgsym_5.4.0-26.30_armhf.ddeb\n",
      "linux-aws           https://launchpad.net/ubuntu/+source/linux-aws/5.4.0-1009.9\n",
      "                    https://launchpad.net/ubuntu/+archive/primary/+files/linux-image-5.4.0-1009-aws-dbgsym_5.4.0-1009.9_amd64.ddeb\n",
      "                    https://launchpad.net/ubuntu/+archive/primary/+files/linux-image-5.4.0-1009-aws-dbgsym_5.4.0-1009.9_arm64.ddeb\n",
      "linux-azure         https://launchpad.net/ubuntu/+source/linux-azure/5.4.0-1010.10\n",
      "                    https://launchpad.net/ubuntu/+archive/primary/+files/linux-image-unsigned-5.4.0-1010-azure-dbgsym_5.4.0-1010.10_amd64.ddeb\n",
      "linux-gcp           https://launchpad.net/ubuntu/+source/linux-gcp/5.4.0-1009.9\n",
      "                    https://launchpad.net/ubuntu/+archive/primary/+files/linux-image-unsigned-5.4.0-1009-gcp-dbgsym_5.4.0-1009.9_amd64.ddeb\n",
      "linux-oracle        https://launchpad.net/ubuntu/+source/linux-oracle/5.4.0-1009.9\n",
      "                    https://launchpad.net/ubuntu/+archive/primary/+files/linux-image-unsigned-5.4.0-1009-oracle-dbgsym_5.4.0-1009.9_amd64.ddeb\n",
      "linux-gke           \n",
      "linux-ibm           \n",
      "linux-riscv         https://launchpad.net/ubuntu/+source/linux-riscv/5.4.0-24.28\n",
      "                    https://launchpad.net/ubuntu/+archive/primary/+files/linux-image-5.4.0-24-generic-dbgsym_5.4.0-24.28_riscv64.ddeb\n",
      "linux-raspi         https://launchpad.net/ubuntu/+source/linux-raspi/5.4.0-1008.8\n",
      "                    https://launchpad.net/ubuntu/+archive/primary/+files/linux-image-5.4.0-1008-raspi-dbgsym_5.4.0-1008.8_armhf.ddeb\n",
      "                    https://launchpad.net/ubuntu/+archive/primary/+files/linux-image-5.4.0-1008-raspi-dbgsym_5.4.0-1008.8_arm64.ddeb\n",
      "linux-lowlatency    \n",
      "linux-kvm           https://launchpad.net/ubuntu/+source/linux-kvm/5.4.0-1009.9\n",
      "                    https://launchpad.net/ubuntu/+archive/primary/+files/linux-image-5.4.0-1009-kvm-dbgsym_5.4.0-1009.9_amd64.ddeb\n",
      "linux-laptop        \n",
      "linux-nvidia        \n",
      "-------------------------------------24.04--------------------------------------\n",
      "linux               https://launchpad.net/ubuntu/+source/linux/6.8.0-31.31\n",
      "                    https://launchpad.net/ubuntu/+archive/primary/+files/linux-image-unsigned-6.8.0-31-generic-dbgsym_6.8.0-31.31_s390x.ddeb\n",
      "                    https://launchpad.net/ubuntu/+archive/primary/+files/linux-image-6.8.0-31-generic-dbgsym_6.8.0-31.31_ppc64el.ddeb\n",
      "                    https://launchpad.net/ubuntu/+archive/primary/+files/linux-image-6.8.0-31-generic-dbgsym_6.8.0-31.31_armhf.ddeb\n",
      "                    https://launchpad.net/ubuntu/+archive/primary/+files/linux-image-unsigned-6.8.0-31-generic-dbgsym_6.8.0-31.31_amd64.ddeb\n",
      "                    https://launchpad.net/ubuntu/+archive/primary/+files/linux-image-unsigned-6.8.0-31-generic-64k-dbgsym_6.8.0-31.31_arm64.ddeb\n",
      "                    https://launchpad.net/ubuntu/+archive/primary/+files/linux-image-unsigned-6.8.0-31-generic-dbgsym_6.8.0-31.31_arm64.ddeb\n",
      "linux-aws           https://launchpad.net/ubuntu/+source/linux-aws/6.8.0-1008.8\n",
      "                    https://launchpad.net/ubuntu/+archive/primary/+files/linux-image-unsigned-6.8.0-1008-aws-dbgsym_6.8.0-1008.8_amd64.ddeb\n",
      "                    https://launchpad.net/ubuntu/+archive/primary/+files/linux-image-unsigned-6.8.0-1008-aws-dbgsym_6.8.0-1008.8_arm64.ddeb\n",
      "linux-azure         https://launchpad.net/ubuntu/+source/linux-azure/6.8.0-1007.7\n",
      "                    https://launchpad.net/ubuntu/+archive/primary/+files/linux-image-unsigned-6.8.0-1007-azure-dbgsym_6.8.0-1007.7_amd64.ddeb\n",
      "                    https://launchpad.net/ubuntu/+archive/primary/+files/linux-image-unsigned-6.8.0-1007-azure-dbgsym_6.8.0-1007.7_arm64.ddeb\n",
      "linux-gcp           https://launchpad.net/ubuntu/+source/linux-gcp/6.8.0-1007.7\n",
      "                    https://launchpad.net/ubuntu/+archive/primary/+files/linux-image-unsigned-6.8.0-1007-gcp-dbgsym_6.8.0-1007.7_amd64.ddeb\n",
      "                    https://launchpad.net/ubuntu/+archive/primary/+files/linux-image-unsigned-6.8.0-1007-gcp-dbgsym_6.8.0-1007.7_arm64.ddeb\n",
      "linux-oracle        https://launchpad.net/ubuntu/+source/linux-oracle/6.8.0-1005.5\n",
      "                    https://launchpad.net/ubuntu/+archive/primary/+files/linux-image-unsigned-6.8.0-1005-oracle-dbgsym_6.8.0-1005.5_amd64.ddeb\n",
      "                    https://launchpad.net/ubuntu/+archive/primary/+files/linux-image-unsigned-6.8.0-1005-oracle-64k-dbgsym_6.8.0-1005.5_arm64.ddeb\n",
      "                    https://launchpad.net/ubuntu/+archive/primary/+files/linux-image-unsigned-6.8.0-1005-oracle-dbgsym_6.8.0-1005.5_arm64.ddeb\n",
      "linux-gke           https://launchpad.net/ubuntu/+source/linux-gke/6.8.0-1003.5\n",
      "                    https://launchpad.net/ubuntu/+archive/primary/+files/linux-image-unsigned-6.8.0-1003-gke-dbgsym_6.8.0-1003.5_amd64.ddeb\n",
      "                    https://launchpad.net/ubuntu/+archive/primary/+files/linux-image-unsigned-6.8.0-1003-gke-dbgsym_6.8.0-1003.5_arm64.ddeb\n",
      "linux-ibm           https://launchpad.net/ubuntu/+source/linux-ibm/6.8.0-1005.5\n",
      "                    https://launchpad.net/ubuntu/+archive/primary/+files/linux-image-unsigned-6.8.0-1005-ibm-dbgsym_6.8.0-1005.5_amd64.ddeb\n",
      "linux-riscv         https://launchpad.net/ubuntu/+source/linux-riscv/6.8.0-31.31.1\n",
      "                    https://launchpad.net/ubuntu/+archive/primary/+files/linux-image-6.8.0-31-generic-dbgsym_6.8.0-31.31.1_riscv64.ddeb\n",
      "linux-raspi         https://launchpad.net/ubuntu/+source/linux-raspi/6.8.0-1004.4\n",
      "                    https://launchpad.net/ubuntu/+archive/primary/+files/linux-image-6.8.0-1004-raspi-dbgsym_6.8.0-1004.4_arm64.ddeb\n",
      "linux-lowlatency    https://launchpad.net/ubuntu/+source/linux-lowlatency/6.8.0-31.31.1\n",
      "                    https://launchpad.net/ubuntu/+archive/primary/+files/linux-image-unsigned-6.8.0-31-lowlatency-dbgsym_6.8.0-31.31.1_amd64.ddeb\n",
      "                    https://launchpad.net/ubuntu/+archive/primary/+files/linux-image-unsigned-6.8.0-31-lowlatency-64k-dbgsym_6.8.0-31.31.1_arm64.ddeb\n",
      "                    https://launchpad.net/ubuntu/+archive/primary/+files/linux-image-unsigned-6.8.0-31-lowlatency-dbgsym_6.8.0-31.31.1_arm64.ddeb\n",
      "linux-kvm           \n",
      "linux-laptop        https://launchpad.net/ubuntu/+source/linux-laptop/6.5.0-1004.7\n",
      "                    https://launchpad.net/ubuntu/+archive/primary/+files/linux-image-6.5.0-1004-laptop-dbgsym_6.5.0-1004.7_arm64.ddeb\n",
      "linux-nvidia        \n"
     ]
    }
   ],
   "source": [
    "# https://launchpad.net/ubuntu/+source/<source_name>\n",
    "# https://ubuntu.com/kernel/variants\n",
    "for v in [\"20.04\", \"24.04\"]:\n",
    "    print(f\"{v:-^80}\")\n",
    "    for source in [\n",
    "        # The default linux\n",
    "        \"linux\",\n",
    "        # Cloud-optimized kernels: https://ubuntu.com/blog/cloud-optimized-linux-kernels\n",
    "        \"linux-aws\",\n",
    "        \"linux-azure\",\n",
    "        \"linux-gcp\",\n",
    "        \"linux-oracle\",\n",
    "        \"linux-gke\",\n",
    "        \"linux-ibm\",\n",
    "        # Other flavors\n",
    "        \"linux-riscv\",\n",
    "        \"linux-raspi\",\n",
    "        \"linux-lowlatency\",  # Used to be part of `linux`\n",
    "        \"linux-kvm\",  # No debug symbols, discontinued after 22.04\n",
    "        \"linux-laptop\",  # New in 24.04, arm64 only\n",
    "        \"linux-nvidia\",  # New in 22.04\n",
    "    ]:\n",
    "        web_link, urls = get_ddeb(versions[v], source_name=source)\n",
    "        print(f\"{source:20}{web_link}\")\n",
    "        for url in urls:\n",
    "            print(f\"{'':20}{url}\")"
   ]
  }
 ],
 "metadata": {
  "kernelspec": {
   "display_name": "Python 3 (ipykernel)",
   "language": "python",
   "name": "python3"
  },
  "language_info": {
   "codemirror_mode": {
    "name": "ipython",
    "version": 3
   },
   "file_extension": ".py",
   "mimetype": "text/x-python",
   "name": "python",
   "nbconvert_exporter": "python",
   "pygments_lexer": "ipython3",
   "version": "3.13.1"
  }
 },
 "nbformat": 4,
 "nbformat_minor": 4
}
