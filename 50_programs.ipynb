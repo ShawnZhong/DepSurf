{
 "cells": [
  {
   "cell_type": "markdown",
   "metadata": {},
   "source": [
    "# Analyze eBPF Programs\n",
    "\n",
    "This notebook compiles, analyzes, and generates the report for eBPF programs. "
   ]
  },
  {
   "cell_type": "code",
   "execution_count": 1,
   "metadata": {},
   "outputs": [],
   "source": [
    "%reload_ext autoreload\n",
    "%autoreload 2"
   ]
  },
  {
   "cell_type": "code",
   "execution_count": 2,
   "metadata": {},
   "outputs": [],
   "source": [
    "from depsurf import system\n",
    "from utils import SOFTWARE_PATH\n",
    "\n",
    "BCC_PATH = SOFTWARE_PATH / \"bcc\"\n",
    "BCC_TOOLS_PATH = BCC_PATH / \"libbpf-tools\"\n",
    "BCC_OBJ_PATH = BCC_TOOLS_PATH / \".output\"\n",
    "\n",
    "TRACEE_PATH = SOFTWARE_PATH / \"tracee\"\n",
    "TRACEE_OBJ_FILE = TRACEE_PATH / \"dist\" / \"tracee.bpf.o\""
   ]
  },
  {
   "cell_type": "markdown",
   "metadata": {},
   "source": [
    "The following cell compiles the BCC tools. "
   ]
  },
  {
   "cell_type": "code",
   "execution_count": 3,
   "metadata": {},
   "outputs": [
    {
     "name": "stderr",
     "output_type": "stream",
     "text": [
      "[       system.py:15 ] INFO: Running command: \"\u001b[92morbctl run bash -c 'make -C /Users/szhong/Code/DepSurf/data/software/bcc/libbpf-tools -j $(nproc)'\u001b[0m\"\n"
     ]
    },
    {
     "name": "stdout",
     "output_type": "stream",
     "text": [
      "make: Entering directory '/Users/szhong/Code/DepSurf/data/software/bcc/libbpf-tools'\n",
      "make: Nothing to be done for 'all'.\n",
      "make: Leaving directory '/Users/szhong/Code/DepSurf/data/software/bcc/libbpf-tools'\n"
     ]
    }
   ],
   "source": [
    "system(f\"make -C {BCC_TOOLS_PATH} -j $(nproc)\", linux=True)"
   ]
  },
  {
   "cell_type": "markdown",
   "metadata": {},
   "source": [
    "The following cell compiles the eBPF program for Tracee."
   ]
  },
  {
   "cell_type": "code",
   "execution_count": 4,
   "metadata": {},
   "outputs": [
    {
     "name": "stderr",
     "output_type": "stream",
     "text": [
      "[       system.py:15 ] INFO: Running command: \"\u001b[92morbctl run bash -c 'make -C /Users/szhong/Code/DepSurf/data/software/tracee bpf -j $(nproc)'\u001b[0m\"\n"
     ]
    },
    {
     "name": "stdout",
     "output_type": "stream",
     "text": [
      "make: Entering directory '/Users/szhong/Code/DepSurf/data/software/tracee'\n",
      "make: Nothing to be done for 'bpf'.\n",
      "make: Leaving directory '/Users/szhong/Code/DepSurf/data/software/tracee'\n"
     ]
    }
   ],
   "source": [
    "system(f\"make -C {TRACEE_PATH} bpf -j $(nproc)\", linux=True)"
   ]
  },
  {
   "cell_type": "markdown",
   "metadata": {},
   "source": [
    "The following cell analyzes and generates the report for eBPF programs."
   ]
  },
  {
   "cell_type": "code",
   "execution_count": 6,
   "metadata": {},
   "outputs": [
    {
     "name": "stderr",
     "output_type": "stream",
     "text": [
      "[       system.py:15 ] INFO: Running command: \"\u001b[92morbctl run bash -c '/Users/szhong/Code/DepSurf/depsurf/btf/bpftool/src/bpftool gen min_core_btf /Users/szhong/Code/DepSurf/data/software/bcc/libbpf-tools/.output/bashreadline.bpf.o /Users/szhong/Code/DepSurf/data/software/bcc/libbpf-tools/.output/bashreadline.bpf.min.btf.tmp /Users/szhong/Code/DepSurf/data/software/bcc/libbpf-tools/.output/bashreadline.bpf.o'\u001b[0m\"\n",
      "[       system.py:15 ] INFO: Running command: \"\u001b[92morbctl run bash -c '/Users/szhong/Code/DepSurf/depsurf/btf/bpftool/src/bpftool btf dump file /Users/szhong/Code/DepSurf/data/software/bcc/libbpf-tools/.output/bashreadline.bpf.min.btf --json > /Users/szhong/Code/DepSurf/data/software/bcc/libbpf-tools/.output/bashreadline.bpf.min.btf.json.tmp'\u001b[0m\"\n"
     ]
    },
    {
     "name": "stdout",
     "output_type": "stream",
     "text": [
      "Report saved to /Users/szhong/Code/DepSurf/data/output/programs/bashreadline\n"
     ]
    },
    {
     "name": "stderr",
     "output_type": "stream",
     "text": [
      "[       system.py:15 ] INFO: Running command: \"\u001b[92morbctl run bash -c '/Users/szhong/Code/DepSurf/depsurf/btf/bpftool/src/bpftool gen min_core_btf /Users/szhong/Code/DepSurf/data/software/bcc/libbpf-tools/.output/bindsnoop.bpf.o /Users/szhong/Code/DepSurf/data/software/bcc/libbpf-tools/.output/bindsnoop.bpf.min.btf.tmp /Users/szhong/Code/DepSurf/data/software/bcc/libbpf-tools/.output/bindsnoop.bpf.o'\u001b[0m\"\n",
      "libbpf: prog '.text': relo #3: field offset ambiguity: 0 != 6338\n",
      "libbpf: prog '.text': relo #4: field offset ambiguity: 0 != 6338\n",
      "libbpf: prog '.text': relo #5: field offset ambiguity: 0 != 6338\n",
      "libbpf: prog '.text': relo #6: field offset ambiguity: 0 != 6338\n",
      "libbpf: prog '.text': relo #7: field offset ambiguity: 0 != 6338\n",
      "libbpf: prog '.text': relo #8: field offset ambiguity: 0 != 6338\n",
      "libbpf: prog '.text': relo #10: field offset ambiguity: 0 != 6338\n",
      "libbpf: prog '.text': relo #11: field offset ambiguity: 1 != 6341\n",
      "libbpf: prog '.text': relo #12: field offset ambiguity: 1 != 6341\n",
      "libbpf: prog '.text': relo #13: field offset ambiguity: 1 != 6341\n",
      "libbpf: prog '.text': relo #14: field offset ambiguity: 1 != 6341\n",
      "libbpf: prog '.text': relo #15: field offset ambiguity: 1 != 6341\n",
      "libbpf: prog '.text': relo #16: field offset ambiguity: 1 != 6341\n",
      "libbpf: prog '.text': relo #18: field offset ambiguity: 1 != 6341\n",
      "libbpf: prog '.text': relo #19: field offset ambiguity: 2 != 6344\n",
      "libbpf: prog '.text': relo #20: field offset ambiguity: 2 != 6344\n",
      "libbpf: prog '.text': relo #21: field offset ambiguity: 2 != 6344\n",
      "libbpf: prog '.text': relo #22: field offset ambiguity: 2 != 6344\n",
      "libbpf: prog '.text': relo #23: field offset ambiguity: 2 != 6344\n",
      "libbpf: prog '.text': relo #24: field offset ambiguity: 2 != 6344\n",
      "libbpf: prog '.text': relo #26: field offset ambiguity: 2 != 6344\n",
      "[       system.py:15 ] INFO: Running command: \"\u001b[92morbctl run bash -c '/Users/szhong/Code/DepSurf/depsurf/btf/bpftool/src/bpftool btf dump file /Users/szhong/Code/DepSurf/data/software/bcc/libbpf-tools/.output/bindsnoop.bpf.min.btf --json > /Users/szhong/Code/DepSurf/data/software/bcc/libbpf-tools/.output/bindsnoop.bpf.min.btf.json.tmp'\u001b[0m\"\n"
     ]
    },
    {
     "name": "stdout",
     "output_type": "stream",
     "text": [
      "Report saved to /Users/szhong/Code/DepSurf/data/output/programs/bindsnoop\n"
     ]
    },
    {
     "name": "stderr",
     "output_type": "stream",
     "text": [
      "[       system.py:15 ] INFO: Running command: \"\u001b[92morbctl run bash -c '/Users/szhong/Code/DepSurf/depsurf/btf/bpftool/src/bpftool gen min_core_btf /Users/szhong/Code/DepSurf/data/software/bcc/libbpf-tools/.output/biolatency.bpf.o /Users/szhong/Code/DepSurf/data/software/bcc/libbpf-tools/.output/biolatency.bpf.min.btf.tmp /Users/szhong/Code/DepSurf/data/software/bcc/libbpf-tools/.output/biolatency.bpf.o'\u001b[0m\"\n",
      "libbpf: prog '.text': relo #5: field offset ambiguity: 1024 != 0\n",
      "libbpf: prog '.text': relo #9: field offset ambiguity: 1024 != 0\n",
      "libbpf: prog '.text': relo #21: field offset ambiguity: 1024 != 0\n",
      "libbpf: prog '.text': relo #25: field offset ambiguity: 1024 != 0\n",
      "libbpf: prog '.text': relo #31: field offset ambiguity: 1024 != 0\n",
      "[       system.py:15 ] INFO: Running command: \"\u001b[92morbctl run bash -c '/Users/szhong/Code/DepSurf/depsurf/btf/bpftool/src/bpftool btf dump file /Users/szhong/Code/DepSurf/data/software/bcc/libbpf-tools/.output/biolatency.bpf.min.btf --json > /Users/szhong/Code/DepSurf/data/software/bcc/libbpf-tools/.output/biolatency.bpf.min.btf.json.tmp'\u001b[0m\"\n"
     ]
    },
    {
     "name": "stdout",
     "output_type": "stream",
     "text": [
      "Report saved to /Users/szhong/Code/DepSurf/data/output/programs/biolatency\n"
     ]
    },
    {
     "name": "stderr",
     "output_type": "stream",
     "text": [
      "[       system.py:15 ] INFO: Running command: \"\u001b[92morbctl run bash -c '/Users/szhong/Code/DepSurf/depsurf/btf/bpftool/src/bpftool gen min_core_btf /Users/szhong/Code/DepSurf/data/software/bcc/libbpf-tools/.output/biopattern.bpf.o /Users/szhong/Code/DepSurf/data/software/bcc/libbpf-tools/.output/biopattern.bpf.min.btf.tmp /Users/szhong/Code/DepSurf/data/software/bcc/libbpf-tools/.output/biopattern.bpf.o'\u001b[0m\"\n",
      "[       system.py:15 ] INFO: Running command: \"\u001b[92morbctl run bash -c '/Users/szhong/Code/DepSurf/depsurf/btf/bpftool/src/bpftool btf dump file /Users/szhong/Code/DepSurf/data/software/bcc/libbpf-tools/.output/biopattern.bpf.min.btf --json > /Users/szhong/Code/DepSurf/data/software/bcc/libbpf-tools/.output/biopattern.bpf.min.btf.json.tmp'\u001b[0m\"\n"
     ]
    },
    {
     "name": "stdout",
     "output_type": "stream",
     "text": [
      "Report saved to /Users/szhong/Code/DepSurf/data/output/programs/biopattern\n"
     ]
    },
    {
     "name": "stderr",
     "output_type": "stream",
     "text": [
      "[       system.py:15 ] INFO: Running command: \"\u001b[92morbctl run bash -c '/Users/szhong/Code/DepSurf/depsurf/btf/bpftool/src/bpftool gen min_core_btf /Users/szhong/Code/DepSurf/data/software/bcc/libbpf-tools/.output/biosnoop.bpf.o /Users/szhong/Code/DepSurf/data/software/bcc/libbpf-tools/.output/biosnoop.bpf.min.btf.tmp /Users/szhong/Code/DepSurf/data/software/bcc/libbpf-tools/.output/biosnoop.bpf.o'\u001b[0m\"\n",
      "libbpf: prog 'tp_btf/block_rq_insert': relo #5: field offset ambiguity: 1024 != 0\n",
      "libbpf: prog 'tp_btf/block_rq_insert': relo #9: field offset ambiguity: 1024 != 0\n",
      "libbpf: prog 'tp_btf/block_rq_issue': relo #5: field offset ambiguity: 1024 != 0\n",
      "libbpf: prog 'tp_btf/block_rq_issue': relo #9: field offset ambiguity: 1024 != 0\n",
      "[       system.py:15 ] INFO: Running command: \"\u001b[92morbctl run bash -c '/Users/szhong/Code/DepSurf/depsurf/btf/bpftool/src/bpftool btf dump file /Users/szhong/Code/DepSurf/data/software/bcc/libbpf-tools/.output/biosnoop.bpf.min.btf --json > /Users/szhong/Code/DepSurf/data/software/bcc/libbpf-tools/.output/biosnoop.bpf.min.btf.json.tmp'\u001b[0m\"\n"
     ]
    },
    {
     "name": "stdout",
     "output_type": "stream",
     "text": [
      "Report saved to /Users/szhong/Code/DepSurf/data/output/programs/biosnoop\n"
     ]
    },
    {
     "name": "stderr",
     "output_type": "stream",
     "text": [
      "[       system.py:15 ] INFO: Running command: \"\u001b[92morbctl run bash -c '/Users/szhong/Code/DepSurf/depsurf/btf/bpftool/src/bpftool gen min_core_btf /Users/szhong/Code/DepSurf/data/software/bcc/libbpf-tools/.output/biostacks.bpf.o /Users/szhong/Code/DepSurf/data/software/bcc/libbpf-tools/.output/biostacks.bpf.min.btf.tmp /Users/szhong/Code/DepSurf/data/software/bcc/libbpf-tools/.output/biostacks.bpf.o'\u001b[0m\"\n",
      "[       system.py:15 ] INFO: Running command: \"\u001b[92morbctl run bash -c '/Users/szhong/Code/DepSurf/depsurf/btf/bpftool/src/bpftool btf dump file /Users/szhong/Code/DepSurf/data/software/bcc/libbpf-tools/.output/biostacks.bpf.min.btf --json > /Users/szhong/Code/DepSurf/data/software/bcc/libbpf-tools/.output/biostacks.bpf.min.btf.json.tmp'\u001b[0m\"\n"
     ]
    },
    {
     "name": "stdout",
     "output_type": "stream",
     "text": [
      "Report saved to /Users/szhong/Code/DepSurf/data/output/programs/biostacks\n"
     ]
    },
    {
     "name": "stderr",
     "output_type": "stream",
     "text": [
      "[       system.py:15 ] INFO: Running command: \"\u001b[92morbctl run bash -c '/Users/szhong/Code/DepSurf/depsurf/btf/bpftool/src/bpftool gen min_core_btf /Users/szhong/Code/DepSurf/data/software/bcc/libbpf-tools/.output/biotop.bpf.o /Users/szhong/Code/DepSurf/data/software/bcc/libbpf-tools/.output/biotop.bpf.min.btf.tmp /Users/szhong/Code/DepSurf/data/software/bcc/libbpf-tools/.output/biotop.bpf.o'\u001b[0m\"\n",
      "[       system.py:15 ] INFO: Running command: \"\u001b[92morbctl run bash -c '/Users/szhong/Code/DepSurf/depsurf/btf/bpftool/src/bpftool btf dump file /Users/szhong/Code/DepSurf/data/software/bcc/libbpf-tools/.output/biotop.bpf.min.btf --json > /Users/szhong/Code/DepSurf/data/software/bcc/libbpf-tools/.output/biotop.bpf.min.btf.json.tmp'\u001b[0m\"\n"
     ]
    },
    {
     "name": "stdout",
     "output_type": "stream",
     "text": [
      "Report saved to /Users/szhong/Code/DepSurf/data/output/programs/biotop\n"
     ]
    },
    {
     "name": "stderr",
     "output_type": "stream",
     "text": [
      "[       system.py:15 ] INFO: Running command: \"\u001b[92morbctl run bash -c '/Users/szhong/Code/DepSurf/depsurf/btf/bpftool/src/bpftool gen min_core_btf /Users/szhong/Code/DepSurf/data/software/bcc/libbpf-tools/.output/bitesize.bpf.o /Users/szhong/Code/DepSurf/data/software/bcc/libbpf-tools/.output/bitesize.bpf.min.btf.tmp /Users/szhong/Code/DepSurf/data/software/bcc/libbpf-tools/.output/bitesize.bpf.o'\u001b[0m\"\n",
      "[       system.py:15 ] INFO: Running command: \"\u001b[92morbctl run bash -c '/Users/szhong/Code/DepSurf/depsurf/btf/bpftool/src/bpftool btf dump file /Users/szhong/Code/DepSurf/data/software/bcc/libbpf-tools/.output/bitesize.bpf.min.btf --json > /Users/szhong/Code/DepSurf/data/software/bcc/libbpf-tools/.output/bitesize.bpf.min.btf.json.tmp'\u001b[0m\"\n"
     ]
    },
    {
     "name": "stdout",
     "output_type": "stream",
     "text": [
      "Report saved to /Users/szhong/Code/DepSurf/data/output/programs/bitesize\n"
     ]
    },
    {
     "name": "stderr",
     "output_type": "stream",
     "text": [
      "[       system.py:15 ] INFO: Running command: \"\u001b[92morbctl run bash -c '/Users/szhong/Code/DepSurf/depsurf/btf/bpftool/src/bpftool gen min_core_btf /Users/szhong/Code/DepSurf/data/software/bcc/libbpf-tools/.output/cachestat.bpf.o /Users/szhong/Code/DepSurf/data/software/bcc/libbpf-tools/.output/cachestat.bpf.min.btf.tmp /Users/szhong/Code/DepSurf/data/software/bcc/libbpf-tools/.output/cachestat.bpf.o'\u001b[0m\"\n",
      "[       system.py:15 ] INFO: Running command: \"\u001b[92morbctl run bash -c '/Users/szhong/Code/DepSurf/depsurf/btf/bpftool/src/bpftool btf dump file /Users/szhong/Code/DepSurf/data/software/bcc/libbpf-tools/.output/cachestat.bpf.min.btf --json > /Users/szhong/Code/DepSurf/data/software/bcc/libbpf-tools/.output/cachestat.bpf.min.btf.json.tmp'\u001b[0m\"\n"
     ]
    },
    {
     "name": "stdout",
     "output_type": "stream",
     "text": [
      "Report saved to /Users/szhong/Code/DepSurf/data/output/programs/cachestat\n"
     ]
    },
    {
     "name": "stderr",
     "output_type": "stream",
     "text": [
      "[       system.py:15 ] INFO: Running command: \"\u001b[92morbctl run bash -c '/Users/szhong/Code/DepSurf/depsurf/btf/bpftool/src/bpftool gen min_core_btf /Users/szhong/Code/DepSurf/data/software/bcc/libbpf-tools/.output/capable.bpf.o /Users/szhong/Code/DepSurf/data/software/bcc/libbpf-tools/.output/capable.bpf.min.btf.tmp /Users/szhong/Code/DepSurf/data/software/bcc/libbpf-tools/.output/capable.bpf.o'\u001b[0m\"\n",
      "[       system.py:15 ] INFO: Running command: \"\u001b[92morbctl run bash -c '/Users/szhong/Code/DepSurf/depsurf/btf/bpftool/src/bpftool btf dump file /Users/szhong/Code/DepSurf/data/software/bcc/libbpf-tools/.output/capable.bpf.min.btf --json > /Users/szhong/Code/DepSurf/data/software/bcc/libbpf-tools/.output/capable.bpf.min.btf.json.tmp'\u001b[0m\"\n"
     ]
    },
    {
     "name": "stdout",
     "output_type": "stream",
     "text": [
      "Report saved to /Users/szhong/Code/DepSurf/data/output/programs/capable\n"
     ]
    },
    {
     "name": "stderr",
     "output_type": "stream",
     "text": [
      "[       system.py:15 ] INFO: Running command: \"\u001b[92morbctl run bash -c '/Users/szhong/Code/DepSurf/depsurf/btf/bpftool/src/bpftool gen min_core_btf /Users/szhong/Code/DepSurf/data/software/bcc/libbpf-tools/.output/cpudist.bpf.o /Users/szhong/Code/DepSurf/data/software/bcc/libbpf-tools/.output/cpudist.bpf.min.btf.tmp /Users/szhong/Code/DepSurf/data/software/bcc/libbpf-tools/.output/cpudist.bpf.o'\u001b[0m\"\n",
      "libbpf: prog '.text': relo #2: field offset ambiguity: 0 != 256\n",
      "libbpf: prog '.text': relo #3: field offset ambiguity: 0 != 256\n",
      "[       system.py:15 ] INFO: Running command: \"\u001b[92morbctl run bash -c '/Users/szhong/Code/DepSurf/depsurf/btf/bpftool/src/bpftool btf dump file /Users/szhong/Code/DepSurf/data/software/bcc/libbpf-tools/.output/cpudist.bpf.min.btf --json > /Users/szhong/Code/DepSurf/data/software/bcc/libbpf-tools/.output/cpudist.bpf.min.btf.json.tmp'\u001b[0m\"\n"
     ]
    },
    {
     "name": "stdout",
     "output_type": "stream",
     "text": [
      "Report saved to /Users/szhong/Code/DepSurf/data/output/programs/cpudist\n"
     ]
    },
    {
     "name": "stderr",
     "output_type": "stream",
     "text": [
      "[       system.py:15 ] INFO: Running command: \"\u001b[92morbctl run bash -c '/Users/szhong/Code/DepSurf/depsurf/btf/bpftool/src/bpftool gen min_core_btf /Users/szhong/Code/DepSurf/data/software/bcc/libbpf-tools/.output/cpufreq.bpf.o /Users/szhong/Code/DepSurf/data/software/bcc/libbpf-tools/.output/cpufreq.bpf.min.btf.tmp /Users/szhong/Code/DepSurf/data/software/bcc/libbpf-tools/.output/cpufreq.bpf.o'\u001b[0m\"\n",
      "[       system.py:15 ] INFO: Running command: \"\u001b[92morbctl run bash -c '/Users/szhong/Code/DepSurf/depsurf/btf/bpftool/src/bpftool btf dump file /Users/szhong/Code/DepSurf/data/software/bcc/libbpf-tools/.output/cpufreq.bpf.min.btf --json > /Users/szhong/Code/DepSurf/data/software/bcc/libbpf-tools/.output/cpufreq.bpf.min.btf.json.tmp'\u001b[0m\"\n"
     ]
    },
    {
     "name": "stdout",
     "output_type": "stream",
     "text": [
      "Report saved to /Users/szhong/Code/DepSurf/data/output/programs/cpufreq\n"
     ]
    },
    {
     "name": "stderr",
     "output_type": "stream",
     "text": [
      "[       system.py:15 ] INFO: Running command: \"\u001b[92morbctl run bash -c '/Users/szhong/Code/DepSurf/depsurf/btf/bpftool/src/bpftool gen min_core_btf /Users/szhong/Code/DepSurf/data/software/bcc/libbpf-tools/.output/drsnoop.bpf.o /Users/szhong/Code/DepSurf/data/software/bcc/libbpf-tools/.output/drsnoop.bpf.min.btf.tmp /Users/szhong/Code/DepSurf/data/software/bcc/libbpf-tools/.output/drsnoop.bpf.o'\u001b[0m\"\n",
      "[       system.py:15 ] INFO: Running command: \"\u001b[92morbctl run bash -c '/Users/szhong/Code/DepSurf/depsurf/btf/bpftool/src/bpftool btf dump file /Users/szhong/Code/DepSurf/data/software/bcc/libbpf-tools/.output/drsnoop.bpf.min.btf --json > /Users/szhong/Code/DepSurf/data/software/bcc/libbpf-tools/.output/drsnoop.bpf.min.btf.json.tmp'\u001b[0m\"\n"
     ]
    },
    {
     "name": "stdout",
     "output_type": "stream",
     "text": [
      "Report saved to /Users/szhong/Code/DepSurf/data/output/programs/drsnoop\n"
     ]
    },
    {
     "name": "stderr",
     "output_type": "stream",
     "text": [
      "[       system.py:15 ] INFO: Running command: \"\u001b[92morbctl run bash -c '/Users/szhong/Code/DepSurf/depsurf/btf/bpftool/src/bpftool gen min_core_btf /Users/szhong/Code/DepSurf/data/software/bcc/libbpf-tools/.output/execsnoop.bpf.o /Users/szhong/Code/DepSurf/data/software/bcc/libbpf-tools/.output/execsnoop.bpf.min.btf.tmp /Users/szhong/Code/DepSurf/data/software/bcc/libbpf-tools/.output/execsnoop.bpf.o'\u001b[0m\"\n",
      "[       system.py:15 ] INFO: Running command: \"\u001b[92morbctl run bash -c '/Users/szhong/Code/DepSurf/depsurf/btf/bpftool/src/bpftool btf dump file /Users/szhong/Code/DepSurf/data/software/bcc/libbpf-tools/.output/execsnoop.bpf.min.btf --json > /Users/szhong/Code/DepSurf/data/software/bcc/libbpf-tools/.output/execsnoop.bpf.min.btf.json.tmp'\u001b[0m\"\n"
     ]
    },
    {
     "name": "stdout",
     "output_type": "stream",
     "text": [
      "Report saved to /Users/szhong/Code/DepSurf/data/output/programs/execsnoop\n"
     ]
    },
    {
     "name": "stderr",
     "output_type": "stream",
     "text": [
      "[       system.py:15 ] INFO: Running command: \"\u001b[92morbctl run bash -c '/Users/szhong/Code/DepSurf/depsurf/btf/bpftool/src/bpftool gen min_core_btf /Users/szhong/Code/DepSurf/data/software/bcc/libbpf-tools/.output/exitsnoop.bpf.o /Users/szhong/Code/DepSurf/data/software/bcc/libbpf-tools/.output/exitsnoop.bpf.min.btf.tmp /Users/szhong/Code/DepSurf/data/software/bcc/libbpf-tools/.output/exitsnoop.bpf.o'\u001b[0m\"\n",
      "[       system.py:15 ] INFO: Running command: \"\u001b[92morbctl run bash -c '/Users/szhong/Code/DepSurf/depsurf/btf/bpftool/src/bpftool btf dump file /Users/szhong/Code/DepSurf/data/software/bcc/libbpf-tools/.output/exitsnoop.bpf.min.btf --json > /Users/szhong/Code/DepSurf/data/software/bcc/libbpf-tools/.output/exitsnoop.bpf.min.btf.json.tmp'\u001b[0m\"\n"
     ]
    },
    {
     "name": "stdout",
     "output_type": "stream",
     "text": [
      "Report saved to /Users/szhong/Code/DepSurf/data/output/programs/exitsnoop\n"
     ]
    },
    {
     "name": "stderr",
     "output_type": "stream",
     "text": [
      "[       system.py:15 ] INFO: Running command: \"\u001b[92morbctl run bash -c '/Users/szhong/Code/DepSurf/depsurf/btf/bpftool/src/bpftool gen min_core_btf /Users/szhong/Code/DepSurf/data/software/bcc/libbpf-tools/.output/filelife.bpf.o /Users/szhong/Code/DepSurf/data/software/bcc/libbpf-tools/.output/filelife.bpf.min.btf.tmp /Users/szhong/Code/DepSurf/data/software/bcc/libbpf-tools/.output/filelife.bpf.o'\u001b[0m\"\n",
      "[       system.py:15 ] INFO: Running command: \"\u001b[92morbctl run bash -c '/Users/szhong/Code/DepSurf/depsurf/btf/bpftool/src/bpftool btf dump file /Users/szhong/Code/DepSurf/data/software/bcc/libbpf-tools/.output/filelife.bpf.min.btf --json > /Users/szhong/Code/DepSurf/data/software/bcc/libbpf-tools/.output/filelife.bpf.min.btf.json.tmp'\u001b[0m\"\n"
     ]
    },
    {
     "name": "stdout",
     "output_type": "stream",
     "text": [
      "Report saved to /Users/szhong/Code/DepSurf/data/output/programs/filelife\n"
     ]
    },
    {
     "name": "stderr",
     "output_type": "stream",
     "text": [
      "[       system.py:15 ] INFO: Running command: \"\u001b[92morbctl run bash -c '/Users/szhong/Code/DepSurf/depsurf/btf/bpftool/src/bpftool gen min_core_btf /Users/szhong/Code/DepSurf/data/software/bcc/libbpf-tools/.output/filetop.bpf.o /Users/szhong/Code/DepSurf/data/software/bcc/libbpf-tools/.output/filetop.bpf.min.btf.tmp /Users/szhong/Code/DepSurf/data/software/bcc/libbpf-tools/.output/filetop.bpf.o'\u001b[0m\"\n",
      "[       system.py:15 ] INFO: Running command: \"\u001b[92morbctl run bash -c '/Users/szhong/Code/DepSurf/depsurf/btf/bpftool/src/bpftool btf dump file /Users/szhong/Code/DepSurf/data/software/bcc/libbpf-tools/.output/filetop.bpf.min.btf --json > /Users/szhong/Code/DepSurf/data/software/bcc/libbpf-tools/.output/filetop.bpf.min.btf.json.tmp'\u001b[0m\"\n"
     ]
    },
    {
     "name": "stdout",
     "output_type": "stream",
     "text": [
      "Report saved to /Users/szhong/Code/DepSurf/data/output/programs/filetop\n"
     ]
    },
    {
     "name": "stderr",
     "output_type": "stream",
     "text": [
      "[       system.py:15 ] INFO: Running command: \"\u001b[92morbctl run bash -c '/Users/szhong/Code/DepSurf/depsurf/btf/bpftool/src/bpftool gen min_core_btf /Users/szhong/Code/DepSurf/data/software/bcc/libbpf-tools/.output/fsdist.bpf.o /Users/szhong/Code/DepSurf/data/software/bcc/libbpf-tools/.output/fsdist.bpf.min.btf.tmp /Users/szhong/Code/DepSurf/data/software/bcc/libbpf-tools/.output/fsdist.bpf.o'\u001b[0m\"\n",
      "[       system.py:15 ] INFO: Running command: \"\u001b[92morbctl run bash -c '/Users/szhong/Code/DepSurf/depsurf/btf/bpftool/src/bpftool btf dump file /Users/szhong/Code/DepSurf/data/software/bcc/libbpf-tools/.output/fsdist.bpf.min.btf --json > /Users/szhong/Code/DepSurf/data/software/bcc/libbpf-tools/.output/fsdist.bpf.min.btf.json.tmp'\u001b[0m\"\n"
     ]
    },
    {
     "name": "stdout",
     "output_type": "stream",
     "text": [
      "Report saved to /Users/szhong/Code/DepSurf/data/output/programs/fsdist\n"
     ]
    },
    {
     "name": "stderr",
     "output_type": "stream",
     "text": [
      "[       system.py:15 ] INFO: Running command: \"\u001b[92morbctl run bash -c '/Users/szhong/Code/DepSurf/depsurf/btf/bpftool/src/bpftool gen min_core_btf /Users/szhong/Code/DepSurf/data/software/bcc/libbpf-tools/.output/fsslower.bpf.o /Users/szhong/Code/DepSurf/data/software/bcc/libbpf-tools/.output/fsslower.bpf.min.btf.tmp /Users/szhong/Code/DepSurf/data/software/bcc/libbpf-tools/.output/fsslower.bpf.o'\u001b[0m\"\n",
      "[       system.py:15 ] INFO: Running command: \"\u001b[92morbctl run bash -c '/Users/szhong/Code/DepSurf/depsurf/btf/bpftool/src/bpftool btf dump file /Users/szhong/Code/DepSurf/data/software/bcc/libbpf-tools/.output/fsslower.bpf.min.btf --json > /Users/szhong/Code/DepSurf/data/software/bcc/libbpf-tools/.output/fsslower.bpf.min.btf.json.tmp'\u001b[0m\"\n"
     ]
    },
    {
     "name": "stdout",
     "output_type": "stream",
     "text": [
      "Report saved to /Users/szhong/Code/DepSurf/data/output/programs/fsslower\n"
     ]
    },
    {
     "name": "stderr",
     "output_type": "stream",
     "text": [
      "[       system.py:15 ] INFO: Running command: \"\u001b[92morbctl run bash -c '/Users/szhong/Code/DepSurf/depsurf/btf/bpftool/src/bpftool gen min_core_btf /Users/szhong/Code/DepSurf/data/software/bcc/libbpf-tools/.output/funclatency.bpf.o /Users/szhong/Code/DepSurf/data/software/bcc/libbpf-tools/.output/funclatency.bpf.min.btf.tmp /Users/szhong/Code/DepSurf/data/software/bcc/libbpf-tools/.output/funclatency.bpf.o'\u001b[0m\"\n",
      "[       system.py:15 ] INFO: Running command: \"\u001b[92morbctl run bash -c '/Users/szhong/Code/DepSurf/depsurf/btf/bpftool/src/bpftool btf dump file /Users/szhong/Code/DepSurf/data/software/bcc/libbpf-tools/.output/funclatency.bpf.min.btf --json > /Users/szhong/Code/DepSurf/data/software/bcc/libbpf-tools/.output/funclatency.bpf.min.btf.json.tmp'\u001b[0m\"\n"
     ]
    },
    {
     "name": "stdout",
     "output_type": "stream",
     "text": [
      "Report saved to /Users/szhong/Code/DepSurf/data/output/programs/funclatency\n"
     ]
    },
    {
     "name": "stderr",
     "output_type": "stream",
     "text": [
      "[       system.py:15 ] INFO: Running command: \"\u001b[92morbctl run bash -c '/Users/szhong/Code/DepSurf/depsurf/btf/bpftool/src/bpftool gen min_core_btf /Users/szhong/Code/DepSurf/data/software/bcc/libbpf-tools/.output/futexctn.bpf.o /Users/szhong/Code/DepSurf/data/software/bcc/libbpf-tools/.output/futexctn.bpf.min.btf.tmp /Users/szhong/Code/DepSurf/data/software/bcc/libbpf-tools/.output/futexctn.bpf.o'\u001b[0m\"\n",
      "[       system.py:15 ] INFO: Running command: \"\u001b[92morbctl run bash -c '/Users/szhong/Code/DepSurf/depsurf/btf/bpftool/src/bpftool btf dump file /Users/szhong/Code/DepSurf/data/software/bcc/libbpf-tools/.output/futexctn.bpf.min.btf --json > /Users/szhong/Code/DepSurf/data/software/bcc/libbpf-tools/.output/futexctn.bpf.min.btf.json.tmp'\u001b[0m\"\n"
     ]
    },
    {
     "name": "stdout",
     "output_type": "stream",
     "text": [
      "Report saved to /Users/szhong/Code/DepSurf/data/output/programs/futexctn\n"
     ]
    },
    {
     "name": "stderr",
     "output_type": "stream",
     "text": [
      "[       system.py:15 ] INFO: Running command: \"\u001b[92morbctl run bash -c '/Users/szhong/Code/DepSurf/depsurf/btf/bpftool/src/bpftool gen min_core_btf /Users/szhong/Code/DepSurf/data/software/bcc/libbpf-tools/.output/gethostlatency.bpf.o /Users/szhong/Code/DepSurf/data/software/bcc/libbpf-tools/.output/gethostlatency.bpf.min.btf.tmp /Users/szhong/Code/DepSurf/data/software/bcc/libbpf-tools/.output/gethostlatency.bpf.o'\u001b[0m\"\n",
      "[       system.py:15 ] INFO: Running command: \"\u001b[92morbctl run bash -c '/Users/szhong/Code/DepSurf/depsurf/btf/bpftool/src/bpftool btf dump file /Users/szhong/Code/DepSurf/data/software/bcc/libbpf-tools/.output/gethostlatency.bpf.min.btf --json > /Users/szhong/Code/DepSurf/data/software/bcc/libbpf-tools/.output/gethostlatency.bpf.min.btf.json.tmp'\u001b[0m\"\n"
     ]
    },
    {
     "name": "stdout",
     "output_type": "stream",
     "text": [
      "Report saved to /Users/szhong/Code/DepSurf/data/output/programs/gethostlatency\n"
     ]
    },
    {
     "name": "stderr",
     "output_type": "stream",
     "text": [
      "[       system.py:15 ] INFO: Running command: \"\u001b[92morbctl run bash -c '/Users/szhong/Code/DepSurf/depsurf/btf/bpftool/src/bpftool gen min_core_btf /Users/szhong/Code/DepSurf/data/software/bcc/libbpf-tools/.output/hardirqs.bpf.o /Users/szhong/Code/DepSurf/data/software/bcc/libbpf-tools/.output/hardirqs.bpf.min.btf.tmp /Users/szhong/Code/DepSurf/data/software/bcc/libbpf-tools/.output/hardirqs.bpf.o'\u001b[0m\"\n",
      "[       system.py:15 ] INFO: Running command: \"\u001b[92morbctl run bash -c '/Users/szhong/Code/DepSurf/depsurf/btf/bpftool/src/bpftool btf dump file /Users/szhong/Code/DepSurf/data/software/bcc/libbpf-tools/.output/hardirqs.bpf.min.btf --json > /Users/szhong/Code/DepSurf/data/software/bcc/libbpf-tools/.output/hardirqs.bpf.min.btf.json.tmp'\u001b[0m\"\n"
     ]
    },
    {
     "name": "stdout",
     "output_type": "stream",
     "text": [
      "Report saved to /Users/szhong/Code/DepSurf/data/output/programs/hardirqs\n"
     ]
    },
    {
     "name": "stderr",
     "output_type": "stream",
     "text": [
      "[       system.py:15 ] INFO: Running command: \"\u001b[92morbctl run bash -c '/Users/szhong/Code/DepSurf/depsurf/btf/bpftool/src/bpftool gen min_core_btf /Users/szhong/Code/DepSurf/data/software/bcc/libbpf-tools/.output/javagc.bpf.o /Users/szhong/Code/DepSurf/data/software/bcc/libbpf-tools/.output/javagc.bpf.min.btf.tmp /Users/szhong/Code/DepSurf/data/software/bcc/libbpf-tools/.output/javagc.bpf.o'\u001b[0m\"\n",
      "[       system.py:15 ] INFO: Running command: \"\u001b[92morbctl run bash -c '/Users/szhong/Code/DepSurf/depsurf/btf/bpftool/src/bpftool btf dump file /Users/szhong/Code/DepSurf/data/software/bcc/libbpf-tools/.output/javagc.bpf.min.btf --json > /Users/szhong/Code/DepSurf/data/software/bcc/libbpf-tools/.output/javagc.bpf.min.btf.json.tmp'\u001b[0m\"\n"
     ]
    },
    {
     "name": "stdout",
     "output_type": "stream",
     "text": [
      "Report saved to /Users/szhong/Code/DepSurf/data/output/programs/javagc\n"
     ]
    },
    {
     "name": "stderr",
     "output_type": "stream",
     "text": [
      "[       system.py:15 ] INFO: Running command: \"\u001b[92morbctl run bash -c '/Users/szhong/Code/DepSurf/depsurf/btf/bpftool/src/bpftool gen min_core_btf /Users/szhong/Code/DepSurf/data/software/bcc/libbpf-tools/.output/klockstat.bpf.o /Users/szhong/Code/DepSurf/data/software/bcc/libbpf-tools/.output/klockstat.bpf.min.btf.tmp /Users/szhong/Code/DepSurf/data/software/bcc/libbpf-tools/.output/klockstat.bpf.o'\u001b[0m\"\n",
      "[       system.py:15 ] INFO: Running command: \"\u001b[92morbctl run bash -c '/Users/szhong/Code/DepSurf/depsurf/btf/bpftool/src/bpftool btf dump file /Users/szhong/Code/DepSurf/data/software/bcc/libbpf-tools/.output/klockstat.bpf.min.btf --json > /Users/szhong/Code/DepSurf/data/software/bcc/libbpf-tools/.output/klockstat.bpf.min.btf.json.tmp'\u001b[0m\"\n"
     ]
    },
    {
     "name": "stdout",
     "output_type": "stream",
     "text": [
      "Report saved to /Users/szhong/Code/DepSurf/data/output/programs/klockstat\n"
     ]
    },
    {
     "name": "stderr",
     "output_type": "stream",
     "text": [
      "[       system.py:15 ] INFO: Running command: \"\u001b[92morbctl run bash -c '/Users/szhong/Code/DepSurf/depsurf/btf/bpftool/src/bpftool gen min_core_btf /Users/szhong/Code/DepSurf/data/software/bcc/libbpf-tools/.output/ksnoop.bpf.o /Users/szhong/Code/DepSurf/data/software/bcc/libbpf-tools/.output/ksnoop.bpf.min.btf.tmp /Users/szhong/Code/DepSurf/data/software/bcc/libbpf-tools/.output/ksnoop.bpf.o'\u001b[0m\"\n",
      "[       system.py:15 ] INFO: Running command: \"\u001b[92morbctl run bash -c '/Users/szhong/Code/DepSurf/depsurf/btf/bpftool/src/bpftool btf dump file /Users/szhong/Code/DepSurf/data/software/bcc/libbpf-tools/.output/ksnoop.bpf.min.btf --json > /Users/szhong/Code/DepSurf/data/software/bcc/libbpf-tools/.output/ksnoop.bpf.min.btf.json.tmp'\u001b[0m\"\n"
     ]
    },
    {
     "name": "stdout",
     "output_type": "stream",
     "text": [
      "Report saved to /Users/szhong/Code/DepSurf/data/output/programs/ksnoop\n"
     ]
    },
    {
     "name": "stderr",
     "output_type": "stream",
     "text": [
      "[       system.py:15 ] INFO: Running command: \"\u001b[92morbctl run bash -c '/Users/szhong/Code/DepSurf/depsurf/btf/bpftool/src/bpftool gen min_core_btf /Users/szhong/Code/DepSurf/data/software/bcc/libbpf-tools/.output/llcstat.bpf.o /Users/szhong/Code/DepSurf/data/software/bcc/libbpf-tools/.output/llcstat.bpf.min.btf.tmp /Users/szhong/Code/DepSurf/data/software/bcc/libbpf-tools/.output/llcstat.bpf.o'\u001b[0m\"\n",
      "[       system.py:15 ] INFO: Running command: \"\u001b[92morbctl run bash -c '/Users/szhong/Code/DepSurf/depsurf/btf/bpftool/src/bpftool btf dump file /Users/szhong/Code/DepSurf/data/software/bcc/libbpf-tools/.output/llcstat.bpf.min.btf --json > /Users/szhong/Code/DepSurf/data/software/bcc/libbpf-tools/.output/llcstat.bpf.min.btf.json.tmp'\u001b[0m\"\n"
     ]
    },
    {
     "name": "stdout",
     "output_type": "stream",
     "text": [
      "Report saved to /Users/szhong/Code/DepSurf/data/output/programs/llcstat\n"
     ]
    },
    {
     "name": "stderr",
     "output_type": "stream",
     "text": [
      "[       system.py:15 ] INFO: Running command: \"\u001b[92morbctl run bash -c '/Users/szhong/Code/DepSurf/depsurf/btf/bpftool/src/bpftool gen min_core_btf /Users/szhong/Code/DepSurf/data/software/bcc/libbpf-tools/.output/mdflush.bpf.o /Users/szhong/Code/DepSurf/data/software/bcc/libbpf-tools/.output/mdflush.bpf.min.btf.tmp /Users/szhong/Code/DepSurf/data/software/bcc/libbpf-tools/.output/mdflush.bpf.o'\u001b[0m\"\n",
      "[       system.py:15 ] INFO: Running command: \"\u001b[92morbctl run bash -c '/Users/szhong/Code/DepSurf/depsurf/btf/bpftool/src/bpftool btf dump file /Users/szhong/Code/DepSurf/data/software/bcc/libbpf-tools/.output/mdflush.bpf.min.btf --json > /Users/szhong/Code/DepSurf/data/software/bcc/libbpf-tools/.output/mdflush.bpf.min.btf.json.tmp'\u001b[0m\"\n"
     ]
    },
    {
     "name": "stdout",
     "output_type": "stream",
     "text": [
      "Report saved to /Users/szhong/Code/DepSurf/data/output/programs/mdflush\n"
     ]
    },
    {
     "name": "stderr",
     "output_type": "stream",
     "text": [
      "[       system.py:15 ] INFO: Running command: \"\u001b[92morbctl run bash -c '/Users/szhong/Code/DepSurf/depsurf/btf/bpftool/src/bpftool gen min_core_btf /Users/szhong/Code/DepSurf/data/software/bcc/libbpf-tools/.output/memleak.bpf.o /Users/szhong/Code/DepSurf/data/software/bcc/libbpf-tools/.output/memleak.bpf.min.btf.tmp /Users/szhong/Code/DepSurf/data/software/bcc/libbpf-tools/.output/memleak.bpf.o'\u001b[0m\"\n",
      "[       system.py:15 ] INFO: Running command: \"\u001b[92morbctl run bash -c '/Users/szhong/Code/DepSurf/depsurf/btf/bpftool/src/bpftool btf dump file /Users/szhong/Code/DepSurf/data/software/bcc/libbpf-tools/.output/memleak.bpf.min.btf --json > /Users/szhong/Code/DepSurf/data/software/bcc/libbpf-tools/.output/memleak.bpf.min.btf.json.tmp'\u001b[0m\"\n"
     ]
    },
    {
     "name": "stdout",
     "output_type": "stream",
     "text": [
      "Report saved to /Users/szhong/Code/DepSurf/data/output/programs/memleak\n"
     ]
    },
    {
     "name": "stderr",
     "output_type": "stream",
     "text": [
      "[       system.py:15 ] INFO: Running command: \"\u001b[92morbctl run bash -c '/Users/szhong/Code/DepSurf/depsurf/btf/bpftool/src/bpftool gen min_core_btf /Users/szhong/Code/DepSurf/data/software/bcc/libbpf-tools/.output/mountsnoop.bpf.o /Users/szhong/Code/DepSurf/data/software/bcc/libbpf-tools/.output/mountsnoop.bpf.min.btf.tmp /Users/szhong/Code/DepSurf/data/software/bcc/libbpf-tools/.output/mountsnoop.bpf.o'\u001b[0m\"\n",
      "[       system.py:15 ] INFO: Running command: \"\u001b[92morbctl run bash -c '/Users/szhong/Code/DepSurf/depsurf/btf/bpftool/src/bpftool btf dump file /Users/szhong/Code/DepSurf/data/software/bcc/libbpf-tools/.output/mountsnoop.bpf.min.btf --json > /Users/szhong/Code/DepSurf/data/software/bcc/libbpf-tools/.output/mountsnoop.bpf.min.btf.json.tmp'\u001b[0m\"\n"
     ]
    },
    {
     "name": "stdout",
     "output_type": "stream",
     "text": [
      "Report saved to /Users/szhong/Code/DepSurf/data/output/programs/mountsnoop\n"
     ]
    },
    {
     "name": "stderr",
     "output_type": "stream",
     "text": [
      "[       system.py:15 ] INFO: Running command: \"\u001b[92morbctl run bash -c '/Users/szhong/Code/DepSurf/depsurf/btf/bpftool/src/bpftool gen min_core_btf /Users/szhong/Code/DepSurf/data/software/bcc/libbpf-tools/.output/numamove.bpf.o /Users/szhong/Code/DepSurf/data/software/bcc/libbpf-tools/.output/numamove.bpf.min.btf.tmp /Users/szhong/Code/DepSurf/data/software/bcc/libbpf-tools/.output/numamove.bpf.o'\u001b[0m\"\n",
      "[       system.py:15 ] INFO: Running command: \"\u001b[92morbctl run bash -c '/Users/szhong/Code/DepSurf/depsurf/btf/bpftool/src/bpftool btf dump file /Users/szhong/Code/DepSurf/data/software/bcc/libbpf-tools/.output/numamove.bpf.min.btf --json > /Users/szhong/Code/DepSurf/data/software/bcc/libbpf-tools/.output/numamove.bpf.min.btf.json.tmp'\u001b[0m\"\n"
     ]
    },
    {
     "name": "stdout",
     "output_type": "stream",
     "text": [
      "Report saved to /Users/szhong/Code/DepSurf/data/output/programs/numamove\n"
     ]
    },
    {
     "name": "stderr",
     "output_type": "stream",
     "text": [
      "[       system.py:15 ] INFO: Running command: \"\u001b[92morbctl run bash -c '/Users/szhong/Code/DepSurf/depsurf/btf/bpftool/src/bpftool gen min_core_btf /Users/szhong/Code/DepSurf/data/software/bcc/libbpf-tools/.output/offcputime.bpf.o /Users/szhong/Code/DepSurf/data/software/bcc/libbpf-tools/.output/offcputime.bpf.min.btf.tmp /Users/szhong/Code/DepSurf/data/software/bcc/libbpf-tools/.output/offcputime.bpf.o'\u001b[0m\"\n",
      "libbpf: prog '.text': relo #4: field offset ambiguity: 0 != 256\n",
      "libbpf: prog '.text': relo #5: field offset ambiguity: 0 != 256\n",
      "[       system.py:15 ] INFO: Running command: \"\u001b[92morbctl run bash -c '/Users/szhong/Code/DepSurf/depsurf/btf/bpftool/src/bpftool btf dump file /Users/szhong/Code/DepSurf/data/software/bcc/libbpf-tools/.output/offcputime.bpf.min.btf --json > /Users/szhong/Code/DepSurf/data/software/bcc/libbpf-tools/.output/offcputime.bpf.min.btf.json.tmp'\u001b[0m\"\n"
     ]
    },
    {
     "name": "stdout",
     "output_type": "stream",
     "text": [
      "Report saved to /Users/szhong/Code/DepSurf/data/output/programs/offcputime\n"
     ]
    },
    {
     "name": "stderr",
     "output_type": "stream",
     "text": [
      "[       system.py:15 ] INFO: Running command: \"\u001b[92morbctl run bash -c '/Users/szhong/Code/DepSurf/depsurf/btf/bpftool/src/bpftool gen min_core_btf /Users/szhong/Code/DepSurf/data/software/bcc/libbpf-tools/.output/oomkill.bpf.o /Users/szhong/Code/DepSurf/data/software/bcc/libbpf-tools/.output/oomkill.bpf.min.btf.tmp /Users/szhong/Code/DepSurf/data/software/bcc/libbpf-tools/.output/oomkill.bpf.o'\u001b[0m\"\n",
      "[       system.py:15 ] INFO: Running command: \"\u001b[92morbctl run bash -c '/Users/szhong/Code/DepSurf/depsurf/btf/bpftool/src/bpftool btf dump file /Users/szhong/Code/DepSurf/data/software/bcc/libbpf-tools/.output/oomkill.bpf.min.btf --json > /Users/szhong/Code/DepSurf/data/software/bcc/libbpf-tools/.output/oomkill.bpf.min.btf.json.tmp'\u001b[0m\"\n"
     ]
    },
    {
     "name": "stdout",
     "output_type": "stream",
     "text": [
      "Report saved to /Users/szhong/Code/DepSurf/data/output/programs/oomkill\n"
     ]
    },
    {
     "name": "stderr",
     "output_type": "stream",
     "text": [
      "[       system.py:15 ] INFO: Running command: \"\u001b[92morbctl run bash -c '/Users/szhong/Code/DepSurf/depsurf/btf/bpftool/src/bpftool gen min_core_btf /Users/szhong/Code/DepSurf/data/software/bcc/libbpf-tools/.output/opensnoop.bpf.o /Users/szhong/Code/DepSurf/data/software/bcc/libbpf-tools/.output/opensnoop.bpf.min.btf.tmp /Users/szhong/Code/DepSurf/data/software/bcc/libbpf-tools/.output/opensnoop.bpf.o'\u001b[0m\"\n",
      "[       system.py:15 ] INFO: Running command: \"\u001b[92morbctl run bash -c '/Users/szhong/Code/DepSurf/depsurf/btf/bpftool/src/bpftool btf dump file /Users/szhong/Code/DepSurf/data/software/bcc/libbpf-tools/.output/opensnoop.bpf.min.btf --json > /Users/szhong/Code/DepSurf/data/software/bcc/libbpf-tools/.output/opensnoop.bpf.min.btf.json.tmp'\u001b[0m\"\n"
     ]
    },
    {
     "name": "stdout",
     "output_type": "stream",
     "text": [
      "Report saved to /Users/szhong/Code/DepSurf/data/output/programs/opensnoop\n"
     ]
    },
    {
     "name": "stderr",
     "output_type": "stream",
     "text": [
      "[       system.py:15 ] INFO: Running command: \"\u001b[92morbctl run bash -c '/Users/szhong/Code/DepSurf/depsurf/btf/bpftool/src/bpftool gen min_core_btf /Users/szhong/Code/DepSurf/data/software/bcc/libbpf-tools/.output/profile.bpf.o /Users/szhong/Code/DepSurf/data/software/bcc/libbpf-tools/.output/profile.bpf.min.btf.tmp /Users/szhong/Code/DepSurf/data/software/bcc/libbpf-tools/.output/profile.bpf.o'\u001b[0m\"\n",
      "[       system.py:15 ] INFO: Running command: \"\u001b[92morbctl run bash -c '/Users/szhong/Code/DepSurf/depsurf/btf/bpftool/src/bpftool btf dump file /Users/szhong/Code/DepSurf/data/software/bcc/libbpf-tools/.output/profile.bpf.min.btf --json > /Users/szhong/Code/DepSurf/data/software/bcc/libbpf-tools/.output/profile.bpf.min.btf.json.tmp'\u001b[0m\"\n"
     ]
    },
    {
     "name": "stdout",
     "output_type": "stream",
     "text": [
      "Report saved to /Users/szhong/Code/DepSurf/data/output/programs/profile\n"
     ]
    },
    {
     "name": "stderr",
     "output_type": "stream",
     "text": [
      "[       system.py:15 ] INFO: Running command: \"\u001b[92morbctl run bash -c '/Users/szhong/Code/DepSurf/depsurf/btf/bpftool/src/bpftool gen min_core_btf /Users/szhong/Code/DepSurf/data/software/bcc/libbpf-tools/.output/readahead.bpf.o /Users/szhong/Code/DepSurf/data/software/bcc/libbpf-tools/.output/readahead.bpf.min.btf.tmp /Users/szhong/Code/DepSurf/data/software/bcc/libbpf-tools/.output/readahead.bpf.o'\u001b[0m\"\n",
      "[       system.py:15 ] INFO: Running command: \"\u001b[92morbctl run bash -c '/Users/szhong/Code/DepSurf/depsurf/btf/bpftool/src/bpftool btf dump file /Users/szhong/Code/DepSurf/data/software/bcc/libbpf-tools/.output/readahead.bpf.min.btf --json > /Users/szhong/Code/DepSurf/data/software/bcc/libbpf-tools/.output/readahead.bpf.min.btf.json.tmp'\u001b[0m\"\n"
     ]
    },
    {
     "name": "stdout",
     "output_type": "stream",
     "text": [
      "Report saved to /Users/szhong/Code/DepSurf/data/output/programs/readahead\n"
     ]
    },
    {
     "name": "stderr",
     "output_type": "stream",
     "text": [
      "[       system.py:15 ] INFO: Running command: \"\u001b[92morbctl run bash -c '/Users/szhong/Code/DepSurf/depsurf/btf/bpftool/src/bpftool gen min_core_btf /Users/szhong/Code/DepSurf/data/software/bcc/libbpf-tools/.output/runqlat.bpf.o /Users/szhong/Code/DepSurf/data/software/bcc/libbpf-tools/.output/runqlat.bpf.min.btf.tmp /Users/szhong/Code/DepSurf/data/software/bcc/libbpf-tools/.output/runqlat.bpf.o'\u001b[0m\"\n",
      "libbpf: prog '.text': relo #0: field offset ambiguity: 0 != 256\n",
      "libbpf: prog '.text': relo #1: field offset ambiguity: 0 != 256\n",
      "[       system.py:15 ] INFO: Running command: \"\u001b[92morbctl run bash -c '/Users/szhong/Code/DepSurf/depsurf/btf/bpftool/src/bpftool btf dump file /Users/szhong/Code/DepSurf/data/software/bcc/libbpf-tools/.output/runqlat.bpf.min.btf --json > /Users/szhong/Code/DepSurf/data/software/bcc/libbpf-tools/.output/runqlat.bpf.min.btf.json.tmp'\u001b[0m\"\n"
     ]
    },
    {
     "name": "stdout",
     "output_type": "stream",
     "text": [
      "Report saved to /Users/szhong/Code/DepSurf/data/output/programs/runqlat\n"
     ]
    },
    {
     "name": "stderr",
     "output_type": "stream",
     "text": [
      "[       system.py:15 ] INFO: Running command: \"\u001b[92morbctl run bash -c '/Users/szhong/Code/DepSurf/depsurf/btf/bpftool/src/bpftool gen min_core_btf /Users/szhong/Code/DepSurf/data/software/bcc/libbpf-tools/.output/runqlen.bpf.o /Users/szhong/Code/DepSurf/data/software/bcc/libbpf-tools/.output/runqlen.bpf.min.btf.tmp /Users/szhong/Code/DepSurf/data/software/bcc/libbpf-tools/.output/runqlen.bpf.o'\u001b[0m\"\n",
      "[       system.py:15 ] INFO: Running command: \"\u001b[92morbctl run bash -c '/Users/szhong/Code/DepSurf/depsurf/btf/bpftool/src/bpftool btf dump file /Users/szhong/Code/DepSurf/data/software/bcc/libbpf-tools/.output/runqlen.bpf.min.btf --json > /Users/szhong/Code/DepSurf/data/software/bcc/libbpf-tools/.output/runqlen.bpf.min.btf.json.tmp'\u001b[0m\"\n"
     ]
    },
    {
     "name": "stdout",
     "output_type": "stream",
     "text": [
      "Report saved to /Users/szhong/Code/DepSurf/data/output/programs/runqlen\n"
     ]
    },
    {
     "name": "stderr",
     "output_type": "stream",
     "text": [
      "[       system.py:15 ] INFO: Running command: \"\u001b[92morbctl run bash -c '/Users/szhong/Code/DepSurf/depsurf/btf/bpftool/src/bpftool gen min_core_btf /Users/szhong/Code/DepSurf/data/software/bcc/libbpf-tools/.output/runqslower.bpf.o /Users/szhong/Code/DepSurf/data/software/bcc/libbpf-tools/.output/runqslower.bpf.min.btf.tmp /Users/szhong/Code/DepSurf/data/software/bcc/libbpf-tools/.output/runqslower.bpf.o'\u001b[0m\"\n",
      "libbpf: prog '.text': relo #0: field offset ambiguity: 0 != 256\n",
      "libbpf: prog '.text': relo #1: field offset ambiguity: 0 != 256\n",
      "[       system.py:15 ] INFO: Running command: \"\u001b[92morbctl run bash -c '/Users/szhong/Code/DepSurf/depsurf/btf/bpftool/src/bpftool btf dump file /Users/szhong/Code/DepSurf/data/software/bcc/libbpf-tools/.output/runqslower.bpf.min.btf --json > /Users/szhong/Code/DepSurf/data/software/bcc/libbpf-tools/.output/runqslower.bpf.min.btf.json.tmp'\u001b[0m\"\n"
     ]
    },
    {
     "name": "stdout",
     "output_type": "stream",
     "text": [
      "Report saved to /Users/szhong/Code/DepSurf/data/output/programs/runqslower\n"
     ]
    },
    {
     "name": "stderr",
     "output_type": "stream",
     "text": [
      "[       system.py:15 ] INFO: Running command: \"\u001b[92morbctl run bash -c '/Users/szhong/Code/DepSurf/depsurf/btf/bpftool/src/bpftool gen min_core_btf /Users/szhong/Code/DepSurf/data/software/bcc/libbpf-tools/.output/sigsnoop.bpf.o /Users/szhong/Code/DepSurf/data/software/bcc/libbpf-tools/.output/sigsnoop.bpf.min.btf.tmp /Users/szhong/Code/DepSurf/data/software/bcc/libbpf-tools/.output/sigsnoop.bpf.o'\u001b[0m\"\n",
      "[       system.py:15 ] INFO: Running command: \"\u001b[92morbctl run bash -c '/Users/szhong/Code/DepSurf/depsurf/btf/bpftool/src/bpftool btf dump file /Users/szhong/Code/DepSurf/data/software/bcc/libbpf-tools/.output/sigsnoop.bpf.min.btf --json > /Users/szhong/Code/DepSurf/data/software/bcc/libbpf-tools/.output/sigsnoop.bpf.min.btf.json.tmp'\u001b[0m\"\n"
     ]
    },
    {
     "name": "stdout",
     "output_type": "stream",
     "text": [
      "Report saved to /Users/szhong/Code/DepSurf/data/output/programs/sigsnoop\n"
     ]
    },
    {
     "name": "stderr",
     "output_type": "stream",
     "text": [
      "[       system.py:15 ] INFO: Running command: \"\u001b[92morbctl run bash -c '/Users/szhong/Code/DepSurf/depsurf/btf/bpftool/src/bpftool gen min_core_btf /Users/szhong/Code/DepSurf/data/software/bcc/libbpf-tools/.output/slabratetop.bpf.o /Users/szhong/Code/DepSurf/data/software/bcc/libbpf-tools/.output/slabratetop.bpf.min.btf.tmp /Users/szhong/Code/DepSurf/data/software/bcc/libbpf-tools/.output/slabratetop.bpf.o'\u001b[0m\"\n",
      "[       system.py:15 ] INFO: Running command: \"\u001b[92morbctl run bash -c '/Users/szhong/Code/DepSurf/depsurf/btf/bpftool/src/bpftool btf dump file /Users/szhong/Code/DepSurf/data/software/bcc/libbpf-tools/.output/slabratetop.bpf.min.btf --json > /Users/szhong/Code/DepSurf/data/software/bcc/libbpf-tools/.output/slabratetop.bpf.min.btf.json.tmp'\u001b[0m\"\n"
     ]
    },
    {
     "name": "stdout",
     "output_type": "stream",
     "text": [
      "Report saved to /Users/szhong/Code/DepSurf/data/output/programs/slabratetop\n"
     ]
    },
    {
     "name": "stderr",
     "output_type": "stream",
     "text": [
      "[       system.py:15 ] INFO: Running command: \"\u001b[92morbctl run bash -c '/Users/szhong/Code/DepSurf/depsurf/btf/bpftool/src/bpftool gen min_core_btf /Users/szhong/Code/DepSurf/data/software/bcc/libbpf-tools/.output/softirqs.bpf.o /Users/szhong/Code/DepSurf/data/software/bcc/libbpf-tools/.output/softirqs.bpf.min.btf.tmp /Users/szhong/Code/DepSurf/data/software/bcc/libbpf-tools/.output/softirqs.bpf.o'\u001b[0m\"\n",
      "[       system.py:15 ] INFO: Running command: \"\u001b[92morbctl run bash -c '/Users/szhong/Code/DepSurf/depsurf/btf/bpftool/src/bpftool btf dump file /Users/szhong/Code/DepSurf/data/software/bcc/libbpf-tools/.output/softirqs.bpf.min.btf --json > /Users/szhong/Code/DepSurf/data/software/bcc/libbpf-tools/.output/softirqs.bpf.min.btf.json.tmp'\u001b[0m\"\n"
     ]
    },
    {
     "name": "stdout",
     "output_type": "stream",
     "text": [
      "Report saved to /Users/szhong/Code/DepSurf/data/output/programs/softirqs\n"
     ]
    },
    {
     "name": "stderr",
     "output_type": "stream",
     "text": [
      "[       system.py:15 ] INFO: Running command: \"\u001b[92morbctl run bash -c '/Users/szhong/Code/DepSurf/depsurf/btf/bpftool/src/bpftool gen min_core_btf /Users/szhong/Code/DepSurf/data/software/bcc/libbpf-tools/.output/solisten.bpf.o /Users/szhong/Code/DepSurf/data/software/bcc/libbpf-tools/.output/solisten.bpf.min.btf.tmp /Users/szhong/Code/DepSurf/data/software/bcc/libbpf-tools/.output/solisten.bpf.o'\u001b[0m\"\n",
      "[       system.py:15 ] INFO: Running command: \"\u001b[92morbctl run bash -c '/Users/szhong/Code/DepSurf/depsurf/btf/bpftool/src/bpftool btf dump file /Users/szhong/Code/DepSurf/data/software/bcc/libbpf-tools/.output/solisten.bpf.min.btf --json > /Users/szhong/Code/DepSurf/data/software/bcc/libbpf-tools/.output/solisten.bpf.min.btf.json.tmp'\u001b[0m\"\n"
     ]
    },
    {
     "name": "stdout",
     "output_type": "stream",
     "text": [
      "Report saved to /Users/szhong/Code/DepSurf/data/output/programs/solisten\n"
     ]
    },
    {
     "name": "stderr",
     "output_type": "stream",
     "text": [
      "[       system.py:15 ] INFO: Running command: \"\u001b[92morbctl run bash -c '/Users/szhong/Code/DepSurf/depsurf/btf/bpftool/src/bpftool gen min_core_btf /Users/szhong/Code/DepSurf/data/software/bcc/libbpf-tools/.output/statsnoop.bpf.o /Users/szhong/Code/DepSurf/data/software/bcc/libbpf-tools/.output/statsnoop.bpf.min.btf.tmp /Users/szhong/Code/DepSurf/data/software/bcc/libbpf-tools/.output/statsnoop.bpf.o'\u001b[0m\"\n",
      "[       system.py:15 ] INFO: Running command: \"\u001b[92morbctl run bash -c '/Users/szhong/Code/DepSurf/depsurf/btf/bpftool/src/bpftool btf dump file /Users/szhong/Code/DepSurf/data/software/bcc/libbpf-tools/.output/statsnoop.bpf.min.btf --json > /Users/szhong/Code/DepSurf/data/software/bcc/libbpf-tools/.output/statsnoop.bpf.min.btf.json.tmp'\u001b[0m\"\n"
     ]
    },
    {
     "name": "stdout",
     "output_type": "stream",
     "text": [
      "Report saved to /Users/szhong/Code/DepSurf/data/output/programs/statsnoop\n"
     ]
    },
    {
     "name": "stderr",
     "output_type": "stream",
     "text": [
      "[       system.py:15 ] INFO: Running command: \"\u001b[92morbctl run bash -c '/Users/szhong/Code/DepSurf/depsurf/btf/bpftool/src/bpftool gen min_core_btf /Users/szhong/Code/DepSurf/data/software/bcc/libbpf-tools/.output/syncsnoop.bpf.o /Users/szhong/Code/DepSurf/data/software/bcc/libbpf-tools/.output/syncsnoop.bpf.min.btf.tmp /Users/szhong/Code/DepSurf/data/software/bcc/libbpf-tools/.output/syncsnoop.bpf.o'\u001b[0m\"\n",
      "[       system.py:15 ] INFO: Running command: \"\u001b[92morbctl run bash -c '/Users/szhong/Code/DepSurf/depsurf/btf/bpftool/src/bpftool btf dump file /Users/szhong/Code/DepSurf/data/software/bcc/libbpf-tools/.output/syncsnoop.bpf.min.btf --json > /Users/szhong/Code/DepSurf/data/software/bcc/libbpf-tools/.output/syncsnoop.bpf.min.btf.json.tmp'\u001b[0m\"\n"
     ]
    },
    {
     "name": "stdout",
     "output_type": "stream",
     "text": [
      "Report saved to /Users/szhong/Code/DepSurf/data/output/programs/syncsnoop\n"
     ]
    },
    {
     "name": "stderr",
     "output_type": "stream",
     "text": [
      "[       system.py:15 ] INFO: Running command: \"\u001b[92morbctl run bash -c '/Users/szhong/Code/DepSurf/depsurf/btf/bpftool/src/bpftool gen min_core_btf /Users/szhong/Code/DepSurf/data/software/bcc/libbpf-tools/.output/syscount.bpf.o /Users/szhong/Code/DepSurf/data/software/bcc/libbpf-tools/.output/syscount.bpf.min.btf.tmp /Users/szhong/Code/DepSurf/data/software/bcc/libbpf-tools/.output/syscount.bpf.o'\u001b[0m\"\n",
      "[       system.py:15 ] INFO: Running command: \"\u001b[92morbctl run bash -c '/Users/szhong/Code/DepSurf/depsurf/btf/bpftool/src/bpftool btf dump file /Users/szhong/Code/DepSurf/data/software/bcc/libbpf-tools/.output/syscount.bpf.min.btf --json > /Users/szhong/Code/DepSurf/data/software/bcc/libbpf-tools/.output/syscount.bpf.min.btf.json.tmp'\u001b[0m\"\n"
     ]
    },
    {
     "name": "stdout",
     "output_type": "stream",
     "text": [
      "Report saved to /Users/szhong/Code/DepSurf/data/output/programs/syscount\n"
     ]
    },
    {
     "name": "stderr",
     "output_type": "stream",
     "text": [
      "[       system.py:15 ] INFO: Running command: \"\u001b[92morbctl run bash -c '/Users/szhong/Code/DepSurf/depsurf/btf/bpftool/src/bpftool gen min_core_btf /Users/szhong/Code/DepSurf/data/software/bcc/libbpf-tools/.output/tcpconnect.bpf.o /Users/szhong/Code/DepSurf/data/software/bcc/libbpf-tools/.output/tcpconnect.bpf.min.btf.tmp /Users/szhong/Code/DepSurf/data/software/bcc/libbpf-tools/.output/tcpconnect.bpf.o'\u001b[0m\"\n",
      "[       system.py:15 ] INFO: Running command: \"\u001b[92morbctl run bash -c '/Users/szhong/Code/DepSurf/depsurf/btf/bpftool/src/bpftool btf dump file /Users/szhong/Code/DepSurf/data/software/bcc/libbpf-tools/.output/tcpconnect.bpf.min.btf --json > /Users/szhong/Code/DepSurf/data/software/bcc/libbpf-tools/.output/tcpconnect.bpf.min.btf.json.tmp'\u001b[0m\"\n"
     ]
    },
    {
     "name": "stdout",
     "output_type": "stream",
     "text": [
      "Report saved to /Users/szhong/Code/DepSurf/data/output/programs/tcpconnect\n"
     ]
    },
    {
     "name": "stderr",
     "output_type": "stream",
     "text": [
      "[       system.py:15 ] INFO: Running command: \"\u001b[92morbctl run bash -c '/Users/szhong/Code/DepSurf/depsurf/btf/bpftool/src/bpftool gen min_core_btf /Users/szhong/Code/DepSurf/data/software/bcc/libbpf-tools/.output/tcpconnlat.bpf.o /Users/szhong/Code/DepSurf/data/software/bcc/libbpf-tools/.output/tcpconnlat.bpf.min.btf.tmp /Users/szhong/Code/DepSurf/data/software/bcc/libbpf-tools/.output/tcpconnlat.bpf.o'\u001b[0m\"\n",
      "[       system.py:15 ] INFO: Running command: \"\u001b[92morbctl run bash -c '/Users/szhong/Code/DepSurf/depsurf/btf/bpftool/src/bpftool btf dump file /Users/szhong/Code/DepSurf/data/software/bcc/libbpf-tools/.output/tcpconnlat.bpf.min.btf --json > /Users/szhong/Code/DepSurf/data/software/bcc/libbpf-tools/.output/tcpconnlat.bpf.min.btf.json.tmp'\u001b[0m\"\n"
     ]
    },
    {
     "name": "stdout",
     "output_type": "stream",
     "text": [
      "Report saved to /Users/szhong/Code/DepSurf/data/output/programs/tcpconnlat\n"
     ]
    },
    {
     "name": "stderr",
     "output_type": "stream",
     "text": [
      "[       system.py:15 ] INFO: Running command: \"\u001b[92morbctl run bash -c '/Users/szhong/Code/DepSurf/depsurf/btf/bpftool/src/bpftool gen min_core_btf /Users/szhong/Code/DepSurf/data/software/bcc/libbpf-tools/.output/tcplife.bpf.o /Users/szhong/Code/DepSurf/data/software/bcc/libbpf-tools/.output/tcplife.bpf.min.btf.tmp /Users/szhong/Code/DepSurf/data/software/bcc/libbpf-tools/.output/tcplife.bpf.o'\u001b[0m\"\n",
      "[       system.py:15 ] INFO: Running command: \"\u001b[92morbctl run bash -c '/Users/szhong/Code/DepSurf/depsurf/btf/bpftool/src/bpftool btf dump file /Users/szhong/Code/DepSurf/data/software/bcc/libbpf-tools/.output/tcplife.bpf.min.btf --json > /Users/szhong/Code/DepSurf/data/software/bcc/libbpf-tools/.output/tcplife.bpf.min.btf.json.tmp'\u001b[0m\"\n"
     ]
    },
    {
     "name": "stdout",
     "output_type": "stream",
     "text": [
      "Report saved to /Users/szhong/Code/DepSurf/data/output/programs/tcplife\n"
     ]
    },
    {
     "name": "stderr",
     "output_type": "stream",
     "text": [
      "[       system.py:15 ] INFO: Running command: \"\u001b[92morbctl run bash -c '/Users/szhong/Code/DepSurf/depsurf/btf/bpftool/src/bpftool gen min_core_btf /Users/szhong/Code/DepSurf/data/software/bcc/libbpf-tools/.output/tcppktlat.bpf.o /Users/szhong/Code/DepSurf/data/software/bcc/libbpf-tools/.output/tcppktlat.bpf.min.btf.tmp /Users/szhong/Code/DepSurf/data/software/bcc/libbpf-tools/.output/tcppktlat.bpf.o'\u001b[0m\"\n",
      "[       system.py:15 ] INFO: Running command: \"\u001b[92morbctl run bash -c '/Users/szhong/Code/DepSurf/depsurf/btf/bpftool/src/bpftool btf dump file /Users/szhong/Code/DepSurf/data/software/bcc/libbpf-tools/.output/tcppktlat.bpf.min.btf --json > /Users/szhong/Code/DepSurf/data/software/bcc/libbpf-tools/.output/tcppktlat.bpf.min.btf.json.tmp'\u001b[0m\"\n"
     ]
    },
    {
     "name": "stdout",
     "output_type": "stream",
     "text": [
      "Report saved to /Users/szhong/Code/DepSurf/data/output/programs/tcppktlat\n"
     ]
    },
    {
     "name": "stderr",
     "output_type": "stream",
     "text": [
      "[       system.py:15 ] INFO: Running command: \"\u001b[92morbctl run bash -c '/Users/szhong/Code/DepSurf/depsurf/btf/bpftool/src/bpftool gen min_core_btf /Users/szhong/Code/DepSurf/data/software/bcc/libbpf-tools/.output/tcprtt.bpf.o /Users/szhong/Code/DepSurf/data/software/bcc/libbpf-tools/.output/tcprtt.bpf.min.btf.tmp /Users/szhong/Code/DepSurf/data/software/bcc/libbpf-tools/.output/tcprtt.bpf.o'\u001b[0m\"\n",
      "[       system.py:15 ] INFO: Running command: \"\u001b[92morbctl run bash -c '/Users/szhong/Code/DepSurf/depsurf/btf/bpftool/src/bpftool btf dump file /Users/szhong/Code/DepSurf/data/software/bcc/libbpf-tools/.output/tcprtt.bpf.min.btf --json > /Users/szhong/Code/DepSurf/data/software/bcc/libbpf-tools/.output/tcprtt.bpf.min.btf.json.tmp'\u001b[0m\"\n"
     ]
    },
    {
     "name": "stdout",
     "output_type": "stream",
     "text": [
      "Report saved to /Users/szhong/Code/DepSurf/data/output/programs/tcprtt\n"
     ]
    },
    {
     "name": "stderr",
     "output_type": "stream",
     "text": [
      "[       system.py:15 ] INFO: Running command: \"\u001b[92morbctl run bash -c '/Users/szhong/Code/DepSurf/depsurf/btf/bpftool/src/bpftool gen min_core_btf /Users/szhong/Code/DepSurf/data/software/bcc/libbpf-tools/.output/tcpstates.bpf.o /Users/szhong/Code/DepSurf/data/software/bcc/libbpf-tools/.output/tcpstates.bpf.min.btf.tmp /Users/szhong/Code/DepSurf/data/software/bcc/libbpf-tools/.output/tcpstates.bpf.o'\u001b[0m\"\n",
      "[       system.py:15 ] INFO: Running command: \"\u001b[92morbctl run bash -c '/Users/szhong/Code/DepSurf/depsurf/btf/bpftool/src/bpftool btf dump file /Users/szhong/Code/DepSurf/data/software/bcc/libbpf-tools/.output/tcpstates.bpf.min.btf --json > /Users/szhong/Code/DepSurf/data/software/bcc/libbpf-tools/.output/tcpstates.bpf.min.btf.json.tmp'\u001b[0m\"\n"
     ]
    },
    {
     "name": "stdout",
     "output_type": "stream",
     "text": [
      "Report saved to /Users/szhong/Code/DepSurf/data/output/programs/tcpstates\n"
     ]
    },
    {
     "name": "stderr",
     "output_type": "stream",
     "text": [
      "[       system.py:15 ] INFO: Running command: \"\u001b[92morbctl run bash -c '/Users/szhong/Code/DepSurf/depsurf/btf/bpftool/src/bpftool gen min_core_btf /Users/szhong/Code/DepSurf/data/software/bcc/libbpf-tools/.output/tcpsynbl.bpf.o /Users/szhong/Code/DepSurf/data/software/bcc/libbpf-tools/.output/tcpsynbl.bpf.min.btf.tmp /Users/szhong/Code/DepSurf/data/software/bcc/libbpf-tools/.output/tcpsynbl.bpf.o'\u001b[0m\"\n",
      "[       system.py:15 ] INFO: Running command: \"\u001b[92morbctl run bash -c '/Users/szhong/Code/DepSurf/depsurf/btf/bpftool/src/bpftool btf dump file /Users/szhong/Code/DepSurf/data/software/bcc/libbpf-tools/.output/tcpsynbl.bpf.min.btf --json > /Users/szhong/Code/DepSurf/data/software/bcc/libbpf-tools/.output/tcpsynbl.bpf.min.btf.json.tmp'\u001b[0m\"\n"
     ]
    },
    {
     "name": "stdout",
     "output_type": "stream",
     "text": [
      "Report saved to /Users/szhong/Code/DepSurf/data/output/programs/tcpsynbl\n"
     ]
    },
    {
     "name": "stderr",
     "output_type": "stream",
     "text": [
      "[       system.py:15 ] INFO: Running command: \"\u001b[92morbctl run bash -c '/Users/szhong/Code/DepSurf/depsurf/btf/bpftool/src/bpftool gen min_core_btf /Users/szhong/Code/DepSurf/data/software/bcc/libbpf-tools/.output/tcptop.bpf.o /Users/szhong/Code/DepSurf/data/software/bcc/libbpf-tools/.output/tcptop.bpf.min.btf.tmp /Users/szhong/Code/DepSurf/data/software/bcc/libbpf-tools/.output/tcptop.bpf.o'\u001b[0m\"\n",
      "[       system.py:15 ] INFO: Running command: \"\u001b[92morbctl run bash -c '/Users/szhong/Code/DepSurf/depsurf/btf/bpftool/src/bpftool btf dump file /Users/szhong/Code/DepSurf/data/software/bcc/libbpf-tools/.output/tcptop.bpf.min.btf --json > /Users/szhong/Code/DepSurf/data/software/bcc/libbpf-tools/.output/tcptop.bpf.min.btf.json.tmp'\u001b[0m\"\n"
     ]
    },
    {
     "name": "stdout",
     "output_type": "stream",
     "text": [
      "Report saved to /Users/szhong/Code/DepSurf/data/output/programs/tcptop\n"
     ]
    },
    {
     "name": "stderr",
     "output_type": "stream",
     "text": [
      "[       system.py:15 ] INFO: Running command: \"\u001b[92morbctl run bash -c '/Users/szhong/Code/DepSurf/depsurf/btf/bpftool/src/bpftool gen min_core_btf /Users/szhong/Code/DepSurf/data/software/bcc/libbpf-tools/.output/tcptracer.bpf.o /Users/szhong/Code/DepSurf/data/software/bcc/libbpf-tools/.output/tcptracer.bpf.min.btf.tmp /Users/szhong/Code/DepSurf/data/software/bcc/libbpf-tools/.output/tcptracer.bpf.o'\u001b[0m\"\n",
      "[       system.py:15 ] INFO: Running command: \"\u001b[92morbctl run bash -c '/Users/szhong/Code/DepSurf/depsurf/btf/bpftool/src/bpftool btf dump file /Users/szhong/Code/DepSurf/data/software/bcc/libbpf-tools/.output/tcptracer.bpf.min.btf --json > /Users/szhong/Code/DepSurf/data/software/bcc/libbpf-tools/.output/tcptracer.bpf.min.btf.json.tmp'\u001b[0m\"\n"
     ]
    },
    {
     "name": "stdout",
     "output_type": "stream",
     "text": [
      "Report saved to /Users/szhong/Code/DepSurf/data/output/programs/tcptracer\n"
     ]
    },
    {
     "name": "stderr",
     "output_type": "stream",
     "text": [
      "[       system.py:15 ] INFO: Running command: \"\u001b[92morbctl run bash -c '/Users/szhong/Code/DepSurf/depsurf/btf/bpftool/src/bpftool gen min_core_btf /Users/szhong/Code/DepSurf/data/software/bcc/libbpf-tools/.output/vfsstat.bpf.o /Users/szhong/Code/DepSurf/data/software/bcc/libbpf-tools/.output/vfsstat.bpf.min.btf.tmp /Users/szhong/Code/DepSurf/data/software/bcc/libbpf-tools/.output/vfsstat.bpf.o'\u001b[0m\"\n",
      "[       system.py:15 ] INFO: Running command: \"\u001b[92morbctl run bash -c '/Users/szhong/Code/DepSurf/depsurf/btf/bpftool/src/bpftool btf dump file /Users/szhong/Code/DepSurf/data/software/bcc/libbpf-tools/.output/vfsstat.bpf.min.btf --json > /Users/szhong/Code/DepSurf/data/software/bcc/libbpf-tools/.output/vfsstat.bpf.min.btf.json.tmp'\u001b[0m\"\n"
     ]
    },
    {
     "name": "stdout",
     "output_type": "stream",
     "text": [
      "Report saved to /Users/szhong/Code/DepSurf/data/output/programs/vfsstat\n"
     ]
    },
    {
     "name": "stderr",
     "output_type": "stream",
     "text": [
      "[       system.py:15 ] INFO: Running command: \"\u001b[92morbctl run bash -c '/Users/szhong/Code/DepSurf/depsurf/btf/bpftool/src/bpftool gen min_core_btf /Users/szhong/Code/DepSurf/data/software/bcc/libbpf-tools/.output/wakeuptime.bpf.o /Users/szhong/Code/DepSurf/data/software/bcc/libbpf-tools/.output/wakeuptime.bpf.min.btf.tmp /Users/szhong/Code/DepSurf/data/software/bcc/libbpf-tools/.output/wakeuptime.bpf.o'\u001b[0m\"\n",
      "[       system.py:15 ] INFO: Running command: \"\u001b[92morbctl run bash -c '/Users/szhong/Code/DepSurf/depsurf/btf/bpftool/src/bpftool btf dump file /Users/szhong/Code/DepSurf/data/software/bcc/libbpf-tools/.output/wakeuptime.bpf.min.btf --json > /Users/szhong/Code/DepSurf/data/software/bcc/libbpf-tools/.output/wakeuptime.bpf.min.btf.json.tmp'\u001b[0m\"\n"
     ]
    },
    {
     "name": "stdout",
     "output_type": "stream",
     "text": [
      "Report saved to /Users/szhong/Code/DepSurf/data/output/programs/wakeuptime\n"
     ]
    },
    {
     "name": "stderr",
     "output_type": "stream",
     "text": [
      "[       system.py:15 ] INFO: Running command: \"\u001b[92morbctl run bash -c '/Users/szhong/Code/DepSurf/depsurf/btf/bpftool/src/bpftool gen min_core_btf /Users/szhong/Code/DepSurf/data/software/tracee/dist/tracee.bpf.o /Users/szhong/Code/DepSurf/data/software/tracee/dist/tracee.bpf.min.btf.tmp /Users/szhong/Code/DepSurf/data/software/tracee/dist/tracee.bpf.o'\u001b[0m\"\n",
      "libbpf: prog 'raw_tracepoint/sys_enter_init': relo #60: field offset ambiguity: 2176 != 0\n",
      "libbpf: prog 'kprobe/ptrace': relo #60: field offset ambiguity: 2176 != 0\n",
      "libbpf: prog 'kprobe/process_vm_writev': relo #60: field offset ambiguity: 2176 != 0\n",
      "libbpf: prog 'kprobe/arch_prctl': relo #60: field offset ambiguity: 2176 != 0\n",
      "libbpf: prog 'kprobe/dup': relo #60: field offset ambiguity: 2176 != 0\n",
      "libbpf: prog 'kprobe/dup2': relo #60: field offset ambiguity: 2176 != 0\n",
      "libbpf: prog 'kprobe/dup3': relo #60: field offset ambiguity: 2176 != 0\n",
      "libbpf: prog 'kprobe/security_file_open': relo #246: field offset ambiguity: 2176 != 0\n",
      "libbpf: prog 'kprobe/security_socket_connect': relo #95: field offset ambiguity: 2176 != 0\n",
      "libbpf: prog 'kprobe/security_socket_accept': relo #79: field offset ambiguity: 2176 != 0\n",
      "libbpf: prog 'kprobe/security_socket_accept': relo #93: field offset ambiguity: 2176 != 0\n",
      "libbpf: prog 'kprobe/security_socket_bind': relo #94: field offset ambiguity: 2176 != 0\n",
      "libbpf: prog 'kprobe/security_socket_bind': relo #98: field offset ambiguity: 424 != 432\n",
      "libbpf: prog 'kprobe/security_socket_setsockopt': relo #93: field offset ambiguity: 2176 != 0\n",
      "libbpf: prog 'kprobe/security_mmap_addr': relo #91: field offset ambiguity: 2176 != 0\n",
      "libbpf: prog 'kprobe/security_file_mprotect': relo #81: field offset ambiguity: 2176 != 0\n",
      "libbpf: prog 'raw_tracepoint/module_load': relo #92: field offset ambiguity: 2176 != 0\n",
      "libbpf: prog 'kretprobe/execute_finished': relo #90: field offset ambiguity: 2176 != 0\n",
      "libbpf: prog 'kretprobe/execute_finished': relo #97: field offset ambiguity: 2176 != 0\n",
      "libbpf: prog 'kprobe/set_fs_pwd': relo #92: field offset ambiguity: 2176 != 0\n",
      "libbpf: prog 'kprobe/sock_alloc_file': relo #5: field offset ambiguity: 424 != 432\n",
      "[       system.py:15 ] INFO: Running command: \"\u001b[92morbctl run bash -c '/Users/szhong/Code/DepSurf/depsurf/btf/bpftool/src/bpftool btf dump file /Users/szhong/Code/DepSurf/data/software/tracee/dist/tracee.bpf.min.btf --json > /Users/szhong/Code/DepSurf/data/software/tracee/dist/tracee.bpf.min.btf.json.tmp'\u001b[0m\"\n"
     ]
    },
    {
     "name": "stdout",
     "output_type": "stream",
     "text": [
      "Report saved to /Users/szhong/Code/DepSurf/data/output/programs/tracee\n"
     ]
    },
    {
     "name": "stderr",
     "output_type": "stream",
     "text": [
      "[ utils_pickle.py:13 ] INFO: Saved bcc to /Users/szhong/Code/DepSurf/data/output/bcc.pkl\n"
     ]
    }
   ],
   "source": [
    "from depsurf import BPFProgram, VersionGroup, DepReport, DepKind\n",
    "from utils import OUTPUT_PATH, save_pkl\n",
    "\n",
    "GROUPS = [VersionGroup.REGULAR, VersionGroup.ARCH]\n",
    "PROG_PATHS = sorted(BCC_OBJ_PATH.glob(\"*.bpf.o\")) + [TRACEE_OBJ_FILE]\n",
    "\n",
    "\n",
    "REPORT_KINDS = [\n",
    "    DepKind.FUNC,\n",
    "    DepKind.TRACEPOINT,\n",
    "    DepKind.LSM,\n",
    "    DepKind.FIELD,\n",
    "    DepKind.STRUCT,\n",
    "    DepKind.SYSCALL,\n",
    "]\n",
    "\n",
    "results = {}\n",
    "for path in PROG_PATHS:\n",
    "    bpf = BPFProgram(path)\n",
    "    result_path = OUTPUT_PATH / \"programs\" / bpf.name\n",
    "    result_path.mkdir(parents=True, exist_ok=True)\n",
    "    prog_report = {}\n",
    "    for dep in bpf.deps:\n",
    "        if dep.kind not in REPORT_KINDS:\n",
    "            continue\n",
    "        with open(result_path / f\"{dep.kind} {dep.name}.md\", \"w\") as f:\n",
    "            report = DepReport.from_groups(dep, GROUPS)\n",
    "            report.print(file=f)\n",
    "            prog_report[dep] = report\n",
    "    print(f\"Report saved to {result_path}\", flush=True)\n",
    "    results[bpf.name] = prog_report\n",
    "\n",
    "\n",
    "save_pkl(results, \"bcc\")"
   ]
  }
 ],
 "metadata": {
  "kernelspec": {
   "display_name": ".venv",
   "language": "python",
   "name": "python3"
  },
  "language_info": {
   "codemirror_mode": {
    "name": "ipython",
    "version": 3
   },
   "file_extension": ".py",
   "mimetype": "text/x-python",
   "name": "python",
   "nbconvert_exporter": "python",
   "pygments_lexer": "ipython3",
   "version": "3.13.0"
  }
 },
 "nbformat": 4,
 "nbformat_minor": 4
}
