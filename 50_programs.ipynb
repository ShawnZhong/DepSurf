{
 "cells": [
  {
   "cell_type": "markdown",
   "metadata": {},
   "source": [
    "# Analyze eBPF Programs\n",
    "\n",
    "This notebook compiles, analyzes, and generates the report for eBPF programs. \n",
    "\n",
    "The raw report is saved in the `output/report` directory."
   ]
  },
  {
   "cell_type": "code",
   "execution_count": 1,
   "metadata": {},
   "outputs": [],
   "source": [
    "%reload_ext autoreload\n",
    "%autoreload 2"
   ]
  },
  {
   "cell_type": "markdown",
   "metadata": {},
   "source": [
    "The following cell compiles the BCC tools. "
   ]
  },
  {
   "cell_type": "code",
   "execution_count": 2,
   "metadata": {},
   "outputs": [
    {
     "name": "stdout",
     "output_type": "stream",
     "text": [
      "make: Entering directory '/Users/szhong/Code/DepSurf/software/bcc/libbpf-tools'\n",
      "make: Nothing to be done for 'all'.\n",
      "make: Leaving directory '/Users/szhong/Code/DepSurf/software/bcc/libbpf-tools'\n"
     ]
    }
   ],
   "source": [
    "from utils import BCC_TOOLS_PATH\n",
    "\n",
    "!make -C {BCC_TOOLS_PATH} -j $(nproc)"
   ]
  },
  {
   "cell_type": "markdown",
   "metadata": {},
   "source": [
    "The following cell compiles the eBPF program for Tracee."
   ]
  },
  {
   "cell_type": "code",
   "execution_count": 3,
   "metadata": {},
   "outputs": [
    {
     "name": "stdout",
     "output_type": "stream",
     "text": [
      "make: Nothing to be done for 'bpf'.\n"
     ]
    }
   ],
   "source": [
    "from utils import TRACEE_PATH\n",
    "\n",
    "!make -C {TRACEE_PATH} bpf"
   ]
  },
  {
   "cell_type": "markdown",
   "metadata": {},
   "source": [
    "The following cell analyzes and generates the report for eBPF programs."
   ]
  },
  {
   "cell_type": "code",
   "execution_count": 2,
   "metadata": {},
   "outputs": [
    {
     "name": "stdout",
     "output_type": "stream",
     "text": [
      "Report saved to /Users/szhong/Code/DepSurf/output/report/bashreadline.md\n",
      "Report saved to /Users/szhong/Code/DepSurf/output/report/bindsnoop.md\n",
      "Report saved to /Users/szhong/Code/DepSurf/output/report/biolatency.md\n",
      "Report saved to /Users/szhong/Code/DepSurf/output/report/biopattern.md\n",
      "Report saved to /Users/szhong/Code/DepSurf/output/report/biosnoop.md\n",
      "Report saved to /Users/szhong/Code/DepSurf/output/report/biostacks.md\n",
      "Report saved to /Users/szhong/Code/DepSurf/output/report/biotop.md\n",
      "Report saved to /Users/szhong/Code/DepSurf/output/report/bitesize.md\n",
      "Report saved to /Users/szhong/Code/DepSurf/output/report/cachestat.md\n",
      "Report saved to /Users/szhong/Code/DepSurf/output/report/capable.md\n",
      "Report saved to /Users/szhong/Code/DepSurf/output/report/cpudist.md\n",
      "Report saved to /Users/szhong/Code/DepSurf/output/report/cpufreq.md\n",
      "Report saved to /Users/szhong/Code/DepSurf/output/report/drsnoop.md\n",
      "Report saved to /Users/szhong/Code/DepSurf/output/report/execsnoop.md\n",
      "Report saved to /Users/szhong/Code/DepSurf/output/report/exitsnoop.md\n",
      "Report saved to /Users/szhong/Code/DepSurf/output/report/filelife.md\n",
      "Report saved to /Users/szhong/Code/DepSurf/output/report/filetop.md\n",
      "Report saved to /Users/szhong/Code/DepSurf/output/report/fsdist.md\n",
      "Report saved to /Users/szhong/Code/DepSurf/output/report/fsslower.md\n",
      "Report saved to /Users/szhong/Code/DepSurf/output/report/funclatency.md\n",
      "Report saved to /Users/szhong/Code/DepSurf/output/report/futexctn.md\n",
      "Report saved to /Users/szhong/Code/DepSurf/output/report/gethostlatency.md\n",
      "Report saved to /Users/szhong/Code/DepSurf/output/report/hardirqs.md\n",
      "Report saved to /Users/szhong/Code/DepSurf/output/report/javagc.md\n",
      "Report saved to /Users/szhong/Code/DepSurf/output/report/klockstat.md\n",
      "Report saved to /Users/szhong/Code/DepSurf/output/report/ksnoop.md\n",
      "Report saved to /Users/szhong/Code/DepSurf/output/report/llcstat.md\n",
      "Report saved to /Users/szhong/Code/DepSurf/output/report/mdflush.md\n",
      "Report saved to /Users/szhong/Code/DepSurf/output/report/memleak.md\n",
      "Report saved to /Users/szhong/Code/DepSurf/output/report/mountsnoop.md\n",
      "Report saved to /Users/szhong/Code/DepSurf/output/report/numamove.md\n",
      "Report saved to /Users/szhong/Code/DepSurf/output/report/offcputime.md\n",
      "Report saved to /Users/szhong/Code/DepSurf/output/report/oomkill.md\n",
      "Report saved to /Users/szhong/Code/DepSurf/output/report/opensnoop.md\n",
      "Report saved to /Users/szhong/Code/DepSurf/output/report/profile.md\n",
      "Report saved to /Users/szhong/Code/DepSurf/output/report/readahead.md\n",
      "Report saved to /Users/szhong/Code/DepSurf/output/report/runqlat.md\n",
      "Report saved to /Users/szhong/Code/DepSurf/output/report/runqlen.md\n",
      "Report saved to /Users/szhong/Code/DepSurf/output/report/runqslower.md\n",
      "Report saved to /Users/szhong/Code/DepSurf/output/report/sigsnoop.md\n",
      "Report saved to /Users/szhong/Code/DepSurf/output/report/slabratetop.md\n",
      "Report saved to /Users/szhong/Code/DepSurf/output/report/softirqs.md\n",
      "Report saved to /Users/szhong/Code/DepSurf/output/report/solisten.md\n",
      "Report saved to /Users/szhong/Code/DepSurf/output/report/statsnoop.md\n",
      "Report saved to /Users/szhong/Code/DepSurf/output/report/syncsnoop.md\n",
      "Report saved to /Users/szhong/Code/DepSurf/output/report/syscount.md\n",
      "Report saved to /Users/szhong/Code/DepSurf/output/report/tcpconnect.md\n",
      "Report saved to /Users/szhong/Code/DepSurf/output/report/tcpconnlat.md\n",
      "Report saved to /Users/szhong/Code/DepSurf/output/report/tcplife.md\n",
      "Report saved to /Users/szhong/Code/DepSurf/output/report/tcppktlat.md\n",
      "Report saved to /Users/szhong/Code/DepSurf/output/report/tcprtt.md\n",
      "Report saved to /Users/szhong/Code/DepSurf/output/report/tcpstates.md\n",
      "Report saved to /Users/szhong/Code/DepSurf/output/report/tcpsynbl.md\n",
      "Report saved to /Users/szhong/Code/DepSurf/output/report/tcptop.md\n",
      "Report saved to /Users/szhong/Code/DepSurf/output/report/tcptracer.md\n",
      "Report saved to /Users/szhong/Code/DepSurf/output/report/vfsstat.md\n",
      "Report saved to /Users/szhong/Code/DepSurf/output/report/wakeuptime.md\n",
      "Report saved to /Users/szhong/Code/DepSurf/output/report/tracee.md\n"
     ]
    },
    {
     "name": "stderr",
     "output_type": "stream",
     "text": [
      "[ utils_pickle.py:13 ] INFO: Saved bcc to /Users/szhong/Code/DepSurf/output/bcc.pkl\n"
     ]
    }
   ],
   "source": [
    "from depsurf import BPFProgram, VersionGroup, DepReport, DepKind\n",
    "from utils import TRACEE_PATH, BCC_OBJ_PATH, OUTPUT_PATH, save_pkl\n",
    "\n",
    "REPORT_PATH = OUTPUT_PATH / \"report\"\n",
    "REPORT_PATH.mkdir(parents=True, exist_ok=True)\n",
    "GROUPS = [VersionGroup.REGULAR, VersionGroup.ARCH]\n",
    "PROG_PATHS = sorted(BCC_OBJ_PATH.glob(\"*.bpf.o\")) + [\n",
    "    TRACEE_PATH / \"dist\" / \"tracee.bpf.o\"\n",
    "]\n",
    "\n",
    "\n",
    "REPORT_KINDS = [\n",
    "    DepKind.FUNC,\n",
    "    DepKind.TRACEPOINT,\n",
    "    DepKind.LSM,\n",
    "    DepKind.FIELD,\n",
    "    DepKind.STRUCT,\n",
    "    DepKind.SYSCALL,\n",
    "]\n",
    "\n",
    "results = {}\n",
    "for path in PROG_PATHS:\n",
    "    bpf = BPFProgram(path)\n",
    "    result_path = REPORT_PATH / f\"{bpf.name}.md\"\n",
    "    with open(result_path, \"w\") as f:\n",
    "        prog_report = {}\n",
    "        for dep in bpf.deps:\n",
    "            if dep.kind not in REPORT_KINDS:\n",
    "                print(f\"{dep}: Skipped\", file=f)\n",
    "                continue\n",
    "            report = DepReport.from_groups(dep, GROUPS)\n",
    "            report.print(file=f)\n",
    "            prog_report[dep] = report\n",
    "        print(f\"Report saved to {result_path}\", flush=True)\n",
    "    results[bpf.name] = prog_report\n",
    "\n",
    "\n",
    "save_pkl(results, \"bcc\")"
   ]
  }
 ],
 "metadata": {
  "kernelspec": {
   "display_name": ".venv",
   "language": "python",
   "name": "python3"
  },
  "language_info": {
   "codemirror_mode": {
    "name": "ipython",
    "version": 3
   },
   "file_extension": ".py",
   "mimetype": "text/x-python",
   "name": "python",
   "nbconvert_exporter": "python",
   "pygments_lexer": "ipython3",
   "version": "3.13.0"
  }
 },
 "nbformat": 4,
 "nbformat_minor": 4
}
