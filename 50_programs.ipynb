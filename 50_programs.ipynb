{
 "cells": [
  {
   "cell_type": "markdown",
   "metadata": {},
   "source": [
    "# Analyze eBPF Programs\n",
    "\n",
    "This notebook compiles, analyzes, and generates the report for eBPF programs. \n",
    "\n",
    "The raw report is saved in the `output/report` directory."
   ]
  },
  {
   "cell_type": "code",
   "execution_count": 1,
   "metadata": {},
   "outputs": [],
   "source": [
    "%reload_ext autoreload\n",
    "%autoreload 2"
   ]
  },
  {
   "cell_type": "markdown",
   "metadata": {},
   "source": [
    "The following cell compiles the BCC tools. "
   ]
  },
  {
   "cell_type": "code",
   "execution_count": 2,
   "metadata": {},
   "outputs": [
    {
     "name": "stdout",
     "output_type": "stream",
     "text": [
      "make: Entering directory '/Users/szhong/Code/DepSurf/software/bcc/libbpf-tools'\n",
      "make: Nothing to be done for 'all'.\n",
      "make: Leaving directory '/Users/szhong/Code/DepSurf/software/bcc/libbpf-tools'\n"
     ]
    }
   ],
   "source": [
    "from utils import BCC_TOOLS_PATH\n",
    "\n",
    "!make -C {BCC_TOOLS_PATH} -j $(nproc)"
   ]
  },
  {
   "cell_type": "markdown",
   "metadata": {},
   "source": [
    "The following cell compiles the eBPF program for Tracee."
   ]
  },
  {
   "cell_type": "code",
   "execution_count": 3,
   "metadata": {},
   "outputs": [
    {
     "name": "stdout",
     "output_type": "stream",
     "text": [
      "make: Nothing to be done for 'bpf'.\n"
     ]
    }
   ],
   "source": [
    "from utils import TRACEE_PATH\n",
    "\n",
    "!make -C {TRACEE_PATH} bpf"
   ]
  },
  {
   "cell_type": "markdown",
   "metadata": {},
   "source": [
    "The following cell analyzes and generates the report for eBPF programs."
   ]
  },
  {
   "cell_type": "code",
   "execution_count": 2,
   "metadata": {},
   "outputs": [
    {
     "name": "stderr",
     "output_type": "stream",
     "text": [
      "[         dump.py:161] INFO: Normalizing types from /Users/szhong/Code/DepSurf/software/bcc/libbpf-tools/.output/bashreadline.bpf.min.btf.json\n"
     ]
    },
    {
     "name": "stdout",
     "output_type": "stream",
     "text": [
      "Report saved to /Users/szhong/Code/DepSurf/output/report/bashreadline.log\n"
     ]
    },
    {
     "name": "stderr",
     "output_type": "stream",
     "text": [
      "[         dump.py:161] INFO: Normalizing types from /Users/szhong/Code/DepSurf/software/bcc/libbpf-tools/.output/bindsnoop.bpf.min.btf.json\n",
      "[       groups.py:45 ] INFO: Loading funcs from /Users/szhong/Code/DepSurf/data/dataset/func_groups/4.4.0-21-generic-amd64.jsonl\n",
      "[       groups.py:45 ] INFO: Loading funcs from /Users/szhong/Code/DepSurf/data/dataset/func_groups/4.8.0-22-generic-amd64.jsonl\n",
      "[       groups.py:45 ] INFO: Loading funcs from /Users/szhong/Code/DepSurf/data/dataset/func_groups/4.10.0-19-generic-amd64.jsonl\n",
      "[       groups.py:45 ] INFO: Loading funcs from /Users/szhong/Code/DepSurf/data/dataset/func_groups/4.13.0-16-generic-amd64.jsonl\n",
      "[       groups.py:45 ] INFO: Loading funcs from /Users/szhong/Code/DepSurf/data/dataset/func_groups/4.15.0-20-generic-amd64.jsonl\n",
      "[       groups.py:45 ] INFO: Loading funcs from /Users/szhong/Code/DepSurf/data/dataset/func_groups/4.18.0-10-generic-amd64.jsonl\n",
      "[       groups.py:45 ] INFO: Loading funcs from /Users/szhong/Code/DepSurf/data/dataset/func_groups/5.0.0-13-generic-amd64.jsonl\n",
      "[       groups.py:45 ] INFO: Loading funcs from /Users/szhong/Code/DepSurf/data/dataset/func_groups/5.3.0-18-generic-amd64.jsonl\n",
      "[       groups.py:45 ] INFO: Loading funcs from /Users/szhong/Code/DepSurf/data/dataset/func_groups/5.4.0-26-generic-amd64.jsonl\n",
      "[       groups.py:45 ] INFO: Loading funcs from /Users/szhong/Code/DepSurf/data/dataset/func_groups/5.8.0-25-generic-amd64.jsonl\n",
      "[       groups.py:45 ] INFO: Loading funcs from /Users/szhong/Code/DepSurf/data/dataset/func_groups/5.11.0-16-generic-amd64.jsonl\n",
      "[       groups.py:45 ] INFO: Loading funcs from /Users/szhong/Code/DepSurf/data/dataset/func_groups/5.13.0-19-generic-amd64.jsonl\n",
      "[       groups.py:45 ] INFO: Loading funcs from /Users/szhong/Code/DepSurf/data/dataset/func_groups/5.15.0-25-generic-amd64.jsonl\n",
      "[       groups.py:45 ] INFO: Loading funcs from /Users/szhong/Code/DepSurf/data/dataset/func_groups/5.19.0-21-generic-amd64.jsonl\n",
      "[       groups.py:45 ] INFO: Loading funcs from /Users/szhong/Code/DepSurf/data/dataset/func_groups/6.2.0-20-generic-amd64.jsonl\n",
      "[       groups.py:45 ] INFO: Loading funcs from /Users/szhong/Code/DepSurf/data/dataset/func_groups/6.5.0-9-generic-amd64.jsonl\n",
      "[       groups.py:45 ] INFO: Loading funcs from /Users/szhong/Code/DepSurf/data/dataset/func_groups/6.8.0-31-generic-amd64.jsonl\n",
      "[       groups.py:45 ] INFO: Loading funcs from /Users/szhong/Code/DepSurf/data/dataset/func_groups/5.4.0-26-generic-arm64.jsonl\n",
      "[       groups.py:45 ] INFO: Loading funcs from /Users/szhong/Code/DepSurf/data/dataset/func_groups/5.4.0-26-generic-armhf.jsonl\n",
      "[       groups.py:45 ] INFO: Loading funcs from /Users/szhong/Code/DepSurf/data/dataset/func_groups/5.4.0-26-generic-ppc64el.jsonl\n",
      "[       groups.py:45 ] INFO: Loading funcs from /Users/szhong/Code/DepSurf/data/dataset/func_groups/5.4.0-24-generic-riscv64.jsonl\n",
      "[        types.py:42 ] INFO: Loading types from /Users/szhong/Code/DepSurf/data/dataset/types_func/4.4.0-21-generic-amd64.jsonl\n",
      "[        types.py:42 ] INFO: Loading types from /Users/szhong/Code/DepSurf/data/dataset/types_func/4.8.0-22-generic-amd64.jsonl\n",
      "[        types.py:42 ] INFO: Loading types from /Users/szhong/Code/DepSurf/data/dataset/types_func/4.10.0-19-generic-amd64.jsonl\n",
      "[        types.py:42 ] INFO: Loading types from /Users/szhong/Code/DepSurf/data/dataset/types_func/4.13.0-16-generic-amd64.jsonl\n",
      "[        types.py:42 ] INFO: Loading types from /Users/szhong/Code/DepSurf/data/dataset/types_func/4.15.0-20-generic-amd64.jsonl\n",
      "[        types.py:42 ] INFO: Loading types from /Users/szhong/Code/DepSurf/data/dataset/types_func/4.18.0-10-generic-amd64.jsonl\n",
      "[        types.py:42 ] INFO: Loading types from /Users/szhong/Code/DepSurf/data/dataset/types_func/5.0.0-13-generic-amd64.jsonl\n",
      "[        types.py:42 ] INFO: Loading types from /Users/szhong/Code/DepSurf/data/dataset/types_func/5.3.0-18-generic-amd64.jsonl\n",
      "[        types.py:42 ] INFO: Loading types from /Users/szhong/Code/DepSurf/data/dataset/types_func/5.4.0-26-generic-amd64.jsonl\n",
      "[        types.py:42 ] INFO: Loading types from /Users/szhong/Code/DepSurf/data/dataset/types_func/5.8.0-25-generic-amd64.jsonl\n",
      "[        types.py:42 ] INFO: Loading types from /Users/szhong/Code/DepSurf/data/dataset/types_func/5.11.0-16-generic-amd64.jsonl\n",
      "[        types.py:42 ] INFO: Loading types from /Users/szhong/Code/DepSurf/data/dataset/types_func/5.13.0-19-generic-amd64.jsonl\n",
      "[        types.py:42 ] INFO: Loading types from /Users/szhong/Code/DepSurf/data/dataset/types_func/5.15.0-25-generic-amd64.jsonl\n",
      "[        types.py:42 ] INFO: Loading types from /Users/szhong/Code/DepSurf/data/dataset/types_func/5.19.0-21-generic-amd64.jsonl\n",
      "[        types.py:42 ] INFO: Loading types from /Users/szhong/Code/DepSurf/data/dataset/types_func/6.2.0-20-generic-amd64.jsonl\n",
      "[        types.py:42 ] INFO: Loading types from /Users/szhong/Code/DepSurf/data/dataset/types_func/6.5.0-9-generic-amd64.jsonl\n",
      "[        types.py:42 ] INFO: Loading types from /Users/szhong/Code/DepSurf/data/dataset/types_func/6.8.0-31-generic-amd64.jsonl\n",
      "[        types.py:42 ] INFO: Loading types from /Users/szhong/Code/DepSurf/data/dataset/types_func/5.4.0-26-generic-arm64.jsonl\n",
      "[        types.py:42 ] INFO: Loading types from /Users/szhong/Code/DepSurf/data/dataset/types_func/5.4.0-26-generic-armhf.jsonl\n",
      "[        types.py:42 ] INFO: Loading types from /Users/szhong/Code/DepSurf/data/dataset/types_func/5.4.0-26-generic-ppc64el.jsonl\n",
      "[        types.py:42 ] INFO: Loading types from /Users/szhong/Code/DepSurf/data/dataset/types_func/5.4.0-24-generic-riscv64.jsonl\n",
      "[        types.py:42 ] INFO: Loading types from /Users/szhong/Code/DepSurf/data/dataset/types_struct/4.4.0-21-generic-amd64.jsonl\n",
      "[        types.py:42 ] INFO: Loading types from /Users/szhong/Code/DepSurf/data/dataset/types_struct/4.8.0-22-generic-amd64.jsonl\n",
      "[        types.py:42 ] INFO: Loading types from /Users/szhong/Code/DepSurf/data/dataset/types_struct/4.10.0-19-generic-amd64.jsonl\n",
      "[        types.py:42 ] INFO: Loading types from /Users/szhong/Code/DepSurf/data/dataset/types_struct/4.13.0-16-generic-amd64.jsonl\n",
      "[        types.py:42 ] INFO: Loading types from /Users/szhong/Code/DepSurf/data/dataset/types_struct/4.15.0-20-generic-amd64.jsonl\n",
      "[        types.py:42 ] INFO: Loading types from /Users/szhong/Code/DepSurf/data/dataset/types_struct/4.18.0-10-generic-amd64.jsonl\n",
      "[        types.py:42 ] INFO: Loading types from /Users/szhong/Code/DepSurf/data/dataset/types_struct/5.0.0-13-generic-amd64.jsonl\n",
      "[        types.py:42 ] INFO: Loading types from /Users/szhong/Code/DepSurf/data/dataset/types_struct/5.3.0-18-generic-amd64.jsonl\n",
      "[        types.py:42 ] INFO: Loading types from /Users/szhong/Code/DepSurf/data/dataset/types_struct/5.4.0-26-generic-amd64.jsonl\n",
      "[        types.py:42 ] INFO: Loading types from /Users/szhong/Code/DepSurf/data/dataset/types_struct/5.8.0-25-generic-amd64.jsonl\n",
      "[        types.py:42 ] INFO: Loading types from /Users/szhong/Code/DepSurf/data/dataset/types_struct/5.11.0-16-generic-amd64.jsonl\n",
      "[        types.py:42 ] INFO: Loading types from /Users/szhong/Code/DepSurf/data/dataset/types_struct/5.13.0-19-generic-amd64.jsonl\n",
      "[        types.py:42 ] INFO: Loading types from /Users/szhong/Code/DepSurf/data/dataset/types_struct/5.15.0-25-generic-amd64.jsonl\n",
      "[        types.py:42 ] INFO: Loading types from /Users/szhong/Code/DepSurf/data/dataset/types_struct/5.19.0-21-generic-amd64.jsonl\n",
      "[        types.py:42 ] INFO: Loading types from /Users/szhong/Code/DepSurf/data/dataset/types_struct/6.2.0-20-generic-amd64.jsonl\n",
      "[        types.py:42 ] INFO: Loading types from /Users/szhong/Code/DepSurf/data/dataset/types_struct/6.5.0-9-generic-amd64.jsonl\n",
      "[        types.py:42 ] INFO: Loading types from /Users/szhong/Code/DepSurf/data/dataset/types_struct/6.8.0-31-generic-amd64.jsonl\n",
      "[        types.py:42 ] INFO: Loading types from /Users/szhong/Code/DepSurf/data/dataset/types_struct/5.4.0-26-generic-arm64.jsonl\n",
      "[        types.py:42 ] INFO: Loading types from /Users/szhong/Code/DepSurf/data/dataset/types_struct/5.4.0-26-generic-armhf.jsonl\n",
      "[        types.py:42 ] INFO: Loading types from /Users/szhong/Code/DepSurf/data/dataset/types_struct/5.4.0-26-generic-ppc64el.jsonl\n",
      "[        types.py:42 ] INFO: Loading types from /Users/szhong/Code/DepSurf/data/dataset/types_struct/5.4.0-24-generic-riscv64.jsonl\n"
     ]
    },
    {
     "name": "stdout",
     "output_type": "stream",
     "text": [
      "Report saved to /Users/szhong/Code/DepSurf/output/report/bindsnoop.log\n"
     ]
    },
    {
     "name": "stderr",
     "output_type": "stream",
     "text": [
      "[         dump.py:161] INFO: Normalizing types from /Users/szhong/Code/DepSurf/software/bcc/libbpf-tools/.output/biolatency.bpf.min.btf.json\n"
     ]
    },
    {
     "name": "stdout",
     "output_type": "stream",
     "text": [
      "Report saved to /Users/szhong/Code/DepSurf/output/report/biolatency.log\n"
     ]
    },
    {
     "name": "stderr",
     "output_type": "stream",
     "text": [
      "[         dump.py:161] INFO: Normalizing types from /Users/szhong/Code/DepSurf/software/bcc/libbpf-tools/.output/biopattern.bpf.min.btf.json\n"
     ]
    },
    {
     "name": "stdout",
     "output_type": "stream",
     "text": [
      "Report saved to /Users/szhong/Code/DepSurf/output/report/biopattern.log\n"
     ]
    },
    {
     "name": "stderr",
     "output_type": "stream",
     "text": [
      "[         dump.py:161] INFO: Normalizing types from /Users/szhong/Code/DepSurf/software/bcc/libbpf-tools/.output/biosnoop.bpf.min.btf.json\n"
     ]
    },
    {
     "name": "stdout",
     "output_type": "stream",
     "text": [
      "Report saved to /Users/szhong/Code/DepSurf/output/report/biosnoop.log\n"
     ]
    },
    {
     "name": "stderr",
     "output_type": "stream",
     "text": [
      "[         dump.py:161] INFO: Normalizing types from /Users/szhong/Code/DepSurf/software/bcc/libbpf-tools/.output/biostacks.bpf.min.btf.json\n"
     ]
    },
    {
     "name": "stdout",
     "output_type": "stream",
     "text": [
      "Report saved to /Users/szhong/Code/DepSurf/output/report/biostacks.log\n"
     ]
    },
    {
     "name": "stderr",
     "output_type": "stream",
     "text": [
      "[         dump.py:161] INFO: Normalizing types from /Users/szhong/Code/DepSurf/software/bcc/libbpf-tools/.output/biotop.bpf.min.btf.json\n"
     ]
    },
    {
     "name": "stdout",
     "output_type": "stream",
     "text": [
      "Report saved to /Users/szhong/Code/DepSurf/output/report/biotop.log\n"
     ]
    },
    {
     "name": "stderr",
     "output_type": "stream",
     "text": [
      "[         dump.py:161] INFO: Normalizing types from /Users/szhong/Code/DepSurf/software/bcc/libbpf-tools/.output/bitesize.bpf.min.btf.json\n"
     ]
    },
    {
     "name": "stdout",
     "output_type": "stream",
     "text": [
      "Report saved to /Users/szhong/Code/DepSurf/output/report/bitesize.log\n"
     ]
    },
    {
     "name": "stderr",
     "output_type": "stream",
     "text": [
      "[         dump.py:161] INFO: Normalizing types from /Users/szhong/Code/DepSurf/software/bcc/libbpf-tools/.output/cachestat.bpf.min.btf.json\n"
     ]
    },
    {
     "name": "stdout",
     "output_type": "stream",
     "text": [
      "Report saved to /Users/szhong/Code/DepSurf/output/report/cachestat.log\n"
     ]
    },
    {
     "name": "stderr",
     "output_type": "stream",
     "text": [
      "[         dump.py:161] INFO: Normalizing types from /Users/szhong/Code/DepSurf/software/bcc/libbpf-tools/.output/capable.bpf.min.btf.json\n"
     ]
    },
    {
     "name": "stdout",
     "output_type": "stream",
     "text": [
      "Report saved to /Users/szhong/Code/DepSurf/output/report/capable.log\n"
     ]
    },
    {
     "name": "stderr",
     "output_type": "stream",
     "text": [
      "[         dump.py:161] INFO: Normalizing types from /Users/szhong/Code/DepSurf/software/bcc/libbpf-tools/.output/cpudist.bpf.min.btf.json\n"
     ]
    },
    {
     "name": "stdout",
     "output_type": "stream",
     "text": [
      "Report saved to /Users/szhong/Code/DepSurf/output/report/cpudist.log\n"
     ]
    },
    {
     "name": "stderr",
     "output_type": "stream",
     "text": [
      "[         dump.py:161] INFO: Normalizing types from /Users/szhong/Code/DepSurf/software/bcc/libbpf-tools/.output/cpufreq.bpf.min.btf.json\n"
     ]
    },
    {
     "name": "stdout",
     "output_type": "stream",
     "text": [
      "Report saved to /Users/szhong/Code/DepSurf/output/report/cpufreq.log\n"
     ]
    },
    {
     "name": "stderr",
     "output_type": "stream",
     "text": [
      "[         dump.py:161] INFO: Normalizing types from /Users/szhong/Code/DepSurf/software/bcc/libbpf-tools/.output/drsnoop.bpf.min.btf.json\n"
     ]
    },
    {
     "name": "stdout",
     "output_type": "stream",
     "text": [
      "Report saved to /Users/szhong/Code/DepSurf/output/report/drsnoop.log\n"
     ]
    },
    {
     "name": "stderr",
     "output_type": "stream",
     "text": [
      "[         dump.py:161] INFO: Normalizing types from /Users/szhong/Code/DepSurf/software/bcc/libbpf-tools/.output/execsnoop.bpf.min.btf.json\n"
     ]
    },
    {
     "name": "stdout",
     "output_type": "stream",
     "text": [
      "Report saved to /Users/szhong/Code/DepSurf/output/report/execsnoop.log\n"
     ]
    },
    {
     "name": "stderr",
     "output_type": "stream",
     "text": [
      "[         dump.py:161] INFO: Normalizing types from /Users/szhong/Code/DepSurf/software/bcc/libbpf-tools/.output/exitsnoop.bpf.min.btf.json\n"
     ]
    },
    {
     "name": "stdout",
     "output_type": "stream",
     "text": [
      "Report saved to /Users/szhong/Code/DepSurf/output/report/exitsnoop.log\n"
     ]
    },
    {
     "name": "stderr",
     "output_type": "stream",
     "text": [
      "[         dump.py:161] INFO: Normalizing types from /Users/szhong/Code/DepSurf/software/bcc/libbpf-tools/.output/filelife.bpf.min.btf.json\n"
     ]
    },
    {
     "name": "stdout",
     "output_type": "stream",
     "text": [
      "Report saved to /Users/szhong/Code/DepSurf/output/report/filelife.log\n"
     ]
    },
    {
     "name": "stderr",
     "output_type": "stream",
     "text": [
      "[         dump.py:161] INFO: Normalizing types from /Users/szhong/Code/DepSurf/software/bcc/libbpf-tools/.output/filetop.bpf.min.btf.json\n"
     ]
    },
    {
     "name": "stdout",
     "output_type": "stream",
     "text": [
      "Report saved to /Users/szhong/Code/DepSurf/output/report/filetop.log\n"
     ]
    },
    {
     "name": "stderr",
     "output_type": "stream",
     "text": [
      "[         dump.py:161] INFO: Normalizing types from /Users/szhong/Code/DepSurf/software/bcc/libbpf-tools/.output/fsdist.bpf.min.btf.json\n"
     ]
    },
    {
     "name": "stdout",
     "output_type": "stream",
     "text": [
      "Report saved to /Users/szhong/Code/DepSurf/output/report/fsdist.log\n"
     ]
    },
    {
     "name": "stderr",
     "output_type": "stream",
     "text": [
      "[         dump.py:161] INFO: Normalizing types from /Users/szhong/Code/DepSurf/software/bcc/libbpf-tools/.output/fsslower.bpf.min.btf.json\n"
     ]
    },
    {
     "name": "stdout",
     "output_type": "stream",
     "text": [
      "Report saved to /Users/szhong/Code/DepSurf/output/report/fsslower.log\n"
     ]
    },
    {
     "name": "stderr",
     "output_type": "stream",
     "text": [
      "[         dump.py:161] INFO: Normalizing types from /Users/szhong/Code/DepSurf/software/bcc/libbpf-tools/.output/funclatency.bpf.min.btf.json\n"
     ]
    },
    {
     "name": "stdout",
     "output_type": "stream",
     "text": [
      "Report saved to /Users/szhong/Code/DepSurf/output/report/funclatency.log\n"
     ]
    },
    {
     "name": "stderr",
     "output_type": "stream",
     "text": [
      "[         dump.py:161] INFO: Normalizing types from /Users/szhong/Code/DepSurf/software/bcc/libbpf-tools/.output/futexctn.bpf.min.btf.json\n"
     ]
    },
    {
     "name": "stdout",
     "output_type": "stream",
     "text": [
      "Report saved to /Users/szhong/Code/DepSurf/output/report/futexctn.log\n"
     ]
    },
    {
     "name": "stderr",
     "output_type": "stream",
     "text": [
      "[         dump.py:161] INFO: Normalizing types from /Users/szhong/Code/DepSurf/software/bcc/libbpf-tools/.output/gethostlatency.bpf.min.btf.json\n"
     ]
    },
    {
     "name": "stdout",
     "output_type": "stream",
     "text": [
      "Report saved to /Users/szhong/Code/DepSurf/output/report/gethostlatency.log\n"
     ]
    },
    {
     "name": "stderr",
     "output_type": "stream",
     "text": [
      "[         dump.py:161] INFO: Normalizing types from /Users/szhong/Code/DepSurf/software/bcc/libbpf-tools/.output/hardirqs.bpf.min.btf.json\n"
     ]
    },
    {
     "name": "stdout",
     "output_type": "stream",
     "text": [
      "Report saved to /Users/szhong/Code/DepSurf/output/report/hardirqs.log\n"
     ]
    },
    {
     "name": "stderr",
     "output_type": "stream",
     "text": [
      "[         dump.py:161] INFO: Normalizing types from /Users/szhong/Code/DepSurf/software/bcc/libbpf-tools/.output/javagc.bpf.min.btf.json\n"
     ]
    },
    {
     "name": "stdout",
     "output_type": "stream",
     "text": [
      "Report saved to /Users/szhong/Code/DepSurf/output/report/javagc.log\n"
     ]
    },
    {
     "name": "stderr",
     "output_type": "stream",
     "text": [
      "[         dump.py:161] INFO: Normalizing types from /Users/szhong/Code/DepSurf/software/bcc/libbpf-tools/.output/klockstat.bpf.min.btf.json\n"
     ]
    },
    {
     "name": "stdout",
     "output_type": "stream",
     "text": [
      "Report saved to /Users/szhong/Code/DepSurf/output/report/klockstat.log\n"
     ]
    },
    {
     "name": "stderr",
     "output_type": "stream",
     "text": [
      "[         dump.py:161] INFO: Normalizing types from /Users/szhong/Code/DepSurf/software/bcc/libbpf-tools/.output/ksnoop.bpf.min.btf.json\n"
     ]
    },
    {
     "name": "stdout",
     "output_type": "stream",
     "text": [
      "Report saved to /Users/szhong/Code/DepSurf/output/report/ksnoop.log\n"
     ]
    },
    {
     "name": "stderr",
     "output_type": "stream",
     "text": [
      "[         dump.py:161] INFO: Normalizing types from /Users/szhong/Code/DepSurf/software/bcc/libbpf-tools/.output/llcstat.bpf.min.btf.json\n"
     ]
    },
    {
     "name": "stdout",
     "output_type": "stream",
     "text": [
      "Report saved to /Users/szhong/Code/DepSurf/output/report/llcstat.log\n"
     ]
    },
    {
     "name": "stderr",
     "output_type": "stream",
     "text": [
      "[         dump.py:161] INFO: Normalizing types from /Users/szhong/Code/DepSurf/software/bcc/libbpf-tools/.output/mdflush.bpf.min.btf.json\n"
     ]
    },
    {
     "name": "stdout",
     "output_type": "stream",
     "text": [
      "Report saved to /Users/szhong/Code/DepSurf/output/report/mdflush.log\n"
     ]
    },
    {
     "name": "stderr",
     "output_type": "stream",
     "text": [
      "[         dump.py:161] INFO: Normalizing types from /Users/szhong/Code/DepSurf/software/bcc/libbpf-tools/.output/memleak.bpf.min.btf.json\n"
     ]
    },
    {
     "name": "stdout",
     "output_type": "stream",
     "text": [
      "Report saved to /Users/szhong/Code/DepSurf/output/report/memleak.log\n"
     ]
    },
    {
     "name": "stderr",
     "output_type": "stream",
     "text": [
      "[         dump.py:161] INFO: Normalizing types from /Users/szhong/Code/DepSurf/software/bcc/libbpf-tools/.output/mountsnoop.bpf.min.btf.json\n"
     ]
    },
    {
     "name": "stdout",
     "output_type": "stream",
     "text": [
      "Report saved to /Users/szhong/Code/DepSurf/output/report/mountsnoop.log\n"
     ]
    },
    {
     "name": "stderr",
     "output_type": "stream",
     "text": [
      "[         dump.py:161] INFO: Normalizing types from /Users/szhong/Code/DepSurf/software/bcc/libbpf-tools/.output/numamove.bpf.min.btf.json\n"
     ]
    },
    {
     "name": "stdout",
     "output_type": "stream",
     "text": [
      "Report saved to /Users/szhong/Code/DepSurf/output/report/numamove.log\n"
     ]
    },
    {
     "name": "stderr",
     "output_type": "stream",
     "text": [
      "[         dump.py:161] INFO: Normalizing types from /Users/szhong/Code/DepSurf/software/bcc/libbpf-tools/.output/offcputime.bpf.min.btf.json\n"
     ]
    },
    {
     "name": "stdout",
     "output_type": "stream",
     "text": [
      "Report saved to /Users/szhong/Code/DepSurf/output/report/offcputime.log\n"
     ]
    },
    {
     "name": "stderr",
     "output_type": "stream",
     "text": [
      "[         dump.py:161] INFO: Normalizing types from /Users/szhong/Code/DepSurf/software/bcc/libbpf-tools/.output/oomkill.bpf.min.btf.json\n"
     ]
    },
    {
     "name": "stdout",
     "output_type": "stream",
     "text": [
      "Report saved to /Users/szhong/Code/DepSurf/output/report/oomkill.log\n"
     ]
    },
    {
     "name": "stderr",
     "output_type": "stream",
     "text": [
      "[         dump.py:161] INFO: Normalizing types from /Users/szhong/Code/DepSurf/software/bcc/libbpf-tools/.output/opensnoop.bpf.min.btf.json\n"
     ]
    },
    {
     "name": "stdout",
     "output_type": "stream",
     "text": [
      "Report saved to /Users/szhong/Code/DepSurf/output/report/opensnoop.log\n"
     ]
    },
    {
     "name": "stderr",
     "output_type": "stream",
     "text": [
      "[         dump.py:161] INFO: Normalizing types from /Users/szhong/Code/DepSurf/software/bcc/libbpf-tools/.output/profile.bpf.min.btf.json\n"
     ]
    },
    {
     "name": "stdout",
     "output_type": "stream",
     "text": [
      "Report saved to /Users/szhong/Code/DepSurf/output/report/profile.log\n"
     ]
    },
    {
     "name": "stderr",
     "output_type": "stream",
     "text": [
      "[         dump.py:161] INFO: Normalizing types from /Users/szhong/Code/DepSurf/software/bcc/libbpf-tools/.output/readahead.bpf.min.btf.json\n"
     ]
    },
    {
     "name": "stdout",
     "output_type": "stream",
     "text": [
      "Report saved to /Users/szhong/Code/DepSurf/output/report/readahead.log\n"
     ]
    },
    {
     "name": "stderr",
     "output_type": "stream",
     "text": [
      "[         dump.py:161] INFO: Normalizing types from /Users/szhong/Code/DepSurf/software/bcc/libbpf-tools/.output/runqlat.bpf.min.btf.json\n"
     ]
    },
    {
     "name": "stdout",
     "output_type": "stream",
     "text": [
      "Report saved to /Users/szhong/Code/DepSurf/output/report/runqlat.log\n"
     ]
    },
    {
     "name": "stderr",
     "output_type": "stream",
     "text": [
      "[         dump.py:161] INFO: Normalizing types from /Users/szhong/Code/DepSurf/software/bcc/libbpf-tools/.output/runqlen.bpf.min.btf.json\n"
     ]
    },
    {
     "name": "stdout",
     "output_type": "stream",
     "text": [
      "Report saved to /Users/szhong/Code/DepSurf/output/report/runqlen.log\n"
     ]
    },
    {
     "name": "stderr",
     "output_type": "stream",
     "text": [
      "[         dump.py:161] INFO: Normalizing types from /Users/szhong/Code/DepSurf/software/bcc/libbpf-tools/.output/runqslower.bpf.min.btf.json\n"
     ]
    },
    {
     "name": "stdout",
     "output_type": "stream",
     "text": [
      "Report saved to /Users/szhong/Code/DepSurf/output/report/runqslower.log\n"
     ]
    },
    {
     "name": "stderr",
     "output_type": "stream",
     "text": [
      "[         dump.py:161] INFO: Normalizing types from /Users/szhong/Code/DepSurf/software/bcc/libbpf-tools/.output/sigsnoop.bpf.min.btf.json\n"
     ]
    },
    {
     "name": "stdout",
     "output_type": "stream",
     "text": [
      "Report saved to /Users/szhong/Code/DepSurf/output/report/sigsnoop.log\n"
     ]
    },
    {
     "name": "stderr",
     "output_type": "stream",
     "text": [
      "[         dump.py:161] INFO: Normalizing types from /Users/szhong/Code/DepSurf/software/bcc/libbpf-tools/.output/slabratetop.bpf.min.btf.json\n"
     ]
    },
    {
     "name": "stdout",
     "output_type": "stream",
     "text": [
      "Report saved to /Users/szhong/Code/DepSurf/output/report/slabratetop.log\n"
     ]
    },
    {
     "name": "stderr",
     "output_type": "stream",
     "text": [
      "[         dump.py:161] INFO: Normalizing types from /Users/szhong/Code/DepSurf/software/bcc/libbpf-tools/.output/softirqs.bpf.min.btf.json\n"
     ]
    },
    {
     "name": "stdout",
     "output_type": "stream",
     "text": [
      "Report saved to /Users/szhong/Code/DepSurf/output/report/softirqs.log\n"
     ]
    },
    {
     "name": "stderr",
     "output_type": "stream",
     "text": [
      "[         dump.py:161] INFO: Normalizing types from /Users/szhong/Code/DepSurf/software/bcc/libbpf-tools/.output/solisten.bpf.min.btf.json\n"
     ]
    },
    {
     "name": "stdout",
     "output_type": "stream",
     "text": [
      "Report saved to /Users/szhong/Code/DepSurf/output/report/solisten.log\n"
     ]
    },
    {
     "name": "stderr",
     "output_type": "stream",
     "text": [
      "[         dump.py:161] INFO: Normalizing types from /Users/szhong/Code/DepSurf/software/bcc/libbpf-tools/.output/statsnoop.bpf.min.btf.json\n"
     ]
    },
    {
     "name": "stdout",
     "output_type": "stream",
     "text": [
      "Report saved to /Users/szhong/Code/DepSurf/output/report/statsnoop.log\n"
     ]
    },
    {
     "name": "stderr",
     "output_type": "stream",
     "text": [
      "[         dump.py:161] INFO: Normalizing types from /Users/szhong/Code/DepSurf/software/bcc/libbpf-tools/.output/syncsnoop.bpf.min.btf.json\n"
     ]
    },
    {
     "name": "stdout",
     "output_type": "stream",
     "text": [
      "Report saved to /Users/szhong/Code/DepSurf/output/report/syncsnoop.log\n"
     ]
    },
    {
     "name": "stderr",
     "output_type": "stream",
     "text": [
      "[         dump.py:161] INFO: Normalizing types from /Users/szhong/Code/DepSurf/software/bcc/libbpf-tools/.output/syscount.bpf.min.btf.json\n"
     ]
    },
    {
     "name": "stdout",
     "output_type": "stream",
     "text": [
      "Report saved to /Users/szhong/Code/DepSurf/output/report/syscount.log\n"
     ]
    },
    {
     "name": "stderr",
     "output_type": "stream",
     "text": [
      "[         dump.py:161] INFO: Normalizing types from /Users/szhong/Code/DepSurf/software/bcc/libbpf-tools/.output/tcpconnect.bpf.min.btf.json\n"
     ]
    },
    {
     "name": "stdout",
     "output_type": "stream",
     "text": [
      "Report saved to /Users/szhong/Code/DepSurf/output/report/tcpconnect.log\n"
     ]
    },
    {
     "name": "stderr",
     "output_type": "stream",
     "text": [
      "[         dump.py:161] INFO: Normalizing types from /Users/szhong/Code/DepSurf/software/bcc/libbpf-tools/.output/tcpconnlat.bpf.min.btf.json\n"
     ]
    },
    {
     "name": "stdout",
     "output_type": "stream",
     "text": [
      "Report saved to /Users/szhong/Code/DepSurf/output/report/tcpconnlat.log\n"
     ]
    },
    {
     "name": "stderr",
     "output_type": "stream",
     "text": [
      "[         dump.py:161] INFO: Normalizing types from /Users/szhong/Code/DepSurf/software/bcc/libbpf-tools/.output/tcplife.bpf.min.btf.json\n"
     ]
    },
    {
     "name": "stdout",
     "output_type": "stream",
     "text": [
      "Report saved to /Users/szhong/Code/DepSurf/output/report/tcplife.log\n"
     ]
    },
    {
     "name": "stderr",
     "output_type": "stream",
     "text": [
      "[         dump.py:161] INFO: Normalizing types from /Users/szhong/Code/DepSurf/software/bcc/libbpf-tools/.output/tcppktlat.bpf.min.btf.json\n"
     ]
    },
    {
     "name": "stdout",
     "output_type": "stream",
     "text": [
      "Report saved to /Users/szhong/Code/DepSurf/output/report/tcppktlat.log\n"
     ]
    },
    {
     "name": "stderr",
     "output_type": "stream",
     "text": [
      "[         dump.py:161] INFO: Normalizing types from /Users/szhong/Code/DepSurf/software/bcc/libbpf-tools/.output/tcprtt.bpf.min.btf.json\n"
     ]
    },
    {
     "name": "stdout",
     "output_type": "stream",
     "text": [
      "Report saved to /Users/szhong/Code/DepSurf/output/report/tcprtt.log\n"
     ]
    },
    {
     "name": "stderr",
     "output_type": "stream",
     "text": [
      "[         dump.py:161] INFO: Normalizing types from /Users/szhong/Code/DepSurf/software/bcc/libbpf-tools/.output/tcpstates.bpf.min.btf.json\n"
     ]
    },
    {
     "name": "stdout",
     "output_type": "stream",
     "text": [
      "Report saved to /Users/szhong/Code/DepSurf/output/report/tcpstates.log\n"
     ]
    },
    {
     "name": "stderr",
     "output_type": "stream",
     "text": [
      "[         dump.py:161] INFO: Normalizing types from /Users/szhong/Code/DepSurf/software/bcc/libbpf-tools/.output/tcpsynbl.bpf.min.btf.json\n"
     ]
    },
    {
     "name": "stdout",
     "output_type": "stream",
     "text": [
      "Report saved to /Users/szhong/Code/DepSurf/output/report/tcpsynbl.log\n"
     ]
    },
    {
     "name": "stderr",
     "output_type": "stream",
     "text": [
      "[         dump.py:161] INFO: Normalizing types from /Users/szhong/Code/DepSurf/software/bcc/libbpf-tools/.output/tcptop.bpf.min.btf.json\n"
     ]
    },
    {
     "name": "stdout",
     "output_type": "stream",
     "text": [
      "Report saved to /Users/szhong/Code/DepSurf/output/report/tcptop.log\n"
     ]
    },
    {
     "name": "stderr",
     "output_type": "stream",
     "text": [
      "[         dump.py:161] INFO: Normalizing types from /Users/szhong/Code/DepSurf/software/bcc/libbpf-tools/.output/tcptracer.bpf.min.btf.json\n"
     ]
    },
    {
     "name": "stdout",
     "output_type": "stream",
     "text": [
      "Report saved to /Users/szhong/Code/DepSurf/output/report/tcptracer.log\n"
     ]
    },
    {
     "name": "stderr",
     "output_type": "stream",
     "text": [
      "[         dump.py:161] INFO: Normalizing types from /Users/szhong/Code/DepSurf/software/bcc/libbpf-tools/.output/vfsstat.bpf.min.btf.json\n"
     ]
    },
    {
     "name": "stdout",
     "output_type": "stream",
     "text": [
      "Report saved to /Users/szhong/Code/DepSurf/output/report/vfsstat.log\n"
     ]
    },
    {
     "name": "stderr",
     "output_type": "stream",
     "text": [
      "[         dump.py:161] INFO: Normalizing types from /Users/szhong/Code/DepSurf/software/bcc/libbpf-tools/.output/wakeuptime.bpf.min.btf.json\n"
     ]
    },
    {
     "name": "stdout",
     "output_type": "stream",
     "text": [
      "Report saved to /Users/szhong/Code/DepSurf/output/report/wakeuptime.log\n"
     ]
    },
    {
     "name": "stderr",
     "output_type": "stream",
     "text": [
      "[         dump.py:161] INFO: Normalizing types from /Users/szhong/Code/DepSurf/software/tracee/dist/tracee.bpf.min.btf.json\n"
     ]
    },
    {
     "name": "stdout",
     "output_type": "stream",
     "text": [
      "Report saved to /Users/szhong/Code/DepSurf/output/report/tracee.log\n"
     ]
    },
    {
     "name": "stderr",
     "output_type": "stream",
     "text": [
      "[ utils_pickle.py:13 ] INFO: Saved bcc to /Users/szhong/Code/DepSurf/output/bcc.pkl\n"
     ]
    }
   ],
   "source": [
    "from depsurf import BPFProgram, VersionGroup, DepReport, DepKind\n",
    "from utils import TRACEE_PATH, BCC_OBJ_PATH, OUTPUT_PATH, save_pkl\n",
    "\n",
    "REPORT_PATH = OUTPUT_PATH / \"report\"\n",
    "REPORT_PATH.mkdir(parents=True, exist_ok=True)\n",
    "GROUPS = [VersionGroup.REGULAR, VersionGroup.ARCH]\n",
    "PROG_PATHS = sorted(BCC_OBJ_PATH.glob(\"*.bpf.o\")) + [TRACEE_PATH / \"dist\" / \"tracee.bpf.o\"]\n",
    "\n",
    "\n",
    "REPORT_KINDS = [\n",
    "    DepKind.FUNC,\n",
    "    DepKind.TRACEPOINT,\n",
    "    DepKind.LSM,\n",
    "    DepKind.FIELD,\n",
    "    DepKind.STRUCT,\n",
    "    DepKind.SYSCALL,\n",
    "]\n",
    "\n",
    "results = {}\n",
    "for path in PROG_PATHS:\n",
    "    bpf = BPFProgram(path)\n",
    "    result_path = REPORT_PATH / f\"{bpf.name}.log\"\n",
    "    with open(result_path, \"w\") as f:\n",
    "        prog_report = {}\n",
    "        for dep in bpf.deps:\n",
    "            if dep.kind not in REPORT_KINDS:\n",
    "                print(f\"{dep}: Skipped\", file=f)\n",
    "                continue\n",
    "            report = DepReport.from_groups(dep, GROUPS)\n",
    "            report.print(file=f)\n",
    "            prog_report[dep] = report\n",
    "        print(f\"Report saved to {result_path}\", flush=True)\n",
    "    results[bpf.name] = prog_report\n",
    "\n",
    "\n",
    "save_pkl(results, \"bcc\")"
   ]
  }
 ],
 "metadata": {
  "kernelspec": {
   "display_name": ".venv",
   "language": "python",
   "name": "python3"
  },
  "language_info": {
   "codemirror_mode": {
    "name": "ipython",
    "version": 3
   },
   "file_extension": ".py",
   "mimetype": "text/x-python",
   "name": "python",
   "nbconvert_exporter": "python",
   "pygments_lexer": "ipython3",
   "version": "3.13.0"
  }
 },
 "nbformat": 4,
 "nbformat_minor": 4
}
