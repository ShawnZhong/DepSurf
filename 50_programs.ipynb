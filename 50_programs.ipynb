{
 "cells": [
  {
   "cell_type": "markdown",
   "metadata": {},
   "source": [
    "# Analyze eBPF Programs\n",
    "\n",
    "This notebook compiles, analyzes, and generates the report for eBPF programs. \n",
    "\n",
    "The raw report is saved in the `output/report` directory."
   ]
  },
  {
   "cell_type": "code",
   "execution_count": null,
   "metadata": {},
   "outputs": [],
   "source": [
    "%reload_ext autoreload\n",
    "%autoreload 2"
   ]
  },
  {
   "cell_type": "markdown",
   "metadata": {},
   "source": [
    "The following cell compiles the BCC tools. "
   ]
  },
  {
   "cell_type": "code",
   "execution_count": 1,
   "metadata": {},
   "outputs": [
    {
     "name": "stdout",
     "output_type": "stream",
     "text": [
      "make: Entering directory '/users/szhong/DepSurf/software/bcc/libbpf-tools'\n",
      "make: Nothing to be done for 'all'.\n",
      "make: Leaving directory '/users/szhong/DepSurf/software/bcc/libbpf-tools'\n"
     ]
    }
   ],
   "source": [
    "from utils import BCC_TOOLS_PATH\n",
    "\n",
    "!make -C {BCC_TOOLS_PATH} -j $(nproc)"
   ]
  },
  {
   "cell_type": "markdown",
   "metadata": {},
   "source": [
    "The following cell compiles the eBPF program for Tracee."
   ]
  },
  {
   "cell_type": "code",
   "execution_count": 7,
   "metadata": {},
   "outputs": [
    {
     "name": "stdout",
     "output_type": "stream",
     "text": [
      "make: Entering directory '/users/szhong/DepSurf/software/tracee'\n",
      "make: Nothing to be done for 'bpf'.\n",
      "make: Leaving directory '/users/szhong/DepSurf/software/tracee'\n"
     ]
    }
   ],
   "source": [
    "from utils import TRACEE_PATH\n",
    "\n",
    "!make -C {TRACEE_PATH} bpf"
   ]
  },
  {
   "cell_type": "markdown",
   "metadata": {},
   "source": [
    "The following cell analyzes and generates the report for eBPF programs."
   ]
  },
  {
   "cell_type": "code",
   "execution_count": 6,
   "metadata": {},
   "outputs": [
    {
     "name": "stderr",
     "output_type": "stream",
     "text": [
      "[       report.py:74 ] INFO: Report saved to /users/szhong/DepSurf/output/report/tcpstates.log\n",
      "[       report.py:74 ] INFO: Report saved to /users/szhong/DepSurf/output/report/tcptracer.log\n",
      "[       report.py:74 ] INFO: Report saved to /users/szhong/DepSurf/output/report/cpufreq.log\n",
      "[       report.py:74 ] INFO: Report saved to /users/szhong/DepSurf/output/report/tcpsynbl.log\n",
      "[       report.py:74 ] INFO: Report saved to /users/szhong/DepSurf/output/report/runqslower.log\n",
      "[       report.py:74 ] INFO: Report saved to /users/szhong/DepSurf/output/report/fsslower.log\n",
      "[       report.py:74 ] INFO: Report saved to /users/szhong/DepSurf/output/report/biopattern.log\n",
      "[       report.py:74 ] INFO: Report saved to /users/szhong/DepSurf/output/report/cachestat.log\n",
      "[       report.py:74 ] INFO: Report saved to /users/szhong/DepSurf/output/report/bashreadline.log\n",
      "[       report.py:74 ] INFO: Report saved to /users/szhong/DepSurf/output/report/solisten.log\n",
      "[       report.py:74 ] INFO: Report saved to /users/szhong/DepSurf/output/report/syncsnoop.log\n",
      "[       report.py:74 ] INFO: Report saved to /users/szhong/DepSurf/output/report/profile.log\n",
      "[       report.py:74 ] INFO: Report saved to /users/szhong/DepSurf/output/report/hardirqs.log\n",
      "[       report.py:74 ] INFO: Report saved to /users/szhong/DepSurf/output/report/gethostlatency.log\n",
      "[       report.py:74 ] INFO: Report saved to /users/szhong/DepSurf/output/report/tcppktlat.log\n",
      "[       report.py:74 ] INFO: Report saved to /users/szhong/DepSurf/output/report/syscount.log\n",
      "[       report.py:74 ] INFO: Report saved to /users/szhong/DepSurf/output/report/funclatency.log\n",
      "[       report.py:74 ] INFO: Report saved to /users/szhong/DepSurf/output/report/tcpconnect.log\n",
      "[       report.py:59 ] WARNING: Dependency Function(filemap_alloc_folio_noprof) does not exist in any Regular\n",
      "[       report.py:74 ] INFO: Report saved to /users/szhong/DepSurf/output/report/readahead.log\n",
      "[       report.py:74 ] INFO: Report saved to /users/szhong/DepSurf/output/report/execsnoop.log\n",
      "[       report.py:74 ] INFO: Report saved to /users/szhong/DepSurf/output/report/biotop.log\n",
      "[       report.py:74 ] INFO: Report saved to /users/szhong/DepSurf/output/report/tcprtt.log\n",
      "[       report.py:74 ] INFO: Report saved to /users/szhong/DepSurf/output/report/capable.log\n",
      "[       report.py:74 ] INFO: Report saved to /users/szhong/DepSurf/output/report/futexctn.log\n",
      "[       report.py:74 ] INFO: Report saved to /users/szhong/DepSurf/output/report/filelife.log\n",
      "[       report.py:74 ] INFO: Report saved to /users/szhong/DepSurf/output/report/slabratetop.log\n",
      "[       report.py:74 ] INFO: Report saved to /users/szhong/DepSurf/output/report/ksnoop.log\n",
      "[       report.py:74 ] INFO: Report saved to /users/szhong/DepSurf/output/report/mdflush.log\n",
      "[       report.py:74 ] INFO: Report saved to /users/szhong/DepSurf/output/report/runqlen.log\n",
      "[       report.py:74 ] INFO: Report saved to /users/szhong/DepSurf/output/report/biostacks.log\n",
      "[       report.py:74 ] INFO: Report saved to /users/szhong/DepSurf/output/report/runqlat.log\n",
      "[       report.py:74 ] INFO: Report saved to /users/szhong/DepSurf/output/report/biosnoop.log\n",
      "[       report.py:74 ] INFO: Report saved to /users/szhong/DepSurf/output/report/llcstat.log\n",
      "[       report.py:74 ] INFO: Report saved to /users/szhong/DepSurf/output/report/tcpconnlat.log\n",
      "[       report.py:74 ] INFO: Report saved to /users/szhong/DepSurf/output/report/bindsnoop.log\n",
      "[       report.py:74 ] INFO: Report saved to /users/szhong/DepSurf/output/report/wakeuptime.log\n",
      "[       report.py:74 ] INFO: Report saved to /users/szhong/DepSurf/output/report/vfsstat.log\n",
      "[       report.py:74 ] INFO: Report saved to /users/szhong/DepSurf/output/report/sigsnoop.log\n",
      "[       report.py:74 ] INFO: Report saved to /users/szhong/DepSurf/output/report/fsdist.log\n",
      "[       report.py:74 ] INFO: Report saved to /users/szhong/DepSurf/output/report/memleak.log\n",
      "[       report.py:74 ] INFO: Report saved to /users/szhong/DepSurf/output/report/softirqs.log\n",
      "[       report.py:74 ] INFO: Report saved to /users/szhong/DepSurf/output/report/oomkill.log\n",
      "[       report.py:74 ] INFO: Report saved to /users/szhong/DepSurf/output/report/klockstat.log\n",
      "[       report.py:74 ] INFO: Report saved to /users/szhong/DepSurf/output/report/offcputime.log\n",
      "[       report.py:74 ] INFO: Report saved to /users/szhong/DepSurf/output/report/biolatency.log\n",
      "[       report.py:74 ] INFO: Report saved to /users/szhong/DepSurf/output/report/drsnoop.log\n",
      "[       report.py:74 ] INFO: Report saved to /users/szhong/DepSurf/output/report/filetop.log\n",
      "[       report.py:74 ] INFO: Report saved to /users/szhong/DepSurf/output/report/exitsnoop.log\n",
      "[       report.py:74 ] INFO: Report saved to /users/szhong/DepSurf/output/report/statsnoop.log\n",
      "[       report.py:74 ] INFO: Report saved to /users/szhong/DepSurf/output/report/cpudist.log\n",
      "[       report.py:74 ] INFO: Report saved to /users/szhong/DepSurf/output/report/numamove.log\n",
      "[       report.py:74 ] INFO: Report saved to /users/szhong/DepSurf/output/report/tcplife.log\n",
      "[       report.py:74 ] INFO: Report saved to /users/szhong/DepSurf/output/report/bitesize.log\n",
      "[       report.py:74 ] INFO: Report saved to /users/szhong/DepSurf/output/report/mountsnoop.log\n",
      "[       report.py:74 ] INFO: Report saved to /users/szhong/DepSurf/output/report/tcptop.log\n",
      "[       report.py:74 ] INFO: Report saved to /users/szhong/DepSurf/output/report/opensnoop.log\n",
      "[       report.py:74 ] INFO: Report saved to /users/szhong/DepSurf/output/report/javagc.log\n",
      "[       report.py:59 ] WARNING: Dependency Syscall(afs) does not exist in any Regular\n",
      "[       report.py:59 ] WARNING: Dependency Syscall(afs_syscall) does not exist in any Regular\n",
      "[       report.py:59 ] WARNING: Dependency Syscall(bdflush) does not exist in any Regular\n",
      "[       report.py:59 ] WARNING: Dependency Syscall(break) does not exist in any Regular\n",
      "[       report.py:59 ] WARNING: Dependency Syscall(chown16) does not exist in any Regular\n",
      "[       report.py:59 ] WARNING: Dependency Syscall(clock_adjtime64) does not exist in any Regular\n",
      "[       report.py:59 ] WARNING: Dependency Syscall(clock_getres_time32) does not exist in any Regular\n",
      "[       report.py:59 ] WARNING: Dependency Syscall(clock_gettime32) does not exist in any Regular\n",
      "[       report.py:59 ] WARNING: Dependency Syscall(clock_nanosleep_time32) does not exist in any Regular\n",
      "[       report.py:59 ] WARNING: Dependency Syscall(clock_settime32) does not exist in any Regular\n",
      "[       report.py:59 ] WARNING: Dependency Syscall(create_module) does not exist in any Regular\n",
      "[       report.py:59 ] WARNING: Dependency Syscall(epoll_ctl_old) does not exist in any Regular\n",
      "[       report.py:59 ] WARNING: Dependency Syscall(epoll_wait_old) does not exist in any Regular\n",
      "[       report.py:59 ] WARNING: Dependency Syscall(fadvise64_64) does not exist in any Regular\n",
      "[       report.py:59 ] WARNING: Dependency Syscall(fchown16) does not exist in any Regular\n",
      "[       report.py:59 ] WARNING: Dependency Syscall(fcntl64) does not exist in any Regular\n",
      "[       report.py:59 ] WARNING: Dependency Syscall(fstat) does not exist in any Regular\n",
      "[       report.py:59 ] WARNING: Dependency Syscall(fstat64) does not exist in any Regular\n",
      "[       report.py:59 ] WARNING: Dependency Syscall(fstatfs64) does not exist in any Regular\n",
      "[       report.py:59 ] WARNING: Dependency Syscall(ftime) does not exist in any Regular\n",
      "[       report.py:59 ] WARNING: Dependency Syscall(ftruncate64) does not exist in any Regular\n",
      "[       report.py:59 ] WARNING: Dependency Syscall(futex_time32) does not exist in any Regular\n",
      "[       report.py:59 ] WARNING: Dependency Syscall(get_kernel_syms) does not exist in any Regular\n",
      "[       report.py:59 ] WARNING: Dependency Syscall(get_thread_area) does not exist in any Regular\n",
      "[       report.py:59 ] WARNING: Dependency Syscall(getegid16) does not exist in any Regular\n",
      "[       report.py:59 ] WARNING: Dependency Syscall(geteuid16) does not exist in any Regular\n",
      "[       report.py:59 ] WARNING: Dependency Syscall(getgid16) does not exist in any Regular\n",
      "[       report.py:59 ] WARNING: Dependency Syscall(getgroups16) does not exist in any Regular\n",
      "[       report.py:59 ] WARNING: Dependency Syscall(getpmsg) does not exist in any Regular\n",
      "[       report.py:59 ] WARNING: Dependency Syscall(getresgid16) does not exist in any Regular\n",
      "[       report.py:59 ] WARNING: Dependency Syscall(getresuid16) does not exist in any Regular\n",
      "[       report.py:59 ] WARNING: Dependency Syscall(getuid16) does not exist in any Regular\n",
      "[       report.py:59 ] WARNING: Dependency Syscall(gtty) does not exist in any Regular\n",
      "[       report.py:59 ] WARNING: Dependency Syscall(idle) does not exist in any Regular\n"
     ]
    },
    {
     "name": "stderr",
     "output_type": "stream",
     "text": [
      "[       report.py:59 ] WARNING: Dependency Syscall(io_pgetevents_time32) does not exist in any Regular\n",
      "[       report.py:59 ] WARNING: Dependency Syscall(ipc) does not exist in any Regular\n",
      "[       report.py:59 ] WARNING: Dependency Syscall(lchown16) does not exist in any Regular\n",
      "[       report.py:59 ] WARNING: Dependency Syscall(llseek) does not exist in any Regular\n",
      "[       report.py:59 ] WARNING: Dependency Syscall(lock) does not exist in any Regular\n",
      "[       report.py:59 ] WARNING: Dependency Syscall(lstat) does not exist in any Regular\n",
      "[       report.py:59 ] WARNING: Dependency Syscall(lstat64) does not exist in any Regular\n",
      "[       report.py:59 ] WARNING: Dependency Syscall(mmap2) does not exist in any Regular\n",
      "[       report.py:59 ] WARNING: Dependency Syscall(mpx) does not exist in any Regular\n",
      "[       report.py:59 ] WARNING: Dependency Syscall(mq_timedreceive_time32) does not exist in any Regular\n",
      "[       report.py:59 ] WARNING: Dependency Syscall(mq_timedsend_time32) does not exist in any Regular\n",
      "[       report.py:59 ] WARNING: Dependency Syscall(nfsservctl) does not exist in any Regular\n",
      "[       report.py:59 ] WARNING: Dependency Syscall(nice) does not exist in any Regular\n",
      "[       report.py:59 ] WARNING: Dependency Syscall(old_getrlimit) does not exist in any Regular\n",
      "[       report.py:59 ] WARNING: Dependency Syscall(old_select) does not exist in any Regular\n",
      "[       report.py:59 ] WARNING: Dependency Syscall(oldfstat) does not exist in any Regular\n",
      "[       report.py:59 ] WARNING: Dependency Syscall(oldlstat) does not exist in any Regular\n",
      "[       report.py:59 ] WARNING: Dependency Syscall(oldolduname) does not exist in any Regular\n",
      "[       report.py:59 ] WARNING: Dependency Syscall(oldstat) does not exist in any Regular\n",
      "[       report.py:59 ] WARNING: Dependency Syscall(olduname) does not exist in any Regular\n",
      "[       report.py:59 ] WARNING: Dependency Syscall(ppoll_time32) does not exist in any Regular\n",
      "[       report.py:59 ] WARNING: Dependency Syscall(prof) does not exist in any Regular\n",
      "[       report.py:59 ] WARNING: Dependency Syscall(profil) does not exist in any Regular\n",
      "[       report.py:59 ] WARNING: Dependency Syscall(pselect6_time32) does not exist in any Regular\n",
      "[       report.py:59 ] WARNING: Dependency Syscall(putpmsg) does not exist in any Regular\n",
      "[       report.py:59 ] WARNING: Dependency Syscall(query_module) does not exist in any Regular\n",
      "[       report.py:59 ] WARNING: Dependency Syscall(readdir) does not exist in any Regular\n",
      "[       report.py:59 ] WARNING: Dependency Syscall(recvmmsg_time32) does not exist in any Regular\n",
      "[       report.py:59 ] WARNING: Dependency Syscall(rt_sigtimedwait_time32) does not exist in any Regular\n",
      "[       report.py:59 ] WARNING: Dependency Syscall(sched_rr_get_interval_time32) does not exist in any Regular\n",
      "[       report.py:59 ] WARNING: Dependency Syscall(security) does not exist in any Regular\n",
      "[       report.py:59 ] WARNING: Dependency Syscall(sendfile) does not exist in any Regular\n",
      "[       report.py:59 ] WARNING: Dependency Syscall(sendfile32) does not exist in any Regular\n",
      "[       report.py:59 ] WARNING: Dependency Syscall(set_thread_area) does not exist in any Regular\n",
      "[       report.py:59 ] WARNING: Dependency Syscall(setfsgid16) does not exist in any Regular\n",
      "[       report.py:59 ] WARNING: Dependency Syscall(setfsuid16) does not exist in any Regular\n",
      "[       report.py:59 ] WARNING: Dependency Syscall(setgid16) does not exist in any Regular\n",
      "[       report.py:59 ] WARNING: Dependency Syscall(setgroups16) does not exist in any Regular\n",
      "[       report.py:59 ] WARNING: Dependency Syscall(setregid16) does not exist in any Regular\n",
      "[       report.py:59 ] WARNING: Dependency Syscall(setresgid16) does not exist in any Regular\n",
      "[       report.py:59 ] WARNING: Dependency Syscall(setresuid16) does not exist in any Regular\n",
      "[       report.py:59 ] WARNING: Dependency Syscall(setreuid16) does not exist in any Regular\n",
      "[       report.py:59 ] WARNING: Dependency Syscall(setuid16) does not exist in any Regular\n",
      "[       report.py:59 ] WARNING: Dependency Syscall(sgetmask) does not exist in any Regular\n",
      "[       report.py:59 ] WARNING: Dependency Syscall(sigaction) does not exist in any Regular\n",
      "[       report.py:59 ] WARNING: Dependency Syscall(signal) does not exist in any Regular\n",
      "[       report.py:59 ] WARNING: Dependency Syscall(sigpending) does not exist in any Regular\n",
      "[       report.py:59 ] WARNING: Dependency Syscall(sigprocmask) does not exist in any Regular\n",
      "[       report.py:59 ] WARNING: Dependency Syscall(sigreturn) does not exist in any Regular\n",
      "[       report.py:59 ] WARNING: Dependency Syscall(sigsuspend) does not exist in any Regular\n",
      "[       report.py:59 ] WARNING: Dependency Syscall(socketcall) does not exist in any Regular\n",
      "[       report.py:59 ] WARNING: Dependency Syscall(ssetmask) does not exist in any Regular\n",
      "[       report.py:59 ] WARNING: Dependency Syscall(stat) does not exist in any Regular\n",
      "[       report.py:59 ] WARNING: Dependency Syscall(stat64) does not exist in any Regular\n",
      "[       report.py:59 ] WARNING: Dependency Syscall(statfs64) does not exist in any Regular\n",
      "[       report.py:59 ] WARNING: Dependency Syscall(stime) does not exist in any Regular\n",
      "[       report.py:59 ] WARNING: Dependency Syscall(stty) does not exist in any Regular\n",
      "[       report.py:59 ] WARNING: Dependency Syscall(timer_gettime32) does not exist in any Regular\n",
      "[       report.py:59 ] WARNING: Dependency Syscall(timer_settime32) does not exist in any Regular\n",
      "[       report.py:59 ] WARNING: Dependency Syscall(timerfd_gettime32) does not exist in any Regular\n",
      "[       report.py:59 ] WARNING: Dependency Syscall(timerfd_settime32) does not exist in any Regular\n",
      "[       report.py:59 ] WARNING: Dependency Syscall(truncate64) does not exist in any Regular\n",
      "[       report.py:59 ] WARNING: Dependency Syscall(tuxcall) does not exist in any Regular\n",
      "[       report.py:59 ] WARNING: Dependency Syscall(ulimit) does not exist in any Regular\n",
      "[       report.py:59 ] WARNING: Dependency Syscall(umount2) does not exist in any Regular\n",
      "[       report.py:59 ] WARNING: Dependency Syscall(uname) does not exist in any Regular\n",
      "[       report.py:59 ] WARNING: Dependency Syscall(uselib) does not exist in any Regular\n",
      "[       report.py:59 ] WARNING: Dependency Syscall(utimensat_time32) does not exist in any Regular\n",
      "[       report.py:59 ] WARNING: Dependency Syscall(vm86) does not exist in any Regular\n",
      "[       report.py:59 ] WARNING: Dependency Syscall(vm86old) does not exist in any Regular\n",
      "[       report.py:59 ] WARNING: Dependency Syscall(vserver) does not exist in any Regular\n",
      "[       report.py:59 ] WARNING: Dependency Syscall(waitpid) does not exist in any Regular\n",
      "[       report.py:74 ] INFO: Report saved to /users/szhong/DepSurf/output/report/tracee.log\n",
      "[ utils_pickle.py:13 ] INFO: Saved bcc to /users/szhong/DepSurf/output/bcc.pkl\n"
     ]
    }
   ],
   "source": [
    "from depsurf import BPFProgram, VersionGroup, gen_report\n",
    "from utils import TRACEE_PATH, BCC_OBJ_PATH, OUTPUT_PATH, save_pkl\n",
    "\n",
    "REPORT_PATH = OUTPUT_PATH / \"report\"\n",
    "REPORT_PATH.mkdir(parents=True, exist_ok=True)\n",
    "GROUPS = [VersionGroup.REGULAR, VersionGroup.ARCH]\n",
    "PROG_PATHS = list(BCC_OBJ_PATH.glob(\"*.bpf.o\")) + [TRACEE_PATH / \"dist\" / \"tracee.bpf.o\"]\n",
    "\n",
    "results = {}\n",
    "for path in PROG_PATHS:\n",
    "    bpf = BPFProgram(path)\n",
    "    result_path = REPORT_PATH / f\"{bpf.name}.log\"\n",
    "    results[bpf.name] = gen_report(bpf.deps, GROUPS, path=result_path)\n",
    "\n",
    "\n",
    "save_pkl(results, \"bcc\")"
   ]
  }
 ],
 "metadata": {
  "kernelspec": {
   "display_name": "Python 3 (ipykernel)",
   "language": "python",
   "name": "python3"
  },
  "language_info": {
   "codemirror_mode": {
    "name": "ipython",
    "version": 3
   },
   "file_extension": ".py",
   "mimetype": "text/x-python",
   "name": "python",
   "nbconvert_exporter": "python",
   "pygments_lexer": "ipython3",
   "version": "3.13.1"
  }
 },
 "nbformat": 4,
 "nbformat_minor": 4
}
