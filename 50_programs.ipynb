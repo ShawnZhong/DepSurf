{
 "cells": [
  {
   "cell_type": "markdown",
   "metadata": {},
   "source": [
    "# Analyze eBPF Programs\n",
    "\n",
    "This notebook compiles, analyzes, and generates the report for eBPF programs. \n",
    "\n",
    "The raw report is saved in the `output/report` directory."
   ]
  },
  {
   "cell_type": "code",
   "execution_count": 1,
   "metadata": {},
   "outputs": [],
   "source": [
    "%reload_ext autoreload\n",
    "%autoreload 2"
   ]
  },
  {
   "cell_type": "markdown",
   "metadata": {},
   "source": [
    "The following cell compiles the BCC tools. "
   ]
  },
  {
   "cell_type": "code",
   "execution_count": 2,
   "metadata": {},
   "outputs": [
    {
     "name": "stdout",
     "output_type": "stream",
     "text": [
      "make: Entering directory '/Users/szhong/Code/DepSurf/software/bcc/libbpf-tools'\n",
      "make: Nothing to be done for 'all'.\n",
      "make: Leaving directory '/Users/szhong/Code/DepSurf/software/bcc/libbpf-tools'\n"
     ]
    }
   ],
   "source": [
    "from utils import BCC_TOOLS_PATH\n",
    "\n",
    "!make -C {BCC_TOOLS_PATH} -j $(nproc)"
   ]
  },
  {
   "cell_type": "markdown",
   "metadata": {},
   "source": [
    "The following cell compiles the eBPF program for Tracee."
   ]
  },
  {
   "cell_type": "code",
   "execution_count": 3,
   "metadata": {},
   "outputs": [
    {
     "name": "stdout",
     "output_type": "stream",
     "text": [
      "make: Nothing to be done for 'bpf'.\n"
     ]
    }
   ],
   "source": [
    "from utils import TRACEE_PATH\n",
    "\n",
    "!make -C {TRACEE_PATH} bpf"
   ]
  },
  {
   "cell_type": "markdown",
   "metadata": {},
   "source": [
    "The following cell analyzes and generates the report for eBPF programs."
   ]
  },
  {
   "cell_type": "code",
   "execution_count": 7,
   "metadata": {},
   "outputs": [
    {
     "name": "stdout",
     "output_type": "stream",
     "text": [
      "Report saved to /Users/szhong/Code/DepSurf/data/output/programs/bashreadline\n",
      "Report saved to /Users/szhong/Code/DepSurf/data/output/programs/bindsnoop\n",
      "Report saved to /Users/szhong/Code/DepSurf/data/output/programs/biolatency\n",
      "Report saved to /Users/szhong/Code/DepSurf/data/output/programs/biopattern\n",
      "Report saved to /Users/szhong/Code/DepSurf/data/output/programs/biosnoop\n",
      "Report saved to /Users/szhong/Code/DepSurf/data/output/programs/biostacks\n",
      "Report saved to /Users/szhong/Code/DepSurf/data/output/programs/biotop\n",
      "Report saved to /Users/szhong/Code/DepSurf/data/output/programs/bitesize\n",
      "Report saved to /Users/szhong/Code/DepSurf/data/output/programs/cachestat\n",
      "Report saved to /Users/szhong/Code/DepSurf/data/output/programs/capable\n",
      "Report saved to /Users/szhong/Code/DepSurf/data/output/programs/cpudist\n",
      "Report saved to /Users/szhong/Code/DepSurf/data/output/programs/cpufreq\n",
      "Report saved to /Users/szhong/Code/DepSurf/data/output/programs/drsnoop\n",
      "Report saved to /Users/szhong/Code/DepSurf/data/output/programs/execsnoop\n",
      "Report saved to /Users/szhong/Code/DepSurf/data/output/programs/exitsnoop\n",
      "Report saved to /Users/szhong/Code/DepSurf/data/output/programs/filelife\n",
      "Report saved to /Users/szhong/Code/DepSurf/data/output/programs/filetop\n",
      "Report saved to /Users/szhong/Code/DepSurf/data/output/programs/fsdist\n",
      "Report saved to /Users/szhong/Code/DepSurf/data/output/programs/fsslower\n",
      "Report saved to /Users/szhong/Code/DepSurf/data/output/programs/funclatency\n",
      "Report saved to /Users/szhong/Code/DepSurf/data/output/programs/futexctn\n",
      "Report saved to /Users/szhong/Code/DepSurf/data/output/programs/gethostlatency\n",
      "Report saved to /Users/szhong/Code/DepSurf/data/output/programs/hardirqs\n",
      "Report saved to /Users/szhong/Code/DepSurf/data/output/programs/javagc\n",
      "Report saved to /Users/szhong/Code/DepSurf/data/output/programs/klockstat\n",
      "Report saved to /Users/szhong/Code/DepSurf/data/output/programs/ksnoop\n",
      "Report saved to /Users/szhong/Code/DepSurf/data/output/programs/llcstat\n",
      "Report saved to /Users/szhong/Code/DepSurf/data/output/programs/mdflush\n",
      "Report saved to /Users/szhong/Code/DepSurf/data/output/programs/memleak\n",
      "Report saved to /Users/szhong/Code/DepSurf/data/output/programs/mountsnoop\n",
      "Report saved to /Users/szhong/Code/DepSurf/data/output/programs/numamove\n",
      "Report saved to /Users/szhong/Code/DepSurf/data/output/programs/offcputime\n",
      "Report saved to /Users/szhong/Code/DepSurf/data/output/programs/oomkill\n",
      "Report saved to /Users/szhong/Code/DepSurf/data/output/programs/opensnoop\n",
      "Report saved to /Users/szhong/Code/DepSurf/data/output/programs/profile\n",
      "Report saved to /Users/szhong/Code/DepSurf/data/output/programs/readahead\n",
      "Report saved to /Users/szhong/Code/DepSurf/data/output/programs/runqlat\n",
      "Report saved to /Users/szhong/Code/DepSurf/data/output/programs/runqlen\n",
      "Report saved to /Users/szhong/Code/DepSurf/data/output/programs/runqslower\n",
      "Report saved to /Users/szhong/Code/DepSurf/data/output/programs/sigsnoop\n",
      "Report saved to /Users/szhong/Code/DepSurf/data/output/programs/slabratetop\n",
      "Report saved to /Users/szhong/Code/DepSurf/data/output/programs/softirqs\n",
      "Report saved to /Users/szhong/Code/DepSurf/data/output/programs/solisten\n",
      "Report saved to /Users/szhong/Code/DepSurf/data/output/programs/statsnoop\n",
      "Report saved to /Users/szhong/Code/DepSurf/data/output/programs/syncsnoop\n",
      "Report saved to /Users/szhong/Code/DepSurf/data/output/programs/syscount\n",
      "Report saved to /Users/szhong/Code/DepSurf/data/output/programs/tcpconnect\n",
      "Report saved to /Users/szhong/Code/DepSurf/data/output/programs/tcpconnlat\n",
      "Report saved to /Users/szhong/Code/DepSurf/data/output/programs/tcplife\n",
      "Report saved to /Users/szhong/Code/DepSurf/data/output/programs/tcppktlat\n",
      "Report saved to /Users/szhong/Code/DepSurf/data/output/programs/tcprtt\n",
      "Report saved to /Users/szhong/Code/DepSurf/data/output/programs/tcpstates\n",
      "Report saved to /Users/szhong/Code/DepSurf/data/output/programs/tcpsynbl\n",
      "Report saved to /Users/szhong/Code/DepSurf/data/output/programs/tcptop\n",
      "Report saved to /Users/szhong/Code/DepSurf/data/output/programs/tcptracer\n",
      "Report saved to /Users/szhong/Code/DepSurf/data/output/programs/vfsstat\n",
      "Report saved to /Users/szhong/Code/DepSurf/data/output/programs/wakeuptime\n",
      "Report saved to /Users/szhong/Code/DepSurf/data/output/programs/tracee\n"
     ]
    },
    {
     "name": "stderr",
     "output_type": "stream",
     "text": [
      "[ utils_pickle.py:13 ] INFO: Saved bcc to /Users/szhong/Code/DepSurf/data/output/bcc.pkl\n"
     ]
    }
   ],
   "source": [
    "from depsurf import BPFProgram, VersionGroup, DepReport, DepKind\n",
    "from utils import TRACEE_PATH, BCC_OBJ_PATH, OUTPUT_PATH, save_pkl\n",
    "\n",
    "GROUPS = [VersionGroup.REGULAR, VersionGroup.ARCH]\n",
    "PROG_PATHS = sorted(BCC_OBJ_PATH.glob(\"*.bpf.o\")) + [\n",
    "    TRACEE_PATH / \"dist\" / \"tracee.bpf.o\"\n",
    "]\n",
    "\n",
    "\n",
    "REPORT_KINDS = [\n",
    "    DepKind.FUNC,\n",
    "    DepKind.TRACEPOINT,\n",
    "    DepKind.LSM,\n",
    "    DepKind.FIELD,\n",
    "    DepKind.STRUCT,\n",
    "    DepKind.SYSCALL,\n",
    "]\n",
    "\n",
    "results = {}\n",
    "for path in PROG_PATHS:\n",
    "    bpf = BPFProgram(path)\n",
    "    result_path = OUTPUT_PATH / \"programs\" / bpf.name\n",
    "    result_path.mkdir(parents=True, exist_ok=True)\n",
    "    prog_report = {}\n",
    "    for dep in bpf.deps:\n",
    "        if dep.kind not in REPORT_KINDS:\n",
    "            continue\n",
    "        with open(result_path / f\"{dep.kind} {dep.name}.md\", \"w\") as f:\n",
    "            report = DepReport.from_groups(dep, GROUPS)\n",
    "            report.print(file=f)\n",
    "            prog_report[dep] = report\n",
    "    print(f\"Report saved to {result_path}\", flush=True)\n",
    "    results[bpf.name] = prog_report\n",
    "\n",
    "\n",
    "save_pkl(results, \"bcc\")"
   ]
  }
 ],
 "metadata": {
  "kernelspec": {
   "display_name": ".venv",
   "language": "python",
   "name": "python3"
  },
  "language_info": {
   "codemirror_mode": {
    "name": "ipython",
    "version": 3
   },
   "file_extension": ".py",
   "mimetype": "text/x-python",
   "name": "python",
   "nbconvert_exporter": "python",
   "pygments_lexer": "ipython3",
   "version": "3.13.0"
  }
 },
 "nbformat": 4,
 "nbformat_minor": 4
}
