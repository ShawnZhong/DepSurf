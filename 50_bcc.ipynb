{
 "cells": [
  {
   "cell_type": "code",
   "execution_count": 1,
   "metadata": {},
   "outputs": [
    {
     "name": "stdout",
     "output_type": "stream",
     "text": [
      "make: Entering directory '/Users/szhong/Downloads/bpf-study/csrc/bcc/libbpf-tools'\n",
      "make: Nothing to be done for 'all'.\n",
      "make: Leaving directory '/Users/szhong/Downloads/bpf-study/csrc/bcc/libbpf-tools'\n"
     ]
    }
   ],
   "source": [
    "!make -C csrc/bcc/libbpf-tools"
   ]
  },
  {
   "cell_type": "code",
   "execution_count": 2,
   "metadata": {},
   "outputs": [
    {
     "name": "stdout",
     "output_type": "stream",
     "text": [
      "make: Entering directory '/Users/szhong/Downloads/bpf-study/csrc/bpftool/src'\n",
      "...                        libbfd: [ \u001b[31mOFF\u001b[m ]\n",
      "...               clang-bpf-co-re: [ \u001b[32mon\u001b[m  ]\n",
      "...                          llvm: [ \u001b[32mon\u001b[m  ]\n",
      "...                        libcap: [ \u001b[31mOFF\u001b[m ]\n",
      "make: 'bpftool' is up to date.\n",
      "make: Leaving directory '/Users/szhong/Downloads/bpf-study/csrc/bpftool/src'\n"
     ]
    }
   ],
   "source": [
    "!make -C csrc/bpftool/src bpftool"
   ]
  },
  {
   "cell_type": "code",
   "execution_count": 3,
   "metadata": {},
   "outputs": [],
   "source": [
    "%reload_ext autoreload\n",
    "%autoreload 2"
   ]
  },
  {
   "cell_type": "code",
   "execution_count": 4,
   "metadata": {},
   "outputs": [
    {
     "name": "stderr",
     "output_type": "stream",
     "text": [
      "[       report.py:38 ] INFO: Report saved to /Users/szhong/Downloads/bpf-study/output/bcc/bashreadline.log\n",
      "[  func_groups.py:68 ] INFO: Loading funcs from /Users/szhong/Downloads/bpf-study/data/dwarf_funcs/4.4.0-21-generic-amd64.jsonl\n",
      "[       symtab.py:70 ] INFO: Loading symtab from /Users/szhong/Downloads/bpf-study/data/symtab/4.4.0-21-generic-amd64.jsonl\n",
      "[  func_groups.py:68 ] INFO: Loading funcs from /Users/szhong/Downloads/bpf-study/data/dwarf_funcs/4.8.0-22-generic-amd64.jsonl\n",
      "[       symtab.py:70 ] INFO: Loading symtab from /Users/szhong/Downloads/bpf-study/data/symtab/4.8.0-22-generic-amd64.jsonl\n",
      "[  func_groups.py:68 ] INFO: Loading funcs from /Users/szhong/Downloads/bpf-study/data/dwarf_funcs/4.10.0-19-generic-amd64.jsonl\n",
      "[       symtab.py:70 ] INFO: Loading symtab from /Users/szhong/Downloads/bpf-study/data/symtab/4.10.0-19-generic-amd64.jsonl\n",
      "[  func_groups.py:68 ] INFO: Loading funcs from /Users/szhong/Downloads/bpf-study/data/dwarf_funcs/4.13.0-16-generic-amd64.jsonl\n",
      "[       symtab.py:70 ] INFO: Loading symtab from /Users/szhong/Downloads/bpf-study/data/symtab/4.13.0-16-generic-amd64.jsonl\n",
      "[  func_groups.py:68 ] INFO: Loading funcs from /Users/szhong/Downloads/bpf-study/data/dwarf_funcs/4.15.0-20-generic-amd64.jsonl\n",
      "[       symtab.py:70 ] INFO: Loading symtab from /Users/szhong/Downloads/bpf-study/data/symtab/4.15.0-20-generic-amd64.jsonl\n",
      "[  func_groups.py:68 ] INFO: Loading funcs from /Users/szhong/Downloads/bpf-study/data/dwarf_funcs/4.18.0-10-generic-amd64.jsonl\n",
      "[       symtab.py:70 ] INFO: Loading symtab from /Users/szhong/Downloads/bpf-study/data/symtab/4.18.0-10-generic-amd64.jsonl\n",
      "[  func_groups.py:68 ] INFO: Loading funcs from /Users/szhong/Downloads/bpf-study/data/dwarf_funcs/5.0.0-13-generic-amd64.jsonl\n",
      "[       symtab.py:70 ] INFO: Loading symtab from /Users/szhong/Downloads/bpf-study/data/symtab/5.0.0-13-generic-amd64.jsonl\n",
      "[  func_groups.py:68 ] INFO: Loading funcs from /Users/szhong/Downloads/bpf-study/data/dwarf_funcs/5.3.0-18-generic-amd64.jsonl\n",
      "[       symtab.py:70 ] INFO: Loading symtab from /Users/szhong/Downloads/bpf-study/data/symtab/5.3.0-18-generic-amd64.jsonl\n",
      "[  func_groups.py:68 ] INFO: Loading funcs from /Users/szhong/Downloads/bpf-study/data/dwarf_funcs/5.4.0-26-generic-amd64.jsonl\n",
      "[       symtab.py:70 ] INFO: Loading symtab from /Users/szhong/Downloads/bpf-study/data/symtab/5.4.0-26-generic-amd64.jsonl\n",
      "[  func_groups.py:68 ] INFO: Loading funcs from /Users/szhong/Downloads/bpf-study/data/dwarf_funcs/5.8.0-25-generic-amd64.jsonl\n",
      "[       symtab.py:70 ] INFO: Loading symtab from /Users/szhong/Downloads/bpf-study/data/symtab/5.8.0-25-generic-amd64.jsonl\n",
      "[  func_groups.py:68 ] INFO: Loading funcs from /Users/szhong/Downloads/bpf-study/data/dwarf_funcs/5.11.0-16-generic-amd64.jsonl\n",
      "[       symtab.py:70 ] INFO: Loading symtab from /Users/szhong/Downloads/bpf-study/data/symtab/5.11.0-16-generic-amd64.jsonl\n",
      "[  func_groups.py:68 ] INFO: Loading funcs from /Users/szhong/Downloads/bpf-study/data/dwarf_funcs/5.13.0-19-generic-amd64.jsonl\n",
      "[       symtab.py:70 ] INFO: Loading symtab from /Users/szhong/Downloads/bpf-study/data/symtab/5.13.0-19-generic-amd64.jsonl\n",
      "[  func_groups.py:68 ] INFO: Loading funcs from /Users/szhong/Downloads/bpf-study/data/dwarf_funcs/5.15.0-25-generic-amd64.jsonl\n",
      "[       symtab.py:70 ] INFO: Loading symtab from /Users/szhong/Downloads/bpf-study/data/symtab/5.15.0-25-generic-amd64.jsonl\n",
      "[  func_groups.py:68 ] INFO: Loading funcs from /Users/szhong/Downloads/bpf-study/data/dwarf_funcs/5.19.0-21-generic-amd64.jsonl\n",
      "[       symtab.py:70 ] INFO: Loading symtab from /Users/szhong/Downloads/bpf-study/data/symtab/5.19.0-21-generic-amd64.jsonl\n",
      "[  func_groups.py:68 ] INFO: Loading funcs from /Users/szhong/Downloads/bpf-study/data/dwarf_funcs/6.2.0-20-generic-amd64.jsonl\n",
      "[       symtab.py:70 ] INFO: Loading symtab from /Users/szhong/Downloads/bpf-study/data/symtab/6.2.0-20-generic-amd64.jsonl\n",
      "[  func_groups.py:68 ] INFO: Loading funcs from /Users/szhong/Downloads/bpf-study/data/dwarf_funcs/6.5.0-9-generic-amd64.jsonl\n",
      "[       symtab.py:70 ] INFO: Loading symtab from /Users/szhong/Downloads/bpf-study/data/symtab/6.5.0-9-generic-amd64.jsonl\n",
      "[  func_groups.py:68 ] INFO: Loading funcs from /Users/szhong/Downloads/bpf-study/data/dwarf_funcs/6.8.0-22-generic-amd64.jsonl\n",
      "[       symtab.py:70 ] INFO: Loading symtab from /Users/szhong/Downloads/bpf-study/data/symtab/6.8.0-22-generic-amd64.jsonl\n",
      "[  func_groups.py:68 ] INFO: Loading funcs from /Users/szhong/Downloads/bpf-study/data/dwarf_funcs/5.4.0-26-generic-arm64.jsonl\n",
      "[       symtab.py:70 ] INFO: Loading symtab from /Users/szhong/Downloads/bpf-study/data/symtab/5.4.0-26-generic-arm64.jsonl\n",
      "[  func_groups.py:68 ] INFO: Loading funcs from /Users/szhong/Downloads/bpf-study/data/dwarf_funcs/5.4.0-26-generic-armhf.jsonl\n",
      "[       symtab.py:70 ] INFO: Loading symtab from /Users/szhong/Downloads/bpf-study/data/symtab/5.4.0-26-generic-armhf.jsonl\n",
      "[  func_groups.py:68 ] INFO: Loading funcs from /Users/szhong/Downloads/bpf-study/data/dwarf_funcs/5.4.0-26-generic-ppc64el.jsonl\n",
      "[       symtab.py:70 ] INFO: Loading symtab from /Users/szhong/Downloads/bpf-study/data/symtab/5.4.0-26-generic-ppc64el.jsonl\n",
      "[  func_groups.py:68 ] INFO: Loading funcs from /Users/szhong/Downloads/bpf-study/data/dwarf_funcs/5.4.0-26-generic-s390x.jsonl\n",
      "[       symtab.py:70 ] INFO: Loading symtab from /Users/szhong/Downloads/bpf-study/data/symtab/5.4.0-26-generic-s390x.jsonl\n",
      "[          btf.py:21 ] INFO: Loading BTF from /Users/szhong/Downloads/bpf-study/data/btf_norm/4.4.0-21-generic-amd64.pkl\n",
      "[          btf.py:21 ] INFO: Loading BTF from /Users/szhong/Downloads/bpf-study/data/btf_norm/4.8.0-22-generic-amd64.pkl\n",
      "[          btf.py:21 ] INFO: Loading BTF from /Users/szhong/Downloads/bpf-study/data/btf_norm/4.10.0-19-generic-amd64.pkl\n",
      "[          btf.py:21 ] INFO: Loading BTF from /Users/szhong/Downloads/bpf-study/data/btf_norm/4.13.0-16-generic-amd64.pkl\n",
      "[          btf.py:21 ] INFO: Loading BTF from /Users/szhong/Downloads/bpf-study/data/btf_norm/4.15.0-20-generic-amd64.pkl\n",
      "[          btf.py:21 ] INFO: Loading BTF from /Users/szhong/Downloads/bpf-study/data/btf_norm/4.18.0-10-generic-amd64.pkl\n",
      "[          btf.py:21 ] INFO: Loading BTF from /Users/szhong/Downloads/bpf-study/data/btf_norm/5.0.0-13-generic-amd64.pkl\n",
      "[          btf.py:21 ] INFO: Loading BTF from /Users/szhong/Downloads/bpf-study/data/btf_norm/5.3.0-18-generic-amd64.pkl\n",
      "[          btf.py:21 ] INFO: Loading BTF from /Users/szhong/Downloads/bpf-study/data/btf_norm/5.4.0-26-generic-amd64.pkl\n",
      "[          btf.py:21 ] INFO: Loading BTF from /Users/szhong/Downloads/bpf-study/data/btf_norm/5.8.0-25-generic-amd64.pkl\n",
      "[          btf.py:21 ] INFO: Loading BTF from /Users/szhong/Downloads/bpf-study/data/btf_norm/5.11.0-16-generic-amd64.pkl\n",
      "[          btf.py:21 ] INFO: Loading BTF from /Users/szhong/Downloads/bpf-study/data/btf_norm/5.13.0-19-generic-amd64.pkl\n",
      "[          btf.py:21 ] INFO: Loading BTF from /Users/szhong/Downloads/bpf-study/data/btf_norm/5.15.0-25-generic-amd64.pkl\n",
      "[          btf.py:21 ] INFO: Loading BTF from /Users/szhong/Downloads/bpf-study/data/btf_norm/5.19.0-21-generic-amd64.pkl\n",
      "[          btf.py:21 ] INFO: Loading BTF from /Users/szhong/Downloads/bpf-study/data/btf_norm/6.2.0-20-generic-amd64.pkl\n",
      "[          btf.py:21 ] INFO: Loading BTF from /Users/szhong/Downloads/bpf-study/data/btf_norm/6.5.0-9-generic-amd64.pkl\n",
      "[          btf.py:21 ] INFO: Loading BTF from /Users/szhong/Downloads/bpf-study/data/btf_norm/6.8.0-22-generic-amd64.pkl\n",
      "[          btf.py:21 ] INFO: Loading BTF from /Users/szhong/Downloads/bpf-study/data/btf_norm/5.4.0-26-generic-arm64.pkl\n",
      "[          btf.py:21 ] INFO: Loading BTF from /Users/szhong/Downloads/bpf-study/data/btf_norm/5.4.0-26-generic-armhf.pkl\n",
      "[          btf.py:21 ] INFO: Loading BTF from /Users/szhong/Downloads/bpf-study/data/btf_norm/5.4.0-26-generic-ppc64el.pkl\n",
      "[          btf.py:21 ] INFO: Loading BTF from /Users/szhong/Downloads/bpf-study/data/btf_norm/5.4.0-26-generic-s390x.pkl\n",
      "[       report.py:38 ] INFO: Report saved to /Users/szhong/Downloads/bpf-study/output/bcc/bindsnoop.log\n",
      "[       report.py:38 ] INFO: Report saved to /Users/szhong/Downloads/bpf-study/output/bcc/biolatency.log\n",
      "[       report.py:38 ] INFO: Report saved to /Users/szhong/Downloads/bpf-study/output/bcc/biopattern.log\n",
      "[       report.py:38 ] INFO: Report saved to /Users/szhong/Downloads/bpf-study/output/bcc/biosnoop.log\n",
      "[       report.py:38 ] INFO: Report saved to /Users/szhong/Downloads/bpf-study/output/bcc/biostacks.log\n",
      "[       report.py:38 ] INFO: Report saved to /Users/szhong/Downloads/bpf-study/output/bcc/biotop.log\n",
      "[       report.py:38 ] INFO: Report saved to /Users/szhong/Downloads/bpf-study/output/bcc/bitesize.log\n",
      "[       report.py:38 ] INFO: Report saved to /Users/szhong/Downloads/bpf-study/output/bcc/cachestat.log\n",
      "[       report.py:38 ] INFO: Report saved to /Users/szhong/Downloads/bpf-study/output/bcc/capable.log\n",
      "[       report.py:38 ] INFO: Report saved to /Users/szhong/Downloads/bpf-study/output/bcc/cpudist.log\n",
      "[       report.py:38 ] INFO: Report saved to /Users/szhong/Downloads/bpf-study/output/bcc/cpufreq.log\n",
      "[       report.py:38 ] INFO: Report saved to /Users/szhong/Downloads/bpf-study/output/bcc/drsnoop.log\n",
      "[       report.py:38 ] INFO: Report saved to /Users/szhong/Downloads/bpf-study/output/bcc/execsnoop.log\n",
      "[       report.py:38 ] INFO: Report saved to /Users/szhong/Downloads/bpf-study/output/bcc/exitsnoop.log\n",
      "[       report.py:38 ] INFO: Report saved to /Users/szhong/Downloads/bpf-study/output/bcc/filelife.log\n",
      "[       report.py:38 ] INFO: Report saved to /Users/szhong/Downloads/bpf-study/output/bcc/filetop.log\n",
      "[       report.py:38 ] INFO: Report saved to /Users/szhong/Downloads/bpf-study/output/bcc/fsdist.log\n",
      "[       report.py:38 ] INFO: Report saved to /Users/szhong/Downloads/bpf-study/output/bcc/fsslower.log\n",
      "[       report.py:38 ] INFO: Report saved to /Users/szhong/Downloads/bpf-study/output/bcc/funclatency.log\n",
      "[       report.py:38 ] INFO: Report saved to /Users/szhong/Downloads/bpf-study/output/bcc/futexctn.log\n",
      "[       report.py:38 ] INFO: Report saved to /Users/szhong/Downloads/bpf-study/output/bcc/gethostlatency.log\n",
      "[       report.py:38 ] INFO: Report saved to /Users/szhong/Downloads/bpf-study/output/bcc/hardirqs.log\n",
      "[       report.py:38 ] INFO: Report saved to /Users/szhong/Downloads/bpf-study/output/bcc/javagc.log\n",
      "[       report.py:38 ] INFO: Report saved to /Users/szhong/Downloads/bpf-study/output/bcc/klockstat.log\n",
      "[       report.py:38 ] INFO: Report saved to /Users/szhong/Downloads/bpf-study/output/bcc/ksnoop.log\n",
      "[       report.py:38 ] INFO: Report saved to /Users/szhong/Downloads/bpf-study/output/bcc/llcstat.log\n",
      "[       report.py:38 ] INFO: Report saved to /Users/szhong/Downloads/bpf-study/output/bcc/mdflush.log\n",
      "[       report.py:38 ] INFO: Report saved to /Users/szhong/Downloads/bpf-study/output/bcc/memleak.log\n",
      "[       report.py:38 ] INFO: Report saved to /Users/szhong/Downloads/bpf-study/output/bcc/mountsnoop.log\n",
      "[       report.py:38 ] INFO: Report saved to /Users/szhong/Downloads/bpf-study/output/bcc/numamove.log\n",
      "[       report.py:38 ] INFO: Report saved to /Users/szhong/Downloads/bpf-study/output/bcc/offcputime.log\n",
      "[       report.py:38 ] INFO: Report saved to /Users/szhong/Downloads/bpf-study/output/bcc/oomkill.log\n",
      "[       report.py:38 ] INFO: Report saved to /Users/szhong/Downloads/bpf-study/output/bcc/opensnoop.log\n",
      "[       report.py:38 ] INFO: Report saved to /Users/szhong/Downloads/bpf-study/output/bcc/profile.log\n",
      "[       report.py:38 ] INFO: Report saved to /Users/szhong/Downloads/bpf-study/output/bcc/readahead.log\n",
      "[       report.py:38 ] INFO: Report saved to /Users/szhong/Downloads/bpf-study/output/bcc/runqlat.log\n",
      "[       report.py:38 ] INFO: Report saved to /Users/szhong/Downloads/bpf-study/output/bcc/runqlen.log\n",
      "[       report.py:38 ] INFO: Report saved to /Users/szhong/Downloads/bpf-study/output/bcc/runqslower.log\n",
      "[       report.py:38 ] INFO: Report saved to /Users/szhong/Downloads/bpf-study/output/bcc/sigsnoop.log\n",
      "[       report.py:38 ] INFO: Report saved to /Users/szhong/Downloads/bpf-study/output/bcc/slabratetop.log\n",
      "[       report.py:38 ] INFO: Report saved to /Users/szhong/Downloads/bpf-study/output/bcc/softirqs.log\n",
      "[       report.py:38 ] INFO: Report saved to /Users/szhong/Downloads/bpf-study/output/bcc/solisten.log\n",
      "[       report.py:38 ] INFO: Report saved to /Users/szhong/Downloads/bpf-study/output/bcc/statsnoop.log\n",
      "[       report.py:38 ] INFO: Report saved to /Users/szhong/Downloads/bpf-study/output/bcc/syncsnoop.log\n",
      "[       report.py:38 ] INFO: Report saved to /Users/szhong/Downloads/bpf-study/output/bcc/syscount.log\n",
      "[       report.py:38 ] INFO: Report saved to /Users/szhong/Downloads/bpf-study/output/bcc/tcpconnect.log\n",
      "[       report.py:38 ] INFO: Report saved to /Users/szhong/Downloads/bpf-study/output/bcc/tcpconnlat.log\n",
      "[       report.py:38 ] INFO: Report saved to /Users/szhong/Downloads/bpf-study/output/bcc/tcplife.log\n",
      "[       report.py:38 ] INFO: Report saved to /Users/szhong/Downloads/bpf-study/output/bcc/tcppktlat.log\n",
      "[       report.py:38 ] INFO: Report saved to /Users/szhong/Downloads/bpf-study/output/bcc/tcprtt.log\n",
      "[       report.py:38 ] INFO: Report saved to /Users/szhong/Downloads/bpf-study/output/bcc/tcpstates.log\n",
      "[       report.py:38 ] INFO: Report saved to /Users/szhong/Downloads/bpf-study/output/bcc/tcpsynbl.log\n",
      "[       report.py:38 ] INFO: Report saved to /Users/szhong/Downloads/bpf-study/output/bcc/tcptop.log\n",
      "[       report.py:38 ] INFO: Report saved to /Users/szhong/Downloads/bpf-study/output/bcc/tcptracer.log\n",
      "[       report.py:38 ] INFO: Report saved to /Users/szhong/Downloads/bpf-study/output/bcc/vfsstat.log\n",
      "[       report.py:38 ] INFO: Report saved to /Users/szhong/Downloads/bpf-study/output/bcc/wakeuptime.log\n",
      "[           pd.py:24 ] INFO: Saved dataframe to /Users/szhong/Downloads/bpf-study/output/bcc.txt\n",
      "[           pd.py:33 ] INFO: Saved dataframe to /Users/szhong/Downloads/bpf-study/output/bcc.pkl\n",
      "[           pd.py:24 ] INFO: Saved dataframe to /Users/szhong/Downloads/bpf-study/output/dep.txt\n",
      "[           pd.py:33 ] INFO: Saved dataframe to /Users/szhong/Downloads/bpf-study/output/dep.pkl\n"
     ]
    },
    {
     "name": "stdout",
     "output_type": "stream",
     "text": [
      "Done\n"
     ]
    }
   ],
   "source": [
    "import pandas as pd\n",
    "\n",
    "from depsurf import BCC_OBJ_PATH, OUTPUT_PATH, BPFObject, gen_report, Versions\n",
    "from depsurf.output import save_df\n",
    "from collections import defaultdict\n",
    "\n",
    "result_by_prog = {}\n",
    "result_by_dep = defaultdict(dict)\n",
    "dep_prog = defaultdict(list)\n",
    "for path in sorted(BCC_OBJ_PATH.glob(\"*.bpf.o\")):\n",
    "    bpf = BPFObject(path)\n",
    "    result_path = OUTPUT_PATH / \"bcc\" / f\"{bpf.name}.log\"\n",
    "    report = gen_report(bpf.deps, [Versions.REGULAR, Versions.ARCH], result_path)\n",
    "    for k, v in report.items():\n",
    "        result_by_prog[(bpf.name, *k)] = v\n",
    "        result_by_dep[k] |= v\n",
    "        dep_prog[k].append(bpf.name)\n",
    "\n",
    "for k, v in result_by_dep.items():\n",
    "    v[(\"Program\", \"\", \"\")] = dep_prog[k]\n",
    "\n",
    "\n",
    "df = pd.DataFrame(result_by_prog).T\n",
    "df.index.names = [\"Prog\", \"Type\", \"Name\"]\n",
    "save_df(df, \"bcc\")\n",
    "\n",
    "df = pd.DataFrame(result_by_dep).T\n",
    "df.index.names = [\"Type\", \"Name\"]\n",
    "save_df(df, \"dep\")\n",
    "\n",
    "print(\"Done\")"
   ]
  }
 ],
 "metadata": {
  "kernelspec": {
   "display_name": "Python 3",
   "language": "python",
   "name": "python3"
  },
  "language_info": {
   "codemirror_mode": {
    "name": "ipython",
    "version": 3
   },
   "file_extension": ".py",
   "mimetype": "text/x-python",
   "name": "python",
   "nbconvert_exporter": "python",
   "pygments_lexer": "ipython3",
   "version": "3.11.7"
  }
 },
 "nbformat": 4,
 "nbformat_minor": 2
}
